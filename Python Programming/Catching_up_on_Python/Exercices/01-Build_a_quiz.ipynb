{
 "cells": [
  {
   "cell_type": "markdown",
   "metadata": {
    "colab_type": "text",
    "id": "FY347VxWs_bJ"
   },
   "source": [
    "# Build a quizz\n",
    "\n",
    "---\n",
    "\n",
    "\n"
   ]
  },
  {
   "cell_type": "markdown",
   "metadata": {
    "colab_type": "text",
    "id": "qJizpyqVwYnF"
   },
   "source": [
    "Let's tackle our first project together. Find a partner and start coding a quiz together! Your program should: \n",
    "\n",
    "1. Ask a question to a user via the console \n",
    "2. Verify whether the answer is correct or not \n",
    "3. If the answer is correct, you should print out: `Good job! This is the right answer`\n",
    "\n",
    "* Else, it should print out : `Too bad! that is not the correct answer`\n",
    "\n",
    "4. Ask three questions following this model.\n",
    "\n"
   ]
  },
  {
   "cell_type": "code",
   "execution_count": 10,
   "metadata": {
    "colab": {
     "base_uri": "https://localhost:8080/",
     "height": 136
    },
    "colab_type": "code",
    "id": "EQxWuVl7yFoU",
    "outputId": "cf3ee10c-9d8f-4d96-82b0-f730321d4a2f"
   },
   "outputs": [
    {
     "name": "stdout",
     "output_type": "stream",
     "text": [
      "Your answer : 3\n",
      "Too bad! that is not correct answer\n",
      "Your answer : 2\n",
      "Too bad! that is not correct answer\n",
      "Your answer : Elon Musk\n",
      "Your answer after .lower() function : elon musk\n",
      "Good job! This is the right answer\n"
     ]
    }
   ],
   "source": [
    "questions = [\n",
    "    (input(\"Combien font 6 / 3 ?\"), \"2\" ),\n",
    "    (input(\"Quand est décédé Raymond Queneau ?\"), \"1976\" ),\n",
    "    (input(\"Qui a créé Tesla ?\"), \"Elon Musk\")\n",
    "]\n",
    "    \n",
    "for question in questions:\n",
    "    print(f\"Your answer : {question[0]}\")\n",
    "    if question[0].lower() == question[1].lower():\n",
    "        print(f\"Your answer after .lower() function : {question[0].lower()}\")\n",
    "        print(\"Good job! This is the right answer\")\n",
    "    else :\n",
    "\n",
    "        print(f\"Too bad! that is not correct answer\")"
   ]
  },
  {
   "cell_type": "markdown",
   "metadata": {
    "colab_type": "text",
    "id": "sLMbYgaOyxiX"
   },
   "source": [
    "There's a problem with our quizz : if the user has not given the right answer, the program goes to next question. We would rather like to ask again the same question if the answer was wrong.\n",
    "\n",
    "5. Using a `while` loop, make sure that the same question will be asked again when the answer was wrong\n",
    "\n",
    "6. Rewrite your code such that this behaviour is applied to all questions."
   ]
  },
  {
   "cell_type": "code",
   "execution_count": null,
   "metadata": {
    "colab": {
     "base_uri": "https://localhost:8080/",
     "height": 170
    },
    "colab_type": "code",
    "id": "csyxqJzBxPfN",
    "outputId": "0e671bec-2b70-424e-f110-d4792423dd7a"
   },
   "outputs": [
    {
     "name": "stdout",
     "output_type": "stream",
     "text": [
      "Here you have our quiz!\n",
      "-------\n",
      " \n",
      "Question 1\n",
      "Your answer : 3\n",
      "Too bad! that is not correct answer\n",
      "Your answer after .lower() function : 2\n",
      "Good job! This is the right answer\n",
      " \n",
      "Question 2\n",
      "Your answer : 1976\n",
      "Your answer after .lower() function : 1976\n",
      "Good job! This is the right answer\n",
      " \n",
      "Question 3\n",
      "Your answer : Elon Musk\n",
      "Your answer after .lower() function : elon musk\n",
      "Good job! This is the right answer\n",
      " \n",
      "Well done! You are the quizz winner!\n"
     ]
    }
   ],
   "source": [
    "print(\"Here you have our quiz!\")\n",
    "print(\"-------\")\n",
    "print(\" \")\n",
    "print(\"Question 1\")\n",
    "question_1 = (input(\"Combien font 6 / 3 ?\"), \"2\" )\n",
    "print(f\"Your answer : {question_1[0]}\")\n",
    "while question_1[0].lower() !=  question_1[1].lower():\n",
    "    print(f\"Too bad! that is not correct answer\")\n",
    "    question_1 = (input(\"Combien font 6 / 3 ?\"), \"2\" )\n",
    "else:\n",
    "    print(f\"Your answer after .lower() function : {question_1[0].lower()}\")\n",
    "    print(\"Good job! This is the right answer\")\n",
    "\n",
    "print(\" \")\n",
    "print(\"Question 2\")\n",
    "question_2 = (input(\"Quand est décédé Raymond Queneau ?\"), \"1976\" )\n",
    "print(f\"Your answer : {question_2[0]}\")\n",
    "while question_2[0].lower() !=  question_2[1].lower():\n",
    "    print(f\"Too bad! that is not correct answer\")\n",
    "    question_2 = (input(\"Quand est décédé Raymond Queneau ?\"), \"1976\" )\n",
    "else:\n",
    "    print(f\"Your answer after .lower() function : {question_2[0].lower()}\")\n",
    "    print(\"Good job! This is the right answer\")\n",
    "\n",
    "print(\" \")\n",
    "print(\"Question 3\")\n",
    "question_3 = (input(\"Qui a créé Tesla ?\"), \"Elon Musk\")\n",
    "print(f\"Your answer : {question_3[0]}\")\n",
    "while question_3[0].lower() !=  question_3[1].lower():\n",
    "    print(f\"Too bad! that is not correct answer\")\n",
    "    question_3 = (input(\"Qui a créé Tesla ?\"), \"Elon Musk\")\n",
    "else:\n",
    "    print(f\"Your answer after .lower() function : {question_3[0].lower()}\")\n",
    "    print(\"Good job! This is the right answer\")\n",
    "\n",
    "print(\" \")\n",
    "print(\"Well done! You are the quizz winner!\")\n",
    "            "
   ]
  },
  {
   "cell_type": "markdown",
   "metadata": {
    "colab_type": "text",
    "id": "nh4voWn8x3dM"
   },
   "source": [
    "Now, we would like to tackle a last problem : we want to allow only 3 wrong answers (among all questions).\n",
    "\n",
    "7. Improve your code : if the user makes 3 wrong answers, the program should stop and print (\"Too bad, you lost the game !\")\n"
   ]
  },
  {
   "cell_type": "code",
   "execution_count": null,
   "metadata": {
    "colab": {
     "base_uri": "https://localhost:8080/",
     "height": 170
    },
    "colab_type": "code",
    "id": "adKPQe1Hsi2g",
    "outputId": "45d36fc8-90ae-4f00-b73a-73b1e6e57e6e",
    "tags": []
   },
   "outputs": [
    {
     "name": "stdout",
     "output_type": "stream",
     "text": [
      "Here you have our quiz!\n",
      "You have 3 lives.\n",
      "-------\n",
      " \n",
      "Question 1\n",
      "Your answer : 6\n",
      "Too bad! that is not correct answer\n",
      "Sorry, you have 2 chances left\n",
      "Too bad! that is not correct answer\n",
      "Sorry, you have 1 chances left\n",
      "Too bad! that is not correct answer\n",
      "Sorry, you have 0 chances left\n",
      "Oh no, you lost the quiz...\n"
     ]
    }
   ],
   "source": [
    "questions = [\n",
    "    (\"Combien font 6 / 3 ?\", \"2\" ),\n",
    "    (\"Quand est décédé Raymond Queneau ?\", \"1976\" ),\n",
    "    (\"Qui a créé Tesla ?\", \"Elon Musk\")\n",
    "]\n",
    "\n",
    "wrong_answers = 3\n",
    "\n",
    "\n",
    "print(\"Here you have our quiz!\")\n",
    "print(f\"You have {wrong_answers} lives.\")\n",
    "print(\"-------\")\n",
    "\n",
    "\n",
    "for i, question in enumerate(questions):\n",
    "    print(\" \")\n",
    "    print(f\"Question {i + 1}\")\n",
    "    reponse = input(question[0])\n",
    "    print(f\"Your answer : {reponse}\")\n",
    "\n",
    "    while (reponse.lower() !=  question[1].lower()) and wrong_answers > 0:\n",
    "        print(f\"Too bad! that is not correct answer\")\n",
    "        wrong_answers -= 1\n",
    "        print(f\"Sorry, you have {wrong_answers} chances left\")\n",
    "        if wrong_answers <= 0:\n",
    "            print(\"Oh no, you lost the quiz...\")\n",
    "            break\n",
    "        reponse= input(question[0])\n",
    "        \n",
    "    else:    \n",
    "        print(f\"Your answer : {reponse.lower()}\")\n",
    "        print(\"Good job! This is the right answer\")\n",
    "    \n",
    "    if wrong_answers <= 0:\n",
    "        break\n",
    "             \n",
    "if wrong_answers > 0:     \n",
    "    print(\"Well done! You are the quizz winner!\")"
   ]
  },
  {
   "cell_type": "code",
   "execution_count": 0,
   "metadata": {
    "colab": {},
    "colab_type": "code",
    "id": "rA-XJKh-orgc"
   },
   "outputs": [],
   "source": []
  }
 ],
 "metadata": {
  "colab": {
   "name": "Construire un quiz - SOLUTIONS S1-1A.ipynb",
   "provenance": []
  },
  "kernelspec": {
   "display_name": "base",
   "language": "python",
   "name": "python3"
  },
  "language_info": {
   "codemirror_mode": {
    "name": "ipython",
    "version": 3
   },
   "file_extension": ".py",
   "mimetype": "text/x-python",
   "name": "python",
   "nbconvert_exporter": "python",
   "pygments_lexer": "ipython3",
   "version": "3.12.7"
  }
 },
 "nbformat": 4,
 "nbformat_minor": 1
}
