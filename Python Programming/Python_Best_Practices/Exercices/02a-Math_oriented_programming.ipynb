{
  "cells": [
    {
      "cell_type": "markdown",
      "metadata": {
        "colab_type": "text",
        "id": "ARXMbV_Vp5qc"
      },
      "source": [
        "# Mathematically Oriented Programming"
      ]
    },
    {
      "cell_type": "markdown",
      "metadata": {
        "colab_type": "text",
        "id": "1JYqlALqp73y"
      },
      "source": [
        "_Mathematics, in general, we don't like to do it. Especially when it involves repeating operations, over and over again. Let's be real lazy and create a class that will do the operations we want for us._"
      ]
    },
    {
      "cell_type": "markdown",
      "metadata": {
        "colab_type": "text",
        "id": "Lc3ol0PSp98l"
      },
      "source": [
        "1. _Create a class to be called \"math.\"_\n",
        "2. _This class will have no internal attributes, so you don't need to define an init() _\n",
        "3. _Create a method that will compute the square root of any number._\n",
        "4. _Create a method that will calculate the average of any list of numbers._\n",
        "5. _Create a method to find out if a number is even or odd_.\n",
        "6. _Finally, create a method that will give the total sum of a list of numbers._\n"
      ]
    },
    {
      "cell_type": "code",
      "execution_count": 24,
      "metadata": {
        "colab": {
          "base_uri": "https://localhost:8080/",
          "height": 104
        },
        "colab_type": "code",
        "id": "xFLBlgj1pndw",
        "outputId": "44506b62-75cb-416a-895e-848ef632a530"
      },
      "outputs": [],
      "source": [
        "class Math():\n",
        "    def square_root(self, number):\n",
        "        return number**(1/2)\n",
        "    \n",
        "    def mean(self, numbers):\n",
        "        somme = 0\n",
        "        for number in numbers:\n",
        "            somme += number\n",
        "        return somme / len(numbers)\n",
        "    \n",
        "    def even_or_odd(self, number):\n",
        "        return \"even\" if number % 2 == 0 else \"odd\"\n",
        "    \n",
        "    def sum(self, numbers):\n",
        "        somme = 0\n",
        "        for number in numbers:\n",
        "            somme += number\n",
        "        return somme\n"
      ]
    },
    {
      "cell_type": "code",
      "execution_count": 26,
      "metadata": {},
      "outputs": [
        {
          "name": "stdout",
          "output_type": "stream",
          "text": [
            "The average of 10, 20 et 30 est 20.0\n",
            "The square root of 9 is 3.0\n",
            "odd\n",
            "80\n"
          ]
        }
      ],
      "source": [
        "math = Math()\n",
        "moyenne = math.mean([10, 20, 30])\n",
        "\n",
        "print(f\"The average of 10, 20 et 30 est {moyenne}\")\n",
        "\n",
        "racine = math.square_root(9)\n",
        "\n",
        "print(f\"The square root of 9 is {racine}\")\n",
        "\n",
        "pair_impair = math.even_or_odd(13)\n",
        "print(pair_impair)\n",
        "\n",
        "somme = math.sum([10, 20, 50])\n",
        "print(somme)"
      ]
    }
  ],
  "metadata": {
    "colab": {
      "name": "Programmation Orientée Mathématiques - Exercice S1-3.ipynb",
      "provenance": [],
      "version": "0.3.2"
    },
    "kernelspec": {
      "display_name": "base",
      "language": "python",
      "name": "python3"
    },
    "language_info": {
      "codemirror_mode": {
        "name": "ipython",
        "version": 3
      },
      "file_extension": ".py",
      "mimetype": "text/x-python",
      "name": "python",
      "nbconvert_exporter": "python",
      "pygments_lexer": "ipython3",
      "version": "3.12.7"
    }
  },
  "nbformat": 4,
  "nbformat_minor": 0
}
