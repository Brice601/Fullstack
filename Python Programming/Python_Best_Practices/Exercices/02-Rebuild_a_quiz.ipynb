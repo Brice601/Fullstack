{
 "cells": [
  {
   "cell_type": "markdown",
   "metadata": {},
   "source": [
    "# Build a quiz - Part 2"
   ]
  },
  {
   "cell_type": "markdown",
   "metadata": {},
   "source": [
    "Below is the code we wrote yesterday, that asks three questions to the user and allows up to 3 wrong answers :"
   ]
  },
  {
   "cell_type": "code",
   "execution_count": null,
   "metadata": {},
   "outputs": [
    {
     "name": "stdout",
     "output_type": "stream",
     "text": [
      "Voici notre quiz, tu as trois chances !\n",
      "Dommage ! Il te reste 2 chances\n",
      "Dommage ! Il te reste 1 chances\n",
      "Dommage ! Il te reste 0 chances\n",
      "Oh non ! Tu as perdu le jeu...\n"
     ]
    }
   ],
   "source": [
    "questions = [\n",
    "    (\"Combien de fois la France a gagné la coupe du monde ? \", \"2\"),\n",
    "    (\"Quand a été fondé Apple ? \", \"1976\"),\n",
    "    (\"Qui a fondé SpaceX ? \", \"elon musk\")\n",
    "]\n",
    "\n",
    "def questionnaire(i, nb_de_chances):\n",
    "    if nb_de_chances > 0:\n",
    "        question = input(questions[i][0])\n",
    "        while question.lower() != questions[i][1]:\n",
    "            nb_de_chances -= 1\n",
    "            print(\"Dommage ! Il te reste {} chances\".format(nb_de_chances))\n",
    "            if nb_de_chances == 0:\n",
    "                print(\"Oh non ! Tu as perdu le jeu...\")\n",
    "                break\n",
    "            question = input(questions[i][0])\n",
    "\n",
    "    return nb_de_chances\n",
    "\n",
    "\n",
    "print(\"Voici notre quiz, tu as trois chances !\")\n",
    "\n",
    "resultat_q_1 = questionnaire(0,3)\n",
    "resultat_q_2 = questionnaire(1, resultat_q_1)\n",
    "resultat_q_3 = questionnaire(2, resultat_q_2)\n",
    "\n",
    "if resultat_q_3 > 0:\n",
    "    print(\"Bravo ! Tu as gagné le quiz !\")\n",
    "\n",
    "# if nb_de_chances > 0:\n",
    "#     question1= input(\"Combien de fois la France a gagné la coupe du monde ? \")\n",
    "#     while question1 != \"2\":\n",
    "#         nb_de_chances -= 1\n",
    "#         print(\"Dommage ! Il te reste {} chances\".format(nb_de_chances))\n",
    "#         if nb_de_chances == 0:\n",
    "#             print(\"Oh non ! Tu as perdu le jeu...\")\n",
    "#             break\n",
    "#         question1 = input(\"Combien de fois la France a gagné la coupe du monde ? \")\n",
    "\n",
    "# if nb_de_chances > 0:\n",
    "#     question2 = input(\"Quand a été fondé Apple ? \")\n",
    "#     while question2 != \"1976\":\n",
    "#         nb_de_chances -=1\n",
    "#         print(\"Dommage ! Il te reste {} chances\".format(nb_de_chances))\n",
    "#         if nb_de_chances == 0:\n",
    "#             print(\"Oh non ! Tu as perdu le jeu...\")\n",
    "#             break\n",
    "#         question2 = input(\"Quand a été fondé Apple ? \")\n",
    "\n",
    "\n",
    "# if nb_de_chances > 0:\n",
    "#     question3 = input(\"Qui a fondé SpaceX ? \")\n",
    "#     question3 = question3.lower()\n",
    "#     while question3 != \"elon musk\":\n",
    "#         nb_de_chances -=1\n",
    "#         print(\"Dommage ! Il te reste {} chances\".format(nb_de_chances))\n",
    "#         if nb_de_chances == 0:\n",
    "#             print(\"Oh non ! Tu as perdu le jeu...\")\n",
    "#             break\n",
    "#         question3 = input(\"Qui a fondé SpaceX ? \")\n",
    "#         question3 = question3.lower()\n",
    "\n",
    "# if nb_de_chances > 0:\n",
    "#     print(\"Bravo ! Tu as gagné le quiz !\")\n"
   ]
  },
  {
   "cell_type": "markdown",
   "metadata": {},
   "source": [
    "Let's refactor our quiz now that we know how to be dry.\n",
    "\n",
    "SPECs: \n",
    "\n",
    "* Your code should be DRY \n",
    "* You should use functions "
   ]
  }
 ],
 "metadata": {
  "kernelspec": {
   "display_name": "base",
   "language": "python",
   "name": "python3"
  },
  "language_info": {
   "codemirror_mode": {
    "name": "ipython",
    "version": 3
   },
   "file_extension": ".py",
   "mimetype": "text/x-python",
   "name": "python",
   "nbconvert_exporter": "python",
   "pygments_lexer": "ipython3",
   "version": "3.12.7"
  },
  "orig_nbformat": 2
 },
 "nbformat": 4,
 "nbformat_minor": 2
}
