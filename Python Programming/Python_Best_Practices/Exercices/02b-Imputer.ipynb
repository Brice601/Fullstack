{
  "cells": [
    {
      "cell_type": "markdown",
      "metadata": {
        "colab_type": "text",
        "id": "6cqYL_Y0rfoH"
      },
      "source": [
        "# Imputer"
      ]
    },
    {
      "cell_type": "markdown",
      "metadata": {
        "colab_type": "text",
        "id": "sB61JRG-rj6v"
      },
      "source": [
        "_In data science, it's common for there to be missing values in a dataset. Let's see how we can create a class that will allow us to replace this missing value by the average of the values in the list_"
      ]
    },
    {
      "cell_type": "markdown",
      "metadata": {
        "colab_type": "text",
        "id": "nvclKDGOrlV3"
      },
      "source": [
        "1. _Create a class that we will call Imputer_.\n",
        "2. _To simplify the exercise, we will only deal with lists for the moment._\n",
        "3. _Our class will take an attribute that we will call list_.\n",
        "4. _Create an avg() function that will first remove the missing value and then replace it with the average of the list._"
      ]
    },
    {
      "cell_type": "code",
      "execution_count": 42,
      "metadata": {
        "colab": {
          "base_uri": "https://localhost:8080/",
          "height": 52
        },
        "colab_type": "code",
        "id": "4agC-7RLrQSp",
        "outputId": "c98a0475-d2f7-4e53-e3b3-e45b2c1874ff"
      },
      "outputs": [
        {
          "name": "stdout",
          "output_type": "stream",
          "text": [
            "depart ['None', 2, 4, 6, 'None']\n",
            "après boucles [2, 4, 6]\n",
            "valeur mean 4.0\n",
            "None\n",
            "4.0\n",
            "None\n",
            "4.0\n",
            "Here's my initial list ['None', 2, 4, 6, 'None']\n",
            "<__main__.Imputer object at 0x000002490C79C950>\n",
            "Here is my list after imputer : [4.0, 2, 4, 6, 4.0]\n"
          ]
        }
      ],
      "source": [
        "class Imputer():\n",
        "    def __init__(self, liste):\n",
        "        self.list = liste\n",
        "        self.list_originale = liste.copy()\n",
        "\n",
        "    def avg(self):\n",
        "        list_num = []\n",
        "        print(\"depart\", self.list)\n",
        "        for value in self.list:\n",
        "            if value == \"None\":\n",
        "                pass\n",
        "            else:\n",
        "                list_num.append(value)\n",
        "        print(\"après boucles\", list_num)\n",
        "\n",
        "        mean_list_num = 0\n",
        "\n",
        "        for num in list_num:\n",
        "            mean_list_num += num\n",
        "        \n",
        "        mean_list_num = mean_list_num/(len(list_num))\n",
        "        print(\"valeur mean\", mean_list_num)\n",
        "\n",
        "        for i, value in enumerate(self.list):\n",
        "            if value == \"None\":\n",
        "                print(value)\n",
        "                self.list[i] = mean_list_num\n",
        "                print(self.list[i])\n",
        "\n",
        "        return self.list\n",
        "\n",
        "\n",
        "\n",
        "\n",
        "imputer = Imputer([\"None\", 2, 4, 6, \"None\"])\n",
        "\n",
        "average = imputer.avg()\n",
        "print(f\"Here's my initial list {imputer.list_originale}\")\n",
        "print(imputer)\n",
        "print(f\"Here is my list after imputer : {average}\")"
      ]
    },
    {
      "cell_type": "markdown",
      "metadata": {},
      "source": [
        "### Voir tous les attributs\n",
        "print(\"Attributs:\", vars(imputer))  # {'list': ['None', 2, 4, 6, 'None']}\n",
        "\n",
        "### Voir les méthodes disponibles\n",
        "print(\"Méthodes:\", [x for x in dir(imputer) if not x.startswith('_')])\n",
        "\n",
        "### Accès direct aux attributs\n",
        "print(\"Liste:\", imputer.list)"
      ]
    },
    {
      "cell_type": "markdown",
      "metadata": {
        "colab_type": "text",
        "id": "bc7K3aMYr9uH"
      },
      "source": [
        "# OPTIONAL - Improve Imputer\n",
        "\n",
        "_We have created our Imputer class which works very well for replacing missing values with averages. But, couldn't we also use this class to replace with a median? Try to add a method in Imputer that will allow us to replace the list with either the average or the median._"
      ]
    },
    {
      "cell_type": "code",
      "execution_count": 53,
      "metadata": {
        "colab": {
          "base_uri": "https://localhost:8080/",
          "height": 86
        },
        "colab_type": "code",
        "id": "vWlNZ5nDrqPa",
        "outputId": "b80570c6-7d61-4ee6-8da0-deefadcf6f3e"
      },
      "outputs": [
        {
          "name": "stdout",
          "output_type": "stream",
          "text": [
            "Here's my initial list ['None', 2, 4, 6, 'None', 8, 6]\n",
            "Here is my list after imputer mean : [5.2, 2, 4, 6, 5.2, 8, 6]\n",
            "Here's my initial list ['None', 2, 4, 6, 'None', 8, 6]\n",
            "Here is my list after imputer mediane : [6, 2, 4, 6, 6, 8, 6]\n"
          ]
        }
      ],
      "source": [
        "class Imputer():\n",
        "    def __init__(self, liste,):\n",
        "        self.list = liste\n",
        "        self.list_originale = liste.copy()\n",
        "\n",
        "    def mean(self):\n",
        "        list_num = []\n",
        "        for value in self.list:\n",
        "            if value == \"None\":\n",
        "                pass\n",
        "            else:\n",
        "                list_num.append(value)\n",
        "\n",
        "        mean_list_num = 0\n",
        "        for num in list_num:\n",
        "            mean_list_num += num\n",
        "        \n",
        "        mean_list_num = mean_list_num/(len(list_num))\n",
        "\n",
        "        for i, value in enumerate(self.list):\n",
        "            if value == \"None\":\n",
        "                self.list[i] = mean_list_num\n",
        "\n",
        "        return self.list\n",
        "    \n",
        "    def median(self):\n",
        "        list_num = []\n",
        "        for value in self.list:\n",
        "            if value == \"None\":\n",
        "                pass\n",
        "            else:\n",
        "                list_num.append(value)\n",
        "        drapeau = len(list_num)\n",
        "\n",
        "        while drapeau > 0:\n",
        "            drapeau = 0\n",
        "            for i in range(len(list_num) - 1 ):\n",
        "                if list_num[i] > list_num[i + 1] :\n",
        "                    list_num[i], list_num[i + 1] = list_num[i + 1], list_num[i]\n",
        "                    drapeau += 1\n",
        "                else:\n",
        "                    pass\n",
        "\n",
        "        med_list_num = 0\n",
        "        prem_index = 0\n",
        "        der_index = 0\n",
        "        med_index = 0\n",
        "        if len(list_num) % 2 == 0:\n",
        "            prem_index = len(list_num) / 2 - 1\n",
        "            der_index = len(list_num) / 2\n",
        "\n",
        "            med_list_num = (list_num[int(prem_index)] + list_num[int(der_index)]) / 2\n",
        "        else:\n",
        "            med_index = len(list_num) / 2 - 0.5\n",
        "            med_list_num = list_num[int(med_index)]\n",
        "        \n",
        "        for i, value in enumerate(self.list):\n",
        "            if value == \"None\":\n",
        "                self.list[i] = med_list_num\n",
        "\n",
        "        return self.list\n",
        "\n",
        "\n",
        "imputer_mean = Imputer([\"None\", 2, 4, 6, \"None\", 8, 6])\n",
        "imputer_mediane = Imputer([\"None\", 2, 4, 6, \"None\", 8, 6])\n",
        "\n",
        "average = imputer_mean.mean()\n",
        "print(f\"Here's my initial list {imputer.list_originale}\")\n",
        "print(f\"Here is my list after imputer mean : {average}\")\n",
        "\n",
        "mediane = imputer_mediane.median()\n",
        "print(f\"Here's my initial list {imputer.list_originale}\")\n",
        "print(f\"Here is my list after imputer mediane : {mediane}\")"
      ]
    },
    {
      "cell_type": "code",
      "execution_count": 45,
      "metadata": {},
      "outputs": [
        {
          "name": "stdout",
          "output_type": "stream",
          "text": [
            "[1, 2, 3, 4, 4, 7, 8, 9, 9]\n",
            "4\n"
          ]
        }
      ],
      "source": [
        "list_num = [8, 7, 9, 1, 2, 3, 4, 9, 4]\n",
        "drapeau = len(list_num)\n",
        "\n",
        "while drapeau > 0:\n",
        "    drapeau = 0\n",
        "    for i in range(len(list_num) - 1 ):\n",
        "        if list_num[i] > list_num[i + 1] :\n",
        "            list_num[i], list_num[i + 1] = list_num[i + 1], list_num[i]\n",
        "            drapeau += 1\n",
        "        else:\n",
        "            pass\n",
        "print(list_num)\n",
        "\n",
        "med_list_num = 0\n",
        "prem_index = 0\n",
        "der_index = 0\n",
        "med_index = 0\n",
        "if len(list_num) % 2 == 0:\n",
        "    prem_index = len(list_num) / 2 - 1\n",
        "    der_index = len(list_num) / 2\n",
        "\n",
        "    med_list_num = (list_num[int(prem_index)] + list_num[int(der_index)]) / 2\n",
        "    print(med_list_num)\n",
        "else:\n",
        "    med_index = len(list_num) / 2 - 0.5\n",
        "    med_list_num = list_num[int(med_index)]\n",
        "    print(med_list_num)"
      ]
    },
    {
      "cell_type": "code",
      "execution_count": null,
      "metadata": {},
      "outputs": [],
      "source": []
    }
  ],
  "metadata": {
    "colab": {
      "collapsed_sections": [],
      "name": "Imputer - Exercice S1-3.ipynb",
      "provenance": [],
      "version": "0.3.2"
    },
    "kernelspec": {
      "display_name": "base",
      "language": "python",
      "name": "python3"
    },
    "language_info": {
      "codemirror_mode": {
        "name": "ipython",
        "version": 3
      },
      "file_extension": ".py",
      "mimetype": "text/x-python",
      "name": "python",
      "nbconvert_exporter": "python",
      "pygments_lexer": "ipython3",
      "version": "3.12.7"
    }
  },
  "nbformat": 4,
  "nbformat_minor": 0
}
