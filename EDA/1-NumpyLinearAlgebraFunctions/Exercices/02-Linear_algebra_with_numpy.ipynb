{
 "cells": [
  {
   "cell_type": "markdown",
   "id": "cc66444a",
   "metadata": {
    "id": "cc66444a"
   },
   "source": [
    "# Linear algebra with Numpy 🧠🧠\n",
    "\n",
    "Some practice exercises are available the [Linear Algebra prepwork](https://app.jedha.co/course/linear-algebra-basics/linear-algebra-exercises).\n",
    "In this exercise, you will apply what you learnt in the \"Numpy and Linear Algebra\" to check numerically the answers to these exercises."
   ]
  },
  {
   "cell_type": "code",
   "execution_count": 1,
   "id": "vUg-vt26I94h",
   "metadata": {
    "id": "vUg-vt26I94h"
   },
   "outputs": [],
   "source": [
    "import numpy as np"
   ]
  },
  {
   "cell_type": "markdown",
   "id": "f667c27a",
   "metadata": {
    "id": "f667c27a"
   },
   "source": [
    "## Operations with vectors and matrices 🤹‍♂️🤹‍♂️\n",
    "\n",
    "### Vector operations\n",
    "\n",
    "1. Compute the sum $\\vec{u} + \\vec{v}$ of the following vectors :\n",
    "$$\n",
    "\\vec{u} =\n",
    "\\begin{bmatrix}\n",
    "2 \\\\\n",
    "9 \\\\\n",
    "-1\n",
    "\\end{bmatrix}\n",
    "$$\n",
    "$$\n",
    "\\vec{v} =\n",
    "\\begin{bmatrix}\n",
    "1 \\\\\n",
    "5 \\\\\n",
    "3\n",
    "\\end{bmatrix}\n",
    "$$"
   ]
  },
  {
   "cell_type": "code",
   "execution_count": 3,
   "id": "yFyf7qWYI5Tv",
   "metadata": {
    "colab": {
     "base_uri": "https://localhost:8080/"
    },
    "executionInfo": {
     "elapsed": 426,
     "status": "ok",
     "timestamp": 1698935741752,
     "user": {
      "displayName": "Aurélie Mutschler",
      "userId": "09486760454547044843"
     },
     "user_tz": -60
    },
    "id": "yFyf7qWYI5Tv",
    "outputId": "0f3a60ac-2281-466e-e390-277614968a80"
   },
   "outputs": [
    {
     "data": {
      "text/plain": [
       "array([ 3, 14,  2])"
      ]
     },
     "execution_count": 3,
     "metadata": {},
     "output_type": "execute_result"
    }
   ],
   "source": [
    "u_vec = np.array([2,9,-1], dtype=int)\n",
    "v_vec = np.array([1,5,3], dtype=int)\n",
    "\n",
    "u_vec + v_vec"
   ]
  },
  {
   "cell_type": "markdown",
   "id": "643382d5",
   "metadata": {
    "id": "643382d5"
   },
   "source": [
    "2. Compute the difference $\\vec{u} - \\vec{v}$ between the following vectors :\n",
    "$$\n",
    "\\vec{u} =\n",
    "\\begin{bmatrix}\n",
    "10 \\\\\n",
    "-2 \\\\\n",
    "1\n",
    "\\end{bmatrix}\n",
    "$$\n",
    "$$\n",
    "\\vec{v} =\n",
    "\\begin{bmatrix}\n",
    "4 \\\\\n",
    "3 \\\\\n",
    "2\n",
    "\\end{bmatrix}\n",
    "$$"
   ]
  },
  {
   "cell_type": "code",
   "execution_count": 4,
   "id": "gh8lSYhUKrjB",
   "metadata": {
    "colab": {
     "base_uri": "https://localhost:8080/"
    },
    "executionInfo": {
     "elapsed": 35,
     "status": "ok",
     "timestamp": 1698935741753,
     "user": {
      "displayName": "Aurélie Mutschler",
      "userId": "09486760454547044843"
     },
     "user_tz": -60
    },
    "id": "gh8lSYhUKrjB",
    "outputId": "5ee0eba2-24f1-4015-91dc-d697870661db"
   },
   "outputs": [
    {
     "data": {
      "text/plain": [
       "array([ 6, -5, -1])"
      ]
     },
     "execution_count": 4,
     "metadata": {},
     "output_type": "execute_result"
    }
   ],
   "source": [
    "u_vec = np.array([10,-2,1], dtype=int)\n",
    "v_vec = np.array([4,3,2], dtype=int)\n",
    "\n",
    "u_vec - v_vec"
   ]
  },
  {
   "cell_type": "markdown",
   "id": "66320a8d",
   "metadata": {
    "id": "66320a8d"
   },
   "source": [
    "3. Compute : $\\alpha (\\vec{u} + \\vec{v})$ with $\\alpha = 4$ and :\n",
    "$$\n",
    "\\vec{u} =\n",
    "\\begin{bmatrix}\n",
    "1 \\\\\n",
    "-2 \\\\\n",
    "2\n",
    "\\end{bmatrix}\n",
    "$$\n",
    "$$\n",
    "\\vec{v} =\n",
    "\\begin{bmatrix}\n",
    "2 \\\\\n",
    "1 \\\\\n",
    "0\n",
    "\\end{bmatrix}\n",
    "$$"
   ]
  },
  {
   "cell_type": "code",
   "execution_count": 5,
   "id": "TldNd0rmK4U1",
   "metadata": {
    "colab": {
     "base_uri": "https://localhost:8080/"
    },
    "executionInfo": {
     "elapsed": 32,
     "status": "ok",
     "timestamp": 1698935741753,
     "user": {
      "displayName": "Aurélie Mutschler",
      "userId": "09486760454547044843"
     },
     "user_tz": -60
    },
    "id": "TldNd0rmK4U1",
    "outputId": "9e2ec432-6567-46a3-8a7d-e028bcd8eb1b"
   },
   "outputs": [
    {
     "data": {
      "text/plain": [
       "array([12, -4,  8])"
      ]
     },
     "execution_count": 5,
     "metadata": {},
     "output_type": "execute_result"
    }
   ],
   "source": [
    "alpha = 4\n",
    "\n",
    "u_vec = np.array([1,-2,2])\n",
    "v_vec = np.array([2,1,0])\n",
    "\n",
    "alpha*(u_vec + v_vec)"
   ]
  },
  {
   "cell_type": "markdown",
   "id": "5543030d",
   "metadata": {
    "id": "5543030d"
   },
   "source": [
    "4. Compute the norms $\\Vert\\vec{u}\\Vert$ and $\\Vert\\vec{v}\\Vert$ with:\n",
    "$$\n",
    "\\vec{u}\n",
    "=\n",
    "\\begin{bmatrix}\n",
    "1 \\\\\n",
    "2 \\\\\n",
    "3 \\\\\n",
    "4 \\\\\n",
    "\\end{bmatrix}\n",
    "$$\n",
    "$$\n",
    "\\vec{v}\n",
    "=\n",
    "\\begin{bmatrix}\n",
    "-1 \\\\\n",
    "2 \\\\\n",
    "-3 \\\\\n",
    "4 \\\\\n",
    "\\end{bmatrix}\n",
    "$$"
   ]
  },
  {
   "cell_type": "code",
   "execution_count": 6,
   "id": "7cp9r9NhLEwQ",
   "metadata": {
    "colab": {
     "base_uri": "https://localhost:8080/"
    },
    "executionInfo": {
     "elapsed": 31,
     "status": "ok",
     "timestamp": 1698935741754,
     "user": {
      "displayName": "Aurélie Mutschler",
      "userId": "09486760454547044843"
     },
     "user_tz": -60
    },
    "id": "7cp9r9NhLEwQ",
    "outputId": "4c27e005-344d-4c33-ae77-348f3f189fe5"
   },
   "outputs": [
    {
     "name": "stdout",
     "output_type": "stream",
     "text": [
      "Norm u: 5.477225575051661\n",
      "Norm v: 5.477225575051661\n"
     ]
    }
   ],
   "source": [
    "u_vec = np.array([1,2,3,4])\n",
    "v_vec = np.array([-1,2,-3,4])\n",
    "\n",
    "print(f\"Norm u: {np.linalg.norm(u_vec)}\")\n",
    "print(f\"Norm v: {np.linalg.norm(v_vec)}\")"
   ]
  },
  {
   "cell_type": "markdown",
   "id": "c57eb827",
   "metadata": {
    "id": "c57eb827"
   },
   "source": [
    "### Matrix operations"
   ]
  },
  {
   "cell_type": "markdown",
   "id": "b667e04c",
   "metadata": {
    "id": "b667e04c"
   },
   "source": [
    "5. Compute the sum $A + B$ of the two following matrices :\n",
    "$$\n",
    "A =\n",
    "\\begin{bmatrix}\n",
    "1 & 2 & 3 \\\\\n",
    "2 & 1 & 4 \\\\\n",
    "3 & 4 & 1\n",
    "\\end{bmatrix}\n",
    "$$\n",
    "$$\n",
    "B =\n",
    "\\begin{bmatrix}\n",
    "2 & 3 & 4 \\\\\n",
    "3 & 2 & 5 \\\\\n",
    "4 & 5 & 2\n",
    "\\end{bmatrix}\n",
    "$$"
   ]
  },
  {
   "cell_type": "code",
   "execution_count": 7,
   "id": "e7hBE_mVNIu_",
   "metadata": {
    "colab": {
     "base_uri": "https://localhost:8080/"
    },
    "executionInfo": {
     "elapsed": 29,
     "status": "ok",
     "timestamp": 1698935741754,
     "user": {
      "displayName": "Aurélie Mutschler",
      "userId": "09486760454547044843"
     },
     "user_tz": -60
    },
    "id": "e7hBE_mVNIu_",
    "outputId": "4e104429-4510-459b-b979-044cce12a4bc"
   },
   "outputs": [
    {
     "data": {
      "text/plain": [
       "array([[3, 5, 7],\n",
       "       [5, 3, 9],\n",
       "       [7, 9, 3]])"
      ]
     },
     "execution_count": 7,
     "metadata": {},
     "output_type": "execute_result"
    }
   ],
   "source": [
    "A_mat = np.array([[1, 2, 3],\n",
    "                  [2, 1, 4],\n",
    "                  [3, 4, 1]])\n",
    "\n",
    "B_mat = np.array([[2, 3, 4],\n",
    "                  [3, 2, 5],\n",
    "                  [4, 5, 2]])\n",
    "\n",
    "A_mat + B_mat"
   ]
  },
  {
   "cell_type": "markdown",
   "id": "15e14752",
   "metadata": {
    "id": "15e14752"
   },
   "source": [
    "6. Compute the operation $2A - B$ with:\n",
    "$$\n",
    "A =\n",
    "\\begin{bmatrix}\n",
    "1 & 2 & 3 \\\\\n",
    "2 & 1 & 4 \\\\\n",
    "3 & 4 & 1\n",
    "\\end{bmatrix}\n",
    "$$\n",
    "$$\n",
    "B =\n",
    "\\begin{bmatrix}\n",
    "2 & 3 & 4 \\\\\n",
    "3 & 2 & 5 \\\\\n",
    "4 & 5 & 2\n",
    "\\end{bmatrix}\n",
    "$$"
   ]
  },
  {
   "cell_type": "code",
   "execution_count": 8,
   "id": "65KAnGJJOk3c",
   "metadata": {
    "colab": {
     "base_uri": "https://localhost:8080/"
    },
    "executionInfo": {
     "elapsed": 26,
     "status": "ok",
     "timestamp": 1698935741754,
     "user": {
      "displayName": "Aurélie Mutschler",
      "userId": "09486760454547044843"
     },
     "user_tz": -60
    },
    "id": "65KAnGJJOk3c",
    "outputId": "b75c36a8-3fe8-4c06-8bbe-f38b801c034f"
   },
   "outputs": [
    {
     "data": {
      "text/plain": [
       "array([[0, 1, 2],\n",
       "       [1, 0, 3],\n",
       "       [2, 3, 0]])"
      ]
     },
     "execution_count": 8,
     "metadata": {},
     "output_type": "execute_result"
    }
   ],
   "source": [
    "A_mat = np.array([[1, 2, 3],\n",
    "                  [2, 1, 4],\n",
    "                  [3, 4, 1]])\n",
    "\n",
    "B_mat = np.array([[2, 3, 4],\n",
    "                  [3, 2, 5],\n",
    "                  [4, 5, 2]])\n",
    "\n",
    "2*A_mat - B_mat"
   ]
  },
  {
   "cell_type": "markdown",
   "id": "4f192dd9",
   "metadata": {
    "id": "4f192dd9"
   },
   "source": [
    "7. Compute the products of matrices : $AB$ and $BA$ with:\n",
    "$$\n",
    "A =\n",
    "\\begin{bmatrix}\n",
    "1 & 0 & 2 \\\\\n",
    "2 & 1 & 0 \\\\\n",
    "1 & 2 & 1\n",
    "\\end{bmatrix}\n",
    "$$\n",
    "$$\n",
    "B =\n",
    "\\begin{bmatrix}\n",
    "2 & 0 & 0 \\\\\n",
    "1 & 2 & 0 \\\\\n",
    "0 & 1 & 2\n",
    "\\end{bmatrix}\n",
    "$$"
   ]
  },
  {
   "cell_type": "code",
   "execution_count": 12,
   "id": "SigvIyXUOpB1",
   "metadata": {
    "colab": {
     "base_uri": "https://localhost:8080/"
    },
    "executionInfo": {
     "elapsed": 24,
     "status": "ok",
     "timestamp": 1698935741754,
     "user": {
      "displayName": "Aurélie Mutschler",
      "userId": "09486760454547044843"
     },
     "user_tz": -60
    },
    "id": "SigvIyXUOpB1",
    "outputId": "e603a515-011b-4ad7-cb4d-47cccea71d90"
   },
   "outputs": [
    {
     "name": "stdout",
     "output_type": "stream",
     "text": [
      "AB:\n",
      "[[2 2 4]\n",
      " [5 2 0]\n",
      " [4 5 2]]\n",
      " \n",
      "BA:\n",
      "[[2 0 4]\n",
      " [5 2 2]\n",
      " [4 5 2]]\n"
     ]
    }
   ],
   "source": [
    "A_mat = np.array([[1, 0, 2],\n",
    "                  [2, 1, 0],\n",
    "                  [1, 2, 1]])\n",
    "\n",
    "B_mat = np.array([[2, 0, 0],\n",
    "                  [1, 2, 0],\n",
    "                  [0, 1, 2]])\n",
    "\n",
    "print(\"AB:\")\n",
    "print(A_mat @ B_mat)\n",
    "print(\" \")\n",
    "print(\"BA:\")\n",
    "print(B_mat.dot(A_mat))"
   ]
  },
  {
   "cell_type": "markdown",
   "id": "3582156a",
   "metadata": {
    "id": "3582156a"
   },
   "source": [
    "8. Compute the products of matrices : $AB$ and $BA$ with:\n",
    "$$\n",
    "A =\n",
    "\\begin{bmatrix}\n",
    "1 & 0 \\\\\n",
    "2 & 1 \\\\\n",
    "1 & 2\n",
    "\\end{bmatrix}\n",
    "$$\n",
    "$$\n",
    "B =\n",
    "\\begin{bmatrix}\n",
    "2 & 0 & 0 \\\\\n",
    "1 & 2 & 0\n",
    "\\end{bmatrix}\n",
    "$$"
   ]
  },
  {
   "cell_type": "code",
   "execution_count": 13,
   "id": "JohZYC8dPAVE",
   "metadata": {
    "colab": {
     "base_uri": "https://localhost:8080/"
    },
    "executionInfo": {
     "elapsed": 21,
     "status": "ok",
     "timestamp": 1698935741754,
     "user": {
      "displayName": "Aurélie Mutschler",
      "userId": "09486760454547044843"
     },
     "user_tz": -60
    },
    "id": "JohZYC8dPAVE",
    "outputId": "c78e71bf-8439-4d80-99db-7864de6d302d"
   },
   "outputs": [
    {
     "name": "stdout",
     "output_type": "stream",
     "text": [
      "AB:\n",
      "[[2 0 0]\n",
      " [5 2 0]\n",
      " [4 4 0]]\n",
      " \n",
      "BA:\n",
      "[[2 0]\n",
      " [5 2]]\n"
     ]
    }
   ],
   "source": [
    "A_mat = np.array([[1, 0],\n",
    "                  [2, 1],\n",
    "                  [1, 2]])\n",
    "\n",
    "B_mat = np.array([[2, 0, 0],\n",
    "                  [1, 2, 0]])\n",
    "\n",
    "print(\"AB:\")\n",
    "print(A_mat @ B_mat)\n",
    "print(\" \")\n",
    "print(\"BA:\")\n",
    "print(B_mat @ A_mat)"
   ]
  },
  {
   "cell_type": "markdown",
   "id": "993de912",
   "metadata": {
    "id": "993de912"
   },
   "source": [
    "### Matrix-vector product"
   ]
  },
  {
   "cell_type": "markdown",
   "id": "ca7cf239",
   "metadata": {
    "id": "ca7cf239"
   },
   "source": [
    "9. Compute the matrix-vector product $A\\vec{v}$ with :\n",
    "$$\n",
    "A =\n",
    "\\begin{bmatrix}\n",
    "1 & 0 & 2 \\\\\n",
    "2 & 1 & 0 \\\\\n",
    "1 & 2 & 1\n",
    "\\end{bmatrix}\n",
    "$$\n",
    "$$\n",
    "\\vec{v} =\n",
    "\\begin{bmatrix}\n",
    "-1 \\\\\n",
    "1 \\\\\n",
    "2\n",
    "\\end{bmatrix}\n",
    "$$"
   ]
  },
  {
   "cell_type": "code",
   "execution_count": 15,
   "id": "x3NcHsuiPUX5",
   "metadata": {
    "colab": {
     "base_uri": "https://localhost:8080/"
    },
    "executionInfo": {
     "elapsed": 16,
     "status": "ok",
     "timestamp": 1698935741755,
     "user": {
      "displayName": "Aurélie Mutschler",
      "userId": "09486760454547044843"
     },
     "user_tz": -60
    },
    "id": "x3NcHsuiPUX5",
    "outputId": "c9c8ca81-f814-4de2-8af3-2012c6169efa"
   },
   "outputs": [
    {
     "name": "stdout",
     "output_type": "stream",
     "text": [
      "[ 3 -1  3]\n"
     ]
    }
   ],
   "source": [
    "A_mat = np.array([[1, 0, 2],\n",
    "                  [2, 1, 0],\n",
    "                  [1, 2, 1]])\n",
    "\n",
    "v_vec = np.array([-1, 1, 2])\n",
    "\n",
    "print(A_mat @ v_vec)"
   ]
  },
  {
   "cell_type": "markdown",
   "id": "eb89fadc",
   "metadata": {
    "id": "eb89fadc"
   },
   "source": [
    "## Collinearity and orthogonality 🏌️🏌️"
   ]
  },
  {
   "cell_type": "markdown",
   "id": "b4ec65a6",
   "metadata": {
    "id": "b4ec65a6"
   },
   "source": [
    "10. Compute the dot product $\\vec{u} \\cdot \\vec{v} $ with:\n",
    "$$\n",
    "\\vec{u}\n",
    "=\n",
    "\\begin{bmatrix}\n",
    "2 \\\\\n",
    "-3 \\\\\n",
    "-1 \\\\\n",
    "\\end{bmatrix}\n",
    "$$\n",
    "$$\n",
    "\\vec{v}\n",
    "=\n",
    "\\begin{bmatrix}\n",
    "3 \\\\\n",
    "1 \\\\\n",
    "3 \\\\\n",
    "\\end{bmatrix}\n",
    "$$\n",
    "\n",
    "What can you conclude about the angle between the two vectors ?"
   ]
  },
  {
   "cell_type": "code",
   "execution_count": null,
   "id": "tRqrpsLLQs1z",
   "metadata": {
    "colab": {
     "base_uri": "https://localhost:8080/"
    },
    "executionInfo": {
     "elapsed": 13,
     "status": "ok",
     "timestamp": 1698935741755,
     "user": {
      "displayName": "Aurélie Mutschler",
      "userId": "09486760454547044843"
     },
     "user_tz": -60
    },
    "id": "tRqrpsLLQs1z",
    "outputId": "56819841-38f4-4ab5-e807-3135788e4555"
   },
   "outputs": [
    {
     "name": "stdout",
     "output_type": "stream",
     "text": [
      "dot product: 0\n"
     ]
    }
   ],
   "source": [
    "u_vec = np.array([2, -3, -1])\n",
    "v_vec = np.array([3, 1, 3])\n",
    "\n",
    "print(f\"dot product: {u_vec.dot(v_vec)}\")\n",
    "\n",
    "# on peut conlure que si le produit des 2 vecteurs est égale à 0, ils sont orthogonaux. theta = 90°"
   ]
  },
  {
   "cell_type": "markdown",
   "id": "54311258",
   "metadata": {
    "id": "54311258"
   },
   "source": [
    "11. Are $\\vec{u}$, $\\vec{v}$ collinear ?\n",
    "$$\n",
    "\\vec{u}\n",
    "=\n",
    "\\begin{bmatrix}\n",
    "4 \\\\\n",
    "2 \\\\\n",
    "-1\n",
    "\\end{bmatrix}\n",
    "$$\n",
    "\n",
    "$$\n",
    "\\vec{v}\n",
    "=\n",
    "\\begin{bmatrix}\n",
    "-1 \\\\\n",
    "-\\frac{1}{2} \\\\\n",
    "\\frac{1}{4}\n",
    "\\end{bmatrix}\n",
    "$$"
   ]
  },
  {
   "cell_type": "code",
   "execution_count": null,
   "id": "x1d3F1PTRUjG",
   "metadata": {
    "colab": {
     "base_uri": "https://localhost:8080/"
    },
    "executionInfo": {
     "elapsed": 260,
     "status": "ok",
     "timestamp": 1698935742004,
     "user": {
      "displayName": "Aurélie Mutschler",
      "userId": "09486760454547044843"
     },
     "user_tz": -60
    },
    "id": "x1d3F1PTRUjG",
    "outputId": "31f57e68-874f-4e5d-b879-e1cb9d07a865"
   },
   "outputs": [
    {
     "name": "stdout",
     "output_type": "stream",
     "text": [
      "Element-wise division: [-4. -4. -4.]\n"
     ]
    }
   ],
   "source": [
    "u_vec = np.array([4, 2, -1])\n",
    "\n",
    "v_vec = np.array([-1, -1/2, 1/4])\n",
    "\n",
    "print(f\"Element-wise division: {u_vec / v_vec}\")\n",
    "\n",
    "# Oui ils sont colinéaires, facteur -4, u = -4 v"
   ]
  },
  {
   "cell_type": "markdown",
   "id": "f8eaa6e4",
   "metadata": {
    "id": "f8eaa6e4"
   },
   "source": [
    "12. Are $\\vec{u}$, $\\vec{v}$ and $\\vec{w}$ linearly independent (i.e. there's no relationship of multicolinearity between these vectors) ?\n",
    "$$\n",
    "\\vec{u}\n",
    "=\n",
    "\\begin{bmatrix}\n",
    "1 \\\\\n",
    "2\n",
    "\\end{bmatrix}\n",
    "$$\n",
    "\n",
    "$$\n",
    "\\vec{v}\n",
    "=\n",
    "\\begin{bmatrix}\n",
    "-2 \\\\\n",
    "1 \\\\\n",
    "\\end{bmatrix}\n",
    "$$\n",
    "\n",
    "$$\n",
    "\\vec{w}\n",
    "=\n",
    "\\begin{bmatrix}\n",
    "-1 \\\\\n",
    "3\n",
    "\\end{bmatrix}\n",
    "$$"
   ]
  },
  {
   "cell_type": "code",
   "execution_count": null,
   "id": "yBG8olDOSFcX",
   "metadata": {
    "colab": {
     "base_uri": "https://localhost:8080/"
    },
    "executionInfo": {
     "elapsed": 19,
     "status": "ok",
     "timestamp": 1698935742004,
     "user": {
      "displayName": "Aurélie Mutschler",
      "userId": "09486760454547044843"
     },
     "user_tz": -60
    },
    "id": "yBG8olDOSFcX",
    "outputId": "c18014dc-daf3-4b18-d76b-e6ca843d42ea"
   },
   "outputs": [
    {
     "name": "stdout",
     "output_type": "stream",
     "text": [
      "u: [1 2]\n",
      "w - v: [1 2]\n"
     ]
    }
   ],
   "source": [
    "u_vec = np.array([1, 2])\n",
    "v_vec = np.array([-2, 1])\n",
    "w_vec = np.array([-1, 3])\n",
    "\n",
    "print(f\"u: {u_vec}\")\n",
    "print(f\"w - v: {w_vec - v_vec}\")\n",
    "\n",
    "# We just showed that u = w − v which means the vectors are not linearly independent !"
   ]
  },
  {
   "cell_type": "markdown",
   "id": "983eec78",
   "metadata": {
    "id": "983eec78"
   },
   "source": [
    "## Systems of linear equations 🧩🧩\n",
    "\n",
    "Consider the following system of linear equations :\n",
    "\n",
    "$$\n",
    "\\begin{equation}\n",
    "    \\begin{cases}\n",
    "      2x_1 + x_2 = 2\\\\\n",
    "      x_1 + 2x_2 + x_3 = 0 \\\\\n",
    "      x_2 + 2x_3 = 1\n",
    "    \\end{cases}\n",
    "\\end{equation}\n",
    "$$"
   ]
  },
  {
   "cell_type": "markdown",
   "id": "p4vUPXLzVwr5",
   "metadata": {
    "id": "p4vUPXLzVwr5"
   },
   "source": [
    "13. We'd like to write the matrix representation of this system of equations, in the form $A\\vec{x} = \\vec{c}$ where :\n",
    "- $A$ is a matrix containing the coefficients of the equation\n",
    "- $\\vec{x}$ is the vector of unknowns\n",
    "- $\\vec{c}$ is a vector of constant values\n",
    "\n",
    "Create a numpy array corresponding to $A$ and another corresponding to $\\vec c$"
   ]
  },
  {
   "cell_type": "code",
   "execution_count": 22,
   "id": "v_FsZTr0VxO1",
   "metadata": {
    "id": "v_FsZTr0VxO1"
   },
   "outputs": [],
   "source": [
    "A_mat = np.array([[2, 1, 0],\n",
    "                  [1, 2, 1],\n",
    "                  [0, 1, 2]])\n",
    "\n",
    "c_vec = np.array([2, 0, 1])"
   ]
  },
  {
   "cell_type": "markdown",
   "id": "aTdekICNWlKB",
   "metadata": {
    "id": "aTdekICNWlKB"
   },
   "source": [
    "14. Use numpy to solve the system of equations"
   ]
  },
  {
   "cell_type": "code",
   "execution_count": 23,
   "id": "aLVy04QgWp4a",
   "metadata": {
    "colab": {
     "base_uri": "https://localhost:8080/"
    },
    "executionInfo": {
     "elapsed": 18,
     "status": "ok",
     "timestamp": 1698935742005,
     "user": {
      "displayName": "Aurélie Mutschler",
      "userId": "09486760454547044843"
     },
     "user_tz": -60
    },
    "id": "aLVy04QgWp4a",
    "outputId": "fd919102-3809-4eb9-bee7-bd066a6f484a"
   },
   "outputs": [
    {
     "name": "stdout",
     "output_type": "stream",
     "text": [
      "-- Method 1 --\n",
      "Solution of equation Ax = c:\n",
      "x =  [ 1.75 -1.5   1.25]\n",
      "\n",
      "-- Method 2 --\n",
      "Solution of equation Ax = c:\n",
      "x =  [ 1.75 -1.5   1.25]\n"
     ]
    }
   ],
   "source": [
    "# methode 1 avec la matrice inverse\n",
    "print(\"-- Method 1 --\")\n",
    "A_mat_inv = np.linalg.inv(A_mat)\n",
    "# resolution equation\n",
    "x_vec = A_mat_inv @ c_vec\n",
    "print(\"Solution of equation Ax = c:\")\n",
    "print(\"x = \", x_vec)\n",
    "print()\n",
    "\n",
    "# methode 2: with np.linalg.solve\n",
    "print(\"-- Method 2 --\")\n",
    "x_vec = np.linalg.solve(A_mat, c_vec)\n",
    "print(\"Solution of equation Ax = c:\")\n",
    "print(\"x = \", x_vec)"
   ]
  },
  {
   "cell_type": "markdown",
   "id": "184bb514",
   "metadata": {
    "id": "184bb514"
   },
   "source": [
    "15. **[Bonus question - for experts only 💪]** Let's use the concept of matrix inverse to solve the system of linear equations !\n",
    "\n",
    "* Prove that the following matrix is the inverse of matrix $A$ :\n",
    "$$\n",
    "B = \\begin{bmatrix}\n",
    "\\frac{3}{4} & - \\frac{1}{2} & \\frac{1}{4} \\\\\n",
    "-\\frac{1}{2} & 1 & -\\frac{1}{2} \\\\\n",
    "\\frac{1}{4} & -\\frac{1}{2} & \\frac{3}{4}\n",
    "\\end{bmatrix}\n",
    "$$\n",
    "\n",
    "* And then, use $A^{-1}$ to find the solution to the system of equation"
   ]
  },
  {
   "cell_type": "code",
   "execution_count": 26,
   "id": "P_yAJS1uXNdy",
   "metadata": {
    "colab": {
     "base_uri": "https://localhost:8080/"
    },
    "executionInfo": {
     "elapsed": 15,
     "status": "ok",
     "timestamp": 1698935742005,
     "user": {
      "displayName": "Aurélie Mutschler",
      "userId": "09486760454547044843"
     },
     "user_tz": -60
    },
    "id": "P_yAJS1uXNdy",
    "outputId": "8bfde65c-4f06-4cda-b0dc-3f849416f370"
   },
   "outputs": [
    {
     "name": "stdout",
     "output_type": "stream",
     "text": [
      "Inverse of B: [[2. 1. 0.]\n",
      " [1. 2. 1.]\n",
      " [0. 1. 2.]]\n",
      "Inverse of A: [[ 0.75 -0.5   0.25]\n",
      " [-0.5   1.   -0.5 ]\n",
      " [ 0.25 -0.5   0.75]]\n",
      "Solution of equation Ax = c:\n",
      "Solution: x = [ 1.75 -1.5   1.25]\n"
     ]
    }
   ],
   "source": [
    "B_mat = np.array([[3/4, -1/2, 1/4],\n",
    "                  [-1/2, 1, -1/2],\n",
    "                  [1/4, -1/2, 3/4]])\n",
    "\n",
    "B_mat_inv = np.linalg.inv(B_mat)\n",
    "print(f\"Inverse of B: {B_mat_inv}\")\n",
    "print(f\"Inverse of A: {A_mat_inv}\")\n",
    "\n",
    "x_vec = A_mat_inv @ c_vec\n",
    "print(\"Solution of equation Ax = c:\")\n",
    "print(f\"Solution: x = {x_vec}\")"
   ]
  },
  {
   "cell_type": "markdown",
   "id": "df5b1b68",
   "metadata": {
    "id": "df5b1b68"
   },
   "source": [
    "## Matrix diagonalization 🤸🤸"
   ]
  },
  {
   "cell_type": "markdown",
   "id": "c8b3183c",
   "metadata": {
    "id": "c8b3183c"
   },
   "source": [
    "15. Consider the following matrix :\n",
    "\n",
    "$$\n",
    "A =\n",
    "\\begin{bmatrix}\n",
    "3 & -1 \\\\\n",
    "2 & 0\n",
    "\\end{bmatrix}\n",
    "$$\n",
    "\n",
    "a. Show that $\\vec{u} = \\begin{bmatrix}1\\\\1\\end{bmatrix}$ and $\\vec{v} = \\begin{bmatrix}1\\\\2\\end{bmatrix}$ are eigenvectors of $A$\n",
    "\n",
    "b. What are the eigenvalues associated to $\\vec{u}$ and $\\vec{v}$ ?"
   ]
  },
  {
   "cell_type": "code",
   "execution_count": 33,
   "id": "y6CiM9k_VoZ2",
   "metadata": {
    "colab": {
     "base_uri": "https://localhost:8080/"
    },
    "executionInfo": {
     "elapsed": 13,
     "status": "ok",
     "timestamp": 1698935742005,
     "user": {
      "displayName": "Aurélie Mutschler",
      "userId": "09486760454547044843"
     },
     "user_tz": -60
    },
    "id": "y6CiM9k_VoZ2",
    "outputId": "f327dd1d-dbae-486e-8855-d7905870f2e2"
   },
   "outputs": [
    {
     "name": "stdout",
     "output_type": "stream",
     "text": [
      "eigenvectors of A:\n",
      "[[0.70710678 0.4472136 ]\n",
      " [0.70710678 0.89442719]]\n",
      "eigenvalues of A:\n",
      "[2. 1.]\n"
     ]
    }
   ],
   "source": [
    "A_mat = np.array([[3, -1],\n",
    "                  [2, 0]])\n",
    "\n",
    "eigenvals, eigenvecs = np.linalg.eig(A_mat)\n",
    "# Method 2 - with np.linalg.eig\n",
    "print(\"eigenvectors of A:\")\n",
    "print(eigenvecs)\n",
    "print(\"eigenvalues of A:\")\n",
    "print(eigenvals)"
   ]
  },
  {
   "cell_type": "markdown",
   "id": "aA-vFqCzYTmv",
   "metadata": {
    "id": "aA-vFqCzYTmv"
   },
   "source": [
    "We can notice that:\n",
    "* $A \\vec u = 2 \\vec u$ which means that $\\vec u$ is an eigenvector of $A$ with eigenvalue 2\n",
    "* $A \\vec v = \\vec v$ which means that $\\vec u$ is an eigenvector of $A$ with eigenvalue 1."
   ]
  },
  {
   "cell_type": "code",
   "execution_count": 34,
   "id": "78e5190f",
   "metadata": {},
   "outputs": [
    {
     "name": "stdout",
     "output_type": "stream",
     "text": [
      "Au:  [2 2]\n",
      "Av:  [1 2]\n"
     ]
    }
   ],
   "source": [
    "# Method 1 - compute Au and Av\n",
    "\n",
    "A = np.array([[3, -1],\n",
    "              [2, 0]])\n",
    "\n",
    "u = np.array([1, 1])\n",
    "v = np.array([1, 2])\n",
    "\n",
    "print(\"Au: \", A @ u)\n",
    "print(\"Av: \", A @ v)\n"
   ]
  },
  {
   "cell_type": "markdown",
   "id": "e3297fb0",
   "metadata": {},
   "source": [
    "💡With this second method, we find the same eigenvalues but not the same components for the eigenvectors. This is because np.linalg.eig finds normalized eigenvectors (= the norm is equal to 1). Our vectors u and v are actually colinear to the eigenvectors found by np.linalg.eig:\n",
    "\n",
    "- 0.707u=[0.707 | 0.707]\n",
    "- 0.447v=[0.447 | 0.894]"
   ]
  },
  {
   "cell_type": "markdown",
   "id": "c0fbbba0",
   "metadata": {},
   "source": []
  }
 ],
 "metadata": {
  "colab": {
   "provenance": []
  },
  "kernelspec": {
   "display_name": "base",
   "language": "python",
   "name": "python3"
  },
  "language_info": {
   "codemirror_mode": {
    "name": "ipython",
    "version": 3
   },
   "file_extension": ".py",
   "mimetype": "text/x-python",
   "name": "python",
   "nbconvert_exporter": "python",
   "pygments_lexer": "ipython3",
   "version": "3.12.7"
  }
 },
 "nbformat": 4,
 "nbformat_minor": 5
}
