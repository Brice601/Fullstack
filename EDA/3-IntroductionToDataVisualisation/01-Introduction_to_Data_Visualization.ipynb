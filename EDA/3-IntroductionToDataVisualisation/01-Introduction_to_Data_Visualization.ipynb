{
  "cells": [
    {
      "cell_type": "markdown",
      "metadata": {
        "id": "nLE_v4R6OM5C"
      },
      "source": [
        "# Introduction to Data Visualisation 🎨🎨"
      ]
    },
    {
      "cell_type": "markdown",
      "metadata": {
        "id": "DCnMvIkCOgr-"
      },
      "source": [
        "## What is Data Visualization?\n",
        "### Definition\n",
        "Data visualization is the representation of data through use of common graphics, such as charts, plots, infographics, and even animations. These visual displays of information communicate complex data relationships and data-driven insights in a way that is easy to understand.\n",
        "\n",
        "\n",
        "### A bit of History\n",
        "\n",
        "It is common to think of statistical graphics and data visualization as relatively modern developments in statistics. In fact, the graphic illustration of quantitative information has deep roots. These roots reach into the histories of the earliest map-making and visual depiction, and later into thematic cartography, statistics and statistical graphics, with applications and innovations in many fields of medicine and science which are often intertwined with each other. They also connect with the rise of statistical thinking and widespread data collection for planning and commerce up through the 19th century.\n",
        "\n",
        "<img src=\"https://full-stack-assets.s3.eu-west-3.amazonaws.com/M03-EDA/old_viz.png\" title=\"Planetary movements shown as cyclic inclinations over time, by an unknown astronomer, appearing in a 10th-century book\" />\n",
        "\n",
        "The earliest seeds of visualization arose in geometric diagrams, in tables of the positions of stars and other celestial bodies, and in the making of maps to aid in navigation and exploration. The idea of coordinates was used by ancient Egyptian surveyors in laying out towns, earthly and heavenly positions were located by something akin to latitude and longitude by at least 200 B.C !\n",
        "\n",
        "Along the way, a variety of advancements contributed to the widespread use of data visualization today. These include technologies for drawing and reproducing images, advances in mathematics and statistics, and new developments in data collection, empirical observation and recording."
      ]
    },
    {
      "cell_type": "markdown",
      "metadata": {
        "id": "gPWdKDfSazf9"
      },
      "source": [
        "## Presentation vs Exploratory Graphics 🎭🎭\n",
        "\n",
        "The differences between graphics for presentation and graphics for exploration lie in both form and practice.\n",
        "\n",
        "### Presentation\n",
        "Presentation graphics are generally static, and a single graphic is drawn to summarize the information to be presented. These displays should be of high quality and include complete definitions and explanations of the variables shown and of the form of the graphic. One must understand in a glance what is represented in the figure.\n",
        "\n",
        "Presentation graphics are like proofs of mathematical theorems; they may give no hint as to how a result was reached, but they should offer **convincing** support for its conclusion.\n",
        "\n",
        "### Exploratory graphics\n",
        "Exploratory graphics, on the other hand, are used for looking for results. Very many of them may be used, and they should be fast and informative rather than slow and precise. They are not intended for presentation, so that detailed legends and captions are unnecessary.\n",
        "\n",
        "One presentation graphic will be drawn for viewing by potentially thousands of readers while thousands of exploratory graphics may be drawn to support the data investigations of one analyst."
      ]
    },
    {
      "cell_type": "markdown",
      "metadata": {
        "id": "aNoUmYMqPOpO"
      },
      "source": [
        "## Types of visualizations 🤹🤹\n",
        "\n",
        "In this section, we will approach the task of choosing a data visualization based on the type of task that you want to perform.\n",
        "\n",
        "Common roles for data visualization include:\n",
        "\n",
        "* Showing change over time\n",
        "* Showing a part-to-whole composition\n",
        "* Looking at how data is distributed\n",
        "* Comparing values between groups\n",
        "* Observing relationships between variables\n",
        "* Looking at geographical data\n",
        "\n",
        "The types of variables you are analyzing and the audience for the visualization can also affect which chart will work best within each role. Certain visualizations can also be used for multiple purposes depending on these factors.\n",
        "\n",
        "The most widely used types of charts are represented in the figure below. These different charts will be explained in more details in next lecture.\n",
        "\n",
        "<img src=\"https://full-stack-assets.s3.eu-west-3.amazonaws.com/M03-EDA/dataviz_cheatsheet.png\" />\n",
        "\n"
      ]
    },
    {
      "cell_type": "markdown",
      "metadata": {
        "id": "oXden3_mOgXV"
      },
      "source": [
        "## How to make outstanding figures 🥇🥇\n",
        "\n",
        "Graphic displays are often very effective at communicating information. They are also very often not effective at communicating information. Two important reasons for this state of affairs are that graphics can be produced with a few clicks of the mouse without any thought and the design of graphics is not taken seriously by many data scientists.\n",
        "\n",
        "Some people seem to think that preparing good graphics is just a matter of common sense, while others believe that preparing graphics is a low-level task not worthy of attention. These two asumptions are completely false!\n",
        "\n",
        "Knowing how to make effective visualizations is fundamental when dealing with data, whatever the purpose of the project: EDA, dashboarding, pure statistics, machine learning... You will never work \"blindly\" !\n",
        "\n",
        "### What is a good graphic?\n",
        "What is plotted comes first, and without content no amount of clever design can bring meaning to a display. A good graphic will convey information, but a graphic is always part of a larger whole, the context, which provides its relevance. So a good graphic will complement other related material and fit in, both in terms of content and also with respect to style and layout. Finally, if a graphic is constructed and drawn well, it will look good.\n",
        "\n",
        "For a given dataset there is not a great deal of advice which can be given on content and context. Those who know their own data should know best for their specific purposes. **It is advisable to think hard about what should be shown and to check with others if the graphic makes the desired impression.**\n",
        "\n",
        "However, some basic guidelines should be followed:\n",
        "\n",
        "* **Consistency:** sets of graphics should be in similar style and use equivalent scaling\n",
        "* **Proximity:** place graphics on the same page, or on the facing page, of any text that refers to them\n",
        "* **Layout:** graphics should be neither too small nor too large and be attractively positioned relative to the whole page or display\n",
        "\n",
        "### About colorscales\n",
        "Color is very important in data visualization. It is very helpful to catch your audience's attention towards what you want to highlight. However, it can also be very misleading if you don't choose the right colorscale!\n",
        "\n",
        "The different kinds of colourscales are shown in the scheme below:\n",
        "\n",
        "<img src=\"https://full-stack-assets.s3.eu-west-3.amazonaws.com/M03-EDA/colourscales.png\" />\n",
        "\n",
        "\n",
        "There exists a high variety of colourscales. You can find the list of the colorscales available in Plotly [here](https://plotly.com/python/builtin-colorscales/)."
      ]
    },
    {
      "cell_type": "markdown",
      "metadata": {
        "id": "OwgQbwtOi0Ru"
      },
      "source": [
        "## Bad visualizations: examples 🏚🏚\n",
        "As discussed above, it's hard to sum up what would be the characteristics of a good visualization in general. However, it's much easier to think about what would be bad choices and mistakes not to be reproduced!\n",
        "\n",
        "Let's consider some examples of bad visualizations:\n",
        "\n",
        "### A pie chart with too many categories\n",
        "\n",
        "<img src=\"https://full-stack-assets.s3.eu-west-3.amazonaws.com/M03-EDA/bad_example1.png\" />\n",
        "\n",
        "Pie charts are best used when there are 2-3 items that make up a whole. Any more than that, and it’s difficult for the human eye to distinguish between the parts of a circle.\n",
        "\n",
        "Notice how it’s hard to distinguish the size of these parts.\n",
        "\n",
        "Is “China” bigger than “Other”?\n",
        "\n",
        "It’s hard for our eyes to tell the difference. Instead, you can replace this with a bar chart:\n",
        "\n",
        "<img src=\"https://full-stack-assets.s3.eu-west-3.amazonaws.com/M03-EDA/good_example1.png\" />\n",
        "\n",
        "### Too many colors\n",
        "\n",
        "<img src=\"https://full-stack-assets.s3.eu-west-3.amazonaws.com/M03-EDA/bad_example2.png\" />\n",
        "\n",
        "It might look pretty, and you might be wondering “what’s wrong with it?”\n",
        "\n",
        "The more colors you use, the less comprehensible the visualization will be. More colors = more categories the brain must process.\n",
        "\n",
        "Colors allow us to highlight whatever information we want.\n",
        "\n",
        "If we wanted to highlight the country with the biggest CO2 emissions, we can use red vs. grey:\n",
        "\n",
        "<img src=\"https://full-stack-assets.s3.eu-west-3.amazonaws.com/M03-EDA/good_example2.png\" />\n",
        "\n",
        "### Vertical bar charts with too many categories\n",
        "Vertical bar charts suffer from the same issue as pie charts: once there are too many categories, you run out of space to include text and it becomes hard to digest:\n",
        "\n",
        "<img src=\"https://full-stack-assets.s3.eu-west-3.amazonaws.com/M03-EDA/bad_example3.png\" />\n",
        "\n",
        "Instead, it’s better to use horizontal bar charts (by switching the axes around):\n",
        "\n",
        "<img src=\"https://full-stack-assets.s3.eu-west-3.amazonaws.com/M03-EDA/good_example3.png\" />\n",
        "\n",
        "### Too much information !\n",
        "\n",
        "<img src=\"https://full-stack-assets.s3.eu-west-3.amazonaws.com/M03-EDA/bad_example4.png\" />\n",
        "\n",
        "Including too much information ruins the point of data visualization in the first place. The purpose of data visualization is to allow the audience to easily digest the information and this graph does the opposite of that.\n",
        "\n",
        "Instead, take the time to rearrange your data and create multiple graphs to convey your point.\n",
        "\n",
        "### 3D bar chart\n",
        "\n",
        "<img src=\"https://full-stack-assets.s3.eu-west-3.amazonaws.com/M03-EDA/bad_example5.png\" />\n",
        "\n",
        "Studies have shown that 3D rendering can negatively affect graph comprehension. It might be tempting to be creative and \"3D\" your graphs, but there are better ways to get creative.\n",
        "\n",
        "### Charts that don’t start at zero\n",
        "\n",
        "<img src=\"https://full-stack-assets.s3.eu-west-3.amazonaws.com/M03-EDA/bad_example6.png\" />\n",
        "\n",
        "In the figure above, we get the impression that Indian women are very tiny compared to other women, which is not true! Actually, we get misleaded by the y-axis that doesn't start at 0.\n",
        "\n",
        "Sometimes it’s okay to break this rule, but in general:\n",
        "\n",
        "* Bar charts should always start at 0, because our eyes are very sensitive to the size of bars.\n",
        "* Scatterplots and time series should almost always start at 0.\n",
        "* Line graphs can sometimes break this rule.\n",
        "\n",
        "### Comparing things that are not side by side\n",
        "\n",
        "<img src=\"https://full-stack-assets.s3.eu-west-3.amazonaws.com/M03-EDA/bad_example7.png\" />\n",
        "\n",
        "This is not a visualization in the strict sense, but the way the data is visualized made it incredibly hard to read and understand. The vertical format makes it impossible to compare 2017 and 2018."
      ]
    },
    {
      "cell_type": "markdown",
      "metadata": {
        "id": "GVr2F_cGgsOo"
      },
      "source": [
        "## Summing it up 🎯🎯\n",
        "\n",
        "### What's considered a bad graph?\n",
        "While there are many ways to effectively visualize data, there are also common pitfalls that can render a visualization confusing or even misleading. Here are some examples of what to avoid:\n",
        "\n",
        "* Using the wrong graphs or charts for a particular purpose\n",
        "* Overloading with Data: It's tempting to include as much data as possible in a single visualization, but this can lead to clutter and confusion. It's crucial to be selective and only include the most relevant data points.\n",
        "* Ignoring Scale: Not starting the y-axis at zero or using inconsistent scales can make differences seem more pronounced than they actually are. This can be misleading and should be avoided.\n",
        "\n",
        "### Ingredients of a good graph\n",
        "The data is handy only if understood and visualized in a better way. Here are some best practices of data visualization:\n",
        "\n",
        "* Think about what should be highlighted\n",
        "* Know your audience and find out their pain points\n",
        "* Stick to your context\n",
        "* Customize the data visualization\n",
        "* Give a clear title and/or labels\n",
        "* Choose the type of graphics wisely\n",
        "* Choose the right color scale\n",
        "* Add a short narrative where appropriate\n",
        "* Keep visualization simple and digestible"
      ]
    },
    {
      "cell_type": "markdown",
      "metadata": {
        "id": "FtVuvSQKnMbu"
      },
      "source": [
        "## Resources 📚📚\n",
        "\n",
        "There are plenty of resources about data visualization!\n",
        "\n",
        "Here are some that we recommend:\n",
        "* [How to Choose the Right Chart for Data Visualization](https://chartio.com/learn/charts/how-to-choose-data-visualization/)\n",
        "* [Dataviz cheatsheets by ml4devs](https://www.ml4devs.com/newsletter/006-data-visualization-chart-cheatsheets/)\n",
        "* [The dataviz project](https://datavizproject.com/)\n",
        "* [The data visualisation catalogue](https://datavizcatalogue.com/)\n",
        "* Feel free to check the cheatsheets available in the resources!"
      ]
    }
  ],
  "metadata": {
    "colab": {
      "provenance": []
    },
    "kernelspec": {
      "display_name": "Python 3",
      "name": "python3"
    },
    "language_info": {
      "name": "python"
    }
  },
  "nbformat": 4,
  "nbformat_minor": 0
}
