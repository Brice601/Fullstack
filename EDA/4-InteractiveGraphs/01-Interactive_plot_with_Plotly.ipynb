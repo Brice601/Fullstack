{
  "cells": [
    {
      "cell_type": "markdown",
      "metadata": {
        "id": "PTPsCQ04V8xX"
      },
      "source": [
        "# Interactive Graphs with Plotly"
      ]
    },
    {
      "cell_type": "markdown",
      "metadata": {
        "id": "3nmFvMcmV8xa"
      },
      "source": [
        "## What you'll learn in this course 🧐🧐\n",
        "\n",
        "Creating graphs is important. Plotly express is a must-have when it comes to static graphics but sometimes, you will need to create visualisations that users can interact with. This is when Plotly Graph Object comes into play. This module will allow you to create any type of graphs that any user can interact with.  \n",
        "\n",
        "In this lecture about Plotly, we will cover:\n",
        "\n",
        "* Create highly-customized visualisations with plotly.graph_objects\n",
        "* Create subplots\n",
        "* Add interactivity\n",
        "* Create animations\n",
        "\n",
        "Before going deeper in Plotly's submodules, let's have a look at the official documentation : https://plotly.com/python-api-reference/"
      ]
    },
    {
      "cell_type": "markdown",
      "metadata": {
        "id": "0r1xHCt2V8xk"
      },
      "source": [
        "## Advanced visualizations with plotly.graph_objects\n",
        "\n",
        "If you want more control on the aesthetics or if you'd like to create highly customized visualizations, you'll need to use Plotly's `graph_object` module.\n",
        "\n",
        "Graph objects give you more flexibility as you will use Python classes to configure your graph. As the documentation states, it has several benefits:\n",
        "\n",
        "* _Graph objects provide precise data validation. If you provide an invalid property name or an invalid property value as the key to a graph object, an exception will be raised with a helpful error message describing the problem. This is not the case if you use plain Python dictionaries and lists to build your figures._\n",
        "\n",
        "* _Graph objects contain descriptions of each valid property as Python docstrings. You can use these docstrings in the development environment of your choice to learn about the available properties as an alternative to consulting the online Full Reference._\n",
        "\n",
        "* _Properties of graph objects can be accessed using both dictionary-style key lookup (e.g. `fig[\"layout\"]`) or class-style property access (e.g. fig.layout)._\n",
        "\n",
        "* _Graph objects support higher-level convenience functions for making updates to already constructed figures._\n",
        "\n",
        "Let's begin with a simple example :"
      ]
    },
    {
      "cell_type": "code",
      "execution_count": 1,
      "metadata": {
        "id": "qGc4dEImV8xk"
      },
      "outputs": [],
      "source": [
        "import pandas as pd\n",
        "import plotly.express as px\n",
        "import plotly.graph_objects as go\n",
        "import plotly.io as pio\n",
        "# pio.renderers.default = \"svg\" # this line must be commented if working on colab\n"
      ]
    },
    {
      "cell_type": "code",
      "execution_count": 2,
      "metadata": {
        "colab": {
          "base_uri": "https://localhost:8080/",
          "height": 206
        },
        "id": "eL4FqB6WWzEW",
        "outputId": "89696002-32fe-4a3d-e162-6fc0aadc03c7"
      },
      "outputs": [
        {
          "data": {
            "text/html": [
              "<div>\n",
              "<style scoped>\n",
              "    .dataframe tbody tr th:only-of-type {\n",
              "        vertical-align: middle;\n",
              "    }\n",
              "\n",
              "    .dataframe tbody tr th {\n",
              "        vertical-align: top;\n",
              "    }\n",
              "\n",
              "    .dataframe thead th {\n",
              "        text-align: right;\n",
              "    }\n",
              "</style>\n",
              "<table border=\"1\" class=\"dataframe\">\n",
              "  <thead>\n",
              "    <tr style=\"text-align: right;\">\n",
              "      <th></th>\n",
              "      <th>sepal_length</th>\n",
              "      <th>sepal_width</th>\n",
              "      <th>petal_length</th>\n",
              "      <th>petal_width</th>\n",
              "      <th>species</th>\n",
              "      <th>species_id</th>\n",
              "    </tr>\n",
              "  </thead>\n",
              "  <tbody>\n",
              "    <tr>\n",
              "      <th>0</th>\n",
              "      <td>5.1</td>\n",
              "      <td>3.5</td>\n",
              "      <td>1.4</td>\n",
              "      <td>0.2</td>\n",
              "      <td>setosa</td>\n",
              "      <td>1</td>\n",
              "    </tr>\n",
              "    <tr>\n",
              "      <th>1</th>\n",
              "      <td>4.9</td>\n",
              "      <td>3.0</td>\n",
              "      <td>1.4</td>\n",
              "      <td>0.2</td>\n",
              "      <td>setosa</td>\n",
              "      <td>1</td>\n",
              "    </tr>\n",
              "    <tr>\n",
              "      <th>2</th>\n",
              "      <td>4.7</td>\n",
              "      <td>3.2</td>\n",
              "      <td>1.3</td>\n",
              "      <td>0.2</td>\n",
              "      <td>setosa</td>\n",
              "      <td>1</td>\n",
              "    </tr>\n",
              "    <tr>\n",
              "      <th>3</th>\n",
              "      <td>4.6</td>\n",
              "      <td>3.1</td>\n",
              "      <td>1.5</td>\n",
              "      <td>0.2</td>\n",
              "      <td>setosa</td>\n",
              "      <td>1</td>\n",
              "    </tr>\n",
              "    <tr>\n",
              "      <th>4</th>\n",
              "      <td>5.0</td>\n",
              "      <td>3.6</td>\n",
              "      <td>1.4</td>\n",
              "      <td>0.2</td>\n",
              "      <td>setosa</td>\n",
              "      <td>1</td>\n",
              "    </tr>\n",
              "  </tbody>\n",
              "</table>\n",
              "</div>"
            ],
            "text/plain": [
              "   sepal_length  sepal_width  petal_length  petal_width species  species_id\n",
              "0           5.1          3.5           1.4          0.2  setosa           1\n",
              "1           4.9          3.0           1.4          0.2  setosa           1\n",
              "2           4.7          3.2           1.3          0.2  setosa           1\n",
              "3           4.6          3.1           1.5          0.2  setosa           1\n",
              "4           5.0          3.6           1.4          0.2  setosa           1"
            ]
          },
          "execution_count": 2,
          "metadata": {},
          "output_type": "execute_result"
        }
      ],
      "source": [
        "df = px.data.iris()\n",
        "df.head()"
      ]
    },
    {
      "cell_type": "code",
      "execution_count": 3,
      "metadata": {
        "colab": {
          "base_uri": "https://localhost:8080/",
          "height": 522
        },
        "id": "CDMxME7kV8xl",
        "outputId": "28184c29-15f9-474a-de4f-0f97ab6475c1"
      },
      "outputs": [
        {
          "data": {
            "application/vnd.plotly.v1+json": {
              "config": {
                "plotlyServerURL": "https://plot.ly"
              },
              "data": [
                {
                  "mode": "markers",
                  "type": "scatter",
                  "x": {
                    "bdata": "AAAAAAAADEAAAAAAAAAIQJqZmZmZmQlAzczMzMzMCEDNzMzMzMwMQDMzMzMzMw9AMzMzMzMzC0AzMzMzMzMLQDMzMzMzMwdAzczMzMzMCECamZmZmZkNQDMzMzMzMwtAAAAAAAAACEAAAAAAAAAIQAAAAAAAABBAmpmZmZmZEUAzMzMzMzMPQAAAAAAAAAxAZmZmZmZmDkBmZmZmZmYOQDMzMzMzMwtAmpmZmZmZDUDNzMzMzMwMQGZmZmZmZgpAMzMzMzMzC0AAAAAAAAAIQDMzMzMzMwtAAAAAAAAADEAzMzMzMzMLQJqZmZmZmQlAzczMzMzMCEAzMzMzMzMLQGZmZmZmZhBAzczMzMzMEEDNzMzMzMwIQJqZmZmZmQlAAAAAAAAADEDNzMzMzMwIQAAAAAAAAAhAMzMzMzMzC0AAAAAAAAAMQGZmZmZmZgJAmpmZmZmZCUAAAAAAAAAMQGZmZmZmZg5AAAAAAAAACEBmZmZmZmYOQJqZmZmZmQlAmpmZmZmZDUBmZmZmZmYKQJqZmZmZmQlAmpmZmZmZCUDNzMzMzMwIQGZmZmZmZgJAZmZmZmZmBkBmZmZmZmYGQGZmZmZmZgpAMzMzMzMzA0AzMzMzMzMHQJqZmZmZmQVAAAAAAAAAAEAAAAAAAAAIQJqZmZmZmQFAMzMzMzMzB0AzMzMzMzMHQM3MzMzMzAhAAAAAAAAACECamZmZmZkFQJqZmZmZmQFAAAAAAAAABECamZmZmZkJQGZmZmZmZgZAAAAAAAAABEBmZmZmZmYGQDMzMzMzMwdAAAAAAAAACEBmZmZmZmYGQAAAAAAAAAhAMzMzMzMzB0DNzMzMzMwEQDMzMzMzMwNAMzMzMzMzA0CamZmZmZkFQJqZmZmZmQVAAAAAAAAACEAzMzMzMzMLQM3MzMzMzAhAZmZmZmZmAkAAAAAAAAAIQAAAAAAAAARAzczMzMzMBEAAAAAAAAAIQM3MzMzMzARAZmZmZmZmAkCamZmZmZkFQAAAAAAAAAhAMzMzMzMzB0AzMzMzMzMHQAAAAAAAAARAZmZmZmZmBkBmZmZmZmYKQJqZmZmZmQVAAAAAAAAACEAzMzMzMzMHQAAAAAAAAAhAAAAAAAAACEAAAAAAAAAEQDMzMzMzMwdAAAAAAAAABEDNzMzMzMwMQJqZmZmZmQlAmpmZmZmZBUAAAAAAAAAIQAAAAAAAAARAZmZmZmZmBkCamZmZmZkJQAAAAAAAAAhAZmZmZmZmDkDNzMzMzMwEQJqZmZmZmQFAmpmZmZmZCUBmZmZmZmYGQGZmZmZmZgZAmpmZmZmZBUBmZmZmZmYKQJqZmZmZmQlAZmZmZmZmBkAAAAAAAAAIQGZmZmZmZgZAAAAAAAAACEBmZmZmZmYGQGZmZmZmZg5AZmZmZmZmBkBmZmZmZmYGQM3MzMzMzARAAAAAAAAACEAzMzMzMzMLQM3MzMzMzAhAAAAAAAAACEDNzMzMzMwIQM3MzMzMzAhAzczMzMzMCECamZmZmZkFQJqZmZmZmQlAZmZmZmZmCkAAAAAAAAAIQAAAAAAAAARAAAAAAAAACEAzMzMzMzMLQAAAAAAAAAhA",
                    "dtype": "f8"
                  },
                  "y": {
                    "bdata": "ZmZmZmZmFECamZmZmZkTQM3MzMzMzBJAZmZmZmZmEkAAAAAAAAAUQJqZmZmZmRVAZmZmZmZmEkAAAAAAAAAUQJqZmZmZmRFAmpmZmZmZE0CamZmZmZkVQDMzMzMzMxNAMzMzMzMzE0AzMzMzMzMRQDMzMzMzMxdAzczMzMzMFkCamZmZmZkVQGZmZmZmZhRAzczMzMzMFkBmZmZmZmYUQJqZmZmZmRVAZmZmZmZmFEBmZmZmZmYSQGZmZmZmZhRAMzMzMzMzE0AAAAAAAAAUQAAAAAAAABRAzczMzMzMFEDNzMzMzMwUQM3MzMzMzBJAMzMzMzMzE0CamZmZmZkVQM3MzMzMzBRAAAAAAAAAFkCamZmZmZkTQAAAAAAAABRAAAAAAAAAFkCamZmZmZkTQJqZmZmZmRFAZmZmZmZmFEAAAAAAAAAUQAAAAAAAABJAmpmZmZmZEUAAAAAAAAAUQGZmZmZmZhRAMzMzMzMzE0BmZmZmZmYUQGZmZmZmZhJAMzMzMzMzFUAAAAAAAAAUQAAAAAAAABxAmpmZmZmZGUCamZmZmZkbQAAAAAAAABZAAAAAAAAAGkDNzMzMzMwWQDMzMzMzMxlAmpmZmZmZE0BmZmZmZmYaQM3MzMzMzBRAAAAAAAAAFECamZmZmZkXQAAAAAAAABhAZmZmZmZmGEBmZmZmZmYWQM3MzMzMzBpAZmZmZmZmFkAzMzMzMzMXQM3MzMzMzBhAZmZmZmZmFkCamZmZmZkXQGZmZmZmZhhAMzMzMzMzGUBmZmZmZmYYQJqZmZmZmRlAZmZmZmZmGkAzMzMzMzMbQM3MzMzMzBpAAAAAAAAAGEDNzMzMzMwWQAAAAAAAABZAAAAAAAAAFkAzMzMzMzMXQAAAAAAAABhAmpmZmZmZFUAAAAAAAAAYQM3MzMzMzBpAMzMzMzMzGUBmZmZmZmYWQAAAAAAAABZAAAAAAAAAFkBmZmZmZmYYQDMzMzMzMxdAAAAAAAAAFEBmZmZmZmYWQM3MzMzMzBZAzczMzMzMFkDNzMzMzMwYQGZmZmZmZhRAzczMzMzMFkAzMzMzMzMZQDMzMzMzMxdAZmZmZmZmHEAzMzMzMzMZQAAAAAAAABpAZmZmZmZmHkCamZmZmZkTQDMzMzMzMx1AzczMzMzMGkDNzMzMzMwcQAAAAAAAABpAmpmZmZmZGUAzMzMzMzMbQM3MzMzMzBZAMzMzMzMzF0CamZmZmZkZQAAAAAAAABpAzczMzMzMHkDNzMzMzMweQAAAAAAAABhAmpmZmZmZG0BmZmZmZmYWQM3MzMzMzB5AMzMzMzMzGUDNzMzMzMwaQM3MzMzMzBxAzczMzMzMGEBmZmZmZmYYQJqZmZmZmRlAzczMzMzMHECamZmZmZkdQJqZmZmZmR9AmpmZmZmZGUAzMzMzMzMZQGZmZmZmZhhAzczMzMzMHkAzMzMzMzMZQJqZmZmZmRlAAAAAAAAAGECamZmZmZkbQM3MzMzMzBpAmpmZmZmZG0AzMzMzMzMXQDMzMzMzMxtAzczMzMzMGkDNzMzMzMwaQDMzMzMzMxlAAAAAAAAAGkDNzMzMzMwYQJqZmZmZmRdA",
                    "dtype": "f8"
                  }
                }
              ],
              "layout": {
                "template": {
                  "data": {
                    "bar": [
                      {
                        "error_x": {
                          "color": "#2a3f5f"
                        },
                        "error_y": {
                          "color": "#2a3f5f"
                        },
                        "marker": {
                          "line": {
                            "color": "#E5ECF6",
                            "width": 0.5
                          },
                          "pattern": {
                            "fillmode": "overlay",
                            "size": 10,
                            "solidity": 0.2
                          }
                        },
                        "type": "bar"
                      }
                    ],
                    "barpolar": [
                      {
                        "marker": {
                          "line": {
                            "color": "#E5ECF6",
                            "width": 0.5
                          },
                          "pattern": {
                            "fillmode": "overlay",
                            "size": 10,
                            "solidity": 0.2
                          }
                        },
                        "type": "barpolar"
                      }
                    ],
                    "carpet": [
                      {
                        "aaxis": {
                          "endlinecolor": "#2a3f5f",
                          "gridcolor": "white",
                          "linecolor": "white",
                          "minorgridcolor": "white",
                          "startlinecolor": "#2a3f5f"
                        },
                        "baxis": {
                          "endlinecolor": "#2a3f5f",
                          "gridcolor": "white",
                          "linecolor": "white",
                          "minorgridcolor": "white",
                          "startlinecolor": "#2a3f5f"
                        },
                        "type": "carpet"
                      }
                    ],
                    "choropleth": [
                      {
                        "colorbar": {
                          "outlinewidth": 0,
                          "ticks": ""
                        },
                        "type": "choropleth"
                      }
                    ],
                    "contour": [
                      {
                        "colorbar": {
                          "outlinewidth": 0,
                          "ticks": ""
                        },
                        "colorscale": [
                          [
                            0,
                            "#0d0887"
                          ],
                          [
                            0.1111111111111111,
                            "#46039f"
                          ],
                          [
                            0.2222222222222222,
                            "#7201a8"
                          ],
                          [
                            0.3333333333333333,
                            "#9c179e"
                          ],
                          [
                            0.4444444444444444,
                            "#bd3786"
                          ],
                          [
                            0.5555555555555556,
                            "#d8576b"
                          ],
                          [
                            0.6666666666666666,
                            "#ed7953"
                          ],
                          [
                            0.7777777777777778,
                            "#fb9f3a"
                          ],
                          [
                            0.8888888888888888,
                            "#fdca26"
                          ],
                          [
                            1,
                            "#f0f921"
                          ]
                        ],
                        "type": "contour"
                      }
                    ],
                    "contourcarpet": [
                      {
                        "colorbar": {
                          "outlinewidth": 0,
                          "ticks": ""
                        },
                        "type": "contourcarpet"
                      }
                    ],
                    "heatmap": [
                      {
                        "colorbar": {
                          "outlinewidth": 0,
                          "ticks": ""
                        },
                        "colorscale": [
                          [
                            0,
                            "#0d0887"
                          ],
                          [
                            0.1111111111111111,
                            "#46039f"
                          ],
                          [
                            0.2222222222222222,
                            "#7201a8"
                          ],
                          [
                            0.3333333333333333,
                            "#9c179e"
                          ],
                          [
                            0.4444444444444444,
                            "#bd3786"
                          ],
                          [
                            0.5555555555555556,
                            "#d8576b"
                          ],
                          [
                            0.6666666666666666,
                            "#ed7953"
                          ],
                          [
                            0.7777777777777778,
                            "#fb9f3a"
                          ],
                          [
                            0.8888888888888888,
                            "#fdca26"
                          ],
                          [
                            1,
                            "#f0f921"
                          ]
                        ],
                        "type": "heatmap"
                      }
                    ],
                    "histogram": [
                      {
                        "marker": {
                          "pattern": {
                            "fillmode": "overlay",
                            "size": 10,
                            "solidity": 0.2
                          }
                        },
                        "type": "histogram"
                      }
                    ],
                    "histogram2d": [
                      {
                        "colorbar": {
                          "outlinewidth": 0,
                          "ticks": ""
                        },
                        "colorscale": [
                          [
                            0,
                            "#0d0887"
                          ],
                          [
                            0.1111111111111111,
                            "#46039f"
                          ],
                          [
                            0.2222222222222222,
                            "#7201a8"
                          ],
                          [
                            0.3333333333333333,
                            "#9c179e"
                          ],
                          [
                            0.4444444444444444,
                            "#bd3786"
                          ],
                          [
                            0.5555555555555556,
                            "#d8576b"
                          ],
                          [
                            0.6666666666666666,
                            "#ed7953"
                          ],
                          [
                            0.7777777777777778,
                            "#fb9f3a"
                          ],
                          [
                            0.8888888888888888,
                            "#fdca26"
                          ],
                          [
                            1,
                            "#f0f921"
                          ]
                        ],
                        "type": "histogram2d"
                      }
                    ],
                    "histogram2dcontour": [
                      {
                        "colorbar": {
                          "outlinewidth": 0,
                          "ticks": ""
                        },
                        "colorscale": [
                          [
                            0,
                            "#0d0887"
                          ],
                          [
                            0.1111111111111111,
                            "#46039f"
                          ],
                          [
                            0.2222222222222222,
                            "#7201a8"
                          ],
                          [
                            0.3333333333333333,
                            "#9c179e"
                          ],
                          [
                            0.4444444444444444,
                            "#bd3786"
                          ],
                          [
                            0.5555555555555556,
                            "#d8576b"
                          ],
                          [
                            0.6666666666666666,
                            "#ed7953"
                          ],
                          [
                            0.7777777777777778,
                            "#fb9f3a"
                          ],
                          [
                            0.8888888888888888,
                            "#fdca26"
                          ],
                          [
                            1,
                            "#f0f921"
                          ]
                        ],
                        "type": "histogram2dcontour"
                      }
                    ],
                    "mesh3d": [
                      {
                        "colorbar": {
                          "outlinewidth": 0,
                          "ticks": ""
                        },
                        "type": "mesh3d"
                      }
                    ],
                    "parcoords": [
                      {
                        "line": {
                          "colorbar": {
                            "outlinewidth": 0,
                            "ticks": ""
                          }
                        },
                        "type": "parcoords"
                      }
                    ],
                    "pie": [
                      {
                        "automargin": true,
                        "type": "pie"
                      }
                    ],
                    "scatter": [
                      {
                        "fillpattern": {
                          "fillmode": "overlay",
                          "size": 10,
                          "solidity": 0.2
                        },
                        "type": "scatter"
                      }
                    ],
                    "scatter3d": [
                      {
                        "line": {
                          "colorbar": {
                            "outlinewidth": 0,
                            "ticks": ""
                          }
                        },
                        "marker": {
                          "colorbar": {
                            "outlinewidth": 0,
                            "ticks": ""
                          }
                        },
                        "type": "scatter3d"
                      }
                    ],
                    "scattercarpet": [
                      {
                        "marker": {
                          "colorbar": {
                            "outlinewidth": 0,
                            "ticks": ""
                          }
                        },
                        "type": "scattercarpet"
                      }
                    ],
                    "scattergeo": [
                      {
                        "marker": {
                          "colorbar": {
                            "outlinewidth": 0,
                            "ticks": ""
                          }
                        },
                        "type": "scattergeo"
                      }
                    ],
                    "scattergl": [
                      {
                        "marker": {
                          "colorbar": {
                            "outlinewidth": 0,
                            "ticks": ""
                          }
                        },
                        "type": "scattergl"
                      }
                    ],
                    "scattermap": [
                      {
                        "marker": {
                          "colorbar": {
                            "outlinewidth": 0,
                            "ticks": ""
                          }
                        },
                        "type": "scattermap"
                      }
                    ],
                    "scattermapbox": [
                      {
                        "marker": {
                          "colorbar": {
                            "outlinewidth": 0,
                            "ticks": ""
                          }
                        },
                        "type": "scattermapbox"
                      }
                    ],
                    "scatterpolar": [
                      {
                        "marker": {
                          "colorbar": {
                            "outlinewidth": 0,
                            "ticks": ""
                          }
                        },
                        "type": "scatterpolar"
                      }
                    ],
                    "scatterpolargl": [
                      {
                        "marker": {
                          "colorbar": {
                            "outlinewidth": 0,
                            "ticks": ""
                          }
                        },
                        "type": "scatterpolargl"
                      }
                    ],
                    "scatterternary": [
                      {
                        "marker": {
                          "colorbar": {
                            "outlinewidth": 0,
                            "ticks": ""
                          }
                        },
                        "type": "scatterternary"
                      }
                    ],
                    "surface": [
                      {
                        "colorbar": {
                          "outlinewidth": 0,
                          "ticks": ""
                        },
                        "colorscale": [
                          [
                            0,
                            "#0d0887"
                          ],
                          [
                            0.1111111111111111,
                            "#46039f"
                          ],
                          [
                            0.2222222222222222,
                            "#7201a8"
                          ],
                          [
                            0.3333333333333333,
                            "#9c179e"
                          ],
                          [
                            0.4444444444444444,
                            "#bd3786"
                          ],
                          [
                            0.5555555555555556,
                            "#d8576b"
                          ],
                          [
                            0.6666666666666666,
                            "#ed7953"
                          ],
                          [
                            0.7777777777777778,
                            "#fb9f3a"
                          ],
                          [
                            0.8888888888888888,
                            "#fdca26"
                          ],
                          [
                            1,
                            "#f0f921"
                          ]
                        ],
                        "type": "surface"
                      }
                    ],
                    "table": [
                      {
                        "cells": {
                          "fill": {
                            "color": "#EBF0F8"
                          },
                          "line": {
                            "color": "white"
                          }
                        },
                        "header": {
                          "fill": {
                            "color": "#C8D4E3"
                          },
                          "line": {
                            "color": "white"
                          }
                        },
                        "type": "table"
                      }
                    ]
                  },
                  "layout": {
                    "annotationdefaults": {
                      "arrowcolor": "#2a3f5f",
                      "arrowhead": 0,
                      "arrowwidth": 1
                    },
                    "autotypenumbers": "strict",
                    "coloraxis": {
                      "colorbar": {
                        "outlinewidth": 0,
                        "ticks": ""
                      }
                    },
                    "colorscale": {
                      "diverging": [
                        [
                          0,
                          "#8e0152"
                        ],
                        [
                          0.1,
                          "#c51b7d"
                        ],
                        [
                          0.2,
                          "#de77ae"
                        ],
                        [
                          0.3,
                          "#f1b6da"
                        ],
                        [
                          0.4,
                          "#fde0ef"
                        ],
                        [
                          0.5,
                          "#f7f7f7"
                        ],
                        [
                          0.6,
                          "#e6f5d0"
                        ],
                        [
                          0.7,
                          "#b8e186"
                        ],
                        [
                          0.8,
                          "#7fbc41"
                        ],
                        [
                          0.9,
                          "#4d9221"
                        ],
                        [
                          1,
                          "#276419"
                        ]
                      ],
                      "sequential": [
                        [
                          0,
                          "#0d0887"
                        ],
                        [
                          0.1111111111111111,
                          "#46039f"
                        ],
                        [
                          0.2222222222222222,
                          "#7201a8"
                        ],
                        [
                          0.3333333333333333,
                          "#9c179e"
                        ],
                        [
                          0.4444444444444444,
                          "#bd3786"
                        ],
                        [
                          0.5555555555555556,
                          "#d8576b"
                        ],
                        [
                          0.6666666666666666,
                          "#ed7953"
                        ],
                        [
                          0.7777777777777778,
                          "#fb9f3a"
                        ],
                        [
                          0.8888888888888888,
                          "#fdca26"
                        ],
                        [
                          1,
                          "#f0f921"
                        ]
                      ],
                      "sequentialminus": [
                        [
                          0,
                          "#0d0887"
                        ],
                        [
                          0.1111111111111111,
                          "#46039f"
                        ],
                        [
                          0.2222222222222222,
                          "#7201a8"
                        ],
                        [
                          0.3333333333333333,
                          "#9c179e"
                        ],
                        [
                          0.4444444444444444,
                          "#bd3786"
                        ],
                        [
                          0.5555555555555556,
                          "#d8576b"
                        ],
                        [
                          0.6666666666666666,
                          "#ed7953"
                        ],
                        [
                          0.7777777777777778,
                          "#fb9f3a"
                        ],
                        [
                          0.8888888888888888,
                          "#fdca26"
                        ],
                        [
                          1,
                          "#f0f921"
                        ]
                      ]
                    },
                    "colorway": [
                      "#636efa",
                      "#EF553B",
                      "#00cc96",
                      "#ab63fa",
                      "#FFA15A",
                      "#19d3f3",
                      "#FF6692",
                      "#B6E880",
                      "#FF97FF",
                      "#FECB52"
                    ],
                    "font": {
                      "color": "#2a3f5f"
                    },
                    "geo": {
                      "bgcolor": "white",
                      "lakecolor": "white",
                      "landcolor": "#E5ECF6",
                      "showlakes": true,
                      "showland": true,
                      "subunitcolor": "white"
                    },
                    "hoverlabel": {
                      "align": "left"
                    },
                    "hovermode": "closest",
                    "mapbox": {
                      "style": "light"
                    },
                    "paper_bgcolor": "white",
                    "plot_bgcolor": "#E5ECF6",
                    "polar": {
                      "angularaxis": {
                        "gridcolor": "white",
                        "linecolor": "white",
                        "ticks": ""
                      },
                      "bgcolor": "#E5ECF6",
                      "radialaxis": {
                        "gridcolor": "white",
                        "linecolor": "white",
                        "ticks": ""
                      }
                    },
                    "scene": {
                      "xaxis": {
                        "backgroundcolor": "#E5ECF6",
                        "gridcolor": "white",
                        "gridwidth": 2,
                        "linecolor": "white",
                        "showbackground": true,
                        "ticks": "",
                        "zerolinecolor": "white"
                      },
                      "yaxis": {
                        "backgroundcolor": "#E5ECF6",
                        "gridcolor": "white",
                        "gridwidth": 2,
                        "linecolor": "white",
                        "showbackground": true,
                        "ticks": "",
                        "zerolinecolor": "white"
                      },
                      "zaxis": {
                        "backgroundcolor": "#E5ECF6",
                        "gridcolor": "white",
                        "gridwidth": 2,
                        "linecolor": "white",
                        "showbackground": true,
                        "ticks": "",
                        "zerolinecolor": "white"
                      }
                    },
                    "shapedefaults": {
                      "line": {
                        "color": "#2a3f5f"
                      }
                    },
                    "ternary": {
                      "aaxis": {
                        "gridcolor": "white",
                        "linecolor": "white",
                        "ticks": ""
                      },
                      "baxis": {
                        "gridcolor": "white",
                        "linecolor": "white",
                        "ticks": ""
                      },
                      "bgcolor": "#E5ECF6",
                      "caxis": {
                        "gridcolor": "white",
                        "linecolor": "white",
                        "ticks": ""
                      }
                    },
                    "title": {
                      "x": 0.05
                    },
                    "xaxis": {
                      "automargin": true,
                      "gridcolor": "white",
                      "linecolor": "white",
                      "ticks": "",
                      "title": {
                        "standoff": 15
                      },
                      "zerolinecolor": "white",
                      "zerolinewidth": 2
                    },
                    "yaxis": {
                      "automargin": true,
                      "gridcolor": "white",
                      "linecolor": "white",
                      "ticks": "",
                      "title": {
                        "standoff": 15
                      },
                      "zerolinecolor": "white",
                      "zerolinewidth": 2
                    }
                  }
                },
                "title": {
                  "text": "This figure has been made with plotly graph objects",
                  "x": 0.5
                }
              }
            }
          },
          "metadata": {},
          "output_type": "display_data"
        }
      ],
      "source": [
        "fig = go.Figure(\n",
        "    data = go.Scatter(\n",
        "        x = df['sepal_width'],\n",
        "        y = df['sepal_length'],\n",
        "        mode = 'markers'),\n",
        "    layout = go.Layout(\n",
        "        title = go.layout.Title(text = \"This figure has been made with plotly graph objects\", x = 0.5),\n",
        "    )\n",
        ")\n",
        "\n",
        "fig.show()"
      ]
    },
    {
      "cell_type": "markdown",
      "metadata": {
        "id": "ue04tV_KV8xl"
      },
      "source": [
        "As you can see, we declare an instance of `go.Figure()` and then, there are two arguments to set :\n",
        "* `data` contains a trace object (or a list of trace objects) that describes the type of visualisation to be shown. Here, we used an instance of `go.Scatter`() to make a scatter plot. You can check the [documentation](https://plotly.com/python-api-reference/plotly.graph_objects.html) to know the list of traces that are available.\n",
        "* `layout` contains an instance of `go.Layout` that allows to set the layout options. In our example, we used it to define the title of the figure and make it centered.\n",
        "\n",
        "The different traces and layout constructors have a long list of arguments that can be used to make subtle changes in the figure. Basically, almost every change you can imagine can be set by using one of these arguments. We can't give you an exhaustive list of examples, we'll just advise you instead to use the `?` feature of jupyter notebooks as shown below, such that you can find what you need.\n",
        "\n",
        "For example, in the figure above, we deduced from `go.Scatter?` that there exists a `mode` argument that allows use to show only the markers (and not the line). And by using `go.Layout?` we noticed there is a `title` argument that should be an instance of `go.layout.Title`, then we used `go.layout.Title?` to understand how to use it."
      ]
    },
    {
      "cell_type": "code",
      "execution_count": 4,
      "metadata": {
        "id": "bCyM1-XAV8xl",
        "tags": []
      },
      "outputs": [
        {
          "name": "stdout",
          "output_type": "stream",
          "text": [
            "\u001b[31mInit signature:\u001b[39m\n",
            "go.Scatter(\n",
            "    arg=\u001b[38;5;28;01mNone\u001b[39;00m,\n",
            "    alignmentgroup=\u001b[38;5;28;01mNone\u001b[39;00m,\n",
            "    cliponaxis=\u001b[38;5;28;01mNone\u001b[39;00m,\n",
            "    connectgaps=\u001b[38;5;28;01mNone\u001b[39;00m,\n",
            "    customdata=\u001b[38;5;28;01mNone\u001b[39;00m,\n",
            "    customdatasrc=\u001b[38;5;28;01mNone\u001b[39;00m,\n",
            "    dx=\u001b[38;5;28;01mNone\u001b[39;00m,\n",
            "    dy=\u001b[38;5;28;01mNone\u001b[39;00m,\n",
            "    error_x=\u001b[38;5;28;01mNone\u001b[39;00m,\n",
            "    error_y=\u001b[38;5;28;01mNone\u001b[39;00m,\n",
            "    fill=\u001b[38;5;28;01mNone\u001b[39;00m,\n",
            "    fillcolor=\u001b[38;5;28;01mNone\u001b[39;00m,\n",
            "    fillgradient=\u001b[38;5;28;01mNone\u001b[39;00m,\n",
            "    fillpattern=\u001b[38;5;28;01mNone\u001b[39;00m,\n",
            "    groupnorm=\u001b[38;5;28;01mNone\u001b[39;00m,\n",
            "    hoverinfo=\u001b[38;5;28;01mNone\u001b[39;00m,\n",
            "    hoverinfosrc=\u001b[38;5;28;01mNone\u001b[39;00m,\n",
            "    hoverlabel=\u001b[38;5;28;01mNone\u001b[39;00m,\n",
            "    hoveron=\u001b[38;5;28;01mNone\u001b[39;00m,\n",
            "    hovertemplate=\u001b[38;5;28;01mNone\u001b[39;00m,\n",
            "    hovertemplatesrc=\u001b[38;5;28;01mNone\u001b[39;00m,\n",
            "    hovertext=\u001b[38;5;28;01mNone\u001b[39;00m,\n",
            "    hovertextsrc=\u001b[38;5;28;01mNone\u001b[39;00m,\n",
            "    ids=\u001b[38;5;28;01mNone\u001b[39;00m,\n",
            "    idssrc=\u001b[38;5;28;01mNone\u001b[39;00m,\n",
            "    legend=\u001b[38;5;28;01mNone\u001b[39;00m,\n",
            "    legendgroup=\u001b[38;5;28;01mNone\u001b[39;00m,\n",
            "    legendgrouptitle=\u001b[38;5;28;01mNone\u001b[39;00m,\n",
            "    legendrank=\u001b[38;5;28;01mNone\u001b[39;00m,\n",
            "    legendwidth=\u001b[38;5;28;01mNone\u001b[39;00m,\n",
            "    line=\u001b[38;5;28;01mNone\u001b[39;00m,\n",
            "    marker=\u001b[38;5;28;01mNone\u001b[39;00m,\n",
            "    meta=\u001b[38;5;28;01mNone\u001b[39;00m,\n",
            "    metasrc=\u001b[38;5;28;01mNone\u001b[39;00m,\n",
            "    mode=\u001b[38;5;28;01mNone\u001b[39;00m,\n",
            "    name=\u001b[38;5;28;01mNone\u001b[39;00m,\n",
            "    offsetgroup=\u001b[38;5;28;01mNone\u001b[39;00m,\n",
            "    opacity=\u001b[38;5;28;01mNone\u001b[39;00m,\n",
            "    orientation=\u001b[38;5;28;01mNone\u001b[39;00m,\n",
            "    selected=\u001b[38;5;28;01mNone\u001b[39;00m,\n",
            "    selectedpoints=\u001b[38;5;28;01mNone\u001b[39;00m,\n",
            "    showlegend=\u001b[38;5;28;01mNone\u001b[39;00m,\n",
            "    stackgaps=\u001b[38;5;28;01mNone\u001b[39;00m,\n",
            "    stackgroup=\u001b[38;5;28;01mNone\u001b[39;00m,\n",
            "    stream=\u001b[38;5;28;01mNone\u001b[39;00m,\n",
            "    text=\u001b[38;5;28;01mNone\u001b[39;00m,\n",
            "    textfont=\u001b[38;5;28;01mNone\u001b[39;00m,\n",
            "    textposition=\u001b[38;5;28;01mNone\u001b[39;00m,\n",
            "    textpositionsrc=\u001b[38;5;28;01mNone\u001b[39;00m,\n",
            "    textsrc=\u001b[38;5;28;01mNone\u001b[39;00m,\n",
            "    texttemplate=\u001b[38;5;28;01mNone\u001b[39;00m,\n",
            "    texttemplatesrc=\u001b[38;5;28;01mNone\u001b[39;00m,\n",
            "    uid=\u001b[38;5;28;01mNone\u001b[39;00m,\n",
            "    uirevision=\u001b[38;5;28;01mNone\u001b[39;00m,\n",
            "    unselected=\u001b[38;5;28;01mNone\u001b[39;00m,\n",
            "    visible=\u001b[38;5;28;01mNone\u001b[39;00m,\n",
            "    x=\u001b[38;5;28;01mNone\u001b[39;00m,\n",
            "    x0=\u001b[38;5;28;01mNone\u001b[39;00m,\n",
            "    xaxis=\u001b[38;5;28;01mNone\u001b[39;00m,\n",
            "    xcalendar=\u001b[38;5;28;01mNone\u001b[39;00m,\n",
            "    xhoverformat=\u001b[38;5;28;01mNone\u001b[39;00m,\n",
            "    xperiod=\u001b[38;5;28;01mNone\u001b[39;00m,\n",
            "    xperiod0=\u001b[38;5;28;01mNone\u001b[39;00m,\n",
            "    xperiodalignment=\u001b[38;5;28;01mNone\u001b[39;00m,\n",
            "    xsrc=\u001b[38;5;28;01mNone\u001b[39;00m,\n",
            "    y=\u001b[38;5;28;01mNone\u001b[39;00m,\n",
            "    y0=\u001b[38;5;28;01mNone\u001b[39;00m,\n",
            "    yaxis=\u001b[38;5;28;01mNone\u001b[39;00m,\n",
            "    ycalendar=\u001b[38;5;28;01mNone\u001b[39;00m,\n",
            "    yhoverformat=\u001b[38;5;28;01mNone\u001b[39;00m,\n",
            "    yperiod=\u001b[38;5;28;01mNone\u001b[39;00m,\n",
            "    yperiod0=\u001b[38;5;28;01mNone\u001b[39;00m,\n",
            "    yperiodalignment=\u001b[38;5;28;01mNone\u001b[39;00m,\n",
            "    ysrc=\u001b[38;5;28;01mNone\u001b[39;00m,\n",
            "    zorder=\u001b[38;5;28;01mNone\u001b[39;00m,\n",
            "    **kwargs,\n",
            ")\n",
            "\u001b[31mDocstring:\u001b[39m     \n",
            "Base class for the all trace types.\n",
            "\n",
            "Specific trace type classes (Scatter, Bar, etc.) are code generated as\n",
            "subclasses of this class.\n",
            "\u001b[31mInit docstring:\u001b[39m\n",
            "Construct a new Scatter object\n",
            "\n",
            "The scatter trace type encompasses line charts, scatter charts,\n",
            "text charts, and bubble charts. The data visualized as scatter\n",
            "point or lines is set in `x` and `y`. Text (appearing either on\n",
            "the chart or on hover only) is via `text`. Bubble charts are\n",
            "achieved by setting `marker.size` and/or `marker.color` to\n",
            "numerical arrays.\n",
            "\n",
            "Parameters\n",
            "----------\n",
            "arg\n",
            "    dict of properties compatible with this constructor or\n",
            "    an instance of :class:`plotly.graph_objs.Scatter`\n",
            "alignmentgroup\n",
            "    Set several traces linked to the same position axis or\n",
            "    matching axes to the same alignmentgroup. This controls\n",
            "    whether bars compute their positional range dependently\n",
            "    or independently.\n",
            "cliponaxis\n",
            "    Determines whether or not markers and text nodes are\n",
            "    clipped about the subplot axes. To show markers and\n",
            "    text nodes above axis lines and tick labels, make sure\n",
            "    to set `xaxis.layer` and `yaxis.layer` to *below\n",
            "    traces*.\n",
            "connectgaps\n",
            "    Determines whether or not gaps (i.e. {nan} or missing\n",
            "    values) in the provided data arrays are connected.\n",
            "customdata\n",
            "    Assigns extra data each datum. This may be useful when\n",
            "    listening to hover, click and selection events. Note\n",
            "    that, \"scatter\" traces also appends customdata items in\n",
            "    the markers DOM elements\n",
            "customdatasrc\n",
            "    Sets the source reference on Chart Studio Cloud for\n",
            "    `customdata`.\n",
            "dx\n",
            "    Sets the x coordinate step. See `x0` for more info.\n",
            "dy\n",
            "    Sets the y coordinate step. See `y0` for more info.\n",
            "error_x\n",
            "    :class:`plotly.graph_objects.scatter.ErrorX` instance\n",
            "    or dict with compatible properties\n",
            "error_y\n",
            "    :class:`plotly.graph_objects.scatter.ErrorY` instance\n",
            "    or dict with compatible properties\n",
            "fill\n",
            "    Sets the area to fill with a solid color. Defaults to\n",
            "    \"none\" unless this trace is stacked, then it gets\n",
            "    \"tonexty\" (\"tonextx\") if `orientation` is \"v\" (\"h\") Use\n",
            "    with `fillcolor` if not \"none\". \"tozerox\" and \"tozeroy\"\n",
            "    fill to x=0 and y=0 respectively. \"tonextx\" and\n",
            "    \"tonexty\" fill between the endpoints of this trace and\n",
            "    the endpoints of the trace before it, connecting those\n",
            "    endpoints with straight lines (to make a stacked area\n",
            "    graph); if there is no trace before it, they behave\n",
            "    like \"tozerox\" and \"tozeroy\". \"toself\" connects the\n",
            "    endpoints of the trace (or each segment of the trace if\n",
            "    it has gaps) into a closed shape. \"tonext\" fills the\n",
            "    space between two traces if one completely encloses the\n",
            "    other (eg consecutive contour lines), and behaves like\n",
            "    \"toself\" if there is no trace before it. \"tonext\"\n",
            "    should not be used if one trace does not enclose the\n",
            "    other. Traces in a `stackgroup` will only fill to (or\n",
            "    be filled to) other traces in the same group. With\n",
            "    multiple `stackgroup`s or some traces stacked and some\n",
            "    not, if fill-linked traces are not already consecutive,\n",
            "    the later ones will be pushed down in the drawing\n",
            "    order.\n",
            "fillcolor\n",
            "    Sets the fill color. Defaults to a half-transparent\n",
            "    variant of the line color, marker color, or marker line\n",
            "    color, whichever is available. If fillgradient is\n",
            "    specified, fillcolor is ignored except for setting the\n",
            "    background color of the hover label, if any.\n",
            "fillgradient\n",
            "    Sets a fill gradient. If not specified, the fillcolor\n",
            "    is used instead.\n",
            "fillpattern\n",
            "    Sets the pattern within the marker.\n",
            "groupnorm\n",
            "    Only relevant when `stackgroup` is used, and only the\n",
            "    first `groupnorm` found in the `stackgroup` will be\n",
            "    used - including if `visible` is \"legendonly\" but not\n",
            "    if it is `false`. Sets the normalization for the sum of\n",
            "    this `stackgroup`. With \"fraction\", the value of each\n",
            "    trace at each location is divided by the sum of all\n",
            "    trace values at that location. \"percent\" is the same\n",
            "    but multiplied by 100 to show percentages. If there are\n",
            "    multiple subplots, or multiple `stackgroup`s on one\n",
            "    subplot, each will be normalized within its own set.\n",
            "hoverinfo\n",
            "    Determines which trace information appear on hover. If\n",
            "    `none` or `skip` are set, no information is displayed\n",
            "    upon hovering. But, if `none` is set, click and hover\n",
            "    events are still fired.\n",
            "hoverinfosrc\n",
            "    Sets the source reference on Chart Studio Cloud for\n",
            "    `hoverinfo`.\n",
            "hoverlabel\n",
            "    :class:`plotly.graph_objects.scatter.Hoverlabel`\n",
            "    instance or dict with compatible properties\n",
            "hoveron\n",
            "    Do the hover effects highlight individual points\n",
            "    (markers or line points) or do they highlight filled\n",
            "    regions? If the fill is \"toself\" or \"tonext\" and there\n",
            "    are no markers or text, then the default is \"fills\",\n",
            "    otherwise it is \"points\".\n",
            "hovertemplate\n",
            "    Template string used for rendering the information that\n",
            "    appear on hover box. Note that this will override\n",
            "    `hoverinfo`. Variables are inserted using %{variable},\n",
            "    for example \"y: %{y}\" as well as %{xother}, {%_xother},\n",
            "    {%_xother_}, {%xother_}. When showing info for several\n",
            "    points, \"xother\" will be added to those with different\n",
            "    x positions from the first point. An underscore before\n",
            "    or after \"(x|y)other\" will add a space on that side,\n",
            "    only when this field is shown. Numbers are formatted\n",
            "    using d3-format's syntax %{variable:d3-format}, for\n",
            "    example \"Price: %{y:$.2f}\".\n",
            "    https://github.com/d3/d3-format/tree/v1.4.5#d3-format\n",
            "    for details on the formatting syntax. Dates are\n",
            "    formatted using d3-time-format's syntax\n",
            "    %{variable|d3-time-format}, for example \"Day:\n",
            "    %{2019-01-01|%A}\". https://github.com/d3/d3-time-\n",
            "    format/tree/v2.2.3#locale_format for details on the\n",
            "    date formatting syntax. The variables available in\n",
            "    `hovertemplate` are the ones emitted as event data\n",
            "    described at this link\n",
            "    https://plotly.com/javascript/plotlyjs-events/#event-\n",
            "    data. Additionally, every attributes that can be\n",
            "    specified per-point (the ones that are `arrayOk: true`)\n",
            "    are available.  Anything contained in tag `<extra>` is\n",
            "    displayed in the secondary box, for example\n",
            "    \"<extra>{fullData.name}</extra>\". To hide the secondary\n",
            "    box completely, use an empty tag `<extra></extra>`.\n",
            "hovertemplatesrc\n",
            "    Sets the source reference on Chart Studio Cloud for\n",
            "    `hovertemplate`.\n",
            "hovertext\n",
            "    Sets hover text elements associated with each (x,y)\n",
            "    pair. If a single string, the same string appears over\n",
            "    all the data points. If an array of string, the items\n",
            "    are mapped in order to the this trace's (x,y)\n",
            "    coordinates. To be seen, trace `hoverinfo` must contain\n",
            "    a \"text\" flag.\n",
            "hovertextsrc\n",
            "    Sets the source reference on Chart Studio Cloud for\n",
            "    `hovertext`.\n",
            "ids\n",
            "    Assigns id labels to each datum. These ids for object\n",
            "    constancy of data points during animation. Should be an\n",
            "    array of strings, not numbers or any other type.\n",
            "idssrc\n",
            "    Sets the source reference on Chart Studio Cloud for\n",
            "    `ids`.\n",
            "legend\n",
            "    Sets the reference to a legend to show this trace in.\n",
            "    References to these legends are \"legend\", \"legend2\",\n",
            "    \"legend3\", etc. Settings for these legends are set in\n",
            "    the layout, under `layout.legend`, `layout.legend2`,\n",
            "    etc.\n",
            "legendgroup\n",
            "    Sets the legend group for this trace. Traces and shapes\n",
            "    part of the same legend group hide/show at the same\n",
            "    time when toggling legend items.\n",
            "legendgrouptitle\n",
            "    :class:`plotly.graph_objects.scatter.Legendgrouptitle`\n",
            "    instance or dict with compatible properties\n",
            "legendrank\n",
            "    Sets the legend rank for this trace. Items and groups\n",
            "    with smaller ranks are presented on top/left side while\n",
            "    with \"reversed\" `legend.traceorder` they are on\n",
            "    bottom/right side. The default legendrank is 1000, so\n",
            "    that you can use ranks less than 1000 to place certain\n",
            "    items before all unranked items, and ranks greater than\n",
            "    1000 to go after all unranked items. When having\n",
            "    unranked or equal rank items shapes would be displayed\n",
            "    after traces i.e. according to their order in data and\n",
            "    layout.\n",
            "legendwidth\n",
            "    Sets the width (in px or fraction) of the legend for\n",
            "    this trace.\n",
            "line\n",
            "    :class:`plotly.graph_objects.scatter.Line` instance or\n",
            "    dict with compatible properties\n",
            "marker\n",
            "    :class:`plotly.graph_objects.scatter.Marker` instance\n",
            "    or dict with compatible properties\n",
            "meta\n",
            "    Assigns extra meta information associated with this\n",
            "    trace that can be used in various text attributes.\n",
            "    Attributes such as trace `name`, graph, axis and\n",
            "    colorbar `title.text`, annotation `text`\n",
            "    `rangeselector`, `updatemenues` and `sliders` `label`\n",
            "    text all support `meta`. To access the trace `meta`\n",
            "    values in an attribute in the same trace, simply use\n",
            "    `%{meta[i]}` where `i` is the index or key of the\n",
            "    `meta` item in question. To access trace `meta` in\n",
            "    layout attributes, use `%{data[n[.meta[i]}` where `i`\n",
            "    is the index or key of the `meta` and `n` is the trace\n",
            "    index.\n",
            "metasrc\n",
            "    Sets the source reference on Chart Studio Cloud for\n",
            "    `meta`.\n",
            "mode\n",
            "    Determines the drawing mode for this scatter trace. If\n",
            "    the provided `mode` includes \"text\" then the `text`\n",
            "    elements appear at the coordinates. Otherwise, the\n",
            "    `text` elements appear on hover. If there are less than\n",
            "    20 points and the trace is not stacked then the default\n",
            "    is \"lines+markers\". Otherwise, \"lines\".\n",
            "name\n",
            "    Sets the trace name. The trace name appears as the\n",
            "    legend item and on hover.\n",
            "offsetgroup\n",
            "    Set several traces linked to the same position axis or\n",
            "    matching axes to the same offsetgroup where bars of the\n",
            "    same position coordinate will line up.\n",
            "opacity\n",
            "    Sets the opacity of the trace.\n",
            "orientation\n",
            "    Only relevant in the following cases: 1. when\n",
            "    `scattermode` is set to \"group\". 2. when `stackgroup`\n",
            "    is used, and only the first `orientation` found in the\n",
            "    `stackgroup` will be used - including if `visible` is\n",
            "    \"legendonly\" but not if it is `false`. Sets the\n",
            "    stacking direction. With \"v\" (\"h\"), the y (x) values of\n",
            "    subsequent traces are added. Also affects the default\n",
            "    value of `fill`.\n",
            "selected\n",
            "    :class:`plotly.graph_objects.scatter.Selected` instance\n",
            "    or dict with compatible properties\n",
            "selectedpoints\n",
            "    Array containing integer indices of selected points.\n",
            "    Has an effect only for traces that support selections.\n",
            "    Note that an empty array means an empty selection where\n",
            "    the `unselected` are turned on for all points, whereas,\n",
            "    any other non-array values means no selection all where\n",
            "    the `selected` and `unselected` styles have no effect.\n",
            "showlegend\n",
            "    Determines whether or not an item corresponding to this\n",
            "    trace is shown in the legend.\n",
            "stackgaps\n",
            "    Only relevant when `stackgroup` is used, and only the\n",
            "    first `stackgaps` found in the `stackgroup` will be\n",
            "    used - including if `visible` is \"legendonly\" but not\n",
            "    if it is `false`. Determines how we handle locations at\n",
            "    which other traces in this group have data but this one\n",
            "    does not. With *infer zero* we insert a zero at these\n",
            "    locations. With \"interpolate\" we linearly interpolate\n",
            "    between existing values, and extrapolate a constant\n",
            "    beyond the existing values.\n",
            "stackgroup\n",
            "    Set several scatter traces (on the same subplot) to the\n",
            "    same stackgroup in order to add their y values (or\n",
            "    their x values if `orientation` is \"h\"). If blank or\n",
            "    omitted this trace will not be stacked. Stacking also\n",
            "    turns `fill` on by default, using \"tonexty\" (\"tonextx\")\n",
            "    if `orientation` is \"h\" (\"v\") and sets the default\n",
            "    `mode` to \"lines\" irrespective of point count. You can\n",
            "    only stack on a numeric (linear or log) axis. Traces in\n",
            "    a `stackgroup` will only fill to (or be filled to)\n",
            "    other traces in the same group. With multiple\n",
            "    `stackgroup`s or some traces stacked and some not, if\n",
            "    fill-linked traces are not already consecutive, the\n",
            "    later ones will be pushed down in the drawing order.\n",
            "stream\n",
            "    :class:`plotly.graph_objects.scatter.Stream` instance\n",
            "    or dict with compatible properties\n",
            "text\n",
            "    Sets text elements associated with each (x,y) pair. If\n",
            "    a single string, the same string appears over all the\n",
            "    data points. If an array of string, the items are\n",
            "    mapped in order to the this trace's (x,y) coordinates.\n",
            "    If trace `hoverinfo` contains a \"text\" flag and\n",
            "    \"hovertext\" is not set, these elements will be seen in\n",
            "    the hover labels.\n",
            "textfont\n",
            "    Sets the text font.\n",
            "textposition\n",
            "    Sets the positions of the `text` elements with respects\n",
            "    to the (x,y) coordinates.\n",
            "textpositionsrc\n",
            "    Sets the source reference on Chart Studio Cloud for\n",
            "    `textposition`.\n",
            "textsrc\n",
            "    Sets the source reference on Chart Studio Cloud for\n",
            "    `text`.\n",
            "texttemplate\n",
            "    Template string used for rendering the information text\n",
            "    that appear on points. Note that this will override\n",
            "    `textinfo`. Variables are inserted using %{variable},\n",
            "    for example \"y: %{y}\". Numbers are formatted using\n",
            "    d3-format's syntax %{variable:d3-format}, for example\n",
            "    \"Price: %{y:$.2f}\".\n",
            "    https://github.com/d3/d3-format/tree/v1.4.5#d3-format\n",
            "    for details on the formatting syntax. Dates are\n",
            "    formatted using d3-time-format's syntax\n",
            "    %{variable|d3-time-format}, for example \"Day:\n",
            "    %{2019-01-01|%A}\". https://github.com/d3/d3-time-\n",
            "    format/tree/v2.2.3#locale_format for details on the\n",
            "    date formatting syntax. Every attributes that can be\n",
            "    specified per-point (the ones that are `arrayOk: true`)\n",
            "    are available.\n",
            "texttemplatesrc\n",
            "    Sets the source reference on Chart Studio Cloud for\n",
            "    `texttemplate`.\n",
            "uid\n",
            "    Assign an id to this trace, Use this to provide object\n",
            "    constancy between traces during animations and\n",
            "    transitions.\n",
            "uirevision\n",
            "    Controls persistence of some user-driven changes to the\n",
            "    trace: `constraintrange` in `parcoords` traces, as well\n",
            "    as some `editable: true` modifications such as `name`\n",
            "    and `colorbar.title`. Defaults to `layout.uirevision`.\n",
            "    Note that other user-driven trace attribute changes are\n",
            "    controlled by `layout` attributes: `trace.visible` is\n",
            "    controlled by `layout.legend.uirevision`,\n",
            "    `selectedpoints` is controlled by\n",
            "    `layout.selectionrevision`, and `colorbar.(x|y)`\n",
            "    (accessible with `config: {editable: true}`) is\n",
            "    controlled by `layout.editrevision`. Trace changes are\n",
            "    tracked by `uid`, which only falls back on trace index\n",
            "    if no `uid` is provided. So if your app can add/remove\n",
            "    traces before the end of the `data` array, such that\n",
            "    the same trace has a different index, you can still\n",
            "    preserve user-driven changes if you give each trace a\n",
            "    `uid` that stays with it as it moves.\n",
            "unselected\n",
            "    :class:`plotly.graph_objects.scatter.Unselected`\n",
            "    instance or dict with compatible properties\n",
            "visible\n",
            "    Determines whether or not this trace is visible. If\n",
            "    \"legendonly\", the trace is not drawn, but can appear as\n",
            "    a legend item (provided that the legend itself is\n",
            "    visible).\n",
            "x\n",
            "    Sets the x coordinates.\n",
            "x0\n",
            "    Alternate to `x`. Builds a linear space of x\n",
            "    coordinates. Use with `dx` where `x0` is the starting\n",
            "    coordinate and `dx` the step.\n",
            "xaxis\n",
            "    Sets a reference between this trace's x coordinates and\n",
            "    a 2D cartesian x axis. If \"x\" (the default value), the\n",
            "    x coordinates refer to `layout.xaxis`. If \"x2\", the x\n",
            "    coordinates refer to `layout.xaxis2`, and so on.\n",
            "xcalendar\n",
            "    Sets the calendar system to use with `x` date data.\n",
            "xhoverformat\n",
            "    Sets the hover text formatting rulefor `x`  using d3\n",
            "    formatting mini-languages which are very similar to\n",
            "    those in Python. For numbers, see:\n",
            "    https://github.com/d3/d3-format/tree/v1.4.5#d3-format.\n",
            "    And for dates see: https://github.com/d3/d3-time-\n",
            "    format/tree/v2.2.3#locale_format. We add two items to\n",
            "    d3's date formatter: \"%h\" for half of the year as a\n",
            "    decimal number as well as \"%{n}f\" for fractional\n",
            "    seconds with n digits. For example, *2016-10-13\n",
            "    09:15:23.456* with tickformat \"%H~%M~%S.%2f\" would\n",
            "    display *09~15~23.46*By default the values are\n",
            "    formatted using `xaxis.hoverformat`.\n",
            "xperiod\n",
            "    Only relevant when the axis `type` is \"date\". Sets the\n",
            "    period positioning in milliseconds or \"M<n>\" on the x\n",
            "    axis. Special values in the form of \"M<n>\" could be\n",
            "    used to declare the number of months. In this case `n`\n",
            "    must be a positive integer.\n",
            "xperiod0\n",
            "    Only relevant when the axis `type` is \"date\". Sets the\n",
            "    base for period positioning in milliseconds or date\n",
            "    string on the x0 axis. When `x0period` is round number\n",
            "    of weeks, the `x0period0` by default would be on a\n",
            "    Sunday i.e. 2000-01-02, otherwise it would be at\n",
            "    2000-01-01.\n",
            "xperiodalignment\n",
            "    Only relevant when the axis `type` is \"date\". Sets the\n",
            "    alignment of data points on the x axis.\n",
            "xsrc\n",
            "    Sets the source reference on Chart Studio Cloud for\n",
            "    `x`.\n",
            "y\n",
            "    Sets the y coordinates.\n",
            "y0\n",
            "    Alternate to `y`. Builds a linear space of y\n",
            "    coordinates. Use with `dy` where `y0` is the starting\n",
            "    coordinate and `dy` the step.\n",
            "yaxis\n",
            "    Sets a reference between this trace's y coordinates and\n",
            "    a 2D cartesian y axis. If \"y\" (the default value), the\n",
            "    y coordinates refer to `layout.yaxis`. If \"y2\", the y\n",
            "    coordinates refer to `layout.yaxis2`, and so on.\n",
            "ycalendar\n",
            "    Sets the calendar system to use with `y` date data.\n",
            "yhoverformat\n",
            "    Sets the hover text formatting rulefor `y`  using d3\n",
            "    formatting mini-languages which are very similar to\n",
            "    those in Python. For numbers, see:\n",
            "    https://github.com/d3/d3-format/tree/v1.4.5#d3-format.\n",
            "    And for dates see: https://github.com/d3/d3-time-\n",
            "    format/tree/v2.2.3#locale_format. We add two items to\n",
            "    d3's date formatter: \"%h\" for half of the year as a\n",
            "    decimal number as well as \"%{n}f\" for fractional\n",
            "    seconds with n digits. For example, *2016-10-13\n",
            "    09:15:23.456* with tickformat \"%H~%M~%S.%2f\" would\n",
            "    display *09~15~23.46*By default the values are\n",
            "    formatted using `yaxis.hoverformat`.\n",
            "yperiod\n",
            "    Only relevant when the axis `type` is \"date\". Sets the\n",
            "    period positioning in milliseconds or \"M<n>\" on the y\n",
            "    axis. Special values in the form of \"M<n>\" could be\n",
            "    used to declare the number of months. In this case `n`\n",
            "    must be a positive integer.\n",
            "yperiod0\n",
            "    Only relevant when the axis `type` is \"date\". Sets the\n",
            "    base for period positioning in milliseconds or date\n",
            "    string on the y0 axis. When `y0period` is round number\n",
            "    of weeks, the `y0period0` by default would be on a\n",
            "    Sunday i.e. 2000-01-02, otherwise it would be at\n",
            "    2000-01-01.\n",
            "yperiodalignment\n",
            "    Only relevant when the axis `type` is \"date\". Sets the\n",
            "    alignment of data points on the y axis.\n",
            "ysrc\n",
            "    Sets the source reference on Chart Studio Cloud for\n",
            "    `y`.\n",
            "zorder\n",
            "    Sets the layer on which this trace is displayed,\n",
            "    relative to other SVG traces on the same subplot. SVG\n",
            "    traces with higher `zorder` appear in front of those\n",
            "    with lower `zorder`.\n",
            "\n",
            "Returns\n",
            "-------\n",
            "Scatter\n",
            "\u001b[31mFile:\u001b[39m           ~/anaconda3/envs/jedha/lib/python3.13/site-packages/plotly/graph_objs/_scatter.py\n",
            "\u001b[31mType:\u001b[39m           type\n",
            "\u001b[31mSubclasses:\u001b[39m     "
          ]
        }
      ],
      "source": [
        "go.Scatter?"
      ]
    },
    {
      "cell_type": "code",
      "execution_count": 5,
      "metadata": {
        "id": "n-mV7CfvV8xl"
      },
      "outputs": [
        {
          "name": "stdout",
          "output_type": "stream",
          "text": [
            "\u001b[31mInit signature:\u001b[39m\n",
            "go.Layout(\n",
            "    arg=\u001b[38;5;28;01mNone\u001b[39;00m,\n",
            "    activeselection=\u001b[38;5;28;01mNone\u001b[39;00m,\n",
            "    activeshape=\u001b[38;5;28;01mNone\u001b[39;00m,\n",
            "    annotations=\u001b[38;5;28;01mNone\u001b[39;00m,\n",
            "    annotationdefaults=\u001b[38;5;28;01mNone\u001b[39;00m,\n",
            "    autosize=\u001b[38;5;28;01mNone\u001b[39;00m,\n",
            "    autotypenumbers=\u001b[38;5;28;01mNone\u001b[39;00m,\n",
            "    barcornerradius=\u001b[38;5;28;01mNone\u001b[39;00m,\n",
            "    bargap=\u001b[38;5;28;01mNone\u001b[39;00m,\n",
            "    bargroupgap=\u001b[38;5;28;01mNone\u001b[39;00m,\n",
            "    barmode=\u001b[38;5;28;01mNone\u001b[39;00m,\n",
            "    barnorm=\u001b[38;5;28;01mNone\u001b[39;00m,\n",
            "    boxgap=\u001b[38;5;28;01mNone\u001b[39;00m,\n",
            "    boxgroupgap=\u001b[38;5;28;01mNone\u001b[39;00m,\n",
            "    boxmode=\u001b[38;5;28;01mNone\u001b[39;00m,\n",
            "    calendar=\u001b[38;5;28;01mNone\u001b[39;00m,\n",
            "    clickmode=\u001b[38;5;28;01mNone\u001b[39;00m,\n",
            "    coloraxis=\u001b[38;5;28;01mNone\u001b[39;00m,\n",
            "    colorscale=\u001b[38;5;28;01mNone\u001b[39;00m,\n",
            "    colorway=\u001b[38;5;28;01mNone\u001b[39;00m,\n",
            "    computed=\u001b[38;5;28;01mNone\u001b[39;00m,\n",
            "    datarevision=\u001b[38;5;28;01mNone\u001b[39;00m,\n",
            "    dragmode=\u001b[38;5;28;01mNone\u001b[39;00m,\n",
            "    editrevision=\u001b[38;5;28;01mNone\u001b[39;00m,\n",
            "    extendfunnelareacolors=\u001b[38;5;28;01mNone\u001b[39;00m,\n",
            "    extendiciclecolors=\u001b[38;5;28;01mNone\u001b[39;00m,\n",
            "    extendpiecolors=\u001b[38;5;28;01mNone\u001b[39;00m,\n",
            "    extendsunburstcolors=\u001b[38;5;28;01mNone\u001b[39;00m,\n",
            "    extendtreemapcolors=\u001b[38;5;28;01mNone\u001b[39;00m,\n",
            "    font=\u001b[38;5;28;01mNone\u001b[39;00m,\n",
            "    funnelareacolorway=\u001b[38;5;28;01mNone\u001b[39;00m,\n",
            "    funnelgap=\u001b[38;5;28;01mNone\u001b[39;00m,\n",
            "    funnelgroupgap=\u001b[38;5;28;01mNone\u001b[39;00m,\n",
            "    funnelmode=\u001b[38;5;28;01mNone\u001b[39;00m,\n",
            "    geo=\u001b[38;5;28;01mNone\u001b[39;00m,\n",
            "    grid=\u001b[38;5;28;01mNone\u001b[39;00m,\n",
            "    height=\u001b[38;5;28;01mNone\u001b[39;00m,\n",
            "    hiddenlabels=\u001b[38;5;28;01mNone\u001b[39;00m,\n",
            "    hiddenlabelssrc=\u001b[38;5;28;01mNone\u001b[39;00m,\n",
            "    hidesources=\u001b[38;5;28;01mNone\u001b[39;00m,\n",
            "    hoverdistance=\u001b[38;5;28;01mNone\u001b[39;00m,\n",
            "    hoverlabel=\u001b[38;5;28;01mNone\u001b[39;00m,\n",
            "    hovermode=\u001b[38;5;28;01mNone\u001b[39;00m,\n",
            "    hoversubplots=\u001b[38;5;28;01mNone\u001b[39;00m,\n",
            "    iciclecolorway=\u001b[38;5;28;01mNone\u001b[39;00m,\n",
            "    images=\u001b[38;5;28;01mNone\u001b[39;00m,\n",
            "    imagedefaults=\u001b[38;5;28;01mNone\u001b[39;00m,\n",
            "    legend=\u001b[38;5;28;01mNone\u001b[39;00m,\n",
            "    map=\u001b[38;5;28;01mNone\u001b[39;00m,\n",
            "    mapbox=\u001b[38;5;28;01mNone\u001b[39;00m,\n",
            "    margin=\u001b[38;5;28;01mNone\u001b[39;00m,\n",
            "    meta=\u001b[38;5;28;01mNone\u001b[39;00m,\n",
            "    metasrc=\u001b[38;5;28;01mNone\u001b[39;00m,\n",
            "    minreducedheight=\u001b[38;5;28;01mNone\u001b[39;00m,\n",
            "    minreducedwidth=\u001b[38;5;28;01mNone\u001b[39;00m,\n",
            "    modebar=\u001b[38;5;28;01mNone\u001b[39;00m,\n",
            "    newselection=\u001b[38;5;28;01mNone\u001b[39;00m,\n",
            "    newshape=\u001b[38;5;28;01mNone\u001b[39;00m,\n",
            "    paper_bgcolor=\u001b[38;5;28;01mNone\u001b[39;00m,\n",
            "    piecolorway=\u001b[38;5;28;01mNone\u001b[39;00m,\n",
            "    plot_bgcolor=\u001b[38;5;28;01mNone\u001b[39;00m,\n",
            "    polar=\u001b[38;5;28;01mNone\u001b[39;00m,\n",
            "    scattergap=\u001b[38;5;28;01mNone\u001b[39;00m,\n",
            "    scattermode=\u001b[38;5;28;01mNone\u001b[39;00m,\n",
            "    scene=\u001b[38;5;28;01mNone\u001b[39;00m,\n",
            "    selectdirection=\u001b[38;5;28;01mNone\u001b[39;00m,\n",
            "    selectionrevision=\u001b[38;5;28;01mNone\u001b[39;00m,\n",
            "    selections=\u001b[38;5;28;01mNone\u001b[39;00m,\n",
            "    selectiondefaults=\u001b[38;5;28;01mNone\u001b[39;00m,\n",
            "    separators=\u001b[38;5;28;01mNone\u001b[39;00m,\n",
            "    shapes=\u001b[38;5;28;01mNone\u001b[39;00m,\n",
            "    shapedefaults=\u001b[38;5;28;01mNone\u001b[39;00m,\n",
            "    showlegend=\u001b[38;5;28;01mNone\u001b[39;00m,\n",
            "    sliders=\u001b[38;5;28;01mNone\u001b[39;00m,\n",
            "    sliderdefaults=\u001b[38;5;28;01mNone\u001b[39;00m,\n",
            "    smith=\u001b[38;5;28;01mNone\u001b[39;00m,\n",
            "    spikedistance=\u001b[38;5;28;01mNone\u001b[39;00m,\n",
            "    sunburstcolorway=\u001b[38;5;28;01mNone\u001b[39;00m,\n",
            "    template=\u001b[38;5;28;01mNone\u001b[39;00m,\n",
            "    ternary=\u001b[38;5;28;01mNone\u001b[39;00m,\n",
            "    title=\u001b[38;5;28;01mNone\u001b[39;00m,\n",
            "    transition=\u001b[38;5;28;01mNone\u001b[39;00m,\n",
            "    treemapcolorway=\u001b[38;5;28;01mNone\u001b[39;00m,\n",
            "    uirevision=\u001b[38;5;28;01mNone\u001b[39;00m,\n",
            "    uniformtext=\u001b[38;5;28;01mNone\u001b[39;00m,\n",
            "    updatemenus=\u001b[38;5;28;01mNone\u001b[39;00m,\n",
            "    updatemenudefaults=\u001b[38;5;28;01mNone\u001b[39;00m,\n",
            "    violingap=\u001b[38;5;28;01mNone\u001b[39;00m,\n",
            "    violingroupgap=\u001b[38;5;28;01mNone\u001b[39;00m,\n",
            "    violinmode=\u001b[38;5;28;01mNone\u001b[39;00m,\n",
            "    waterfallgap=\u001b[38;5;28;01mNone\u001b[39;00m,\n",
            "    waterfallgroupgap=\u001b[38;5;28;01mNone\u001b[39;00m,\n",
            "    waterfallmode=\u001b[38;5;28;01mNone\u001b[39;00m,\n",
            "    width=\u001b[38;5;28;01mNone\u001b[39;00m,\n",
            "    xaxis=\u001b[38;5;28;01mNone\u001b[39;00m,\n",
            "    yaxis=\u001b[38;5;28;01mNone\u001b[39;00m,\n",
            "    **kwargs,\n",
            ")\n",
            "\u001b[31mDocstring:\u001b[39m     \n",
            "Base class for the layout type. The Layout class itself is a\n",
            "code-generated subclass.\n",
            "\u001b[31mInit docstring:\u001b[39m\n",
            "Construct a new Layout object\n",
            "\n",
            "Parameters\n",
            "----------\n",
            "arg\n",
            "    dict of properties compatible with this constructor or\n",
            "    an instance of :class:`plotly.graph_objs.Layout`\n",
            "activeselection\n",
            "    :class:`plotly.graph_objects.layout.Activeselection`\n",
            "    instance or dict with compatible properties\n",
            "activeshape\n",
            "    :class:`plotly.graph_objects.layout.Activeshape`\n",
            "    instance or dict with compatible properties\n",
            "annotations\n",
            "    A tuple of\n",
            "    :class:`plotly.graph_objects.layout.Annotation`\n",
            "    instances or dicts with compatible properties\n",
            "annotationdefaults\n",
            "    When used in a template (as\n",
            "    layout.template.layout.annotationdefaults), sets the\n",
            "    default property values to use for elements of\n",
            "    layout.annotations\n",
            "autosize\n",
            "    Determines whether or not a layout width or height that\n",
            "    has been left undefined by the user is initialized on\n",
            "    each relayout. Note that, regardless of this attribute,\n",
            "    an undefined layout width or height is always\n",
            "    initialized on the first call to plot.\n",
            "autotypenumbers\n",
            "    Using \"strict\" a numeric string in trace data is not\n",
            "    converted to a number. Using *convert types* a numeric\n",
            "    string in trace data may be treated as a number during\n",
            "    automatic axis `type` detection. This is the default\n",
            "    value; however it could be overridden for individual\n",
            "    axes.\n",
            "barcornerradius\n",
            "    Sets the rounding of bar corners. May be an integer\n",
            "    number of pixels, or a percentage of bar width (as a\n",
            "    string ending in %).\n",
            "bargap\n",
            "    Sets the gap (in plot fraction) between bars of\n",
            "    adjacent location coordinates.\n",
            "bargroupgap\n",
            "    Sets the gap (in plot fraction) between bars of the\n",
            "    same location coordinate.\n",
            "barmode\n",
            "    Determines how bars at the same location coordinate are\n",
            "    displayed on the graph. With \"stack\", the bars are\n",
            "    stacked on top of one another With \"relative\", the bars\n",
            "    are stacked on top of one another, with negative values\n",
            "    below the axis, positive values above With \"group\", the\n",
            "    bars are plotted next to one another centered around\n",
            "    the shared location. With \"overlay\", the bars are\n",
            "    plotted over one another, you might need to reduce\n",
            "    \"opacity\" to see multiple bars.\n",
            "barnorm\n",
            "    Sets the normalization for bar traces on the graph.\n",
            "    With \"fraction\", the value of each bar is divided by\n",
            "    the sum of all values at that location coordinate.\n",
            "    \"percent\" is the same but multiplied by 100 to show\n",
            "    percentages.\n",
            "boxgap\n",
            "    Sets the gap (in plot fraction) between boxes of\n",
            "    adjacent location coordinates. Has no effect on traces\n",
            "    that have \"width\" set.\n",
            "boxgroupgap\n",
            "    Sets the gap (in plot fraction) between boxes of the\n",
            "    same location coordinate. Has no effect on traces that\n",
            "    have \"width\" set.\n",
            "boxmode\n",
            "    Determines how boxes at the same location coordinate\n",
            "    are displayed on the graph. If \"group\", the boxes are\n",
            "    plotted next to one another centered around the shared\n",
            "    location. If \"overlay\", the boxes are plotted over one\n",
            "    another, you might need to set \"opacity\" to see them\n",
            "    multiple boxes. Has no effect on traces that have\n",
            "    \"width\" set.\n",
            "calendar\n",
            "    Sets the default calendar system to use for\n",
            "    interpreting and displaying dates throughout the plot.\n",
            "clickmode\n",
            "    Determines the mode of single click interactions.\n",
            "    \"event\" is the default value and emits the\n",
            "    `plotly_click` event. In addition this mode emits the\n",
            "    `plotly_selected` event in drag modes \"lasso\" and\n",
            "    \"select\", but with no event data attached (kept for\n",
            "    compatibility reasons). The \"select\" flag enables\n",
            "    selecting single data points via click. This mode also\n",
            "    supports persistent selections, meaning that pressing\n",
            "    Shift while clicking, adds to / subtracts from an\n",
            "    existing selection. \"select\" with `hovermode`: \"x\" can\n",
            "    be confusing, consider explicitly setting `hovermode`:\n",
            "    \"closest\" when using this feature. Selection events are\n",
            "    sent accordingly as long as \"event\" flag is set as\n",
            "    well. When the \"event\" flag is missing, `plotly_click`\n",
            "    and `plotly_selected` events are not fired.\n",
            "coloraxis\n",
            "    :class:`plotly.graph_objects.layout.Coloraxis` instance\n",
            "    or dict with compatible properties\n",
            "colorscale\n",
            "    :class:`plotly.graph_objects.layout.Colorscale`\n",
            "    instance or dict with compatible properties\n",
            "colorway\n",
            "    Sets the default trace colors.\n",
            "computed\n",
            "    Placeholder for exporting automargin-impacting values\n",
            "    namely `margin.t`, `margin.b`, `margin.l` and\n",
            "    `margin.r` in \"full-json\" mode.\n",
            "datarevision\n",
            "    If provided, a changed value tells `Plotly.react` that\n",
            "    one or more data arrays has changed. This way you can\n",
            "    modify arrays in-place rather than making a complete\n",
            "    new copy for an incremental change. If NOT provided,\n",
            "    `Plotly.react` assumes that data arrays are being\n",
            "    treated as immutable, thus any data array with a\n",
            "    different identity from its predecessor contains new\n",
            "    data.\n",
            "dragmode\n",
            "    Determines the mode of drag interactions. \"select\" and\n",
            "    \"lasso\" apply only to scatter traces with markers or\n",
            "    text. \"orbit\" and \"turntable\" apply only to 3D scenes.\n",
            "editrevision\n",
            "    Controls persistence of user-driven changes in\n",
            "    `editable: true` configuration, other than trace names\n",
            "    and axis titles. Defaults to `layout.uirevision`.\n",
            "extendfunnelareacolors\n",
            "    If `true`, the funnelarea slice colors (whether given\n",
            "    by `funnelareacolorway` or inherited from `colorway`)\n",
            "    will be extended to three times its original length by\n",
            "    first repeating every color 20% lighter then each color\n",
            "    20% darker. This is intended to reduce the likelihood\n",
            "    of reusing the same color when you have many slices,\n",
            "    but you can set `false` to disable. Colors provided in\n",
            "    the trace, using `marker.colors`, are never extended.\n",
            "extendiciclecolors\n",
            "    If `true`, the icicle slice colors (whether given by\n",
            "    `iciclecolorway` or inherited from `colorway`) will be\n",
            "    extended to three times its original length by first\n",
            "    repeating every color 20% lighter then each color 20%\n",
            "    darker. This is intended to reduce the likelihood of\n",
            "    reusing the same color when you have many slices, but\n",
            "    you can set `false` to disable. Colors provided in the\n",
            "    trace, using `marker.colors`, are never extended.\n",
            "extendpiecolors\n",
            "    If `true`, the pie slice colors (whether given by\n",
            "    `piecolorway` or inherited from `colorway`) will be\n",
            "    extended to three times its original length by first\n",
            "    repeating every color 20% lighter then each color 20%\n",
            "    darker. This is intended to reduce the likelihood of\n",
            "    reusing the same color when you have many slices, but\n",
            "    you can set `false` to disable. Colors provided in the\n",
            "    trace, using `marker.colors`, are never extended.\n",
            "extendsunburstcolors\n",
            "    If `true`, the sunburst slice colors (whether given by\n",
            "    `sunburstcolorway` or inherited from `colorway`) will\n",
            "    be extended to three times its original length by first\n",
            "    repeating every color 20% lighter then each color 20%\n",
            "    darker. This is intended to reduce the likelihood of\n",
            "    reusing the same color when you have many slices, but\n",
            "    you can set `false` to disable. Colors provided in the\n",
            "    trace, using `marker.colors`, are never extended.\n",
            "extendtreemapcolors\n",
            "    If `true`, the treemap slice colors (whether given by\n",
            "    `treemapcolorway` or inherited from `colorway`) will be\n",
            "    extended to three times its original length by first\n",
            "    repeating every color 20% lighter then each color 20%\n",
            "    darker. This is intended to reduce the likelihood of\n",
            "    reusing the same color when you have many slices, but\n",
            "    you can set `false` to disable. Colors provided in the\n",
            "    trace, using `marker.colors`, are never extended.\n",
            "font\n",
            "    Sets the global font. Note that fonts used in traces\n",
            "    and other layout components inherit from the global\n",
            "    font.\n",
            "funnelareacolorway\n",
            "    Sets the default funnelarea slice colors. Defaults to\n",
            "    the main `colorway` used for trace colors. If you\n",
            "    specify a new list here it can still be extended with\n",
            "    lighter and darker colors, see\n",
            "    `extendfunnelareacolors`.\n",
            "funnelgap\n",
            "    Sets the gap (in plot fraction) between bars of\n",
            "    adjacent location coordinates.\n",
            "funnelgroupgap\n",
            "    Sets the gap (in plot fraction) between bars of the\n",
            "    same location coordinate.\n",
            "funnelmode\n",
            "    Determines how bars at the same location coordinate are\n",
            "    displayed on the graph. With \"stack\", the bars are\n",
            "    stacked on top of one another With \"group\", the bars\n",
            "    are plotted next to one another centered around the\n",
            "    shared location. With \"overlay\", the bars are plotted\n",
            "    over one another, you might need to reduce \"opacity\" to\n",
            "    see multiple bars.\n",
            "geo\n",
            "    :class:`plotly.graph_objects.layout.Geo` instance or\n",
            "    dict with compatible properties\n",
            "grid\n",
            "    :class:`plotly.graph_objects.layout.Grid` instance or\n",
            "    dict with compatible properties\n",
            "height\n",
            "    Sets the plot's height (in px).\n",
            "hiddenlabels\n",
            "    hiddenlabels is the funnelarea & pie chart analog of\n",
            "    visible:'legendonly' but it can contain many labels,\n",
            "    and can simultaneously hide slices from several\n",
            "    pies/funnelarea charts\n",
            "hiddenlabelssrc\n",
            "    Sets the source reference on Chart Studio Cloud for\n",
            "    `hiddenlabels`.\n",
            "hidesources\n",
            "    Determines whether or not a text link citing the data\n",
            "    source is placed at the bottom-right cored of the\n",
            "    figure. Has only an effect only on graphs that have\n",
            "    been generated via forked graphs from the Chart Studio\n",
            "    Cloud (at https://chart-studio.plotly.com or on-\n",
            "    premise).\n",
            "hoverdistance\n",
            "    Sets the default distance (in pixels) to look for data\n",
            "    to add hover labels (-1 means no cutoff, 0 means no\n",
            "    looking for data). This is only a real distance for\n",
            "    hovering on point-like objects, like scatter points.\n",
            "    For area-like objects (bars, scatter fills, etc)\n",
            "    hovering is on inside the area and off outside, but\n",
            "    these objects will not supersede hover on point-like\n",
            "    objects in case of conflict.\n",
            "hoverlabel\n",
            "    :class:`plotly.graph_objects.layout.Hoverlabel`\n",
            "    instance or dict with compatible properties\n",
            "hovermode\n",
            "    Determines the mode of hover interactions. If\n",
            "    \"closest\", a single hoverlabel will appear for the\n",
            "    \"closest\" point within the `hoverdistance`. If \"x\" (or\n",
            "    \"y\"), multiple hoverlabels will appear for multiple\n",
            "    points at the \"closest\" x- (or y-) coordinate within\n",
            "    the `hoverdistance`, with the caveat that no more than\n",
            "    one hoverlabel will appear per trace. If *x unified*\n",
            "    (or *y unified*), a single hoverlabel will appear\n",
            "    multiple points at the closest x- (or y-) coordinate\n",
            "    within the `hoverdistance` with the caveat that no more\n",
            "    than one hoverlabel will appear per trace. In this\n",
            "    mode, spikelines are enabled by default perpendicular\n",
            "    to the specified axis. If false, hover interactions are\n",
            "    disabled.\n",
            "hoversubplots\n",
            "    Determines expansion of hover effects to other subplots\n",
            "    If \"single\" just the axis pair of the primary point is\n",
            "    included without overlaying subplots. If \"overlaying\"\n",
            "    all subplots using the main axis and occupying the same\n",
            "    space are included. If \"axis\", also include stacked\n",
            "    subplots using the same axis when `hovermode` is set to\n",
            "    \"x\", *x unified*, \"y\" or *y unified*.\n",
            "iciclecolorway\n",
            "    Sets the default icicle slice colors. Defaults to the\n",
            "    main `colorway` used for trace colors. If you specify a\n",
            "    new list here it can still be extended with lighter and\n",
            "    darker colors, see `extendiciclecolors`.\n",
            "images\n",
            "    A tuple of :class:`plotly.graph_objects.layout.Image`\n",
            "    instances or dicts with compatible properties\n",
            "imagedefaults\n",
            "    When used in a template (as\n",
            "    layout.template.layout.imagedefaults), sets the default\n",
            "    property values to use for elements of layout.images\n",
            "legend\n",
            "    :class:`plotly.graph_objects.layout.Legend` instance or\n",
            "    dict with compatible properties\n",
            "map\n",
            "    :class:`plotly.graph_objects.layout.Map` instance or\n",
            "    dict with compatible properties\n",
            "mapbox\n",
            "    :class:`plotly.graph_objects.layout.Mapbox` instance or\n",
            "    dict with compatible properties\n",
            "margin\n",
            "    :class:`plotly.graph_objects.layout.Margin` instance or\n",
            "    dict with compatible properties\n",
            "meta\n",
            "    Assigns extra meta information that can be used in\n",
            "    various `text` attributes. Attributes such as the\n",
            "    graph, axis and colorbar `title.text`, annotation\n",
            "    `text` `trace.name` in legend items, `rangeselector`,\n",
            "    `updatemenus` and `sliders` `label` text all support\n",
            "    `meta`. One can access `meta` fields using template\n",
            "    strings: `%{meta[i]}` where `i` is the index of the\n",
            "    `meta` item in question. `meta` can also be an object\n",
            "    for example `{key: value}` which can be accessed\n",
            "    %{meta[key]}.\n",
            "metasrc\n",
            "    Sets the source reference on Chart Studio Cloud for\n",
            "    `meta`.\n",
            "minreducedheight\n",
            "    Minimum height of the plot with margin.automargin\n",
            "    applied (in px)\n",
            "minreducedwidth\n",
            "    Minimum width of the plot with margin.automargin\n",
            "    applied (in px)\n",
            "modebar\n",
            "    :class:`plotly.graph_objects.layout.Modebar` instance\n",
            "    or dict with compatible properties\n",
            "newselection\n",
            "    :class:`plotly.graph_objects.layout.Newselection`\n",
            "    instance or dict with compatible properties\n",
            "newshape\n",
            "    :class:`plotly.graph_objects.layout.Newshape` instance\n",
            "    or dict with compatible properties\n",
            "paper_bgcolor\n",
            "    Sets the background color of the paper where the graph\n",
            "    is drawn.\n",
            "piecolorway\n",
            "    Sets the default pie slice colors. Defaults to the main\n",
            "    `colorway` used for trace colors. If you specify a new\n",
            "    list here it can still be extended with lighter and\n",
            "    darker colors, see `extendpiecolors`.\n",
            "plot_bgcolor\n",
            "    Sets the background color of the plotting area in-\n",
            "    between x and y axes.\n",
            "polar\n",
            "    :class:`plotly.graph_objects.layout.Polar` instance or\n",
            "    dict with compatible properties\n",
            "scattergap\n",
            "    Sets the gap (in plot fraction) between scatter points\n",
            "    of adjacent location coordinates. Defaults to `bargap`.\n",
            "scattermode\n",
            "    Determines how scatter points at the same location\n",
            "    coordinate are displayed on the graph. With \"group\",\n",
            "    the scatter points are plotted next to one another\n",
            "    centered around the shared location. With \"overlay\",\n",
            "    the scatter points are plotted over one another, you\n",
            "    might need to reduce \"opacity\" to see multiple scatter\n",
            "    points.\n",
            "scene\n",
            "    :class:`plotly.graph_objects.layout.Scene` instance or\n",
            "    dict with compatible properties\n",
            "selectdirection\n",
            "    When `dragmode` is set to \"select\", this limits the\n",
            "    selection of the drag to horizontal, vertical or\n",
            "    diagonal. \"h\" only allows horizontal selection, \"v\"\n",
            "    only vertical, \"d\" only diagonal and \"any\" sets no\n",
            "    limit.\n",
            "selectionrevision\n",
            "    Controls persistence of user-driven changes in selected\n",
            "    points from all traces.\n",
            "selections\n",
            "    A tuple of\n",
            "    :class:`plotly.graph_objects.layout.Selection`\n",
            "    instances or dicts with compatible properties\n",
            "selectiondefaults\n",
            "    When used in a template (as\n",
            "    layout.template.layout.selectiondefaults), sets the\n",
            "    default property values to use for elements of\n",
            "    layout.selections\n",
            "separators\n",
            "    Sets the decimal and thousand separators. For example,\n",
            "    *. * puts a '.' before decimals and a space between\n",
            "    thousands. In English locales, dflt is \".,\" but other\n",
            "    locales may alter this default.\n",
            "shapes\n",
            "    A tuple of :class:`plotly.graph_objects.layout.Shape`\n",
            "    instances or dicts with compatible properties\n",
            "shapedefaults\n",
            "    When used in a template (as\n",
            "    layout.template.layout.shapedefaults), sets the default\n",
            "    property values to use for elements of layout.shapes\n",
            "showlegend\n",
            "    Determines whether or not a legend is drawn. Default is\n",
            "    `true` if there is a trace to show and any of these: a)\n",
            "    Two or more traces would by default be shown in the\n",
            "    legend. b) One pie trace is shown in the legend. c) One\n",
            "    trace is explicitly given with `showlegend: true`.\n",
            "sliders\n",
            "    A tuple of :class:`plotly.graph_objects.layout.Slider`\n",
            "    instances or dicts with compatible properties\n",
            "sliderdefaults\n",
            "    When used in a template (as\n",
            "    layout.template.layout.sliderdefaults), sets the\n",
            "    default property values to use for elements of\n",
            "    layout.sliders\n",
            "smith\n",
            "    :class:`plotly.graph_objects.layout.Smith` instance or\n",
            "    dict with compatible properties\n",
            "spikedistance\n",
            "    Sets the default distance (in pixels) to look for data\n",
            "    to draw spikelines to (-1 means no cutoff, 0 means no\n",
            "    looking for data). As with hoverdistance, distance does\n",
            "    not apply to area-like objects. In addition, some\n",
            "    objects can be hovered on but will not generate\n",
            "    spikelines, such as scatter fills.\n",
            "sunburstcolorway\n",
            "    Sets the default sunburst slice colors. Defaults to the\n",
            "    main `colorway` used for trace colors. If you specify a\n",
            "    new list here it can still be extended with lighter and\n",
            "    darker colors, see `extendsunburstcolors`.\n",
            "template\n",
            "    Default attributes to be applied to the plot. This\n",
            "    should be a dict with format: `{'layout':\n",
            "    layoutTemplate, 'data': {trace_type: [traceTemplate,\n",
            "    ...], ...}}` where `layoutTemplate` is a dict matching\n",
            "    the structure of `figure.layout` and `traceTemplate` is\n",
            "    a dict matching the structure of the trace with type\n",
            "    `trace_type` (e.g. 'scatter'). Alternatively, this may\n",
            "    be specified as an instance of\n",
            "    plotly.graph_objs.layout.Template.  Trace templates are\n",
            "    applied cyclically to traces of each type. Container\n",
            "    arrays (eg `annotations`) have special handling: An\n",
            "    object ending in `defaults` (eg `annotationdefaults`)\n",
            "    is applied to each array item. But if an item has a\n",
            "    `templateitemname` key we look in the template array\n",
            "    for an item with matching `name` and apply that\n",
            "    instead. If no matching `name` is found we mark the\n",
            "    item invisible. Any named template item not referenced\n",
            "    is appended to the end of the array, so this can be\n",
            "    used to add a watermark annotation or a logo image, for\n",
            "    example. To omit one of these items on the plot, make\n",
            "    an item with matching `templateitemname` and `visible:\n",
            "    false`.\n",
            "ternary\n",
            "    :class:`plotly.graph_objects.layout.Ternary` instance\n",
            "    or dict with compatible properties\n",
            "title\n",
            "    :class:`plotly.graph_objects.layout.Title` instance or\n",
            "    dict with compatible properties\n",
            "transition\n",
            "    Sets transition options used during Plotly.react\n",
            "    updates.\n",
            "treemapcolorway\n",
            "    Sets the default treemap slice colors. Defaults to the\n",
            "    main `colorway` used for trace colors. If you specify a\n",
            "    new list here it can still be extended with lighter and\n",
            "    darker colors, see `extendtreemapcolors`.\n",
            "uirevision\n",
            "    Used to allow user interactions with the plot to\n",
            "    persist after `Plotly.react` calls that are unaware of\n",
            "    these interactions. If `uirevision` is omitted, or if\n",
            "    it is given and it changed from the previous\n",
            "    `Plotly.react` call, the exact new figure is used. If\n",
            "    `uirevision` is truthy and did NOT change, any\n",
            "    attribute that has been affected by user interactions\n",
            "    and did not receive a different value in the new figure\n",
            "    will keep the interaction value. `layout.uirevision`\n",
            "    attribute serves as the default for `uirevision`\n",
            "    attributes in various sub-containers. For finer control\n",
            "    you can set these sub-attributes directly. For example,\n",
            "    if your app separately controls the data on the x and y\n",
            "    axes you might set `xaxis.uirevision=*time*` and\n",
            "    `yaxis.uirevision=*cost*`. Then if only the y data is\n",
            "    changed, you can update `yaxis.uirevision=*quantity*`\n",
            "    and the y axis range will reset but the x axis range\n",
            "    will retain any user-driven zoom.\n",
            "uniformtext\n",
            "    :class:`plotly.graph_objects.layout.Uniformtext`\n",
            "    instance or dict with compatible properties\n",
            "updatemenus\n",
            "    A tuple of\n",
            "    :class:`plotly.graph_objects.layout.Updatemenu`\n",
            "    instances or dicts with compatible properties\n",
            "updatemenudefaults\n",
            "    When used in a template (as\n",
            "    layout.template.layout.updatemenudefaults), sets the\n",
            "    default property values to use for elements of\n",
            "    layout.updatemenus\n",
            "violingap\n",
            "    Sets the gap (in plot fraction) between violins of\n",
            "    adjacent location coordinates. Has no effect on traces\n",
            "    that have \"width\" set.\n",
            "violingroupgap\n",
            "    Sets the gap (in plot fraction) between violins of the\n",
            "    same location coordinate. Has no effect on traces that\n",
            "    have \"width\" set.\n",
            "violinmode\n",
            "    Determines how violins at the same location coordinate\n",
            "    are displayed on the graph. If \"group\", the violins are\n",
            "    plotted next to one another centered around the shared\n",
            "    location. If \"overlay\", the violins are plotted over\n",
            "    one another, you might need to set \"opacity\" to see\n",
            "    them multiple violins. Has no effect on traces that\n",
            "    have \"width\" set.\n",
            "waterfallgap\n",
            "    Sets the gap (in plot fraction) between bars of\n",
            "    adjacent location coordinates.\n",
            "waterfallgroupgap\n",
            "    Sets the gap (in plot fraction) between bars of the\n",
            "    same location coordinate.\n",
            "waterfallmode\n",
            "    Determines how bars at the same location coordinate are\n",
            "    displayed on the graph. With \"group\", the bars are\n",
            "    plotted next to one another centered around the shared\n",
            "    location. With \"overlay\", the bars are plotted over one\n",
            "    another, you might need to reduce \"opacity\" to see\n",
            "    multiple bars.\n",
            "width\n",
            "    Sets the plot's width (in px).\n",
            "xaxis\n",
            "    :class:`plotly.graph_objects.layout.XAxis` instance or\n",
            "    dict with compatible properties\n",
            "yaxis\n",
            "    :class:`plotly.graph_objects.layout.YAxis` instance or\n",
            "    dict with compatible properties\n",
            "\n",
            "Returns\n",
            "-------\n",
            "Layout\n",
            "\u001b[31mFile:\u001b[39m           ~/anaconda3/envs/jedha/lib/python3.13/site-packages/plotly/graph_objs/_layout.py\n",
            "\u001b[31mType:\u001b[39m           type\n",
            "\u001b[31mSubclasses:\u001b[39m     "
          ]
        }
      ],
      "source": [
        "go.Layout?"
      ]
    },
    {
      "cell_type": "code",
      "execution_count": 6,
      "metadata": {
        "id": "CwuVtnc2V8xm"
      },
      "outputs": [
        {
          "name": "stdout",
          "output_type": "stream",
          "text": [
            "\u001b[31mInit signature:\u001b[39m\n",
            "go.layout.Title(\n",
            "    arg=\u001b[38;5;28;01mNone\u001b[39;00m,\n",
            "    automargin=\u001b[38;5;28;01mNone\u001b[39;00m,\n",
            "    font=\u001b[38;5;28;01mNone\u001b[39;00m,\n",
            "    pad=\u001b[38;5;28;01mNone\u001b[39;00m,\n",
            "    subtitle=\u001b[38;5;28;01mNone\u001b[39;00m,\n",
            "    text=\u001b[38;5;28;01mNone\u001b[39;00m,\n",
            "    x=\u001b[38;5;28;01mNone\u001b[39;00m,\n",
            "    xanchor=\u001b[38;5;28;01mNone\u001b[39;00m,\n",
            "    xref=\u001b[38;5;28;01mNone\u001b[39;00m,\n",
            "    y=\u001b[38;5;28;01mNone\u001b[39;00m,\n",
            "    yanchor=\u001b[38;5;28;01mNone\u001b[39;00m,\n",
            "    yref=\u001b[38;5;28;01mNone\u001b[39;00m,\n",
            "    **kwargs,\n",
            ")\n",
            "\u001b[31mDocstring:\u001b[39m      Base class for all types in the layout hierarchy\n",
            "\u001b[31mInit docstring:\u001b[39m\n",
            "Construct a new Title object\n",
            "\n",
            "Parameters\n",
            "----------\n",
            "arg\n",
            "    dict of properties compatible with this constructor or\n",
            "    an instance of :class:`plotly.graph_objs.layout.Title`\n",
            "automargin\n",
            "    Determines whether the title can automatically push the\n",
            "    figure margins. If `yref='paper'` then the margin will\n",
            "    expand to ensure that the title doesn’t overlap with\n",
            "    the edges of the container. If `yref='container'` then\n",
            "    the margins will ensure that the title doesn’t overlap\n",
            "    with the plot area, tick labels, and axis titles. If\n",
            "    `automargin=true` and the margins need to be expanded,\n",
            "    then y will be set to a default 1 and yanchor will be\n",
            "    set to an appropriate default to ensure that minimal\n",
            "    margin space is needed. Note that when `yref='paper'`,\n",
            "    only 1 or 0 are allowed y values. Invalid values will\n",
            "    be reset to the default 1.\n",
            "font\n",
            "    Sets the title font.\n",
            "pad\n",
            "    Sets the padding of the title. Each padding value only\n",
            "    applies when the corresponding `xanchor`/`yanchor`\n",
            "    value is set accordingly. E.g. for left padding to take\n",
            "    effect, `xanchor` must be set to \"left\". The same rule\n",
            "    applies if `xanchor`/`yanchor` is determined\n",
            "    automatically. Padding is muted if the respective\n",
            "    anchor value is \"middle*/*center\".\n",
            "subtitle\n",
            "    :class:`plotly.graph_objects.layout.title.Subtitle`\n",
            "    instance or dict with compatible properties\n",
            "text\n",
            "    Sets the plot's title.\n",
            "x\n",
            "    Sets the x position with respect to `xref` in\n",
            "    normalized coordinates from 0 (left) to 1 (right).\n",
            "xanchor\n",
            "    Sets the title's horizontal alignment with respect to\n",
            "    its x position. \"left\" means that the title starts at\n",
            "    x, \"right\" means that the title ends at x and \"center\"\n",
            "    means that the title's center is at x. \"auto\" divides\n",
            "    `xref` by three and calculates the `xanchor` value\n",
            "    automatically based on the value of `x`.\n",
            "xref\n",
            "    Sets the container `x` refers to. \"container\" spans the\n",
            "    entire `width` of the plot. \"paper\" refers to the width\n",
            "    of the plotting area only.\n",
            "y\n",
            "    Sets the y position with respect to `yref` in\n",
            "    normalized coordinates from 0 (bottom) to 1 (top).\n",
            "    \"auto\" places the baseline of the title onto the\n",
            "    vertical center of the top margin.\n",
            "yanchor\n",
            "    Sets the title's vertical alignment with respect to its\n",
            "    y position. \"top\" means that the title's cap line is at\n",
            "    y, \"bottom\" means that the title's baseline is at y and\n",
            "    \"middle\" means that the title's midline is at y. \"auto\"\n",
            "    divides `yref` by three and calculates the `yanchor`\n",
            "    value automatically based on the value of `y`.\n",
            "yref\n",
            "    Sets the container `y` refers to. \"container\" spans the\n",
            "    entire `height` of the plot. \"paper\" refers to the\n",
            "    height of the plotting area only.\n",
            "\n",
            "Returns\n",
            "-------\n",
            "Title\n",
            "\u001b[31mFile:\u001b[39m           ~/anaconda3/envs/jedha/lib/python3.13/site-packages/plotly/graph_objs/layout/_title.py\n",
            "\u001b[31mType:\u001b[39m           type\n",
            "\u001b[31mSubclasses:\u001b[39m     "
          ]
        }
      ],
      "source": [
        "go.layout.Title?"
      ]
    },
    {
      "cell_type": "markdown",
      "metadata": {
        "id": "9C15Dlm8V8xm"
      },
      "source": [
        "Let's refine our scatter plot by using more graph objects :\n",
        "* `go.scatter.Marker` that provides control on the marker's style (here, we use it to change the marker colors)\n",
        "* `go.layout.XAxis` and `go.layout.YAxis` that allow us to define the axes' title and ranges"
      ]
    },
    {
      "cell_type": "code",
      "execution_count": 7,
      "metadata": {
        "colab": {
          "base_uri": "https://localhost:8080/",
          "height": 522
        },
        "id": "6fC4Z5WMV8xm",
        "outputId": "f1187d17-5542-4086-cab3-5e4f672f8f28"
      },
      "outputs": [
        {
          "data": {
            "application/vnd.plotly.v1+json": {
              "config": {
                "plotlyServerURL": "https://plot.ly"
              },
              "data": [
                {
                  "marker": {
                    "color": {
                      "bdata": "AQEBAQEBAQEBAQEBAQEBAQEBAQEBAQEBAQEBAQEBAQEBAQEBAQEBAQEBAQEBAQEBAQECAgICAgICAgICAgICAgICAgICAgICAgICAgICAgICAgICAgICAgICAgICAgICAgICAgMDAwMDAwMDAwMDAwMDAwMDAwMDAwMDAwMDAwMDAwMDAwMDAwMDAwMDAwMDAwMDAwMD",
                      "dtype": "i1"
                    }
                  },
                  "mode": "markers",
                  "type": "scatter",
                  "x": {
                    "bdata": "AAAAAAAADEAAAAAAAAAIQJqZmZmZmQlAzczMzMzMCEDNzMzMzMwMQDMzMzMzMw9AMzMzMzMzC0AzMzMzMzMLQDMzMzMzMwdAzczMzMzMCECamZmZmZkNQDMzMzMzMwtAAAAAAAAACEAAAAAAAAAIQAAAAAAAABBAmpmZmZmZEUAzMzMzMzMPQAAAAAAAAAxAZmZmZmZmDkBmZmZmZmYOQDMzMzMzMwtAmpmZmZmZDUDNzMzMzMwMQGZmZmZmZgpAMzMzMzMzC0AAAAAAAAAIQDMzMzMzMwtAAAAAAAAADEAzMzMzMzMLQJqZmZmZmQlAzczMzMzMCEAzMzMzMzMLQGZmZmZmZhBAzczMzMzMEEDNzMzMzMwIQJqZmZmZmQlAAAAAAAAADEDNzMzMzMwIQAAAAAAAAAhAMzMzMzMzC0AAAAAAAAAMQGZmZmZmZgJAmpmZmZmZCUAAAAAAAAAMQGZmZmZmZg5AAAAAAAAACEBmZmZmZmYOQJqZmZmZmQlAmpmZmZmZDUBmZmZmZmYKQJqZmZmZmQlAmpmZmZmZCUDNzMzMzMwIQGZmZmZmZgJAZmZmZmZmBkBmZmZmZmYGQGZmZmZmZgpAMzMzMzMzA0AzMzMzMzMHQJqZmZmZmQVAAAAAAAAAAEAAAAAAAAAIQJqZmZmZmQFAMzMzMzMzB0AzMzMzMzMHQM3MzMzMzAhAAAAAAAAACECamZmZmZkFQJqZmZmZmQFAAAAAAAAABECamZmZmZkJQGZmZmZmZgZAAAAAAAAABEBmZmZmZmYGQDMzMzMzMwdAAAAAAAAACEBmZmZmZmYGQAAAAAAAAAhAMzMzMzMzB0DNzMzMzMwEQDMzMzMzMwNAMzMzMzMzA0CamZmZmZkFQJqZmZmZmQVAAAAAAAAACEAzMzMzMzMLQM3MzMzMzAhAZmZmZmZmAkAAAAAAAAAIQAAAAAAAAARAzczMzMzMBEAAAAAAAAAIQM3MzMzMzARAZmZmZmZmAkCamZmZmZkFQAAAAAAAAAhAMzMzMzMzB0AzMzMzMzMHQAAAAAAAAARAZmZmZmZmBkBmZmZmZmYKQJqZmZmZmQVAAAAAAAAACEAzMzMzMzMHQAAAAAAAAAhAAAAAAAAACEAAAAAAAAAEQDMzMzMzMwdAAAAAAAAABEDNzMzMzMwMQJqZmZmZmQlAmpmZmZmZBUAAAAAAAAAIQAAAAAAAAARAZmZmZmZmBkCamZmZmZkJQAAAAAAAAAhAZmZmZmZmDkDNzMzMzMwEQJqZmZmZmQFAmpmZmZmZCUBmZmZmZmYGQGZmZmZmZgZAmpmZmZmZBUBmZmZmZmYKQJqZmZmZmQlAZmZmZmZmBkAAAAAAAAAIQGZmZmZmZgZAAAAAAAAACEBmZmZmZmYGQGZmZmZmZg5AZmZmZmZmBkBmZmZmZmYGQM3MzMzMzARAAAAAAAAACEAzMzMzMzMLQM3MzMzMzAhAAAAAAAAACEDNzMzMzMwIQM3MzMzMzAhAzczMzMzMCECamZmZmZkFQJqZmZmZmQlAZmZmZmZmCkAAAAAAAAAIQAAAAAAAAARAAAAAAAAACEAzMzMzMzMLQAAAAAAAAAhA",
                    "dtype": "f8"
                  },
                  "y": {
                    "bdata": "ZmZmZmZmFECamZmZmZkTQM3MzMzMzBJAZmZmZmZmEkAAAAAAAAAUQJqZmZmZmRVAZmZmZmZmEkAAAAAAAAAUQJqZmZmZmRFAmpmZmZmZE0CamZmZmZkVQDMzMzMzMxNAMzMzMzMzE0AzMzMzMzMRQDMzMzMzMxdAzczMzMzMFkCamZmZmZkVQGZmZmZmZhRAzczMzMzMFkBmZmZmZmYUQJqZmZmZmRVAZmZmZmZmFEBmZmZmZmYSQGZmZmZmZhRAMzMzMzMzE0AAAAAAAAAUQAAAAAAAABRAzczMzMzMFEDNzMzMzMwUQM3MzMzMzBJAMzMzMzMzE0CamZmZmZkVQM3MzMzMzBRAAAAAAAAAFkCamZmZmZkTQAAAAAAAABRAAAAAAAAAFkCamZmZmZkTQJqZmZmZmRFAZmZmZmZmFEAAAAAAAAAUQAAAAAAAABJAmpmZmZmZEUAAAAAAAAAUQGZmZmZmZhRAMzMzMzMzE0BmZmZmZmYUQGZmZmZmZhJAMzMzMzMzFUAAAAAAAAAUQAAAAAAAABxAmpmZmZmZGUCamZmZmZkbQAAAAAAAABZAAAAAAAAAGkDNzMzMzMwWQDMzMzMzMxlAmpmZmZmZE0BmZmZmZmYaQM3MzMzMzBRAAAAAAAAAFECamZmZmZkXQAAAAAAAABhAZmZmZmZmGEBmZmZmZmYWQM3MzMzMzBpAZmZmZmZmFkAzMzMzMzMXQM3MzMzMzBhAZmZmZmZmFkCamZmZmZkXQGZmZmZmZhhAMzMzMzMzGUBmZmZmZmYYQJqZmZmZmRlAZmZmZmZmGkAzMzMzMzMbQM3MzMzMzBpAAAAAAAAAGEDNzMzMzMwWQAAAAAAAABZAAAAAAAAAFkAzMzMzMzMXQAAAAAAAABhAmpmZmZmZFUAAAAAAAAAYQM3MzMzMzBpAMzMzMzMzGUBmZmZmZmYWQAAAAAAAABZAAAAAAAAAFkBmZmZmZmYYQDMzMzMzMxdAAAAAAAAAFEBmZmZmZmYWQM3MzMzMzBZAzczMzMzMFkDNzMzMzMwYQGZmZmZmZhRAzczMzMzMFkAzMzMzMzMZQDMzMzMzMxdAZmZmZmZmHEAzMzMzMzMZQAAAAAAAABpAZmZmZmZmHkCamZmZmZkTQDMzMzMzMx1AzczMzMzMGkDNzMzMzMwcQAAAAAAAABpAmpmZmZmZGUAzMzMzMzMbQM3MzMzMzBZAMzMzMzMzF0CamZmZmZkZQAAAAAAAABpAzczMzMzMHkDNzMzMzMweQAAAAAAAABhAmpmZmZmZG0BmZmZmZmYWQM3MzMzMzB5AMzMzMzMzGUDNzMzMzMwaQM3MzMzMzBxAzczMzMzMGEBmZmZmZmYYQJqZmZmZmRlAzczMzMzMHECamZmZmZkdQJqZmZmZmR9AmpmZmZmZGUAzMzMzMzMZQGZmZmZmZhhAzczMzMzMHkAzMzMzMzMZQJqZmZmZmRlAAAAAAAAAGECamZmZmZkbQM3MzMzMzBpAmpmZmZmZG0AzMzMzMzMXQDMzMzMzMxtAzczMzMzMGkDNzMzMzMwaQDMzMzMzMxlAAAAAAAAAGkDNzMzMzMwYQJqZmZmZmRdA",
                    "dtype": "f8"
                  }
                }
              ],
              "layout": {
                "template": {
                  "data": {
                    "bar": [
                      {
                        "error_x": {
                          "color": "#2a3f5f"
                        },
                        "error_y": {
                          "color": "#2a3f5f"
                        },
                        "marker": {
                          "line": {
                            "color": "#E5ECF6",
                            "width": 0.5
                          },
                          "pattern": {
                            "fillmode": "overlay",
                            "size": 10,
                            "solidity": 0.2
                          }
                        },
                        "type": "bar"
                      }
                    ],
                    "barpolar": [
                      {
                        "marker": {
                          "line": {
                            "color": "#E5ECF6",
                            "width": 0.5
                          },
                          "pattern": {
                            "fillmode": "overlay",
                            "size": 10,
                            "solidity": 0.2
                          }
                        },
                        "type": "barpolar"
                      }
                    ],
                    "carpet": [
                      {
                        "aaxis": {
                          "endlinecolor": "#2a3f5f",
                          "gridcolor": "white",
                          "linecolor": "white",
                          "minorgridcolor": "white",
                          "startlinecolor": "#2a3f5f"
                        },
                        "baxis": {
                          "endlinecolor": "#2a3f5f",
                          "gridcolor": "white",
                          "linecolor": "white",
                          "minorgridcolor": "white",
                          "startlinecolor": "#2a3f5f"
                        },
                        "type": "carpet"
                      }
                    ],
                    "choropleth": [
                      {
                        "colorbar": {
                          "outlinewidth": 0,
                          "ticks": ""
                        },
                        "type": "choropleth"
                      }
                    ],
                    "contour": [
                      {
                        "colorbar": {
                          "outlinewidth": 0,
                          "ticks": ""
                        },
                        "colorscale": [
                          [
                            0,
                            "#0d0887"
                          ],
                          [
                            0.1111111111111111,
                            "#46039f"
                          ],
                          [
                            0.2222222222222222,
                            "#7201a8"
                          ],
                          [
                            0.3333333333333333,
                            "#9c179e"
                          ],
                          [
                            0.4444444444444444,
                            "#bd3786"
                          ],
                          [
                            0.5555555555555556,
                            "#d8576b"
                          ],
                          [
                            0.6666666666666666,
                            "#ed7953"
                          ],
                          [
                            0.7777777777777778,
                            "#fb9f3a"
                          ],
                          [
                            0.8888888888888888,
                            "#fdca26"
                          ],
                          [
                            1,
                            "#f0f921"
                          ]
                        ],
                        "type": "contour"
                      }
                    ],
                    "contourcarpet": [
                      {
                        "colorbar": {
                          "outlinewidth": 0,
                          "ticks": ""
                        },
                        "type": "contourcarpet"
                      }
                    ],
                    "heatmap": [
                      {
                        "colorbar": {
                          "outlinewidth": 0,
                          "ticks": ""
                        },
                        "colorscale": [
                          [
                            0,
                            "#0d0887"
                          ],
                          [
                            0.1111111111111111,
                            "#46039f"
                          ],
                          [
                            0.2222222222222222,
                            "#7201a8"
                          ],
                          [
                            0.3333333333333333,
                            "#9c179e"
                          ],
                          [
                            0.4444444444444444,
                            "#bd3786"
                          ],
                          [
                            0.5555555555555556,
                            "#d8576b"
                          ],
                          [
                            0.6666666666666666,
                            "#ed7953"
                          ],
                          [
                            0.7777777777777778,
                            "#fb9f3a"
                          ],
                          [
                            0.8888888888888888,
                            "#fdca26"
                          ],
                          [
                            1,
                            "#f0f921"
                          ]
                        ],
                        "type": "heatmap"
                      }
                    ],
                    "histogram": [
                      {
                        "marker": {
                          "pattern": {
                            "fillmode": "overlay",
                            "size": 10,
                            "solidity": 0.2
                          }
                        },
                        "type": "histogram"
                      }
                    ],
                    "histogram2d": [
                      {
                        "colorbar": {
                          "outlinewidth": 0,
                          "ticks": ""
                        },
                        "colorscale": [
                          [
                            0,
                            "#0d0887"
                          ],
                          [
                            0.1111111111111111,
                            "#46039f"
                          ],
                          [
                            0.2222222222222222,
                            "#7201a8"
                          ],
                          [
                            0.3333333333333333,
                            "#9c179e"
                          ],
                          [
                            0.4444444444444444,
                            "#bd3786"
                          ],
                          [
                            0.5555555555555556,
                            "#d8576b"
                          ],
                          [
                            0.6666666666666666,
                            "#ed7953"
                          ],
                          [
                            0.7777777777777778,
                            "#fb9f3a"
                          ],
                          [
                            0.8888888888888888,
                            "#fdca26"
                          ],
                          [
                            1,
                            "#f0f921"
                          ]
                        ],
                        "type": "histogram2d"
                      }
                    ],
                    "histogram2dcontour": [
                      {
                        "colorbar": {
                          "outlinewidth": 0,
                          "ticks": ""
                        },
                        "colorscale": [
                          [
                            0,
                            "#0d0887"
                          ],
                          [
                            0.1111111111111111,
                            "#46039f"
                          ],
                          [
                            0.2222222222222222,
                            "#7201a8"
                          ],
                          [
                            0.3333333333333333,
                            "#9c179e"
                          ],
                          [
                            0.4444444444444444,
                            "#bd3786"
                          ],
                          [
                            0.5555555555555556,
                            "#d8576b"
                          ],
                          [
                            0.6666666666666666,
                            "#ed7953"
                          ],
                          [
                            0.7777777777777778,
                            "#fb9f3a"
                          ],
                          [
                            0.8888888888888888,
                            "#fdca26"
                          ],
                          [
                            1,
                            "#f0f921"
                          ]
                        ],
                        "type": "histogram2dcontour"
                      }
                    ],
                    "mesh3d": [
                      {
                        "colorbar": {
                          "outlinewidth": 0,
                          "ticks": ""
                        },
                        "type": "mesh3d"
                      }
                    ],
                    "parcoords": [
                      {
                        "line": {
                          "colorbar": {
                            "outlinewidth": 0,
                            "ticks": ""
                          }
                        },
                        "type": "parcoords"
                      }
                    ],
                    "pie": [
                      {
                        "automargin": true,
                        "type": "pie"
                      }
                    ],
                    "scatter": [
                      {
                        "fillpattern": {
                          "fillmode": "overlay",
                          "size": 10,
                          "solidity": 0.2
                        },
                        "type": "scatter"
                      }
                    ],
                    "scatter3d": [
                      {
                        "line": {
                          "colorbar": {
                            "outlinewidth": 0,
                            "ticks": ""
                          }
                        },
                        "marker": {
                          "colorbar": {
                            "outlinewidth": 0,
                            "ticks": ""
                          }
                        },
                        "type": "scatter3d"
                      }
                    ],
                    "scattercarpet": [
                      {
                        "marker": {
                          "colorbar": {
                            "outlinewidth": 0,
                            "ticks": ""
                          }
                        },
                        "type": "scattercarpet"
                      }
                    ],
                    "scattergeo": [
                      {
                        "marker": {
                          "colorbar": {
                            "outlinewidth": 0,
                            "ticks": ""
                          }
                        },
                        "type": "scattergeo"
                      }
                    ],
                    "scattergl": [
                      {
                        "marker": {
                          "colorbar": {
                            "outlinewidth": 0,
                            "ticks": ""
                          }
                        },
                        "type": "scattergl"
                      }
                    ],
                    "scattermap": [
                      {
                        "marker": {
                          "colorbar": {
                            "outlinewidth": 0,
                            "ticks": ""
                          }
                        },
                        "type": "scattermap"
                      }
                    ],
                    "scattermapbox": [
                      {
                        "marker": {
                          "colorbar": {
                            "outlinewidth": 0,
                            "ticks": ""
                          }
                        },
                        "type": "scattermapbox"
                      }
                    ],
                    "scatterpolar": [
                      {
                        "marker": {
                          "colorbar": {
                            "outlinewidth": 0,
                            "ticks": ""
                          }
                        },
                        "type": "scatterpolar"
                      }
                    ],
                    "scatterpolargl": [
                      {
                        "marker": {
                          "colorbar": {
                            "outlinewidth": 0,
                            "ticks": ""
                          }
                        },
                        "type": "scatterpolargl"
                      }
                    ],
                    "scatterternary": [
                      {
                        "marker": {
                          "colorbar": {
                            "outlinewidth": 0,
                            "ticks": ""
                          }
                        },
                        "type": "scatterternary"
                      }
                    ],
                    "surface": [
                      {
                        "colorbar": {
                          "outlinewidth": 0,
                          "ticks": ""
                        },
                        "colorscale": [
                          [
                            0,
                            "#0d0887"
                          ],
                          [
                            0.1111111111111111,
                            "#46039f"
                          ],
                          [
                            0.2222222222222222,
                            "#7201a8"
                          ],
                          [
                            0.3333333333333333,
                            "#9c179e"
                          ],
                          [
                            0.4444444444444444,
                            "#bd3786"
                          ],
                          [
                            0.5555555555555556,
                            "#d8576b"
                          ],
                          [
                            0.6666666666666666,
                            "#ed7953"
                          ],
                          [
                            0.7777777777777778,
                            "#fb9f3a"
                          ],
                          [
                            0.8888888888888888,
                            "#fdca26"
                          ],
                          [
                            1,
                            "#f0f921"
                          ]
                        ],
                        "type": "surface"
                      }
                    ],
                    "table": [
                      {
                        "cells": {
                          "fill": {
                            "color": "#EBF0F8"
                          },
                          "line": {
                            "color": "white"
                          }
                        },
                        "header": {
                          "fill": {
                            "color": "#C8D4E3"
                          },
                          "line": {
                            "color": "white"
                          }
                        },
                        "type": "table"
                      }
                    ]
                  },
                  "layout": {
                    "annotationdefaults": {
                      "arrowcolor": "#2a3f5f",
                      "arrowhead": 0,
                      "arrowwidth": 1
                    },
                    "autotypenumbers": "strict",
                    "coloraxis": {
                      "colorbar": {
                        "outlinewidth": 0,
                        "ticks": ""
                      }
                    },
                    "colorscale": {
                      "diverging": [
                        [
                          0,
                          "#8e0152"
                        ],
                        [
                          0.1,
                          "#c51b7d"
                        ],
                        [
                          0.2,
                          "#de77ae"
                        ],
                        [
                          0.3,
                          "#f1b6da"
                        ],
                        [
                          0.4,
                          "#fde0ef"
                        ],
                        [
                          0.5,
                          "#f7f7f7"
                        ],
                        [
                          0.6,
                          "#e6f5d0"
                        ],
                        [
                          0.7,
                          "#b8e186"
                        ],
                        [
                          0.8,
                          "#7fbc41"
                        ],
                        [
                          0.9,
                          "#4d9221"
                        ],
                        [
                          1,
                          "#276419"
                        ]
                      ],
                      "sequential": [
                        [
                          0,
                          "#0d0887"
                        ],
                        [
                          0.1111111111111111,
                          "#46039f"
                        ],
                        [
                          0.2222222222222222,
                          "#7201a8"
                        ],
                        [
                          0.3333333333333333,
                          "#9c179e"
                        ],
                        [
                          0.4444444444444444,
                          "#bd3786"
                        ],
                        [
                          0.5555555555555556,
                          "#d8576b"
                        ],
                        [
                          0.6666666666666666,
                          "#ed7953"
                        ],
                        [
                          0.7777777777777778,
                          "#fb9f3a"
                        ],
                        [
                          0.8888888888888888,
                          "#fdca26"
                        ],
                        [
                          1,
                          "#f0f921"
                        ]
                      ],
                      "sequentialminus": [
                        [
                          0,
                          "#0d0887"
                        ],
                        [
                          0.1111111111111111,
                          "#46039f"
                        ],
                        [
                          0.2222222222222222,
                          "#7201a8"
                        ],
                        [
                          0.3333333333333333,
                          "#9c179e"
                        ],
                        [
                          0.4444444444444444,
                          "#bd3786"
                        ],
                        [
                          0.5555555555555556,
                          "#d8576b"
                        ],
                        [
                          0.6666666666666666,
                          "#ed7953"
                        ],
                        [
                          0.7777777777777778,
                          "#fb9f3a"
                        ],
                        [
                          0.8888888888888888,
                          "#fdca26"
                        ],
                        [
                          1,
                          "#f0f921"
                        ]
                      ]
                    },
                    "colorway": [
                      "#636efa",
                      "#EF553B",
                      "#00cc96",
                      "#ab63fa",
                      "#FFA15A",
                      "#19d3f3",
                      "#FF6692",
                      "#B6E880",
                      "#FF97FF",
                      "#FECB52"
                    ],
                    "font": {
                      "color": "#2a3f5f"
                    },
                    "geo": {
                      "bgcolor": "white",
                      "lakecolor": "white",
                      "landcolor": "#E5ECF6",
                      "showlakes": true,
                      "showland": true,
                      "subunitcolor": "white"
                    },
                    "hoverlabel": {
                      "align": "left"
                    },
                    "hovermode": "closest",
                    "mapbox": {
                      "style": "light"
                    },
                    "paper_bgcolor": "white",
                    "plot_bgcolor": "#E5ECF6",
                    "polar": {
                      "angularaxis": {
                        "gridcolor": "white",
                        "linecolor": "white",
                        "ticks": ""
                      },
                      "bgcolor": "#E5ECF6",
                      "radialaxis": {
                        "gridcolor": "white",
                        "linecolor": "white",
                        "ticks": ""
                      }
                    },
                    "scene": {
                      "xaxis": {
                        "backgroundcolor": "#E5ECF6",
                        "gridcolor": "white",
                        "gridwidth": 2,
                        "linecolor": "white",
                        "showbackground": true,
                        "ticks": "",
                        "zerolinecolor": "white"
                      },
                      "yaxis": {
                        "backgroundcolor": "#E5ECF6",
                        "gridcolor": "white",
                        "gridwidth": 2,
                        "linecolor": "white",
                        "showbackground": true,
                        "ticks": "",
                        "zerolinecolor": "white"
                      },
                      "zaxis": {
                        "backgroundcolor": "#E5ECF6",
                        "gridcolor": "white",
                        "gridwidth": 2,
                        "linecolor": "white",
                        "showbackground": true,
                        "ticks": "",
                        "zerolinecolor": "white"
                      }
                    },
                    "shapedefaults": {
                      "line": {
                        "color": "#2a3f5f"
                      }
                    },
                    "ternary": {
                      "aaxis": {
                        "gridcolor": "white",
                        "linecolor": "white",
                        "ticks": ""
                      },
                      "baxis": {
                        "gridcolor": "white",
                        "linecolor": "white",
                        "ticks": ""
                      },
                      "bgcolor": "#E5ECF6",
                      "caxis": {
                        "gridcolor": "white",
                        "linecolor": "white",
                        "ticks": ""
                      }
                    },
                    "title": {
                      "x": 0.05
                    },
                    "xaxis": {
                      "automargin": true,
                      "gridcolor": "white",
                      "linecolor": "white",
                      "ticks": "",
                      "title": {
                        "standoff": 15
                      },
                      "zerolinecolor": "white",
                      "zerolinewidth": 2
                    },
                    "yaxis": {
                      "automargin": true,
                      "gridcolor": "white",
                      "linecolor": "white",
                      "ticks": "",
                      "title": {
                        "standoff": 15
                      },
                      "zerolinecolor": "white",
                      "zerolinewidth": 2
                    }
                  }
                },
                "title": {
                  "text": "This figure has been made with plotly graph objects",
                  "x": 0.5
                },
                "xaxis": {
                  "range": [
                    0,
                    5
                  ],
                  "title": {
                    "text": "Sepal width"
                  }
                },
                "yaxis": {
                  "range": [
                    0,
                    10
                  ],
                  "title": {
                    "text": "Sepal length"
                  }
                }
              }
            }
          },
          "metadata": {},
          "output_type": "display_data"
        }
      ],
      "source": [
        "fig = go.Figure(\n",
        "    data = go.Scatter(\n",
        "        x = df['sepal_width'],\n",
        "        y = df['sepal_length'],\n",
        "        mode = 'markers',\n",
        "        marker = go.scatter.Marker(color = df['species_id'])),\n",
        "    layout = go.Layout(\n",
        "        title = go.layout.Title(text = \"This figure has been made with plotly graph objects\", x = 0.5),\n",
        "        xaxis = go.layout.XAxis(title = 'Sepal width', range = [0, 5]),\n",
        "        yaxis = go.layout.YAxis(title = 'Sepal length', range = [0, 10])\n",
        "    )\n",
        ")\n",
        "\n",
        "fig.show()"
      ]
    },
    {
      "cell_type": "code",
      "execution_count": 8,
      "metadata": {
        "id": "jEPutotoV8xm"
      },
      "outputs": [
        {
          "name": "stdout",
          "output_type": "stream",
          "text": [
            "\u001b[31mInit signature:\u001b[39m\n",
            "go.scatter.Marker(\n",
            "    arg=\u001b[38;5;28;01mNone\u001b[39;00m,\n",
            "    angle=\u001b[38;5;28;01mNone\u001b[39;00m,\n",
            "    angleref=\u001b[38;5;28;01mNone\u001b[39;00m,\n",
            "    anglesrc=\u001b[38;5;28;01mNone\u001b[39;00m,\n",
            "    autocolorscale=\u001b[38;5;28;01mNone\u001b[39;00m,\n",
            "    cauto=\u001b[38;5;28;01mNone\u001b[39;00m,\n",
            "    cmax=\u001b[38;5;28;01mNone\u001b[39;00m,\n",
            "    cmid=\u001b[38;5;28;01mNone\u001b[39;00m,\n",
            "    cmin=\u001b[38;5;28;01mNone\u001b[39;00m,\n",
            "    color=\u001b[38;5;28;01mNone\u001b[39;00m,\n",
            "    coloraxis=\u001b[38;5;28;01mNone\u001b[39;00m,\n",
            "    colorbar=\u001b[38;5;28;01mNone\u001b[39;00m,\n",
            "    colorscale=\u001b[38;5;28;01mNone\u001b[39;00m,\n",
            "    colorsrc=\u001b[38;5;28;01mNone\u001b[39;00m,\n",
            "    gradient=\u001b[38;5;28;01mNone\u001b[39;00m,\n",
            "    line=\u001b[38;5;28;01mNone\u001b[39;00m,\n",
            "    maxdisplayed=\u001b[38;5;28;01mNone\u001b[39;00m,\n",
            "    opacity=\u001b[38;5;28;01mNone\u001b[39;00m,\n",
            "    opacitysrc=\u001b[38;5;28;01mNone\u001b[39;00m,\n",
            "    reversescale=\u001b[38;5;28;01mNone\u001b[39;00m,\n",
            "    showscale=\u001b[38;5;28;01mNone\u001b[39;00m,\n",
            "    size=\u001b[38;5;28;01mNone\u001b[39;00m,\n",
            "    sizemin=\u001b[38;5;28;01mNone\u001b[39;00m,\n",
            "    sizemode=\u001b[38;5;28;01mNone\u001b[39;00m,\n",
            "    sizeref=\u001b[38;5;28;01mNone\u001b[39;00m,\n",
            "    sizesrc=\u001b[38;5;28;01mNone\u001b[39;00m,\n",
            "    standoff=\u001b[38;5;28;01mNone\u001b[39;00m,\n",
            "    standoffsrc=\u001b[38;5;28;01mNone\u001b[39;00m,\n",
            "    symbol=\u001b[38;5;28;01mNone\u001b[39;00m,\n",
            "    symbolsrc=\u001b[38;5;28;01mNone\u001b[39;00m,\n",
            "    **kwargs,\n",
            ")\n",
            "\u001b[31mDocstring:\u001b[39m      Base class for all types in the trace hierarchy\n",
            "\u001b[31mInit docstring:\u001b[39m\n",
            "Construct a new Marker object\n",
            "\n",
            "Parameters\n",
            "----------\n",
            "arg\n",
            "    dict of properties compatible with this constructor or\n",
            "    an instance of\n",
            "    :class:`plotly.graph_objs.scatter.Marker`\n",
            "angle\n",
            "    Sets the marker angle in respect to `angleref`.\n",
            "angleref\n",
            "    Sets the reference for marker angle. With \"previous\",\n",
            "    angle 0 points along the line from the previous point\n",
            "    to this one. With \"up\", angle 0 points toward the top\n",
            "    of the screen.\n",
            "anglesrc\n",
            "    Sets the source reference on Chart Studio Cloud for\n",
            "    `angle`.\n",
            "autocolorscale\n",
            "    Determines whether the colorscale is a default palette\n",
            "    (`autocolorscale: true`) or the palette determined by\n",
            "    `marker.colorscale`. Has an effect only if in\n",
            "    `marker.color` is set to a numerical array. In case\n",
            "    `colorscale` is unspecified or `autocolorscale` is\n",
            "    true, the default palette will be chosen according to\n",
            "    whether numbers in the `color` array are all positive,\n",
            "    all negative or mixed.\n",
            "cauto\n",
            "    Determines whether or not the color domain is computed\n",
            "    with respect to the input data (here in `marker.color`)\n",
            "    or the bounds set in `marker.cmin` and `marker.cmax`\n",
            "    Has an effect only if in `marker.color` is set to a\n",
            "    numerical array. Defaults to `false` when `marker.cmin`\n",
            "    and `marker.cmax` are set by the user.\n",
            "cmax\n",
            "    Sets the upper bound of the color domain. Has an effect\n",
            "    only if in `marker.color` is set to a numerical array.\n",
            "    Value should have the same units as in `marker.color`\n",
            "    and if set, `marker.cmin` must be set as well.\n",
            "cmid\n",
            "    Sets the mid-point of the color domain by scaling\n",
            "    `marker.cmin` and/or `marker.cmax` to be equidistant to\n",
            "    this point. Has an effect only if in `marker.color` is\n",
            "    set to a numerical array. Value should have the same\n",
            "    units as in `marker.color`. Has no effect when\n",
            "    `marker.cauto` is `false`.\n",
            "cmin\n",
            "    Sets the lower bound of the color domain. Has an effect\n",
            "    only if in `marker.color` is set to a numerical array.\n",
            "    Value should have the same units as in `marker.color`\n",
            "    and if set, `marker.cmax` must be set as well.\n",
            "color\n",
            "    Sets the marker color. It accepts either a specific\n",
            "    color or an array of numbers that are mapped to the\n",
            "    colorscale relative to the max and min values of the\n",
            "    array or relative to `marker.cmin` and `marker.cmax` if\n",
            "    set.\n",
            "coloraxis\n",
            "    Sets a reference to a shared color axis. References to\n",
            "    these shared color axes are \"coloraxis\", \"coloraxis2\",\n",
            "    \"coloraxis3\", etc. Settings for these shared color axes\n",
            "    are set in the layout, under `layout.coloraxis`,\n",
            "    `layout.coloraxis2`, etc. Note that multiple color\n",
            "    scales can be linked to the same color axis.\n",
            "colorbar\n",
            "    :class:`plotly.graph_objects.scatter.marker.ColorBar`\n",
            "    instance or dict with compatible properties\n",
            "colorscale\n",
            "    Sets the colorscale. Has an effect only if in\n",
            "    `marker.color` is set to a numerical array. The\n",
            "    colorscale must be an array containing arrays mapping a\n",
            "    normalized value to an rgb, rgba, hex, hsl, hsv, or\n",
            "    named color string. At minimum, a mapping for the\n",
            "    lowest (0) and highest (1) values are required. For\n",
            "    example, `[[0, 'rgb(0,0,255)'], [1, 'rgb(255,0,0)']]`.\n",
            "    To control the bounds of the colorscale in color space,\n",
            "    use `marker.cmin` and `marker.cmax`. Alternatively,\n",
            "    `colorscale` may be a palette name string of the\n",
            "    following list: Blackbody,Bluered,Blues,Cividis,Earth,E\n",
            "    lectric,Greens,Greys,Hot,Jet,Picnic,Portland,Rainbow,Rd\n",
            "    Bu,Reds,Viridis,YlGnBu,YlOrRd.\n",
            "colorsrc\n",
            "    Sets the source reference on Chart Studio Cloud for\n",
            "    `color`.\n",
            "gradient\n",
            "    :class:`plotly.graph_objects.scatter.marker.Gradient`\n",
            "    instance or dict with compatible properties\n",
            "line\n",
            "    :class:`plotly.graph_objects.scatter.marker.Line`\n",
            "    instance or dict with compatible properties\n",
            "maxdisplayed\n",
            "    Sets a maximum number of points to be drawn on the\n",
            "    graph. 0 corresponds to no limit.\n",
            "opacity\n",
            "    Sets the marker opacity.\n",
            "opacitysrc\n",
            "    Sets the source reference on Chart Studio Cloud for\n",
            "    `opacity`.\n",
            "reversescale\n",
            "    Reverses the color mapping if true. Has an effect only\n",
            "    if in `marker.color` is set to a numerical array. If\n",
            "    true, `marker.cmin` will correspond to the last color\n",
            "    in the array and `marker.cmax` will correspond to the\n",
            "    first color.\n",
            "showscale\n",
            "    Determines whether or not a colorbar is displayed for\n",
            "    this trace. Has an effect only if in `marker.color` is\n",
            "    set to a numerical array.\n",
            "size\n",
            "    Sets the marker size (in px).\n",
            "sizemin\n",
            "    Has an effect only if `marker.size` is set to a\n",
            "    numerical array. Sets the minimum size (in px) of the\n",
            "    rendered marker points.\n",
            "sizemode\n",
            "    Has an effect only if `marker.size` is set to a\n",
            "    numerical array. Sets the rule for which the data in\n",
            "    `size` is converted to pixels.\n",
            "sizeref\n",
            "    Has an effect only if `marker.size` is set to a\n",
            "    numerical array. Sets the scale factor used to\n",
            "    determine the rendered size of marker points. Use with\n",
            "    `sizemin` and `sizemode`.\n",
            "sizesrc\n",
            "    Sets the source reference on Chart Studio Cloud for\n",
            "    `size`.\n",
            "standoff\n",
            "    Moves the marker away from the data point in the\n",
            "    direction of `angle` (in px). This can be useful for\n",
            "    example if you have another marker at this location and\n",
            "    you want to point an arrowhead marker at it.\n",
            "standoffsrc\n",
            "    Sets the source reference on Chart Studio Cloud for\n",
            "    `standoff`.\n",
            "symbol\n",
            "    Sets the marker symbol type. Adding 100 is equivalent\n",
            "    to appending \"-open\" to a symbol name. Adding 200 is\n",
            "    equivalent to appending \"-dot\" to a symbol name. Adding\n",
            "    300 is equivalent to appending \"-open-dot\" or \"dot-\n",
            "    open\" to a symbol name.\n",
            "symbolsrc\n",
            "    Sets the source reference on Chart Studio Cloud for\n",
            "    `symbol`.\n",
            "\n",
            "Returns\n",
            "-------\n",
            "Marker\n",
            "\u001b[31mFile:\u001b[39m           ~/anaconda3/envs/jedha/lib/python3.13/site-packages/plotly/graph_objs/scatter/_marker.py\n",
            "\u001b[31mType:\u001b[39m           type\n",
            "\u001b[31mSubclasses:\u001b[39m     "
          ]
        }
      ],
      "source": [
        "go.scatter.Marker?"
      ]
    },
    {
      "cell_type": "code",
      "execution_count": 9,
      "metadata": {
        "id": "wLh_5mywV8xm"
      },
      "outputs": [
        {
          "name": "stdout",
          "output_type": "stream",
          "text": [
            "\u001b[31mInit signature:\u001b[39m\n",
            "go.layout.XAxis(\n",
            "    arg=\u001b[38;5;28;01mNone\u001b[39;00m,\n",
            "    anchor=\u001b[38;5;28;01mNone\u001b[39;00m,\n",
            "    automargin=\u001b[38;5;28;01mNone\u001b[39;00m,\n",
            "    autorange=\u001b[38;5;28;01mNone\u001b[39;00m,\n",
            "    autorangeoptions=\u001b[38;5;28;01mNone\u001b[39;00m,\n",
            "    autotickangles=\u001b[38;5;28;01mNone\u001b[39;00m,\n",
            "    autotypenumbers=\u001b[38;5;28;01mNone\u001b[39;00m,\n",
            "    calendar=\u001b[38;5;28;01mNone\u001b[39;00m,\n",
            "    categoryarray=\u001b[38;5;28;01mNone\u001b[39;00m,\n",
            "    categoryarraysrc=\u001b[38;5;28;01mNone\u001b[39;00m,\n",
            "    categoryorder=\u001b[38;5;28;01mNone\u001b[39;00m,\n",
            "    color=\u001b[38;5;28;01mNone\u001b[39;00m,\n",
            "    constrain=\u001b[38;5;28;01mNone\u001b[39;00m,\n",
            "    constraintoward=\u001b[38;5;28;01mNone\u001b[39;00m,\n",
            "    dividercolor=\u001b[38;5;28;01mNone\u001b[39;00m,\n",
            "    dividerwidth=\u001b[38;5;28;01mNone\u001b[39;00m,\n",
            "    domain=\u001b[38;5;28;01mNone\u001b[39;00m,\n",
            "    dtick=\u001b[38;5;28;01mNone\u001b[39;00m,\n",
            "    exponentformat=\u001b[38;5;28;01mNone\u001b[39;00m,\n",
            "    fixedrange=\u001b[38;5;28;01mNone\u001b[39;00m,\n",
            "    gridcolor=\u001b[38;5;28;01mNone\u001b[39;00m,\n",
            "    griddash=\u001b[38;5;28;01mNone\u001b[39;00m,\n",
            "    gridwidth=\u001b[38;5;28;01mNone\u001b[39;00m,\n",
            "    hoverformat=\u001b[38;5;28;01mNone\u001b[39;00m,\n",
            "    insiderange=\u001b[38;5;28;01mNone\u001b[39;00m,\n",
            "    labelalias=\u001b[38;5;28;01mNone\u001b[39;00m,\n",
            "    layer=\u001b[38;5;28;01mNone\u001b[39;00m,\n",
            "    linecolor=\u001b[38;5;28;01mNone\u001b[39;00m,\n",
            "    linewidth=\u001b[38;5;28;01mNone\u001b[39;00m,\n",
            "    matches=\u001b[38;5;28;01mNone\u001b[39;00m,\n",
            "    maxallowed=\u001b[38;5;28;01mNone\u001b[39;00m,\n",
            "    minallowed=\u001b[38;5;28;01mNone\u001b[39;00m,\n",
            "    minexponent=\u001b[38;5;28;01mNone\u001b[39;00m,\n",
            "    minor=\u001b[38;5;28;01mNone\u001b[39;00m,\n",
            "    mirror=\u001b[38;5;28;01mNone\u001b[39;00m,\n",
            "    nticks=\u001b[38;5;28;01mNone\u001b[39;00m,\n",
            "    overlaying=\u001b[38;5;28;01mNone\u001b[39;00m,\n",
            "    position=\u001b[38;5;28;01mNone\u001b[39;00m,\n",
            "    range=\u001b[38;5;28;01mNone\u001b[39;00m,\n",
            "    rangebreaks=\u001b[38;5;28;01mNone\u001b[39;00m,\n",
            "    rangebreakdefaults=\u001b[38;5;28;01mNone\u001b[39;00m,\n",
            "    rangemode=\u001b[38;5;28;01mNone\u001b[39;00m,\n",
            "    rangeselector=\u001b[38;5;28;01mNone\u001b[39;00m,\n",
            "    rangeslider=\u001b[38;5;28;01mNone\u001b[39;00m,\n",
            "    scaleanchor=\u001b[38;5;28;01mNone\u001b[39;00m,\n",
            "    scaleratio=\u001b[38;5;28;01mNone\u001b[39;00m,\n",
            "    separatethousands=\u001b[38;5;28;01mNone\u001b[39;00m,\n",
            "    showdividers=\u001b[38;5;28;01mNone\u001b[39;00m,\n",
            "    showexponent=\u001b[38;5;28;01mNone\u001b[39;00m,\n",
            "    showgrid=\u001b[38;5;28;01mNone\u001b[39;00m,\n",
            "    showline=\u001b[38;5;28;01mNone\u001b[39;00m,\n",
            "    showspikes=\u001b[38;5;28;01mNone\u001b[39;00m,\n",
            "    showticklabels=\u001b[38;5;28;01mNone\u001b[39;00m,\n",
            "    showtickprefix=\u001b[38;5;28;01mNone\u001b[39;00m,\n",
            "    showticksuffix=\u001b[38;5;28;01mNone\u001b[39;00m,\n",
            "    side=\u001b[38;5;28;01mNone\u001b[39;00m,\n",
            "    spikecolor=\u001b[38;5;28;01mNone\u001b[39;00m,\n",
            "    spikedash=\u001b[38;5;28;01mNone\u001b[39;00m,\n",
            "    spikemode=\u001b[38;5;28;01mNone\u001b[39;00m,\n",
            "    spikesnap=\u001b[38;5;28;01mNone\u001b[39;00m,\n",
            "    spikethickness=\u001b[38;5;28;01mNone\u001b[39;00m,\n",
            "    tick0=\u001b[38;5;28;01mNone\u001b[39;00m,\n",
            "    tickangle=\u001b[38;5;28;01mNone\u001b[39;00m,\n",
            "    tickcolor=\u001b[38;5;28;01mNone\u001b[39;00m,\n",
            "    tickfont=\u001b[38;5;28;01mNone\u001b[39;00m,\n",
            "    tickformat=\u001b[38;5;28;01mNone\u001b[39;00m,\n",
            "    tickformatstops=\u001b[38;5;28;01mNone\u001b[39;00m,\n",
            "    tickformatstopdefaults=\u001b[38;5;28;01mNone\u001b[39;00m,\n",
            "    ticklabelindex=\u001b[38;5;28;01mNone\u001b[39;00m,\n",
            "    ticklabelindexsrc=\u001b[38;5;28;01mNone\u001b[39;00m,\n",
            "    ticklabelmode=\u001b[38;5;28;01mNone\u001b[39;00m,\n",
            "    ticklabeloverflow=\u001b[38;5;28;01mNone\u001b[39;00m,\n",
            "    ticklabelposition=\u001b[38;5;28;01mNone\u001b[39;00m,\n",
            "    ticklabelshift=\u001b[38;5;28;01mNone\u001b[39;00m,\n",
            "    ticklabelstandoff=\u001b[38;5;28;01mNone\u001b[39;00m,\n",
            "    ticklabelstep=\u001b[38;5;28;01mNone\u001b[39;00m,\n",
            "    ticklen=\u001b[38;5;28;01mNone\u001b[39;00m,\n",
            "    tickmode=\u001b[38;5;28;01mNone\u001b[39;00m,\n",
            "    tickprefix=\u001b[38;5;28;01mNone\u001b[39;00m,\n",
            "    ticks=\u001b[38;5;28;01mNone\u001b[39;00m,\n",
            "    tickson=\u001b[38;5;28;01mNone\u001b[39;00m,\n",
            "    ticksuffix=\u001b[38;5;28;01mNone\u001b[39;00m,\n",
            "    ticktext=\u001b[38;5;28;01mNone\u001b[39;00m,\n",
            "    ticktextsrc=\u001b[38;5;28;01mNone\u001b[39;00m,\n",
            "    tickvals=\u001b[38;5;28;01mNone\u001b[39;00m,\n",
            "    tickvalssrc=\u001b[38;5;28;01mNone\u001b[39;00m,\n",
            "    tickwidth=\u001b[38;5;28;01mNone\u001b[39;00m,\n",
            "    title=\u001b[38;5;28;01mNone\u001b[39;00m,\n",
            "    type=\u001b[38;5;28;01mNone\u001b[39;00m,\n",
            "    uirevision=\u001b[38;5;28;01mNone\u001b[39;00m,\n",
            "    visible=\u001b[38;5;28;01mNone\u001b[39;00m,\n",
            "    zeroline=\u001b[38;5;28;01mNone\u001b[39;00m,\n",
            "    zerolinecolor=\u001b[38;5;28;01mNone\u001b[39;00m,\n",
            "    zerolinewidth=\u001b[38;5;28;01mNone\u001b[39;00m,\n",
            "    **kwargs,\n",
            ")\n",
            "\u001b[31mDocstring:\u001b[39m      Base class for all types in the layout hierarchy\n",
            "\u001b[31mInit docstring:\u001b[39m\n",
            "Construct a new XAxis object\n",
            "\n",
            "Parameters\n",
            "----------\n",
            "arg\n",
            "    dict of properties compatible with this constructor or\n",
            "    an instance of :class:`plotly.graph_objs.layout.XAxis`\n",
            "anchor\n",
            "    If set to an opposite-letter axis id (e.g. `x2`, `y`),\n",
            "    this axis is bound to the corresponding opposite-letter\n",
            "    axis. If set to \"free\", this axis' position is\n",
            "    determined by `position`.\n",
            "automargin\n",
            "    Determines whether long tick labels automatically grow\n",
            "    the figure margins.\n",
            "autorange\n",
            "    Determines whether or not the range of this axis is\n",
            "    computed in relation to the input data. See `rangemode`\n",
            "    for more info. If `range` is provided and it has a\n",
            "    value for both the lower and upper bound, `autorange`\n",
            "    is set to False. Using \"min\" applies autorange only to\n",
            "    set the minimum. Using \"max\" applies autorange only to\n",
            "    set the maximum. Using *min reversed* applies autorange\n",
            "    only to set the minimum on a reversed axis. Using *max\n",
            "    reversed* applies autorange only to set the maximum on\n",
            "    a reversed axis. Using \"reversed\" applies autorange on\n",
            "    both ends and reverses the axis direction.\n",
            "autorangeoptions\n",
            "    :class:`plotly.graph_objects.layout.xaxis.Autorangeopti\n",
            "    ons` instance or dict with compatible properties\n",
            "autotickangles\n",
            "    When `tickangle` is set to \"auto\", it will be set to\n",
            "    the first angle in this array that is large enough to\n",
            "    prevent label overlap.\n",
            "autotypenumbers\n",
            "    Using \"strict\" a numeric string in trace data is not\n",
            "    converted to a number. Using *convert types* a numeric\n",
            "    string in trace data may be treated as a number during\n",
            "    automatic axis `type` detection. Defaults to\n",
            "    layout.autotypenumbers.\n",
            "calendar\n",
            "    Sets the calendar system to use for `range` and `tick0`\n",
            "    if this is a date axis. This does not set the calendar\n",
            "    for interpreting data on this axis, that's specified in\n",
            "    the trace or via the global `layout.calendar`\n",
            "categoryarray\n",
            "    Sets the order in which categories on this axis appear.\n",
            "    Only has an effect if `categoryorder` is set to\n",
            "    \"array\". Used with `categoryorder`.\n",
            "categoryarraysrc\n",
            "    Sets the source reference on Chart Studio Cloud for\n",
            "    `categoryarray`.\n",
            "categoryorder\n",
            "    Specifies the ordering logic for the case of\n",
            "    categorical variables. By default, plotly uses \"trace\",\n",
            "    which specifies the order that is present in the data\n",
            "    supplied. Set `categoryorder` to *category ascending*\n",
            "    or *category descending* if order should be determined\n",
            "    by the alphanumerical order of the category names. Set\n",
            "    `categoryorder` to \"array\" to derive the ordering from\n",
            "    the attribute `categoryarray`. If a category is not\n",
            "    found in the `categoryarray` array, the sorting\n",
            "    behavior for that attribute will be identical to the\n",
            "    \"trace\" mode. The unspecified categories will follow\n",
            "    the categories in `categoryarray`. Set `categoryorder`\n",
            "    to *total ascending* or *total descending* if order\n",
            "    should be determined by the numerical order of the\n",
            "    values. Similarly, the order can be determined by the\n",
            "    min, max, sum, mean, geometric mean or median of all\n",
            "    the values.\n",
            "color\n",
            "    Sets default for all colors associated with this axis\n",
            "    all at once: line, font, tick, and grid colors. Grid\n",
            "    color is lightened by blending this with the plot\n",
            "    background Individual pieces can override this.\n",
            "constrain\n",
            "    If this axis needs to be compressed (either due to its\n",
            "    own `scaleanchor` and `scaleratio` or those of the\n",
            "    other axis), determines how that happens: by increasing\n",
            "    the \"range\", or by decreasing the \"domain\". Default is\n",
            "    \"domain\" for axes containing image traces, \"range\"\n",
            "    otherwise.\n",
            "constraintoward\n",
            "    If this axis needs to be compressed (either due to its\n",
            "    own `scaleanchor` and `scaleratio` or those of the\n",
            "    other axis), determines which direction we push the\n",
            "    originally specified plot area. Options are \"left\",\n",
            "    \"center\" (default), and \"right\" for x axes, and \"top\",\n",
            "    \"middle\" (default), and \"bottom\" for y axes.\n",
            "dividercolor\n",
            "    Sets the color of the dividers Only has an effect on\n",
            "    \"multicategory\" axes.\n",
            "dividerwidth\n",
            "    Sets the width (in px) of the dividers Only has an\n",
            "    effect on \"multicategory\" axes.\n",
            "domain\n",
            "    Sets the domain of this axis (in plot fraction).\n",
            "dtick\n",
            "    Sets the step in-between ticks on this axis. Use with\n",
            "    `tick0`. Must be a positive number, or special strings\n",
            "    available to \"log\" and \"date\" axes. If the axis `type`\n",
            "    is \"log\", then ticks are set every 10^(n*dtick) where n\n",
            "    is the tick number. For example, to set a tick mark at\n",
            "    1, 10, 100, 1000, ... set dtick to 1. To set tick marks\n",
            "    at 1, 100, 10000, ... set dtick to 2. To set tick marks\n",
            "    at 1, 5, 25, 125, 625, 3125, ... set dtick to\n",
            "    log_10(5), or 0.69897000433. \"log\" has several special\n",
            "    values; \"L<f>\", where `f` is a positive number, gives\n",
            "    ticks linearly spaced in value (but not position). For\n",
            "    example `tick0` = 0.1, `dtick` = \"L0.5\" will put ticks\n",
            "    at 0.1, 0.6, 1.1, 1.6 etc. To show powers of 10 plus\n",
            "    small digits between, use \"D1\" (all digits) or \"D2\"\n",
            "    (only 2 and 5). `tick0` is ignored for \"D1\" and \"D2\".\n",
            "    If the axis `type` is \"date\", then you must convert the\n",
            "    time to milliseconds. For example, to set the interval\n",
            "    between ticks to one day, set `dtick` to 86400000.0.\n",
            "    \"date\" also has special values \"M<n>\" gives ticks\n",
            "    spaced by a number of months. `n` must be a positive\n",
            "    integer. To set ticks on the 15th of every third month,\n",
            "    set `tick0` to \"2000-01-15\" and `dtick` to \"M3\". To set\n",
            "    ticks every 4 years, set `dtick` to \"M48\"\n",
            "exponentformat\n",
            "    Determines a formatting rule for the tick exponents.\n",
            "    For example, consider the number 1,000,000,000. If\n",
            "    \"none\", it appears as 1,000,000,000. If \"e\", 1e+9. If\n",
            "    \"E\", 1E+9. If \"power\", 1x10^9 (with 9 in a super\n",
            "    script). If \"SI\", 1G. If \"B\", 1B.\n",
            "fixedrange\n",
            "    Determines whether or not this axis is zoom-able. If\n",
            "    true, then zoom is disabled.\n",
            "gridcolor\n",
            "    Sets the color of the grid lines.\n",
            "griddash\n",
            "    Sets the dash style of lines. Set to a dash type string\n",
            "    (\"solid\", \"dot\", \"dash\", \"longdash\", \"dashdot\", or\n",
            "    \"longdashdot\") or a dash length list in px (eg\n",
            "    \"5px,10px,2px,2px\").\n",
            "gridwidth\n",
            "    Sets the width (in px) of the grid lines.\n",
            "hoverformat\n",
            "    Sets the hover text formatting rule using d3 formatting\n",
            "    mini-languages which are very similar to those in\n",
            "    Python. For numbers, see:\n",
            "    https://github.com/d3/d3-format/tree/v1.4.5#d3-format.\n",
            "    And for dates see: https://github.com/d3/d3-time-\n",
            "    format/tree/v2.2.3#locale_format. We add two items to\n",
            "    d3's date formatter: \"%h\" for half of the year as a\n",
            "    decimal number as well as \"%{n}f\" for fractional\n",
            "    seconds with n digits. For example, *2016-10-13\n",
            "    09:15:23.456* with tickformat \"%H~%M~%S.%2f\" would\n",
            "    display \"09~15~23.46\"\n",
            "insiderange\n",
            "    Could be used to set the desired inside range of this\n",
            "    axis (excluding the labels) when `ticklabelposition` of\n",
            "    the anchored axis has \"inside\". Not implemented for\n",
            "    axes with `type` \"log\". This would be ignored when\n",
            "    `range` is provided.\n",
            "labelalias\n",
            "    Replacement text for specific tick or hover labels. For\n",
            "    example using {US: 'USA', CA: 'Canada'} changes US to\n",
            "    USA and CA to Canada. The labels we would have shown\n",
            "    must match the keys exactly, after adding any\n",
            "    tickprefix or ticksuffix. For negative numbers the\n",
            "    minus sign symbol used (U+2212) is wider than the\n",
            "    regular ascii dash. That means you need to use −1\n",
            "    instead of -1. labelalias can be used with any axis\n",
            "    type, and both keys (if needed) and values (if desired)\n",
            "    can include html-like tags or MathJax.\n",
            "layer\n",
            "    Sets the layer on which this axis is displayed. If\n",
            "    *above traces*, this axis is displayed above all the\n",
            "    subplot's traces If *below traces*, this axis is\n",
            "    displayed below all the subplot's traces, but above the\n",
            "    grid lines. Useful when used together with scatter-like\n",
            "    traces with `cliponaxis` set to False to show markers\n",
            "    and/or text nodes above this axis.\n",
            "linecolor\n",
            "    Sets the axis line color.\n",
            "linewidth\n",
            "    Sets the width (in px) of the axis line.\n",
            "matches\n",
            "    If set to another axis id (e.g. `x2`, `y`), the range\n",
            "    of this axis will match the range of the corresponding\n",
            "    axis in data-coordinates space. Moreover, matching axes\n",
            "    share auto-range values, category lists and histogram\n",
            "    auto-bins. Note that setting axes simultaneously in\n",
            "    both a `scaleanchor` and a `matches` constraint is\n",
            "    currently forbidden. Moreover, note that matching axes\n",
            "    must have the same `type`.\n",
            "maxallowed\n",
            "    Determines the maximum range of this axis.\n",
            "minallowed\n",
            "    Determines the minimum range of this axis.\n",
            "minexponent\n",
            "    Hide SI prefix for 10^n if |n| is below this number.\n",
            "    This only has an effect when `tickformat` is \"SI\" or\n",
            "    \"B\".\n",
            "minor\n",
            "    :class:`plotly.graph_objects.layout.xaxis.Minor`\n",
            "    instance or dict with compatible properties\n",
            "mirror\n",
            "    Determines if the axis lines or/and ticks are mirrored\n",
            "    to the opposite side of the plotting area. If True, the\n",
            "    axis lines are mirrored. If \"ticks\", the axis lines and\n",
            "    ticks are mirrored. If False, mirroring is disable. If\n",
            "    \"all\", axis lines are mirrored on all shared-axes\n",
            "    subplots. If \"allticks\", axis lines and ticks are\n",
            "    mirrored on all shared-axes subplots.\n",
            "nticks\n",
            "    Specifies the maximum number of ticks for the\n",
            "    particular axis. The actual number of ticks will be\n",
            "    chosen automatically to be less than or equal to\n",
            "    `nticks`. Has an effect only if `tickmode` is set to\n",
            "    \"auto\".\n",
            "overlaying\n",
            "    If set a same-letter axis id, this axis is overlaid on\n",
            "    top of the corresponding same-letter axis, with traces\n",
            "    and axes visible for both axes. If False, this axis\n",
            "    does not overlay any same-letter axes. In this case,\n",
            "    for axes with overlapping domains only the highest-\n",
            "    numbered axis will be visible.\n",
            "position\n",
            "    Sets the position of this axis in the plotting space\n",
            "    (in normalized coordinates). Only has an effect if\n",
            "    `anchor` is set to \"free\".\n",
            "range\n",
            "    Sets the range of this axis. If the axis `type` is\n",
            "    \"log\", then you must take the log of your desired range\n",
            "    (e.g. to set the range from 1 to 100, set the range\n",
            "    from 0 to 2). If the axis `type` is \"date\", it should\n",
            "    be date strings, like date data, though Date objects\n",
            "    and unix milliseconds will be accepted and converted to\n",
            "    strings. If the axis `type` is \"category\", it should be\n",
            "    numbers, using the scale where each category is\n",
            "    assigned a serial number from zero in the order it\n",
            "    appears. Leaving either or both elements `null` impacts\n",
            "    the default `autorange`.\n",
            "rangebreaks\n",
            "    A tuple of\n",
            "    :class:`plotly.graph_objects.layout.xaxis.Rangebreak`\n",
            "    instances or dicts with compatible properties\n",
            "rangebreakdefaults\n",
            "    When used in a template (as\n",
            "    layout.template.layout.xaxis.rangebreakdefaults), sets\n",
            "    the default property values to use for elements of\n",
            "    layout.xaxis.rangebreaks\n",
            "rangemode\n",
            "    If \"normal\", the range is computed in relation to the\n",
            "    extrema of the input data. If \"tozero\", the range\n",
            "    extends to 0, regardless of the input data If\n",
            "    \"nonnegative\", the range is non-negative, regardless of\n",
            "    the input data. Applies only to linear axes.\n",
            "rangeselector\n",
            "    :class:`plotly.graph_objects.layout.xaxis.Rangeselector\n",
            "    ` instance or dict with compatible properties\n",
            "rangeslider\n",
            "    :class:`plotly.graph_objects.layout.xaxis.Rangeslider`\n",
            "    instance or dict with compatible properties\n",
            "scaleanchor\n",
            "    If set to another axis id (e.g. `x2`, `y`), the range\n",
            "    of this axis changes together with the range of the\n",
            "    corresponding axis such that the scale of pixels per\n",
            "    unit is in a constant ratio. Both axes are still\n",
            "    zoomable, but when you zoom one, the other will zoom\n",
            "    the same amount, keeping a fixed midpoint. `constrain`\n",
            "    and `constraintoward` determine how we enforce the\n",
            "    constraint. You can chain these, ie `yaxis:\n",
            "    {scaleanchor: *x*}, xaxis2: {scaleanchor: *y*}` but you\n",
            "    can only link axes of the same `type`. The linked axis\n",
            "    can have the opposite letter (to constrain the aspect\n",
            "    ratio) or the same letter (to match scales across\n",
            "    subplots). Loops (`yaxis: {scaleanchor: *x*}, xaxis:\n",
            "    {scaleanchor: *y*}` or longer) are redundant and the\n",
            "    last constraint encountered will be ignored to avoid\n",
            "    possible inconsistent constraints via `scaleratio`.\n",
            "    Note that setting axes simultaneously in both a\n",
            "    `scaleanchor` and a `matches` constraint is currently\n",
            "    forbidden. Setting `false` allows to remove a default\n",
            "    constraint (occasionally, you may need to prevent a\n",
            "    default `scaleanchor` constraint from being applied,\n",
            "    eg. when having an image trace `yaxis: {scaleanchor:\n",
            "    \"x\"}` is set automatically in order for pixels to be\n",
            "    rendered as squares, setting `yaxis: {scaleanchor:\n",
            "    false}` allows to remove the constraint).\n",
            "scaleratio\n",
            "    If this axis is linked to another by `scaleanchor`,\n",
            "    this determines the pixel to unit scale ratio. For\n",
            "    example, if this value is 10, then every unit on this\n",
            "    axis spans 10 times the number of pixels as a unit on\n",
            "    the linked axis. Use this for example to create an\n",
            "    elevation profile where the vertical scale is\n",
            "    exaggerated a fixed amount with respect to the\n",
            "    horizontal.\n",
            "separatethousands\n",
            "    If \"true\", even 4-digit integers are separated\n",
            "showdividers\n",
            "    Determines whether or not a dividers are drawn between\n",
            "    the category levels of this axis. Only has an effect on\n",
            "    \"multicategory\" axes.\n",
            "showexponent\n",
            "    If \"all\", all exponents are shown besides their\n",
            "    significands. If \"first\", only the exponent of the\n",
            "    first tick is shown. If \"last\", only the exponent of\n",
            "    the last tick is shown. If \"none\", no exponents appear.\n",
            "showgrid\n",
            "    Determines whether or not grid lines are drawn. If\n",
            "    True, the grid lines are drawn at every tick mark.\n",
            "showline\n",
            "    Determines whether or not a line bounding this axis is\n",
            "    drawn.\n",
            "showspikes\n",
            "    Determines whether or not spikes (aka droplines) are\n",
            "    drawn for this axis. Note: This only takes affect when\n",
            "    hovermode = closest\n",
            "showticklabels\n",
            "    Determines whether or not the tick labels are drawn.\n",
            "showtickprefix\n",
            "    If \"all\", all tick labels are displayed with a prefix.\n",
            "    If \"first\", only the first tick is displayed with a\n",
            "    prefix. If \"last\", only the last tick is displayed with\n",
            "    a suffix. If \"none\", tick prefixes are hidden.\n",
            "showticksuffix\n",
            "    Same as `showtickprefix` but for tick suffixes.\n",
            "side\n",
            "    Determines whether a x (y) axis is positioned at the\n",
            "    \"bottom\" (\"left\") or \"top\" (\"right\") of the plotting\n",
            "    area.\n",
            "spikecolor\n",
            "    Sets the spike color. If undefined, will use the series\n",
            "    color\n",
            "spikedash\n",
            "    Sets the dash style of lines. Set to a dash type string\n",
            "    (\"solid\", \"dot\", \"dash\", \"longdash\", \"dashdot\", or\n",
            "    \"longdashdot\") or a dash length list in px (eg\n",
            "    \"5px,10px,2px,2px\").\n",
            "spikemode\n",
            "    Determines the drawing mode for the spike line If\n",
            "    \"toaxis\", the line is drawn from the data point to the\n",
            "    axis the  series is plotted on. If \"across\", the line\n",
            "    is drawn across the entire plot area, and supercedes\n",
            "    \"toaxis\". If \"marker\", then a marker dot is drawn on\n",
            "    the axis the series is plotted on\n",
            "spikesnap\n",
            "    Determines whether spikelines are stuck to the cursor\n",
            "    or to the closest datapoints.\n",
            "spikethickness\n",
            "    Sets the width (in px) of the zero line.\n",
            "tick0\n",
            "    Sets the placement of the first tick on this axis. Use\n",
            "    with `dtick`. If the axis `type` is \"log\", then you\n",
            "    must take the log of your starting tick (e.g. to set\n",
            "    the starting tick to 100, set the `tick0` to 2) except\n",
            "    when `dtick`=*L<f>* (see `dtick` for more info). If the\n",
            "    axis `type` is \"date\", it should be a date string, like\n",
            "    date data. If the axis `type` is \"category\", it should\n",
            "    be a number, using the scale where each category is\n",
            "    assigned a serial number from zero in the order it\n",
            "    appears.\n",
            "tickangle\n",
            "    Sets the angle of the tick labels with respect to the\n",
            "    horizontal. For example, a `tickangle` of -90 draws the\n",
            "    tick labels vertically.\n",
            "tickcolor\n",
            "    Sets the tick color.\n",
            "tickfont\n",
            "    Sets the tick font.\n",
            "tickformat\n",
            "    Sets the tick label formatting rule using d3 formatting\n",
            "    mini-languages which are very similar to those in\n",
            "    Python. For numbers, see:\n",
            "    https://github.com/d3/d3-format/tree/v1.4.5#d3-format.\n",
            "    And for dates see: https://github.com/d3/d3-time-\n",
            "    format/tree/v2.2.3#locale_format. We add two items to\n",
            "    d3's date formatter: \"%h\" for half of the year as a\n",
            "    decimal number as well as \"%{n}f\" for fractional\n",
            "    seconds with n digits. For example, *2016-10-13\n",
            "    09:15:23.456* with tickformat \"%H~%M~%S.%2f\" would\n",
            "    display \"09~15~23.46\"\n",
            "tickformatstops\n",
            "    A tuple of :class:`plotly.graph_objects.layout.xaxis.Ti\n",
            "    ckformatstop` instances or dicts with compatible\n",
            "    properties\n",
            "tickformatstopdefaults\n",
            "    When used in a template (as\n",
            "    layout.template.layout.xaxis.tickformatstopdefaults),\n",
            "    sets the default property values to use for elements of\n",
            "    layout.xaxis.tickformatstops\n",
            "ticklabelindex\n",
            "    Only for axes with `type` \"date\" or \"linear\". Instead\n",
            "    of drawing the major tick label, draw the label for the\n",
            "    minor tick that is n positions away from the major\n",
            "    tick. E.g. to always draw the label for the minor tick\n",
            "    before each major tick, choose `ticklabelindex` -1.\n",
            "    This is useful for date axes with `ticklabelmode`\n",
            "    \"period\" if you want to label the period that ends with\n",
            "    each major tick instead of the period that begins\n",
            "    there.\n",
            "ticklabelindexsrc\n",
            "    Sets the source reference on Chart Studio Cloud for\n",
            "    `ticklabelindex`.\n",
            "ticklabelmode\n",
            "    Determines where tick labels are drawn with respect to\n",
            "    their corresponding ticks and grid lines. Only has an\n",
            "    effect for axes of `type` \"date\" When set to \"period\",\n",
            "    tick labels are drawn in the middle of the period\n",
            "    between ticks.\n",
            "ticklabeloverflow\n",
            "    Determines how we handle tick labels that would\n",
            "    overflow either the graph div or the domain of the\n",
            "    axis. The default value for inside tick labels is *hide\n",
            "    past domain*. Otherwise on \"category\" and\n",
            "    \"multicategory\" axes the default is \"allow\". In other\n",
            "    cases the default is *hide past div*.\n",
            "ticklabelposition\n",
            "    Determines where tick labels are drawn with respect to\n",
            "    the axis Please note that top or bottom has no effect\n",
            "    on x axes or when `ticklabelmode` is set to \"period\".\n",
            "    Similarly left or right has no effect on y axes or when\n",
            "    `ticklabelmode` is set to \"period\". Has no effect on\n",
            "    \"multicategory\" axes or when `tickson` is set to\n",
            "    \"boundaries\". When used on axes linked by `matches` or\n",
            "    `scaleanchor`, no extra padding for inside labels would\n",
            "    be added by autorange, so that the scales could match.\n",
            "ticklabelshift\n",
            "    Shifts the tick labels by the specified number of\n",
            "    pixels in parallel to the axis. Positive values move\n",
            "    the labels in the positive direction of the axis.\n",
            "ticklabelstandoff\n",
            "    Sets the standoff distance (in px) between the axis\n",
            "    tick labels and their default position. A positive\n",
            "    `ticklabelstandoff` moves the labels farther away from\n",
            "    the plot area if `ticklabelposition` is \"outside\", and\n",
            "    deeper into the plot area if `ticklabelposition` is\n",
            "    \"inside\". A negative `ticklabelstandoff` works in the\n",
            "    opposite direction, moving outside ticks towards the\n",
            "    plot area and inside ticks towards the outside. If the\n",
            "    negative value is large enough, inside ticks can even\n",
            "    end up outside and vice versa.\n",
            "ticklabelstep\n",
            "    Sets the spacing between tick labels as compared to the\n",
            "    spacing between ticks. A value of 1 (default) means\n",
            "    each tick gets a label. A value of 2 means shows every\n",
            "    2nd label. A larger value n means only every nth tick\n",
            "    is labeled. `tick0` determines which labels are shown.\n",
            "    Not implemented for axes with `type` \"log\" or\n",
            "    \"multicategory\", or when `tickmode` is \"array\".\n",
            "ticklen\n",
            "    Sets the tick length (in px).\n",
            "tickmode\n",
            "    Sets the tick mode for this axis. If \"auto\", the number\n",
            "    of ticks is set via `nticks`. If \"linear\", the\n",
            "    placement of the ticks is determined by a starting\n",
            "    position `tick0` and a tick step `dtick` (\"linear\" is\n",
            "    the default value if `tick0` and `dtick` are provided).\n",
            "    If \"array\", the placement of the ticks is set via\n",
            "    `tickvals` and the tick text is `ticktext`. (\"array\" is\n",
            "    the default value if `tickvals` is provided). If\n",
            "    \"sync\", the number of ticks will sync with the\n",
            "    overlayed axis set by `overlaying` property.\n",
            "tickprefix\n",
            "    Sets a tick label prefix.\n",
            "ticks\n",
            "    Determines whether ticks are drawn or not. If \"\", this\n",
            "    axis' ticks are not drawn. If \"outside\" (\"inside\"),\n",
            "    this axis' are drawn outside (inside) the axis lines.\n",
            "tickson\n",
            "    Determines where ticks and grid lines are drawn with\n",
            "    respect to their corresponding tick labels. Only has an\n",
            "    effect for axes of `type` \"category\" or\n",
            "    \"multicategory\". When set to \"boundaries\", ticks and\n",
            "    grid lines are drawn half a category to the left/bottom\n",
            "    of labels.\n",
            "ticksuffix\n",
            "    Sets a tick label suffix.\n",
            "ticktext\n",
            "    Sets the text displayed at the ticks position via\n",
            "    `tickvals`. Only has an effect if `tickmode` is set to\n",
            "    \"array\". Used with `tickvals`.\n",
            "ticktextsrc\n",
            "    Sets the source reference on Chart Studio Cloud for\n",
            "    `ticktext`.\n",
            "tickvals\n",
            "    Sets the values at which ticks on this axis appear.\n",
            "    Only has an effect if `tickmode` is set to \"array\".\n",
            "    Used with `ticktext`.\n",
            "tickvalssrc\n",
            "    Sets the source reference on Chart Studio Cloud for\n",
            "    `tickvals`.\n",
            "tickwidth\n",
            "    Sets the tick width (in px).\n",
            "title\n",
            "    :class:`plotly.graph_objects.layout.xaxis.Title`\n",
            "    instance or dict with compatible properties\n",
            "type\n",
            "    Sets the axis type. By default, plotly attempts to\n",
            "    determined the axis type by looking into the data of\n",
            "    the traces that referenced the axis in question.\n",
            "uirevision\n",
            "    Controls persistence of user-driven changes in axis\n",
            "    `range`, `autorange`, and `title` if in `editable:\n",
            "    true` configuration. Defaults to `layout.uirevision`.\n",
            "visible\n",
            "    A single toggle to hide the axis while preserving\n",
            "    interaction like dragging. Default is true when a\n",
            "    cheater plot is present on the axis, otherwise false\n",
            "zeroline\n",
            "    Determines whether or not a line is drawn at along the\n",
            "    0 value of this axis. If True, the zero line is drawn\n",
            "    on top of the grid lines.\n",
            "zerolinecolor\n",
            "    Sets the line color of the zero line.\n",
            "zerolinewidth\n",
            "    Sets the width (in px) of the zero line.\n",
            "\n",
            "Returns\n",
            "-------\n",
            "XAxis\n",
            "\u001b[31mFile:\u001b[39m           ~/anaconda3/envs/jedha/lib/python3.13/site-packages/plotly/graph_objs/layout/_xaxis.py\n",
            "\u001b[31mType:\u001b[39m           type\n",
            "\u001b[31mSubclasses:\u001b[39m     "
          ]
        }
      ],
      "source": [
        "go.layout.XAxis?"
      ]
    },
    {
      "cell_type": "markdown",
      "metadata": {
        "id": "hC1fgAFzV8xn"
      },
      "source": [
        "#### Updating a figure\n",
        "You can update an existing figure by adding new traces or changing the layout as follows, thanks to the `add_trace` and `update_layout` methods :"
      ]
    },
    {
      "cell_type": "code",
      "execution_count": 10,
      "metadata": {
        "colab": {
          "base_uri": "https://localhost:8080/",
          "height": 522
        },
        "id": "GC5bFxoMV8xn",
        "outputId": "5912d304-b276-4546-ebbb-f2cff0214b0a"
      },
      "outputs": [
        {
          "data": {
            "application/vnd.plotly.v1+json": {
              "config": {
                "plotlyServerURL": "https://plot.ly"
              },
              "data": [
                {
                  "marker": {
                    "color": {
                      "bdata": "AQEBAQEBAQEBAQEBAQEBAQEBAQEBAQEBAQEBAQEBAQEBAQEBAQEBAQEBAQEBAQEBAQECAgICAgICAgICAgICAgICAgICAgICAgICAgICAgICAgICAgICAgICAgICAgICAgICAgMDAwMDAwMDAwMDAwMDAwMDAwMDAwMDAwMDAwMDAwMDAwMDAwMDAwMDAwMDAwMDAwMD",
                      "dtype": "i1"
                    }
                  },
                  "mode": "markers",
                  "type": "scatter",
                  "x": {
                    "bdata": "AAAAAAAADEAAAAAAAAAIQJqZmZmZmQlAzczMzMzMCEDNzMzMzMwMQDMzMzMzMw9AMzMzMzMzC0AzMzMzMzMLQDMzMzMzMwdAzczMzMzMCECamZmZmZkNQDMzMzMzMwtAAAAAAAAACEAAAAAAAAAIQAAAAAAAABBAmpmZmZmZEUAzMzMzMzMPQAAAAAAAAAxAZmZmZmZmDkBmZmZmZmYOQDMzMzMzMwtAmpmZmZmZDUDNzMzMzMwMQGZmZmZmZgpAMzMzMzMzC0AAAAAAAAAIQDMzMzMzMwtAAAAAAAAADEAzMzMzMzMLQJqZmZmZmQlAzczMzMzMCEAzMzMzMzMLQGZmZmZmZhBAzczMzMzMEEDNzMzMzMwIQJqZmZmZmQlAAAAAAAAADEDNzMzMzMwIQAAAAAAAAAhAMzMzMzMzC0AAAAAAAAAMQGZmZmZmZgJAmpmZmZmZCUAAAAAAAAAMQGZmZmZmZg5AAAAAAAAACEBmZmZmZmYOQJqZmZmZmQlAmpmZmZmZDUBmZmZmZmYKQJqZmZmZmQlAmpmZmZmZCUDNzMzMzMwIQGZmZmZmZgJAZmZmZmZmBkBmZmZmZmYGQGZmZmZmZgpAMzMzMzMzA0AzMzMzMzMHQJqZmZmZmQVAAAAAAAAAAEAAAAAAAAAIQJqZmZmZmQFAMzMzMzMzB0AzMzMzMzMHQM3MzMzMzAhAAAAAAAAACECamZmZmZkFQJqZmZmZmQFAAAAAAAAABECamZmZmZkJQGZmZmZmZgZAAAAAAAAABEBmZmZmZmYGQDMzMzMzMwdAAAAAAAAACEBmZmZmZmYGQAAAAAAAAAhAMzMzMzMzB0DNzMzMzMwEQDMzMzMzMwNAMzMzMzMzA0CamZmZmZkFQJqZmZmZmQVAAAAAAAAACEAzMzMzMzMLQM3MzMzMzAhAZmZmZmZmAkAAAAAAAAAIQAAAAAAAAARAzczMzMzMBEAAAAAAAAAIQM3MzMzMzARAZmZmZmZmAkCamZmZmZkFQAAAAAAAAAhAMzMzMzMzB0AzMzMzMzMHQAAAAAAAAARAZmZmZmZmBkBmZmZmZmYKQJqZmZmZmQVAAAAAAAAACEAzMzMzMzMHQAAAAAAAAAhAAAAAAAAACEAAAAAAAAAEQDMzMzMzMwdAAAAAAAAABEDNzMzMzMwMQJqZmZmZmQlAmpmZmZmZBUAAAAAAAAAIQAAAAAAAAARAZmZmZmZmBkCamZmZmZkJQAAAAAAAAAhAZmZmZmZmDkDNzMzMzMwEQJqZmZmZmQFAmpmZmZmZCUBmZmZmZmYGQGZmZmZmZgZAmpmZmZmZBUBmZmZmZmYKQJqZmZmZmQlAZmZmZmZmBkAAAAAAAAAIQGZmZmZmZgZAAAAAAAAACEBmZmZmZmYGQGZmZmZmZg5AZmZmZmZmBkBmZmZmZmYGQM3MzMzMzARAAAAAAAAACEAzMzMzMzMLQM3MzMzMzAhAAAAAAAAACEDNzMzMzMwIQM3MzMzMzAhAzczMzMzMCECamZmZmZkFQJqZmZmZmQlAZmZmZmZmCkAAAAAAAAAIQAAAAAAAAARAAAAAAAAACEAzMzMzMzMLQAAAAAAAAAhA",
                    "dtype": "f8"
                  },
                  "y": {
                    "bdata": "ZmZmZmZmFECamZmZmZkTQM3MzMzMzBJAZmZmZmZmEkAAAAAAAAAUQJqZmZmZmRVAZmZmZmZmEkAAAAAAAAAUQJqZmZmZmRFAmpmZmZmZE0CamZmZmZkVQDMzMzMzMxNAMzMzMzMzE0AzMzMzMzMRQDMzMzMzMxdAzczMzMzMFkCamZmZmZkVQGZmZmZmZhRAzczMzMzMFkBmZmZmZmYUQJqZmZmZmRVAZmZmZmZmFEBmZmZmZmYSQGZmZmZmZhRAMzMzMzMzE0AAAAAAAAAUQAAAAAAAABRAzczMzMzMFEDNzMzMzMwUQM3MzMzMzBJAMzMzMzMzE0CamZmZmZkVQM3MzMzMzBRAAAAAAAAAFkCamZmZmZkTQAAAAAAAABRAAAAAAAAAFkCamZmZmZkTQJqZmZmZmRFAZmZmZmZmFEAAAAAAAAAUQAAAAAAAABJAmpmZmZmZEUAAAAAAAAAUQGZmZmZmZhRAMzMzMzMzE0BmZmZmZmYUQGZmZmZmZhJAMzMzMzMzFUAAAAAAAAAUQAAAAAAAABxAmpmZmZmZGUCamZmZmZkbQAAAAAAAABZAAAAAAAAAGkDNzMzMzMwWQDMzMzMzMxlAmpmZmZmZE0BmZmZmZmYaQM3MzMzMzBRAAAAAAAAAFECamZmZmZkXQAAAAAAAABhAZmZmZmZmGEBmZmZmZmYWQM3MzMzMzBpAZmZmZmZmFkAzMzMzMzMXQM3MzMzMzBhAZmZmZmZmFkCamZmZmZkXQGZmZmZmZhhAMzMzMzMzGUBmZmZmZmYYQJqZmZmZmRlAZmZmZmZmGkAzMzMzMzMbQM3MzMzMzBpAAAAAAAAAGEDNzMzMzMwWQAAAAAAAABZAAAAAAAAAFkAzMzMzMzMXQAAAAAAAABhAmpmZmZmZFUAAAAAAAAAYQM3MzMzMzBpAMzMzMzMzGUBmZmZmZmYWQAAAAAAAABZAAAAAAAAAFkBmZmZmZmYYQDMzMzMzMxdAAAAAAAAAFEBmZmZmZmYWQM3MzMzMzBZAzczMzMzMFkDNzMzMzMwYQGZmZmZmZhRAzczMzMzMFkAzMzMzMzMZQDMzMzMzMxdAZmZmZmZmHEAzMzMzMzMZQAAAAAAAABpAZmZmZmZmHkCamZmZmZkTQDMzMzMzMx1AzczMzMzMGkDNzMzMzMwcQAAAAAAAABpAmpmZmZmZGUAzMzMzMzMbQM3MzMzMzBZAMzMzMzMzF0CamZmZmZkZQAAAAAAAABpAzczMzMzMHkDNzMzMzMweQAAAAAAAABhAmpmZmZmZG0BmZmZmZmYWQM3MzMzMzB5AMzMzMzMzGUDNzMzMzMwaQM3MzMzMzBxAzczMzMzMGEBmZmZmZmYYQJqZmZmZmRlAzczMzMzMHECamZmZmZkdQJqZmZmZmR9AmpmZmZmZGUAzMzMzMzMZQGZmZmZmZhhAzczMzMzMHkAzMzMzMzMZQJqZmZmZmRlAAAAAAAAAGECamZmZmZkbQM3MzMzMzBpAmpmZmZmZG0AzMzMzMzMXQDMzMzMzMxtAzczMzMzMGkDNzMzMzMwaQDMzMzMzMxlAAAAAAAAAGkDNzMzMzMwYQJqZmZmZmRdA",
                    "dtype": "f8"
                  }
                }
              ],
              "layout": {
                "template": {
                  "data": {
                    "bar": [
                      {
                        "error_x": {
                          "color": "#2a3f5f"
                        },
                        "error_y": {
                          "color": "#2a3f5f"
                        },
                        "marker": {
                          "line": {
                            "color": "#E5ECF6",
                            "width": 0.5
                          },
                          "pattern": {
                            "fillmode": "overlay",
                            "size": 10,
                            "solidity": 0.2
                          }
                        },
                        "type": "bar"
                      }
                    ],
                    "barpolar": [
                      {
                        "marker": {
                          "line": {
                            "color": "#E5ECF6",
                            "width": 0.5
                          },
                          "pattern": {
                            "fillmode": "overlay",
                            "size": 10,
                            "solidity": 0.2
                          }
                        },
                        "type": "barpolar"
                      }
                    ],
                    "carpet": [
                      {
                        "aaxis": {
                          "endlinecolor": "#2a3f5f",
                          "gridcolor": "white",
                          "linecolor": "white",
                          "minorgridcolor": "white",
                          "startlinecolor": "#2a3f5f"
                        },
                        "baxis": {
                          "endlinecolor": "#2a3f5f",
                          "gridcolor": "white",
                          "linecolor": "white",
                          "minorgridcolor": "white",
                          "startlinecolor": "#2a3f5f"
                        },
                        "type": "carpet"
                      }
                    ],
                    "choropleth": [
                      {
                        "colorbar": {
                          "outlinewidth": 0,
                          "ticks": ""
                        },
                        "type": "choropleth"
                      }
                    ],
                    "contour": [
                      {
                        "colorbar": {
                          "outlinewidth": 0,
                          "ticks": ""
                        },
                        "colorscale": [
                          [
                            0,
                            "#0d0887"
                          ],
                          [
                            0.1111111111111111,
                            "#46039f"
                          ],
                          [
                            0.2222222222222222,
                            "#7201a8"
                          ],
                          [
                            0.3333333333333333,
                            "#9c179e"
                          ],
                          [
                            0.4444444444444444,
                            "#bd3786"
                          ],
                          [
                            0.5555555555555556,
                            "#d8576b"
                          ],
                          [
                            0.6666666666666666,
                            "#ed7953"
                          ],
                          [
                            0.7777777777777778,
                            "#fb9f3a"
                          ],
                          [
                            0.8888888888888888,
                            "#fdca26"
                          ],
                          [
                            1,
                            "#f0f921"
                          ]
                        ],
                        "type": "contour"
                      }
                    ],
                    "contourcarpet": [
                      {
                        "colorbar": {
                          "outlinewidth": 0,
                          "ticks": ""
                        },
                        "type": "contourcarpet"
                      }
                    ],
                    "heatmap": [
                      {
                        "colorbar": {
                          "outlinewidth": 0,
                          "ticks": ""
                        },
                        "colorscale": [
                          [
                            0,
                            "#0d0887"
                          ],
                          [
                            0.1111111111111111,
                            "#46039f"
                          ],
                          [
                            0.2222222222222222,
                            "#7201a8"
                          ],
                          [
                            0.3333333333333333,
                            "#9c179e"
                          ],
                          [
                            0.4444444444444444,
                            "#bd3786"
                          ],
                          [
                            0.5555555555555556,
                            "#d8576b"
                          ],
                          [
                            0.6666666666666666,
                            "#ed7953"
                          ],
                          [
                            0.7777777777777778,
                            "#fb9f3a"
                          ],
                          [
                            0.8888888888888888,
                            "#fdca26"
                          ],
                          [
                            1,
                            "#f0f921"
                          ]
                        ],
                        "type": "heatmap"
                      }
                    ],
                    "histogram": [
                      {
                        "marker": {
                          "pattern": {
                            "fillmode": "overlay",
                            "size": 10,
                            "solidity": 0.2
                          }
                        },
                        "type": "histogram"
                      }
                    ],
                    "histogram2d": [
                      {
                        "colorbar": {
                          "outlinewidth": 0,
                          "ticks": ""
                        },
                        "colorscale": [
                          [
                            0,
                            "#0d0887"
                          ],
                          [
                            0.1111111111111111,
                            "#46039f"
                          ],
                          [
                            0.2222222222222222,
                            "#7201a8"
                          ],
                          [
                            0.3333333333333333,
                            "#9c179e"
                          ],
                          [
                            0.4444444444444444,
                            "#bd3786"
                          ],
                          [
                            0.5555555555555556,
                            "#d8576b"
                          ],
                          [
                            0.6666666666666666,
                            "#ed7953"
                          ],
                          [
                            0.7777777777777778,
                            "#fb9f3a"
                          ],
                          [
                            0.8888888888888888,
                            "#fdca26"
                          ],
                          [
                            1,
                            "#f0f921"
                          ]
                        ],
                        "type": "histogram2d"
                      }
                    ],
                    "histogram2dcontour": [
                      {
                        "colorbar": {
                          "outlinewidth": 0,
                          "ticks": ""
                        },
                        "colorscale": [
                          [
                            0,
                            "#0d0887"
                          ],
                          [
                            0.1111111111111111,
                            "#46039f"
                          ],
                          [
                            0.2222222222222222,
                            "#7201a8"
                          ],
                          [
                            0.3333333333333333,
                            "#9c179e"
                          ],
                          [
                            0.4444444444444444,
                            "#bd3786"
                          ],
                          [
                            0.5555555555555556,
                            "#d8576b"
                          ],
                          [
                            0.6666666666666666,
                            "#ed7953"
                          ],
                          [
                            0.7777777777777778,
                            "#fb9f3a"
                          ],
                          [
                            0.8888888888888888,
                            "#fdca26"
                          ],
                          [
                            1,
                            "#f0f921"
                          ]
                        ],
                        "type": "histogram2dcontour"
                      }
                    ],
                    "mesh3d": [
                      {
                        "colorbar": {
                          "outlinewidth": 0,
                          "ticks": ""
                        },
                        "type": "mesh3d"
                      }
                    ],
                    "parcoords": [
                      {
                        "line": {
                          "colorbar": {
                            "outlinewidth": 0,
                            "ticks": ""
                          }
                        },
                        "type": "parcoords"
                      }
                    ],
                    "pie": [
                      {
                        "automargin": true,
                        "type": "pie"
                      }
                    ],
                    "scatter": [
                      {
                        "fillpattern": {
                          "fillmode": "overlay",
                          "size": 10,
                          "solidity": 0.2
                        },
                        "type": "scatter"
                      }
                    ],
                    "scatter3d": [
                      {
                        "line": {
                          "colorbar": {
                            "outlinewidth": 0,
                            "ticks": ""
                          }
                        },
                        "marker": {
                          "colorbar": {
                            "outlinewidth": 0,
                            "ticks": ""
                          }
                        },
                        "type": "scatter3d"
                      }
                    ],
                    "scattercarpet": [
                      {
                        "marker": {
                          "colorbar": {
                            "outlinewidth": 0,
                            "ticks": ""
                          }
                        },
                        "type": "scattercarpet"
                      }
                    ],
                    "scattergeo": [
                      {
                        "marker": {
                          "colorbar": {
                            "outlinewidth": 0,
                            "ticks": ""
                          }
                        },
                        "type": "scattergeo"
                      }
                    ],
                    "scattergl": [
                      {
                        "marker": {
                          "colorbar": {
                            "outlinewidth": 0,
                            "ticks": ""
                          }
                        },
                        "type": "scattergl"
                      }
                    ],
                    "scattermap": [
                      {
                        "marker": {
                          "colorbar": {
                            "outlinewidth": 0,
                            "ticks": ""
                          }
                        },
                        "type": "scattermap"
                      }
                    ],
                    "scattermapbox": [
                      {
                        "marker": {
                          "colorbar": {
                            "outlinewidth": 0,
                            "ticks": ""
                          }
                        },
                        "type": "scattermapbox"
                      }
                    ],
                    "scatterpolar": [
                      {
                        "marker": {
                          "colorbar": {
                            "outlinewidth": 0,
                            "ticks": ""
                          }
                        },
                        "type": "scatterpolar"
                      }
                    ],
                    "scatterpolargl": [
                      {
                        "marker": {
                          "colorbar": {
                            "outlinewidth": 0,
                            "ticks": ""
                          }
                        },
                        "type": "scatterpolargl"
                      }
                    ],
                    "scatterternary": [
                      {
                        "marker": {
                          "colorbar": {
                            "outlinewidth": 0,
                            "ticks": ""
                          }
                        },
                        "type": "scatterternary"
                      }
                    ],
                    "surface": [
                      {
                        "colorbar": {
                          "outlinewidth": 0,
                          "ticks": ""
                        },
                        "colorscale": [
                          [
                            0,
                            "#0d0887"
                          ],
                          [
                            0.1111111111111111,
                            "#46039f"
                          ],
                          [
                            0.2222222222222222,
                            "#7201a8"
                          ],
                          [
                            0.3333333333333333,
                            "#9c179e"
                          ],
                          [
                            0.4444444444444444,
                            "#bd3786"
                          ],
                          [
                            0.5555555555555556,
                            "#d8576b"
                          ],
                          [
                            0.6666666666666666,
                            "#ed7953"
                          ],
                          [
                            0.7777777777777778,
                            "#fb9f3a"
                          ],
                          [
                            0.8888888888888888,
                            "#fdca26"
                          ],
                          [
                            1,
                            "#f0f921"
                          ]
                        ],
                        "type": "surface"
                      }
                    ],
                    "table": [
                      {
                        "cells": {
                          "fill": {
                            "color": "#EBF0F8"
                          },
                          "line": {
                            "color": "white"
                          }
                        },
                        "header": {
                          "fill": {
                            "color": "#C8D4E3"
                          },
                          "line": {
                            "color": "white"
                          }
                        },
                        "type": "table"
                      }
                    ]
                  },
                  "layout": {
                    "annotationdefaults": {
                      "arrowcolor": "#2a3f5f",
                      "arrowhead": 0,
                      "arrowwidth": 1
                    },
                    "autotypenumbers": "strict",
                    "coloraxis": {
                      "colorbar": {
                        "outlinewidth": 0,
                        "ticks": ""
                      }
                    },
                    "colorscale": {
                      "diverging": [
                        [
                          0,
                          "#8e0152"
                        ],
                        [
                          0.1,
                          "#c51b7d"
                        ],
                        [
                          0.2,
                          "#de77ae"
                        ],
                        [
                          0.3,
                          "#f1b6da"
                        ],
                        [
                          0.4,
                          "#fde0ef"
                        ],
                        [
                          0.5,
                          "#f7f7f7"
                        ],
                        [
                          0.6,
                          "#e6f5d0"
                        ],
                        [
                          0.7,
                          "#b8e186"
                        ],
                        [
                          0.8,
                          "#7fbc41"
                        ],
                        [
                          0.9,
                          "#4d9221"
                        ],
                        [
                          1,
                          "#276419"
                        ]
                      ],
                      "sequential": [
                        [
                          0,
                          "#0d0887"
                        ],
                        [
                          0.1111111111111111,
                          "#46039f"
                        ],
                        [
                          0.2222222222222222,
                          "#7201a8"
                        ],
                        [
                          0.3333333333333333,
                          "#9c179e"
                        ],
                        [
                          0.4444444444444444,
                          "#bd3786"
                        ],
                        [
                          0.5555555555555556,
                          "#d8576b"
                        ],
                        [
                          0.6666666666666666,
                          "#ed7953"
                        ],
                        [
                          0.7777777777777778,
                          "#fb9f3a"
                        ],
                        [
                          0.8888888888888888,
                          "#fdca26"
                        ],
                        [
                          1,
                          "#f0f921"
                        ]
                      ],
                      "sequentialminus": [
                        [
                          0,
                          "#0d0887"
                        ],
                        [
                          0.1111111111111111,
                          "#46039f"
                        ],
                        [
                          0.2222222222222222,
                          "#7201a8"
                        ],
                        [
                          0.3333333333333333,
                          "#9c179e"
                        ],
                        [
                          0.4444444444444444,
                          "#bd3786"
                        ],
                        [
                          0.5555555555555556,
                          "#d8576b"
                        ],
                        [
                          0.6666666666666666,
                          "#ed7953"
                        ],
                        [
                          0.7777777777777778,
                          "#fb9f3a"
                        ],
                        [
                          0.8888888888888888,
                          "#fdca26"
                        ],
                        [
                          1,
                          "#f0f921"
                        ]
                      ]
                    },
                    "colorway": [
                      "#636efa",
                      "#EF553B",
                      "#00cc96",
                      "#ab63fa",
                      "#FFA15A",
                      "#19d3f3",
                      "#FF6692",
                      "#B6E880",
                      "#FF97FF",
                      "#FECB52"
                    ],
                    "font": {
                      "color": "#2a3f5f"
                    },
                    "geo": {
                      "bgcolor": "white",
                      "lakecolor": "white",
                      "landcolor": "#E5ECF6",
                      "showlakes": true,
                      "showland": true,
                      "subunitcolor": "white"
                    },
                    "hoverlabel": {
                      "align": "left"
                    },
                    "hovermode": "closest",
                    "mapbox": {
                      "style": "light"
                    },
                    "paper_bgcolor": "white",
                    "plot_bgcolor": "#E5ECF6",
                    "polar": {
                      "angularaxis": {
                        "gridcolor": "white",
                        "linecolor": "white",
                        "ticks": ""
                      },
                      "bgcolor": "#E5ECF6",
                      "radialaxis": {
                        "gridcolor": "white",
                        "linecolor": "white",
                        "ticks": ""
                      }
                    },
                    "scene": {
                      "xaxis": {
                        "backgroundcolor": "#E5ECF6",
                        "gridcolor": "white",
                        "gridwidth": 2,
                        "linecolor": "white",
                        "showbackground": true,
                        "ticks": "",
                        "zerolinecolor": "white"
                      },
                      "yaxis": {
                        "backgroundcolor": "#E5ECF6",
                        "gridcolor": "white",
                        "gridwidth": 2,
                        "linecolor": "white",
                        "showbackground": true,
                        "ticks": "",
                        "zerolinecolor": "white"
                      },
                      "zaxis": {
                        "backgroundcolor": "#E5ECF6",
                        "gridcolor": "white",
                        "gridwidth": 2,
                        "linecolor": "white",
                        "showbackground": true,
                        "ticks": "",
                        "zerolinecolor": "white"
                      }
                    },
                    "shapedefaults": {
                      "line": {
                        "color": "#2a3f5f"
                      }
                    },
                    "ternary": {
                      "aaxis": {
                        "gridcolor": "white",
                        "linecolor": "white",
                        "ticks": ""
                      },
                      "baxis": {
                        "gridcolor": "white",
                        "linecolor": "white",
                        "ticks": ""
                      },
                      "bgcolor": "#E5ECF6",
                      "caxis": {
                        "gridcolor": "white",
                        "linecolor": "white",
                        "ticks": ""
                      }
                    },
                    "title": {
                      "x": 0.05
                    },
                    "xaxis": {
                      "automargin": true,
                      "gridcolor": "white",
                      "linecolor": "white",
                      "ticks": "",
                      "title": {
                        "standoff": 15
                      },
                      "zerolinecolor": "white",
                      "zerolinewidth": 2
                    },
                    "yaxis": {
                      "automargin": true,
                      "gridcolor": "white",
                      "linecolor": "white",
                      "ticks": "",
                      "title": {
                        "standoff": 15
                      },
                      "zerolinecolor": "white",
                      "zerolinewidth": 2
                    }
                  }
                },
                "title": {
                  "text": "This figure has been made with plotly graph objects",
                  "x": 0.5
                },
                "xaxis": {
                  "range": [
                    0,
                    5
                  ],
                  "title": {
                    "text": "Sepal width"
                  }
                },
                "yaxis": {
                  "range": [
                    0,
                    10
                  ],
                  "title": {
                    "text": "Sepal length"
                  }
                }
              }
            }
          },
          "metadata": {},
          "output_type": "display_data"
        }
      ],
      "source": [
        "fig = go.Figure(\n",
        "    data = go.Scatter(\n",
        "        x = df['sepal_width'],\n",
        "        y = df['sepal_length'],\n",
        "        mode = 'markers',\n",
        "        marker = go.scatter.Marker(color = df['species_id'])),\n",
        "    layout = go.Layout(\n",
        "        title = go.layout.Title(text = \"This figure has been made with plotly graph objects\", x = 0.5),\n",
        "        xaxis = go.layout.XAxis(title = 'Sepal width', range = [0, 5]),\n",
        "        yaxis = go.layout.YAxis(title = 'Sepal length', range = [0, 10])\n",
        "    )\n",
        ")\n",
        "\n",
        "fig.show()"
      ]
    },
    {
      "cell_type": "code",
      "execution_count": 11,
      "metadata": {
        "colab": {
          "base_uri": "https://localhost:8080/",
          "height": 522
        },
        "id": "mcZjFuljV8xn",
        "outputId": "47ccf6ff-5066-4b0a-f787-e412eecaaf95"
      },
      "outputs": [
        {
          "data": {
            "application/vnd.plotly.v1+json": {
              "config": {
                "plotlyServerURL": "https://plot.ly"
              },
              "data": [
                {
                  "marker": {
                    "color": {
                      "bdata": "AQEBAQEBAQEBAQEBAQEBAQEBAQEBAQEBAQEBAQEBAQEBAQEBAQEBAQEBAQEBAQEBAQECAgICAgICAgICAgICAgICAgICAgICAgICAgICAgICAgICAgICAgICAgICAgICAgICAgMDAwMDAwMDAwMDAwMDAwMDAwMDAwMDAwMDAwMDAwMDAwMDAwMDAwMDAwMDAwMDAwMD",
                      "dtype": "i1"
                    }
                  },
                  "mode": "markers",
                  "type": "scatter",
                  "x": {
                    "bdata": "AAAAAAAADEAAAAAAAAAIQJqZmZmZmQlAzczMzMzMCEDNzMzMzMwMQDMzMzMzMw9AMzMzMzMzC0AzMzMzMzMLQDMzMzMzMwdAzczMzMzMCECamZmZmZkNQDMzMzMzMwtAAAAAAAAACEAAAAAAAAAIQAAAAAAAABBAmpmZmZmZEUAzMzMzMzMPQAAAAAAAAAxAZmZmZmZmDkBmZmZmZmYOQDMzMzMzMwtAmpmZmZmZDUDNzMzMzMwMQGZmZmZmZgpAMzMzMzMzC0AAAAAAAAAIQDMzMzMzMwtAAAAAAAAADEAzMzMzMzMLQJqZmZmZmQlAzczMzMzMCEAzMzMzMzMLQGZmZmZmZhBAzczMzMzMEEDNzMzMzMwIQJqZmZmZmQlAAAAAAAAADEDNzMzMzMwIQAAAAAAAAAhAMzMzMzMzC0AAAAAAAAAMQGZmZmZmZgJAmpmZmZmZCUAAAAAAAAAMQGZmZmZmZg5AAAAAAAAACEBmZmZmZmYOQJqZmZmZmQlAmpmZmZmZDUBmZmZmZmYKQJqZmZmZmQlAmpmZmZmZCUDNzMzMzMwIQGZmZmZmZgJAZmZmZmZmBkBmZmZmZmYGQGZmZmZmZgpAMzMzMzMzA0AzMzMzMzMHQJqZmZmZmQVAAAAAAAAAAEAAAAAAAAAIQJqZmZmZmQFAMzMzMzMzB0AzMzMzMzMHQM3MzMzMzAhAAAAAAAAACECamZmZmZkFQJqZmZmZmQFAAAAAAAAABECamZmZmZkJQGZmZmZmZgZAAAAAAAAABEBmZmZmZmYGQDMzMzMzMwdAAAAAAAAACEBmZmZmZmYGQAAAAAAAAAhAMzMzMzMzB0DNzMzMzMwEQDMzMzMzMwNAMzMzMzMzA0CamZmZmZkFQJqZmZmZmQVAAAAAAAAACEAzMzMzMzMLQM3MzMzMzAhAZmZmZmZmAkAAAAAAAAAIQAAAAAAAAARAzczMzMzMBEAAAAAAAAAIQM3MzMzMzARAZmZmZmZmAkCamZmZmZkFQAAAAAAAAAhAMzMzMzMzB0AzMzMzMzMHQAAAAAAAAARAZmZmZmZmBkBmZmZmZmYKQJqZmZmZmQVAAAAAAAAACEAzMzMzMzMHQAAAAAAAAAhAAAAAAAAACEAAAAAAAAAEQDMzMzMzMwdAAAAAAAAABEDNzMzMzMwMQJqZmZmZmQlAmpmZmZmZBUAAAAAAAAAIQAAAAAAAAARAZmZmZmZmBkCamZmZmZkJQAAAAAAAAAhAZmZmZmZmDkDNzMzMzMwEQJqZmZmZmQFAmpmZmZmZCUBmZmZmZmYGQGZmZmZmZgZAmpmZmZmZBUBmZmZmZmYKQJqZmZmZmQlAZmZmZmZmBkAAAAAAAAAIQGZmZmZmZgZAAAAAAAAACEBmZmZmZmYGQGZmZmZmZg5AZmZmZmZmBkBmZmZmZmYGQM3MzMzMzARAAAAAAAAACEAzMzMzMzMLQM3MzMzMzAhAAAAAAAAACEDNzMzMzMwIQM3MzMzMzAhAzczMzMzMCECamZmZmZkFQJqZmZmZmQlAZmZmZmZmCkAAAAAAAAAIQAAAAAAAAARAAAAAAAAACEAzMzMzMzMLQAAAAAAAAAhA",
                    "dtype": "f8"
                  },
                  "y": {
                    "bdata": "ZmZmZmZmFECamZmZmZkTQM3MzMzMzBJAZmZmZmZmEkAAAAAAAAAUQJqZmZmZmRVAZmZmZmZmEkAAAAAAAAAUQJqZmZmZmRFAmpmZmZmZE0CamZmZmZkVQDMzMzMzMxNAMzMzMzMzE0AzMzMzMzMRQDMzMzMzMxdAzczMzMzMFkCamZmZmZkVQGZmZmZmZhRAzczMzMzMFkBmZmZmZmYUQJqZmZmZmRVAZmZmZmZmFEBmZmZmZmYSQGZmZmZmZhRAMzMzMzMzE0AAAAAAAAAUQAAAAAAAABRAzczMzMzMFEDNzMzMzMwUQM3MzMzMzBJAMzMzMzMzE0CamZmZmZkVQM3MzMzMzBRAAAAAAAAAFkCamZmZmZkTQAAAAAAAABRAAAAAAAAAFkCamZmZmZkTQJqZmZmZmRFAZmZmZmZmFEAAAAAAAAAUQAAAAAAAABJAmpmZmZmZEUAAAAAAAAAUQGZmZmZmZhRAMzMzMzMzE0BmZmZmZmYUQGZmZmZmZhJAMzMzMzMzFUAAAAAAAAAUQAAAAAAAABxAmpmZmZmZGUCamZmZmZkbQAAAAAAAABZAAAAAAAAAGkDNzMzMzMwWQDMzMzMzMxlAmpmZmZmZE0BmZmZmZmYaQM3MzMzMzBRAAAAAAAAAFECamZmZmZkXQAAAAAAAABhAZmZmZmZmGEBmZmZmZmYWQM3MzMzMzBpAZmZmZmZmFkAzMzMzMzMXQM3MzMzMzBhAZmZmZmZmFkCamZmZmZkXQGZmZmZmZhhAMzMzMzMzGUBmZmZmZmYYQJqZmZmZmRlAZmZmZmZmGkAzMzMzMzMbQM3MzMzMzBpAAAAAAAAAGEDNzMzMzMwWQAAAAAAAABZAAAAAAAAAFkAzMzMzMzMXQAAAAAAAABhAmpmZmZmZFUAAAAAAAAAYQM3MzMzMzBpAMzMzMzMzGUBmZmZmZmYWQAAAAAAAABZAAAAAAAAAFkBmZmZmZmYYQDMzMzMzMxdAAAAAAAAAFEBmZmZmZmYWQM3MzMzMzBZAzczMzMzMFkDNzMzMzMwYQGZmZmZmZhRAzczMzMzMFkAzMzMzMzMZQDMzMzMzMxdAZmZmZmZmHEAzMzMzMzMZQAAAAAAAABpAZmZmZmZmHkCamZmZmZkTQDMzMzMzMx1AzczMzMzMGkDNzMzMzMwcQAAAAAAAABpAmpmZmZmZGUAzMzMzMzMbQM3MzMzMzBZAMzMzMzMzF0CamZmZmZkZQAAAAAAAABpAzczMzMzMHkDNzMzMzMweQAAAAAAAABhAmpmZmZmZG0BmZmZmZmYWQM3MzMzMzB5AMzMzMzMzGUDNzMzMzMwaQM3MzMzMzBxAzczMzMzMGEBmZmZmZmYYQJqZmZmZmRlAzczMzMzMHECamZmZmZkdQJqZmZmZmR9AmpmZmZmZGUAzMzMzMzMZQGZmZmZmZhhAzczMzMzMHkAzMzMzMzMZQJqZmZmZmRlAAAAAAAAAGECamZmZmZkbQM3MzMzMzBpAmpmZmZmZG0AzMzMzMzMXQDMzMzMzMxtAzczMzMzMGkDNzMzMzMwaQDMzMzMzMxlAAAAAAAAAGkDNzMzMzMwYQJqZmZmZmRdA",
                    "dtype": "f8"
                  }
                },
                {
                  "type": "histogram",
                  "x": {
                    "bdata": "AAAAAAAADEAAAAAAAAAIQJqZmZmZmQlAzczMzMzMCEDNzMzMzMwMQDMzMzMzMw9AMzMzMzMzC0AzMzMzMzMLQDMzMzMzMwdAzczMzMzMCECamZmZmZkNQDMzMzMzMwtAAAAAAAAACEAAAAAAAAAIQAAAAAAAABBAmpmZmZmZEUAzMzMzMzMPQAAAAAAAAAxAZmZmZmZmDkBmZmZmZmYOQDMzMzMzMwtAmpmZmZmZDUDNzMzMzMwMQGZmZmZmZgpAMzMzMzMzC0AAAAAAAAAIQDMzMzMzMwtAAAAAAAAADEAzMzMzMzMLQJqZmZmZmQlAzczMzMzMCEAzMzMzMzMLQGZmZmZmZhBAzczMzMzMEEDNzMzMzMwIQJqZmZmZmQlAAAAAAAAADEDNzMzMzMwIQAAAAAAAAAhAMzMzMzMzC0AAAAAAAAAMQGZmZmZmZgJAmpmZmZmZCUAAAAAAAAAMQGZmZmZmZg5AAAAAAAAACEBmZmZmZmYOQJqZmZmZmQlAmpmZmZmZDUBmZmZmZmYKQJqZmZmZmQlAmpmZmZmZCUDNzMzMzMwIQGZmZmZmZgJAZmZmZmZmBkBmZmZmZmYGQGZmZmZmZgpAMzMzMzMzA0AzMzMzMzMHQJqZmZmZmQVAAAAAAAAAAEAAAAAAAAAIQJqZmZmZmQFAMzMzMzMzB0AzMzMzMzMHQM3MzMzMzAhAAAAAAAAACECamZmZmZkFQJqZmZmZmQFAAAAAAAAABECamZmZmZkJQGZmZmZmZgZAAAAAAAAABEBmZmZmZmYGQDMzMzMzMwdAAAAAAAAACEBmZmZmZmYGQAAAAAAAAAhAMzMzMzMzB0DNzMzMzMwEQDMzMzMzMwNAMzMzMzMzA0CamZmZmZkFQJqZmZmZmQVAAAAAAAAACEAzMzMzMzMLQM3MzMzMzAhAZmZmZmZmAkAAAAAAAAAIQAAAAAAAAARAzczMzMzMBEAAAAAAAAAIQM3MzMzMzARAZmZmZmZmAkCamZmZmZkFQAAAAAAAAAhAMzMzMzMzB0AzMzMzMzMHQAAAAAAAAARAZmZmZmZmBkBmZmZmZmYKQJqZmZmZmQVAAAAAAAAACEAzMzMzMzMHQAAAAAAAAAhAAAAAAAAACEAAAAAAAAAEQDMzMzMzMwdAAAAAAAAABEDNzMzMzMwMQJqZmZmZmQlAmpmZmZmZBUAAAAAAAAAIQAAAAAAAAARAZmZmZmZmBkCamZmZmZkJQAAAAAAAAAhAZmZmZmZmDkDNzMzMzMwEQJqZmZmZmQFAmpmZmZmZCUBmZmZmZmYGQGZmZmZmZgZAmpmZmZmZBUBmZmZmZmYKQJqZmZmZmQlAZmZmZmZmBkAAAAAAAAAIQGZmZmZmZgZAAAAAAAAACEBmZmZmZmYGQGZmZmZmZg5AZmZmZmZmBkBmZmZmZmYGQM3MzMzMzARAAAAAAAAACEAzMzMzMzMLQM3MzMzMzAhAAAAAAAAACEDNzMzMzMwIQM3MzMzMzAhAzczMzMzMCECamZmZmZkFQJqZmZmZmQlAZmZmZmZmCkAAAAAAAAAIQAAAAAAAAARAAAAAAAAACEAzMzMzMzMLQAAAAAAAAAhA",
                    "dtype": "f8"
                  }
                }
              ],
              "layout": {
                "template": {
                  "data": {
                    "bar": [
                      {
                        "error_x": {
                          "color": "#2a3f5f"
                        },
                        "error_y": {
                          "color": "#2a3f5f"
                        },
                        "marker": {
                          "line": {
                            "color": "#E5ECF6",
                            "width": 0.5
                          },
                          "pattern": {
                            "fillmode": "overlay",
                            "size": 10,
                            "solidity": 0.2
                          }
                        },
                        "type": "bar"
                      }
                    ],
                    "barpolar": [
                      {
                        "marker": {
                          "line": {
                            "color": "#E5ECF6",
                            "width": 0.5
                          },
                          "pattern": {
                            "fillmode": "overlay",
                            "size": 10,
                            "solidity": 0.2
                          }
                        },
                        "type": "barpolar"
                      }
                    ],
                    "carpet": [
                      {
                        "aaxis": {
                          "endlinecolor": "#2a3f5f",
                          "gridcolor": "white",
                          "linecolor": "white",
                          "minorgridcolor": "white",
                          "startlinecolor": "#2a3f5f"
                        },
                        "baxis": {
                          "endlinecolor": "#2a3f5f",
                          "gridcolor": "white",
                          "linecolor": "white",
                          "minorgridcolor": "white",
                          "startlinecolor": "#2a3f5f"
                        },
                        "type": "carpet"
                      }
                    ],
                    "choropleth": [
                      {
                        "colorbar": {
                          "outlinewidth": 0,
                          "ticks": ""
                        },
                        "type": "choropleth"
                      }
                    ],
                    "contour": [
                      {
                        "colorbar": {
                          "outlinewidth": 0,
                          "ticks": ""
                        },
                        "colorscale": [
                          [
                            0,
                            "#0d0887"
                          ],
                          [
                            0.1111111111111111,
                            "#46039f"
                          ],
                          [
                            0.2222222222222222,
                            "#7201a8"
                          ],
                          [
                            0.3333333333333333,
                            "#9c179e"
                          ],
                          [
                            0.4444444444444444,
                            "#bd3786"
                          ],
                          [
                            0.5555555555555556,
                            "#d8576b"
                          ],
                          [
                            0.6666666666666666,
                            "#ed7953"
                          ],
                          [
                            0.7777777777777778,
                            "#fb9f3a"
                          ],
                          [
                            0.8888888888888888,
                            "#fdca26"
                          ],
                          [
                            1,
                            "#f0f921"
                          ]
                        ],
                        "type": "contour"
                      }
                    ],
                    "contourcarpet": [
                      {
                        "colorbar": {
                          "outlinewidth": 0,
                          "ticks": ""
                        },
                        "type": "contourcarpet"
                      }
                    ],
                    "heatmap": [
                      {
                        "colorbar": {
                          "outlinewidth": 0,
                          "ticks": ""
                        },
                        "colorscale": [
                          [
                            0,
                            "#0d0887"
                          ],
                          [
                            0.1111111111111111,
                            "#46039f"
                          ],
                          [
                            0.2222222222222222,
                            "#7201a8"
                          ],
                          [
                            0.3333333333333333,
                            "#9c179e"
                          ],
                          [
                            0.4444444444444444,
                            "#bd3786"
                          ],
                          [
                            0.5555555555555556,
                            "#d8576b"
                          ],
                          [
                            0.6666666666666666,
                            "#ed7953"
                          ],
                          [
                            0.7777777777777778,
                            "#fb9f3a"
                          ],
                          [
                            0.8888888888888888,
                            "#fdca26"
                          ],
                          [
                            1,
                            "#f0f921"
                          ]
                        ],
                        "type": "heatmap"
                      }
                    ],
                    "histogram": [
                      {
                        "marker": {
                          "pattern": {
                            "fillmode": "overlay",
                            "size": 10,
                            "solidity": 0.2
                          }
                        },
                        "type": "histogram"
                      }
                    ],
                    "histogram2d": [
                      {
                        "colorbar": {
                          "outlinewidth": 0,
                          "ticks": ""
                        },
                        "colorscale": [
                          [
                            0,
                            "#0d0887"
                          ],
                          [
                            0.1111111111111111,
                            "#46039f"
                          ],
                          [
                            0.2222222222222222,
                            "#7201a8"
                          ],
                          [
                            0.3333333333333333,
                            "#9c179e"
                          ],
                          [
                            0.4444444444444444,
                            "#bd3786"
                          ],
                          [
                            0.5555555555555556,
                            "#d8576b"
                          ],
                          [
                            0.6666666666666666,
                            "#ed7953"
                          ],
                          [
                            0.7777777777777778,
                            "#fb9f3a"
                          ],
                          [
                            0.8888888888888888,
                            "#fdca26"
                          ],
                          [
                            1,
                            "#f0f921"
                          ]
                        ],
                        "type": "histogram2d"
                      }
                    ],
                    "histogram2dcontour": [
                      {
                        "colorbar": {
                          "outlinewidth": 0,
                          "ticks": ""
                        },
                        "colorscale": [
                          [
                            0,
                            "#0d0887"
                          ],
                          [
                            0.1111111111111111,
                            "#46039f"
                          ],
                          [
                            0.2222222222222222,
                            "#7201a8"
                          ],
                          [
                            0.3333333333333333,
                            "#9c179e"
                          ],
                          [
                            0.4444444444444444,
                            "#bd3786"
                          ],
                          [
                            0.5555555555555556,
                            "#d8576b"
                          ],
                          [
                            0.6666666666666666,
                            "#ed7953"
                          ],
                          [
                            0.7777777777777778,
                            "#fb9f3a"
                          ],
                          [
                            0.8888888888888888,
                            "#fdca26"
                          ],
                          [
                            1,
                            "#f0f921"
                          ]
                        ],
                        "type": "histogram2dcontour"
                      }
                    ],
                    "mesh3d": [
                      {
                        "colorbar": {
                          "outlinewidth": 0,
                          "ticks": ""
                        },
                        "type": "mesh3d"
                      }
                    ],
                    "parcoords": [
                      {
                        "line": {
                          "colorbar": {
                            "outlinewidth": 0,
                            "ticks": ""
                          }
                        },
                        "type": "parcoords"
                      }
                    ],
                    "pie": [
                      {
                        "automargin": true,
                        "type": "pie"
                      }
                    ],
                    "scatter": [
                      {
                        "fillpattern": {
                          "fillmode": "overlay",
                          "size": 10,
                          "solidity": 0.2
                        },
                        "type": "scatter"
                      }
                    ],
                    "scatter3d": [
                      {
                        "line": {
                          "colorbar": {
                            "outlinewidth": 0,
                            "ticks": ""
                          }
                        },
                        "marker": {
                          "colorbar": {
                            "outlinewidth": 0,
                            "ticks": ""
                          }
                        },
                        "type": "scatter3d"
                      }
                    ],
                    "scattercarpet": [
                      {
                        "marker": {
                          "colorbar": {
                            "outlinewidth": 0,
                            "ticks": ""
                          }
                        },
                        "type": "scattercarpet"
                      }
                    ],
                    "scattergeo": [
                      {
                        "marker": {
                          "colorbar": {
                            "outlinewidth": 0,
                            "ticks": ""
                          }
                        },
                        "type": "scattergeo"
                      }
                    ],
                    "scattergl": [
                      {
                        "marker": {
                          "colorbar": {
                            "outlinewidth": 0,
                            "ticks": ""
                          }
                        },
                        "type": "scattergl"
                      }
                    ],
                    "scattermap": [
                      {
                        "marker": {
                          "colorbar": {
                            "outlinewidth": 0,
                            "ticks": ""
                          }
                        },
                        "type": "scattermap"
                      }
                    ],
                    "scattermapbox": [
                      {
                        "marker": {
                          "colorbar": {
                            "outlinewidth": 0,
                            "ticks": ""
                          }
                        },
                        "type": "scattermapbox"
                      }
                    ],
                    "scatterpolar": [
                      {
                        "marker": {
                          "colorbar": {
                            "outlinewidth": 0,
                            "ticks": ""
                          }
                        },
                        "type": "scatterpolar"
                      }
                    ],
                    "scatterpolargl": [
                      {
                        "marker": {
                          "colorbar": {
                            "outlinewidth": 0,
                            "ticks": ""
                          }
                        },
                        "type": "scatterpolargl"
                      }
                    ],
                    "scatterternary": [
                      {
                        "marker": {
                          "colorbar": {
                            "outlinewidth": 0,
                            "ticks": ""
                          }
                        },
                        "type": "scatterternary"
                      }
                    ],
                    "surface": [
                      {
                        "colorbar": {
                          "outlinewidth": 0,
                          "ticks": ""
                        },
                        "colorscale": [
                          [
                            0,
                            "#0d0887"
                          ],
                          [
                            0.1111111111111111,
                            "#46039f"
                          ],
                          [
                            0.2222222222222222,
                            "#7201a8"
                          ],
                          [
                            0.3333333333333333,
                            "#9c179e"
                          ],
                          [
                            0.4444444444444444,
                            "#bd3786"
                          ],
                          [
                            0.5555555555555556,
                            "#d8576b"
                          ],
                          [
                            0.6666666666666666,
                            "#ed7953"
                          ],
                          [
                            0.7777777777777778,
                            "#fb9f3a"
                          ],
                          [
                            0.8888888888888888,
                            "#fdca26"
                          ],
                          [
                            1,
                            "#f0f921"
                          ]
                        ],
                        "type": "surface"
                      }
                    ],
                    "table": [
                      {
                        "cells": {
                          "fill": {
                            "color": "#EBF0F8"
                          },
                          "line": {
                            "color": "white"
                          }
                        },
                        "header": {
                          "fill": {
                            "color": "#C8D4E3"
                          },
                          "line": {
                            "color": "white"
                          }
                        },
                        "type": "table"
                      }
                    ]
                  },
                  "layout": {
                    "annotationdefaults": {
                      "arrowcolor": "#2a3f5f",
                      "arrowhead": 0,
                      "arrowwidth": 1
                    },
                    "autotypenumbers": "strict",
                    "coloraxis": {
                      "colorbar": {
                        "outlinewidth": 0,
                        "ticks": ""
                      }
                    },
                    "colorscale": {
                      "diverging": [
                        [
                          0,
                          "#8e0152"
                        ],
                        [
                          0.1,
                          "#c51b7d"
                        ],
                        [
                          0.2,
                          "#de77ae"
                        ],
                        [
                          0.3,
                          "#f1b6da"
                        ],
                        [
                          0.4,
                          "#fde0ef"
                        ],
                        [
                          0.5,
                          "#f7f7f7"
                        ],
                        [
                          0.6,
                          "#e6f5d0"
                        ],
                        [
                          0.7,
                          "#b8e186"
                        ],
                        [
                          0.8,
                          "#7fbc41"
                        ],
                        [
                          0.9,
                          "#4d9221"
                        ],
                        [
                          1,
                          "#276419"
                        ]
                      ],
                      "sequential": [
                        [
                          0,
                          "#0d0887"
                        ],
                        [
                          0.1111111111111111,
                          "#46039f"
                        ],
                        [
                          0.2222222222222222,
                          "#7201a8"
                        ],
                        [
                          0.3333333333333333,
                          "#9c179e"
                        ],
                        [
                          0.4444444444444444,
                          "#bd3786"
                        ],
                        [
                          0.5555555555555556,
                          "#d8576b"
                        ],
                        [
                          0.6666666666666666,
                          "#ed7953"
                        ],
                        [
                          0.7777777777777778,
                          "#fb9f3a"
                        ],
                        [
                          0.8888888888888888,
                          "#fdca26"
                        ],
                        [
                          1,
                          "#f0f921"
                        ]
                      ],
                      "sequentialminus": [
                        [
                          0,
                          "#0d0887"
                        ],
                        [
                          0.1111111111111111,
                          "#46039f"
                        ],
                        [
                          0.2222222222222222,
                          "#7201a8"
                        ],
                        [
                          0.3333333333333333,
                          "#9c179e"
                        ],
                        [
                          0.4444444444444444,
                          "#bd3786"
                        ],
                        [
                          0.5555555555555556,
                          "#d8576b"
                        ],
                        [
                          0.6666666666666666,
                          "#ed7953"
                        ],
                        [
                          0.7777777777777778,
                          "#fb9f3a"
                        ],
                        [
                          0.8888888888888888,
                          "#fdca26"
                        ],
                        [
                          1,
                          "#f0f921"
                        ]
                      ]
                    },
                    "colorway": [
                      "#636efa",
                      "#EF553B",
                      "#00cc96",
                      "#ab63fa",
                      "#FFA15A",
                      "#19d3f3",
                      "#FF6692",
                      "#B6E880",
                      "#FF97FF",
                      "#FECB52"
                    ],
                    "font": {
                      "color": "#2a3f5f"
                    },
                    "geo": {
                      "bgcolor": "white",
                      "lakecolor": "white",
                      "landcolor": "#E5ECF6",
                      "showlakes": true,
                      "showland": true,
                      "subunitcolor": "white"
                    },
                    "hoverlabel": {
                      "align": "left"
                    },
                    "hovermode": "closest",
                    "mapbox": {
                      "style": "light"
                    },
                    "paper_bgcolor": "white",
                    "plot_bgcolor": "#E5ECF6",
                    "polar": {
                      "angularaxis": {
                        "gridcolor": "white",
                        "linecolor": "white",
                        "ticks": ""
                      },
                      "bgcolor": "#E5ECF6",
                      "radialaxis": {
                        "gridcolor": "white",
                        "linecolor": "white",
                        "ticks": ""
                      }
                    },
                    "scene": {
                      "xaxis": {
                        "backgroundcolor": "#E5ECF6",
                        "gridcolor": "white",
                        "gridwidth": 2,
                        "linecolor": "white",
                        "showbackground": true,
                        "ticks": "",
                        "zerolinecolor": "white"
                      },
                      "yaxis": {
                        "backgroundcolor": "#E5ECF6",
                        "gridcolor": "white",
                        "gridwidth": 2,
                        "linecolor": "white",
                        "showbackground": true,
                        "ticks": "",
                        "zerolinecolor": "white"
                      },
                      "zaxis": {
                        "backgroundcolor": "#E5ECF6",
                        "gridcolor": "white",
                        "gridwidth": 2,
                        "linecolor": "white",
                        "showbackground": true,
                        "ticks": "",
                        "zerolinecolor": "white"
                      }
                    },
                    "shapedefaults": {
                      "line": {
                        "color": "#2a3f5f"
                      }
                    },
                    "ternary": {
                      "aaxis": {
                        "gridcolor": "white",
                        "linecolor": "white",
                        "ticks": ""
                      },
                      "baxis": {
                        "gridcolor": "white",
                        "linecolor": "white",
                        "ticks": ""
                      },
                      "bgcolor": "#E5ECF6",
                      "caxis": {
                        "gridcolor": "white",
                        "linecolor": "white",
                        "ticks": ""
                      }
                    },
                    "title": {
                      "x": 0.05
                    },
                    "xaxis": {
                      "automargin": true,
                      "gridcolor": "white",
                      "linecolor": "white",
                      "ticks": "",
                      "title": {
                        "standoff": 15
                      },
                      "zerolinecolor": "white",
                      "zerolinewidth": 2
                    },
                    "yaxis": {
                      "automargin": true,
                      "gridcolor": "white",
                      "linecolor": "white",
                      "ticks": "",
                      "title": {
                        "standoff": 15
                      },
                      "zerolinecolor": "white",
                      "zerolinewidth": 2
                    }
                  }
                },
                "title": {
                  "text": "This figure has been made with plotly graph objects",
                  "x": 0.5
                },
                "xaxis": {
                  "range": [
                    0,
                    5
                  ],
                  "title": {
                    "text": "Sepal width"
                  }
                },
                "yaxis": {
                  "range": [
                    0,
                    10
                  ],
                  "title": {
                    "text": "Sepal length"
                  }
                }
              }
            }
          },
          "metadata": {},
          "output_type": "display_data"
        }
      ],
      "source": [
        "# Add the distribution of sepal_width on the same graph\n",
        "fig.add_trace(\n",
        "    go.Histogram(\n",
        "        x = df['sepal_width']))"
      ]
    },
    {
      "cell_type": "code",
      "execution_count": 12,
      "metadata": {
        "colab": {
          "base_uri": "https://localhost:8080/",
          "height": 522
        },
        "id": "hOBnJlaJV8xn",
        "outputId": "9d8ac83d-0426-46ba-dc36-104c48cf17f5"
      },
      "outputs": [
        {
          "data": {
            "application/vnd.plotly.v1+json": {
              "config": {
                "plotlyServerURL": "https://plot.ly"
              },
              "data": [
                {
                  "marker": {
                    "color": {
                      "bdata": "AQEBAQEBAQEBAQEBAQEBAQEBAQEBAQEBAQEBAQEBAQEBAQEBAQEBAQEBAQEBAQEBAQECAgICAgICAgICAgICAgICAgICAgICAgICAgICAgICAgICAgICAgICAgICAgICAgICAgMDAwMDAwMDAwMDAwMDAwMDAwMDAwMDAwMDAwMDAwMDAwMDAwMDAwMDAwMDAwMDAwMD",
                      "dtype": "i1"
                    }
                  },
                  "mode": "markers",
                  "type": "scatter",
                  "x": {
                    "bdata": "AAAAAAAADEAAAAAAAAAIQJqZmZmZmQlAzczMzMzMCEDNzMzMzMwMQDMzMzMzMw9AMzMzMzMzC0AzMzMzMzMLQDMzMzMzMwdAzczMzMzMCECamZmZmZkNQDMzMzMzMwtAAAAAAAAACEAAAAAAAAAIQAAAAAAAABBAmpmZmZmZEUAzMzMzMzMPQAAAAAAAAAxAZmZmZmZmDkBmZmZmZmYOQDMzMzMzMwtAmpmZmZmZDUDNzMzMzMwMQGZmZmZmZgpAMzMzMzMzC0AAAAAAAAAIQDMzMzMzMwtAAAAAAAAADEAzMzMzMzMLQJqZmZmZmQlAzczMzMzMCEAzMzMzMzMLQGZmZmZmZhBAzczMzMzMEEDNzMzMzMwIQJqZmZmZmQlAAAAAAAAADEDNzMzMzMwIQAAAAAAAAAhAMzMzMzMzC0AAAAAAAAAMQGZmZmZmZgJAmpmZmZmZCUAAAAAAAAAMQGZmZmZmZg5AAAAAAAAACEBmZmZmZmYOQJqZmZmZmQlAmpmZmZmZDUBmZmZmZmYKQJqZmZmZmQlAmpmZmZmZCUDNzMzMzMwIQGZmZmZmZgJAZmZmZmZmBkBmZmZmZmYGQGZmZmZmZgpAMzMzMzMzA0AzMzMzMzMHQJqZmZmZmQVAAAAAAAAAAEAAAAAAAAAIQJqZmZmZmQFAMzMzMzMzB0AzMzMzMzMHQM3MzMzMzAhAAAAAAAAACECamZmZmZkFQJqZmZmZmQFAAAAAAAAABECamZmZmZkJQGZmZmZmZgZAAAAAAAAABEBmZmZmZmYGQDMzMzMzMwdAAAAAAAAACEBmZmZmZmYGQAAAAAAAAAhAMzMzMzMzB0DNzMzMzMwEQDMzMzMzMwNAMzMzMzMzA0CamZmZmZkFQJqZmZmZmQVAAAAAAAAACEAzMzMzMzMLQM3MzMzMzAhAZmZmZmZmAkAAAAAAAAAIQAAAAAAAAARAzczMzMzMBEAAAAAAAAAIQM3MzMzMzARAZmZmZmZmAkCamZmZmZkFQAAAAAAAAAhAMzMzMzMzB0AzMzMzMzMHQAAAAAAAAARAZmZmZmZmBkBmZmZmZmYKQJqZmZmZmQVAAAAAAAAACEAzMzMzMzMHQAAAAAAAAAhAAAAAAAAACEAAAAAAAAAEQDMzMzMzMwdAAAAAAAAABEDNzMzMzMwMQJqZmZmZmQlAmpmZmZmZBUAAAAAAAAAIQAAAAAAAAARAZmZmZmZmBkCamZmZmZkJQAAAAAAAAAhAZmZmZmZmDkDNzMzMzMwEQJqZmZmZmQFAmpmZmZmZCUBmZmZmZmYGQGZmZmZmZgZAmpmZmZmZBUBmZmZmZmYKQJqZmZmZmQlAZmZmZmZmBkAAAAAAAAAIQGZmZmZmZgZAAAAAAAAACEBmZmZmZmYGQGZmZmZmZg5AZmZmZmZmBkBmZmZmZmYGQM3MzMzMzARAAAAAAAAACEAzMzMzMzMLQM3MzMzMzAhAAAAAAAAACEDNzMzMzMwIQM3MzMzMzAhAzczMzMzMCECamZmZmZkFQJqZmZmZmQlAZmZmZmZmCkAAAAAAAAAIQAAAAAAAAARAAAAAAAAACEAzMzMzMzMLQAAAAAAAAAhA",
                    "dtype": "f8"
                  },
                  "y": {
                    "bdata": "ZmZmZmZmFECamZmZmZkTQM3MzMzMzBJAZmZmZmZmEkAAAAAAAAAUQJqZmZmZmRVAZmZmZmZmEkAAAAAAAAAUQJqZmZmZmRFAmpmZmZmZE0CamZmZmZkVQDMzMzMzMxNAMzMzMzMzE0AzMzMzMzMRQDMzMzMzMxdAzczMzMzMFkCamZmZmZkVQGZmZmZmZhRAzczMzMzMFkBmZmZmZmYUQJqZmZmZmRVAZmZmZmZmFEBmZmZmZmYSQGZmZmZmZhRAMzMzMzMzE0AAAAAAAAAUQAAAAAAAABRAzczMzMzMFEDNzMzMzMwUQM3MzMzMzBJAMzMzMzMzE0CamZmZmZkVQM3MzMzMzBRAAAAAAAAAFkCamZmZmZkTQAAAAAAAABRAAAAAAAAAFkCamZmZmZkTQJqZmZmZmRFAZmZmZmZmFEAAAAAAAAAUQAAAAAAAABJAmpmZmZmZEUAAAAAAAAAUQGZmZmZmZhRAMzMzMzMzE0BmZmZmZmYUQGZmZmZmZhJAMzMzMzMzFUAAAAAAAAAUQAAAAAAAABxAmpmZmZmZGUCamZmZmZkbQAAAAAAAABZAAAAAAAAAGkDNzMzMzMwWQDMzMzMzMxlAmpmZmZmZE0BmZmZmZmYaQM3MzMzMzBRAAAAAAAAAFECamZmZmZkXQAAAAAAAABhAZmZmZmZmGEBmZmZmZmYWQM3MzMzMzBpAZmZmZmZmFkAzMzMzMzMXQM3MzMzMzBhAZmZmZmZmFkCamZmZmZkXQGZmZmZmZhhAMzMzMzMzGUBmZmZmZmYYQJqZmZmZmRlAZmZmZmZmGkAzMzMzMzMbQM3MzMzMzBpAAAAAAAAAGEDNzMzMzMwWQAAAAAAAABZAAAAAAAAAFkAzMzMzMzMXQAAAAAAAABhAmpmZmZmZFUAAAAAAAAAYQM3MzMzMzBpAMzMzMzMzGUBmZmZmZmYWQAAAAAAAABZAAAAAAAAAFkBmZmZmZmYYQDMzMzMzMxdAAAAAAAAAFEBmZmZmZmYWQM3MzMzMzBZAzczMzMzMFkDNzMzMzMwYQGZmZmZmZhRAzczMzMzMFkAzMzMzMzMZQDMzMzMzMxdAZmZmZmZmHEAzMzMzMzMZQAAAAAAAABpAZmZmZmZmHkCamZmZmZkTQDMzMzMzMx1AzczMzMzMGkDNzMzMzMwcQAAAAAAAABpAmpmZmZmZGUAzMzMzMzMbQM3MzMzMzBZAMzMzMzMzF0CamZmZmZkZQAAAAAAAABpAzczMzMzMHkDNzMzMzMweQAAAAAAAABhAmpmZmZmZG0BmZmZmZmYWQM3MzMzMzB5AMzMzMzMzGUDNzMzMzMwaQM3MzMzMzBxAzczMzMzMGEBmZmZmZmYYQJqZmZmZmRlAzczMzMzMHECamZmZmZkdQJqZmZmZmR9AmpmZmZmZGUAzMzMzMzMZQGZmZmZmZhhAzczMzMzMHkAzMzMzMzMZQJqZmZmZmRlAAAAAAAAAGECamZmZmZkbQM3MzMzMzBpAmpmZmZmZG0AzMzMzMzMXQDMzMzMzMxtAzczMzMzMGkDNzMzMzMwaQDMzMzMzMxlAAAAAAAAAGkDNzMzMzMwYQJqZmZmZmRdA",
                    "dtype": "f8"
                  }
                },
                {
                  "type": "histogram",
                  "x": {
                    "bdata": "AAAAAAAADEAAAAAAAAAIQJqZmZmZmQlAzczMzMzMCEDNzMzMzMwMQDMzMzMzMw9AMzMzMzMzC0AzMzMzMzMLQDMzMzMzMwdAzczMzMzMCECamZmZmZkNQDMzMzMzMwtAAAAAAAAACEAAAAAAAAAIQAAAAAAAABBAmpmZmZmZEUAzMzMzMzMPQAAAAAAAAAxAZmZmZmZmDkBmZmZmZmYOQDMzMzMzMwtAmpmZmZmZDUDNzMzMzMwMQGZmZmZmZgpAMzMzMzMzC0AAAAAAAAAIQDMzMzMzMwtAAAAAAAAADEAzMzMzMzMLQJqZmZmZmQlAzczMzMzMCEAzMzMzMzMLQGZmZmZmZhBAzczMzMzMEEDNzMzMzMwIQJqZmZmZmQlAAAAAAAAADEDNzMzMzMwIQAAAAAAAAAhAMzMzMzMzC0AAAAAAAAAMQGZmZmZmZgJAmpmZmZmZCUAAAAAAAAAMQGZmZmZmZg5AAAAAAAAACEBmZmZmZmYOQJqZmZmZmQlAmpmZmZmZDUBmZmZmZmYKQJqZmZmZmQlAmpmZmZmZCUDNzMzMzMwIQGZmZmZmZgJAZmZmZmZmBkBmZmZmZmYGQGZmZmZmZgpAMzMzMzMzA0AzMzMzMzMHQJqZmZmZmQVAAAAAAAAAAEAAAAAAAAAIQJqZmZmZmQFAMzMzMzMzB0AzMzMzMzMHQM3MzMzMzAhAAAAAAAAACECamZmZmZkFQJqZmZmZmQFAAAAAAAAABECamZmZmZkJQGZmZmZmZgZAAAAAAAAABEBmZmZmZmYGQDMzMzMzMwdAAAAAAAAACEBmZmZmZmYGQAAAAAAAAAhAMzMzMzMzB0DNzMzMzMwEQDMzMzMzMwNAMzMzMzMzA0CamZmZmZkFQJqZmZmZmQVAAAAAAAAACEAzMzMzMzMLQM3MzMzMzAhAZmZmZmZmAkAAAAAAAAAIQAAAAAAAAARAzczMzMzMBEAAAAAAAAAIQM3MzMzMzARAZmZmZmZmAkCamZmZmZkFQAAAAAAAAAhAMzMzMzMzB0AzMzMzMzMHQAAAAAAAAARAZmZmZmZmBkBmZmZmZmYKQJqZmZmZmQVAAAAAAAAACEAzMzMzMzMHQAAAAAAAAAhAAAAAAAAACEAAAAAAAAAEQDMzMzMzMwdAAAAAAAAABEDNzMzMzMwMQJqZmZmZmQlAmpmZmZmZBUAAAAAAAAAIQAAAAAAAAARAZmZmZmZmBkCamZmZmZkJQAAAAAAAAAhAZmZmZmZmDkDNzMzMzMwEQJqZmZmZmQFAmpmZmZmZCUBmZmZmZmYGQGZmZmZmZgZAmpmZmZmZBUBmZmZmZmYKQJqZmZmZmQlAZmZmZmZmBkAAAAAAAAAIQGZmZmZmZgZAAAAAAAAACEBmZmZmZmYGQGZmZmZmZg5AZmZmZmZmBkBmZmZmZmYGQM3MzMzMzARAAAAAAAAACEAzMzMzMzMLQM3MzMzMzAhAAAAAAAAACEDNzMzMzMwIQM3MzMzMzAhAzczMzMzMCECamZmZmZkFQJqZmZmZmQlAZmZmZmZmCkAAAAAAAAAIQAAAAAAAAARAAAAAAAAACEAzMzMzMzMLQAAAAAAAAAhA",
                    "dtype": "f8"
                  }
                }
              ],
              "layout": {
                "showlegend": false,
                "template": {
                  "data": {
                    "bar": [
                      {
                        "error_x": {
                          "color": "#2a3f5f"
                        },
                        "error_y": {
                          "color": "#2a3f5f"
                        },
                        "marker": {
                          "line": {
                            "color": "#E5ECF6",
                            "width": 0.5
                          },
                          "pattern": {
                            "fillmode": "overlay",
                            "size": 10,
                            "solidity": 0.2
                          }
                        },
                        "type": "bar"
                      }
                    ],
                    "barpolar": [
                      {
                        "marker": {
                          "line": {
                            "color": "#E5ECF6",
                            "width": 0.5
                          },
                          "pattern": {
                            "fillmode": "overlay",
                            "size": 10,
                            "solidity": 0.2
                          }
                        },
                        "type": "barpolar"
                      }
                    ],
                    "carpet": [
                      {
                        "aaxis": {
                          "endlinecolor": "#2a3f5f",
                          "gridcolor": "white",
                          "linecolor": "white",
                          "minorgridcolor": "white",
                          "startlinecolor": "#2a3f5f"
                        },
                        "baxis": {
                          "endlinecolor": "#2a3f5f",
                          "gridcolor": "white",
                          "linecolor": "white",
                          "minorgridcolor": "white",
                          "startlinecolor": "#2a3f5f"
                        },
                        "type": "carpet"
                      }
                    ],
                    "choropleth": [
                      {
                        "colorbar": {
                          "outlinewidth": 0,
                          "ticks": ""
                        },
                        "type": "choropleth"
                      }
                    ],
                    "contour": [
                      {
                        "colorbar": {
                          "outlinewidth": 0,
                          "ticks": ""
                        },
                        "colorscale": [
                          [
                            0,
                            "#0d0887"
                          ],
                          [
                            0.1111111111111111,
                            "#46039f"
                          ],
                          [
                            0.2222222222222222,
                            "#7201a8"
                          ],
                          [
                            0.3333333333333333,
                            "#9c179e"
                          ],
                          [
                            0.4444444444444444,
                            "#bd3786"
                          ],
                          [
                            0.5555555555555556,
                            "#d8576b"
                          ],
                          [
                            0.6666666666666666,
                            "#ed7953"
                          ],
                          [
                            0.7777777777777778,
                            "#fb9f3a"
                          ],
                          [
                            0.8888888888888888,
                            "#fdca26"
                          ],
                          [
                            1,
                            "#f0f921"
                          ]
                        ],
                        "type": "contour"
                      }
                    ],
                    "contourcarpet": [
                      {
                        "colorbar": {
                          "outlinewidth": 0,
                          "ticks": ""
                        },
                        "type": "contourcarpet"
                      }
                    ],
                    "heatmap": [
                      {
                        "colorbar": {
                          "outlinewidth": 0,
                          "ticks": ""
                        },
                        "colorscale": [
                          [
                            0,
                            "#0d0887"
                          ],
                          [
                            0.1111111111111111,
                            "#46039f"
                          ],
                          [
                            0.2222222222222222,
                            "#7201a8"
                          ],
                          [
                            0.3333333333333333,
                            "#9c179e"
                          ],
                          [
                            0.4444444444444444,
                            "#bd3786"
                          ],
                          [
                            0.5555555555555556,
                            "#d8576b"
                          ],
                          [
                            0.6666666666666666,
                            "#ed7953"
                          ],
                          [
                            0.7777777777777778,
                            "#fb9f3a"
                          ],
                          [
                            0.8888888888888888,
                            "#fdca26"
                          ],
                          [
                            1,
                            "#f0f921"
                          ]
                        ],
                        "type": "heatmap"
                      }
                    ],
                    "histogram": [
                      {
                        "marker": {
                          "pattern": {
                            "fillmode": "overlay",
                            "size": 10,
                            "solidity": 0.2
                          }
                        },
                        "type": "histogram"
                      }
                    ],
                    "histogram2d": [
                      {
                        "colorbar": {
                          "outlinewidth": 0,
                          "ticks": ""
                        },
                        "colorscale": [
                          [
                            0,
                            "#0d0887"
                          ],
                          [
                            0.1111111111111111,
                            "#46039f"
                          ],
                          [
                            0.2222222222222222,
                            "#7201a8"
                          ],
                          [
                            0.3333333333333333,
                            "#9c179e"
                          ],
                          [
                            0.4444444444444444,
                            "#bd3786"
                          ],
                          [
                            0.5555555555555556,
                            "#d8576b"
                          ],
                          [
                            0.6666666666666666,
                            "#ed7953"
                          ],
                          [
                            0.7777777777777778,
                            "#fb9f3a"
                          ],
                          [
                            0.8888888888888888,
                            "#fdca26"
                          ],
                          [
                            1,
                            "#f0f921"
                          ]
                        ],
                        "type": "histogram2d"
                      }
                    ],
                    "histogram2dcontour": [
                      {
                        "colorbar": {
                          "outlinewidth": 0,
                          "ticks": ""
                        },
                        "colorscale": [
                          [
                            0,
                            "#0d0887"
                          ],
                          [
                            0.1111111111111111,
                            "#46039f"
                          ],
                          [
                            0.2222222222222222,
                            "#7201a8"
                          ],
                          [
                            0.3333333333333333,
                            "#9c179e"
                          ],
                          [
                            0.4444444444444444,
                            "#bd3786"
                          ],
                          [
                            0.5555555555555556,
                            "#d8576b"
                          ],
                          [
                            0.6666666666666666,
                            "#ed7953"
                          ],
                          [
                            0.7777777777777778,
                            "#fb9f3a"
                          ],
                          [
                            0.8888888888888888,
                            "#fdca26"
                          ],
                          [
                            1,
                            "#f0f921"
                          ]
                        ],
                        "type": "histogram2dcontour"
                      }
                    ],
                    "mesh3d": [
                      {
                        "colorbar": {
                          "outlinewidth": 0,
                          "ticks": ""
                        },
                        "type": "mesh3d"
                      }
                    ],
                    "parcoords": [
                      {
                        "line": {
                          "colorbar": {
                            "outlinewidth": 0,
                            "ticks": ""
                          }
                        },
                        "type": "parcoords"
                      }
                    ],
                    "pie": [
                      {
                        "automargin": true,
                        "type": "pie"
                      }
                    ],
                    "scatter": [
                      {
                        "fillpattern": {
                          "fillmode": "overlay",
                          "size": 10,
                          "solidity": 0.2
                        },
                        "type": "scatter"
                      }
                    ],
                    "scatter3d": [
                      {
                        "line": {
                          "colorbar": {
                            "outlinewidth": 0,
                            "ticks": ""
                          }
                        },
                        "marker": {
                          "colorbar": {
                            "outlinewidth": 0,
                            "ticks": ""
                          }
                        },
                        "type": "scatter3d"
                      }
                    ],
                    "scattercarpet": [
                      {
                        "marker": {
                          "colorbar": {
                            "outlinewidth": 0,
                            "ticks": ""
                          }
                        },
                        "type": "scattercarpet"
                      }
                    ],
                    "scattergeo": [
                      {
                        "marker": {
                          "colorbar": {
                            "outlinewidth": 0,
                            "ticks": ""
                          }
                        },
                        "type": "scattergeo"
                      }
                    ],
                    "scattergl": [
                      {
                        "marker": {
                          "colorbar": {
                            "outlinewidth": 0,
                            "ticks": ""
                          }
                        },
                        "type": "scattergl"
                      }
                    ],
                    "scattermap": [
                      {
                        "marker": {
                          "colorbar": {
                            "outlinewidth": 0,
                            "ticks": ""
                          }
                        },
                        "type": "scattermap"
                      }
                    ],
                    "scattermapbox": [
                      {
                        "marker": {
                          "colorbar": {
                            "outlinewidth": 0,
                            "ticks": ""
                          }
                        },
                        "type": "scattermapbox"
                      }
                    ],
                    "scatterpolar": [
                      {
                        "marker": {
                          "colorbar": {
                            "outlinewidth": 0,
                            "ticks": ""
                          }
                        },
                        "type": "scatterpolar"
                      }
                    ],
                    "scatterpolargl": [
                      {
                        "marker": {
                          "colorbar": {
                            "outlinewidth": 0,
                            "ticks": ""
                          }
                        },
                        "type": "scatterpolargl"
                      }
                    ],
                    "scatterternary": [
                      {
                        "marker": {
                          "colorbar": {
                            "outlinewidth": 0,
                            "ticks": ""
                          }
                        },
                        "type": "scatterternary"
                      }
                    ],
                    "surface": [
                      {
                        "colorbar": {
                          "outlinewidth": 0,
                          "ticks": ""
                        },
                        "colorscale": [
                          [
                            0,
                            "#0d0887"
                          ],
                          [
                            0.1111111111111111,
                            "#46039f"
                          ],
                          [
                            0.2222222222222222,
                            "#7201a8"
                          ],
                          [
                            0.3333333333333333,
                            "#9c179e"
                          ],
                          [
                            0.4444444444444444,
                            "#bd3786"
                          ],
                          [
                            0.5555555555555556,
                            "#d8576b"
                          ],
                          [
                            0.6666666666666666,
                            "#ed7953"
                          ],
                          [
                            0.7777777777777778,
                            "#fb9f3a"
                          ],
                          [
                            0.8888888888888888,
                            "#fdca26"
                          ],
                          [
                            1,
                            "#f0f921"
                          ]
                        ],
                        "type": "surface"
                      }
                    ],
                    "table": [
                      {
                        "cells": {
                          "fill": {
                            "color": "#EBF0F8"
                          },
                          "line": {
                            "color": "white"
                          }
                        },
                        "header": {
                          "fill": {
                            "color": "#C8D4E3"
                          },
                          "line": {
                            "color": "white"
                          }
                        },
                        "type": "table"
                      }
                    ]
                  },
                  "layout": {
                    "annotationdefaults": {
                      "arrowcolor": "#2a3f5f",
                      "arrowhead": 0,
                      "arrowwidth": 1
                    },
                    "autotypenumbers": "strict",
                    "coloraxis": {
                      "colorbar": {
                        "outlinewidth": 0,
                        "ticks": ""
                      }
                    },
                    "colorscale": {
                      "diverging": [
                        [
                          0,
                          "#8e0152"
                        ],
                        [
                          0.1,
                          "#c51b7d"
                        ],
                        [
                          0.2,
                          "#de77ae"
                        ],
                        [
                          0.3,
                          "#f1b6da"
                        ],
                        [
                          0.4,
                          "#fde0ef"
                        ],
                        [
                          0.5,
                          "#f7f7f7"
                        ],
                        [
                          0.6,
                          "#e6f5d0"
                        ],
                        [
                          0.7,
                          "#b8e186"
                        ],
                        [
                          0.8,
                          "#7fbc41"
                        ],
                        [
                          0.9,
                          "#4d9221"
                        ],
                        [
                          1,
                          "#276419"
                        ]
                      ],
                      "sequential": [
                        [
                          0,
                          "#0d0887"
                        ],
                        [
                          0.1111111111111111,
                          "#46039f"
                        ],
                        [
                          0.2222222222222222,
                          "#7201a8"
                        ],
                        [
                          0.3333333333333333,
                          "#9c179e"
                        ],
                        [
                          0.4444444444444444,
                          "#bd3786"
                        ],
                        [
                          0.5555555555555556,
                          "#d8576b"
                        ],
                        [
                          0.6666666666666666,
                          "#ed7953"
                        ],
                        [
                          0.7777777777777778,
                          "#fb9f3a"
                        ],
                        [
                          0.8888888888888888,
                          "#fdca26"
                        ],
                        [
                          1,
                          "#f0f921"
                        ]
                      ],
                      "sequentialminus": [
                        [
                          0,
                          "#0d0887"
                        ],
                        [
                          0.1111111111111111,
                          "#46039f"
                        ],
                        [
                          0.2222222222222222,
                          "#7201a8"
                        ],
                        [
                          0.3333333333333333,
                          "#9c179e"
                        ],
                        [
                          0.4444444444444444,
                          "#bd3786"
                        ],
                        [
                          0.5555555555555556,
                          "#d8576b"
                        ],
                        [
                          0.6666666666666666,
                          "#ed7953"
                        ],
                        [
                          0.7777777777777778,
                          "#fb9f3a"
                        ],
                        [
                          0.8888888888888888,
                          "#fdca26"
                        ],
                        [
                          1,
                          "#f0f921"
                        ]
                      ]
                    },
                    "colorway": [
                      "#636efa",
                      "#EF553B",
                      "#00cc96",
                      "#ab63fa",
                      "#FFA15A",
                      "#19d3f3",
                      "#FF6692",
                      "#B6E880",
                      "#FF97FF",
                      "#FECB52"
                    ],
                    "font": {
                      "color": "#2a3f5f"
                    },
                    "geo": {
                      "bgcolor": "white",
                      "lakecolor": "white",
                      "landcolor": "#E5ECF6",
                      "showlakes": true,
                      "showland": true,
                      "subunitcolor": "white"
                    },
                    "hoverlabel": {
                      "align": "left"
                    },
                    "hovermode": "closest",
                    "mapbox": {
                      "style": "light"
                    },
                    "paper_bgcolor": "white",
                    "plot_bgcolor": "#E5ECF6",
                    "polar": {
                      "angularaxis": {
                        "gridcolor": "white",
                        "linecolor": "white",
                        "ticks": ""
                      },
                      "bgcolor": "#E5ECF6",
                      "radialaxis": {
                        "gridcolor": "white",
                        "linecolor": "white",
                        "ticks": ""
                      }
                    },
                    "scene": {
                      "xaxis": {
                        "backgroundcolor": "#E5ECF6",
                        "gridcolor": "white",
                        "gridwidth": 2,
                        "linecolor": "white",
                        "showbackground": true,
                        "ticks": "",
                        "zerolinecolor": "white"
                      },
                      "yaxis": {
                        "backgroundcolor": "#E5ECF6",
                        "gridcolor": "white",
                        "gridwidth": 2,
                        "linecolor": "white",
                        "showbackground": true,
                        "ticks": "",
                        "zerolinecolor": "white"
                      },
                      "zaxis": {
                        "backgroundcolor": "#E5ECF6",
                        "gridcolor": "white",
                        "gridwidth": 2,
                        "linecolor": "white",
                        "showbackground": true,
                        "ticks": "",
                        "zerolinecolor": "white"
                      }
                    },
                    "shapedefaults": {
                      "line": {
                        "color": "#2a3f5f"
                      }
                    },
                    "ternary": {
                      "aaxis": {
                        "gridcolor": "white",
                        "linecolor": "white",
                        "ticks": ""
                      },
                      "baxis": {
                        "gridcolor": "white",
                        "linecolor": "white",
                        "ticks": ""
                      },
                      "bgcolor": "#E5ECF6",
                      "caxis": {
                        "gridcolor": "white",
                        "linecolor": "white",
                        "ticks": ""
                      }
                    },
                    "title": {
                      "x": 0.05
                    },
                    "xaxis": {
                      "automargin": true,
                      "gridcolor": "white",
                      "linecolor": "white",
                      "ticks": "",
                      "title": {
                        "standoff": 15
                      },
                      "zerolinecolor": "white",
                      "zerolinewidth": 2
                    },
                    "yaxis": {
                      "automargin": true,
                      "gridcolor": "white",
                      "linecolor": "white",
                      "ticks": "",
                      "title": {
                        "standoff": 15
                      },
                      "zerolinecolor": "white",
                      "zerolinewidth": 2
                    }
                  }
                },
                "title": {
                  "text": "This figure has been made with plotly graph objects",
                  "x": 0.5
                },
                "xaxis": {
                  "range": [
                    0,
                    5
                  ],
                  "title": {
                    "text": "Sepal width"
                  }
                },
                "yaxis": {
                  "range": [
                    0,
                    10
                  ],
                  "title": {
                    "text": "Sepal length"
                  }
                }
              }
            }
          },
          "metadata": {},
          "output_type": "display_data"
        }
      ],
      "source": [
        "# Hide the legend\n",
        "fig.update_layout(showlegend=False)"
      ]
    },
    {
      "cell_type": "markdown",
      "metadata": {
        "id": "8zAiTrstV8xo"
      },
      "source": [
        "## Creating subplots\n",
        "You can also use `make_subplots` together with `add_trace` to separate the different plots :"
      ]
    },
    {
      "cell_type": "code",
      "execution_count": 13,
      "metadata": {
        "colab": {
          "base_uri": "https://localhost:8080/",
          "height": 522
        },
        "id": "4FbiNxJTV8x7",
        "outputId": "42af5b2b-9cac-44d9-f49c-70b733ecc975"
      },
      "outputs": [
        {
          "data": {
            "application/vnd.plotly.v1+json": {
              "config": {
                "plotlyServerURL": "https://plot.ly"
              },
              "data": [
                {
                  "marker": {
                    "color": {
                      "bdata": "AQEBAQEBAQEBAQEBAQEBAQEBAQEBAQEBAQEBAQEBAQEBAQEBAQEBAQEBAQEBAQEBAQECAgICAgICAgICAgICAgICAgICAgICAgICAgICAgICAgICAgICAgICAgICAgICAgICAgMDAwMDAwMDAwMDAwMDAwMDAwMDAwMDAwMDAwMDAwMDAwMDAwMDAwMDAwMDAwMDAwMD",
                      "dtype": "i1"
                    }
                  },
                  "mode": "markers",
                  "type": "scatter",
                  "x": {
                    "bdata": "AAAAAAAADEAAAAAAAAAIQJqZmZmZmQlAzczMzMzMCEDNzMzMzMwMQDMzMzMzMw9AMzMzMzMzC0AzMzMzMzMLQDMzMzMzMwdAzczMzMzMCECamZmZmZkNQDMzMzMzMwtAAAAAAAAACEAAAAAAAAAIQAAAAAAAABBAmpmZmZmZEUAzMzMzMzMPQAAAAAAAAAxAZmZmZmZmDkBmZmZmZmYOQDMzMzMzMwtAmpmZmZmZDUDNzMzMzMwMQGZmZmZmZgpAMzMzMzMzC0AAAAAAAAAIQDMzMzMzMwtAAAAAAAAADEAzMzMzMzMLQJqZmZmZmQlAzczMzMzMCEAzMzMzMzMLQGZmZmZmZhBAzczMzMzMEEDNzMzMzMwIQJqZmZmZmQlAAAAAAAAADEDNzMzMzMwIQAAAAAAAAAhAMzMzMzMzC0AAAAAAAAAMQGZmZmZmZgJAmpmZmZmZCUAAAAAAAAAMQGZmZmZmZg5AAAAAAAAACEBmZmZmZmYOQJqZmZmZmQlAmpmZmZmZDUBmZmZmZmYKQJqZmZmZmQlAmpmZmZmZCUDNzMzMzMwIQGZmZmZmZgJAZmZmZmZmBkBmZmZmZmYGQGZmZmZmZgpAMzMzMzMzA0AzMzMzMzMHQJqZmZmZmQVAAAAAAAAAAEAAAAAAAAAIQJqZmZmZmQFAMzMzMzMzB0AzMzMzMzMHQM3MzMzMzAhAAAAAAAAACECamZmZmZkFQJqZmZmZmQFAAAAAAAAABECamZmZmZkJQGZmZmZmZgZAAAAAAAAABEBmZmZmZmYGQDMzMzMzMwdAAAAAAAAACEBmZmZmZmYGQAAAAAAAAAhAMzMzMzMzB0DNzMzMzMwEQDMzMzMzMwNAMzMzMzMzA0CamZmZmZkFQJqZmZmZmQVAAAAAAAAACEAzMzMzMzMLQM3MzMzMzAhAZmZmZmZmAkAAAAAAAAAIQAAAAAAAAARAzczMzMzMBEAAAAAAAAAIQM3MzMzMzARAZmZmZmZmAkCamZmZmZkFQAAAAAAAAAhAMzMzMzMzB0AzMzMzMzMHQAAAAAAAAARAZmZmZmZmBkBmZmZmZmYKQJqZmZmZmQVAAAAAAAAACEAzMzMzMzMHQAAAAAAAAAhAAAAAAAAACEAAAAAAAAAEQDMzMzMzMwdAAAAAAAAABEDNzMzMzMwMQJqZmZmZmQlAmpmZmZmZBUAAAAAAAAAIQAAAAAAAAARAZmZmZmZmBkCamZmZmZkJQAAAAAAAAAhAZmZmZmZmDkDNzMzMzMwEQJqZmZmZmQFAmpmZmZmZCUBmZmZmZmYGQGZmZmZmZgZAmpmZmZmZBUBmZmZmZmYKQJqZmZmZmQlAZmZmZmZmBkAAAAAAAAAIQGZmZmZmZgZAAAAAAAAACEBmZmZmZmYGQGZmZmZmZg5AZmZmZmZmBkBmZmZmZmYGQM3MzMzMzARAAAAAAAAACEAzMzMzMzMLQM3MzMzMzAhAAAAAAAAACEDNzMzMzMwIQM3MzMzMzAhAzczMzMzMCECamZmZmZkFQJqZmZmZmQlAZmZmZmZmCkAAAAAAAAAIQAAAAAAAAARAAAAAAAAACEAzMzMzMzMLQAAAAAAAAAhA",
                    "dtype": "f8"
                  },
                  "xaxis": "x",
                  "y": {
                    "bdata": "ZmZmZmZmFECamZmZmZkTQM3MzMzMzBJAZmZmZmZmEkAAAAAAAAAUQJqZmZmZmRVAZmZmZmZmEkAAAAAAAAAUQJqZmZmZmRFAmpmZmZmZE0CamZmZmZkVQDMzMzMzMxNAMzMzMzMzE0AzMzMzMzMRQDMzMzMzMxdAzczMzMzMFkCamZmZmZkVQGZmZmZmZhRAzczMzMzMFkBmZmZmZmYUQJqZmZmZmRVAZmZmZmZmFEBmZmZmZmYSQGZmZmZmZhRAMzMzMzMzE0AAAAAAAAAUQAAAAAAAABRAzczMzMzMFEDNzMzMzMwUQM3MzMzMzBJAMzMzMzMzE0CamZmZmZkVQM3MzMzMzBRAAAAAAAAAFkCamZmZmZkTQAAAAAAAABRAAAAAAAAAFkCamZmZmZkTQJqZmZmZmRFAZmZmZmZmFEAAAAAAAAAUQAAAAAAAABJAmpmZmZmZEUAAAAAAAAAUQGZmZmZmZhRAMzMzMzMzE0BmZmZmZmYUQGZmZmZmZhJAMzMzMzMzFUAAAAAAAAAUQAAAAAAAABxAmpmZmZmZGUCamZmZmZkbQAAAAAAAABZAAAAAAAAAGkDNzMzMzMwWQDMzMzMzMxlAmpmZmZmZE0BmZmZmZmYaQM3MzMzMzBRAAAAAAAAAFECamZmZmZkXQAAAAAAAABhAZmZmZmZmGEBmZmZmZmYWQM3MzMzMzBpAZmZmZmZmFkAzMzMzMzMXQM3MzMzMzBhAZmZmZmZmFkCamZmZmZkXQGZmZmZmZhhAMzMzMzMzGUBmZmZmZmYYQJqZmZmZmRlAZmZmZmZmGkAzMzMzMzMbQM3MzMzMzBpAAAAAAAAAGEDNzMzMzMwWQAAAAAAAABZAAAAAAAAAFkAzMzMzMzMXQAAAAAAAABhAmpmZmZmZFUAAAAAAAAAYQM3MzMzMzBpAMzMzMzMzGUBmZmZmZmYWQAAAAAAAABZAAAAAAAAAFkBmZmZmZmYYQDMzMzMzMxdAAAAAAAAAFEBmZmZmZmYWQM3MzMzMzBZAzczMzMzMFkDNzMzMzMwYQGZmZmZmZhRAzczMzMzMFkAzMzMzMzMZQDMzMzMzMxdAZmZmZmZmHEAzMzMzMzMZQAAAAAAAABpAZmZmZmZmHkCamZmZmZkTQDMzMzMzMx1AzczMzMzMGkDNzMzMzMwcQAAAAAAAABpAmpmZmZmZGUAzMzMzMzMbQM3MzMzMzBZAMzMzMzMzF0CamZmZmZkZQAAAAAAAABpAzczMzMzMHkDNzMzMzMweQAAAAAAAABhAmpmZmZmZG0BmZmZmZmYWQM3MzMzMzB5AMzMzMzMzGUDNzMzMzMwaQM3MzMzMzBxAzczMzMzMGEBmZmZmZmYYQJqZmZmZmRlAzczMzMzMHECamZmZmZkdQJqZmZmZmR9AmpmZmZmZGUAzMzMzMzMZQGZmZmZmZhhAzczMzMzMHkAzMzMzMzMZQJqZmZmZmRlAAAAAAAAAGECamZmZmZkbQM3MzMzMzBpAmpmZmZmZG0AzMzMzMzMXQDMzMzMzMxtAzczMzMzMGkDNzMzMzMwaQDMzMzMzMxlAAAAAAAAAGkDNzMzMzMwYQJqZmZmZmRdA",
                    "dtype": "f8"
                  },
                  "yaxis": "y"
                },
                {
                  "type": "histogram",
                  "x": {
                    "bdata": "AAAAAAAADEAAAAAAAAAIQJqZmZmZmQlAzczMzMzMCEDNzMzMzMwMQDMzMzMzMw9AMzMzMzMzC0AzMzMzMzMLQDMzMzMzMwdAzczMzMzMCECamZmZmZkNQDMzMzMzMwtAAAAAAAAACEAAAAAAAAAIQAAAAAAAABBAmpmZmZmZEUAzMzMzMzMPQAAAAAAAAAxAZmZmZmZmDkBmZmZmZmYOQDMzMzMzMwtAmpmZmZmZDUDNzMzMzMwMQGZmZmZmZgpAMzMzMzMzC0AAAAAAAAAIQDMzMzMzMwtAAAAAAAAADEAzMzMzMzMLQJqZmZmZmQlAzczMzMzMCEAzMzMzMzMLQGZmZmZmZhBAzczMzMzMEEDNzMzMzMwIQJqZmZmZmQlAAAAAAAAADEDNzMzMzMwIQAAAAAAAAAhAMzMzMzMzC0AAAAAAAAAMQGZmZmZmZgJAmpmZmZmZCUAAAAAAAAAMQGZmZmZmZg5AAAAAAAAACEBmZmZmZmYOQJqZmZmZmQlAmpmZmZmZDUBmZmZmZmYKQJqZmZmZmQlAmpmZmZmZCUDNzMzMzMwIQGZmZmZmZgJAZmZmZmZmBkBmZmZmZmYGQGZmZmZmZgpAMzMzMzMzA0AzMzMzMzMHQJqZmZmZmQVAAAAAAAAAAEAAAAAAAAAIQJqZmZmZmQFAMzMzMzMzB0AzMzMzMzMHQM3MzMzMzAhAAAAAAAAACECamZmZmZkFQJqZmZmZmQFAAAAAAAAABECamZmZmZkJQGZmZmZmZgZAAAAAAAAABEBmZmZmZmYGQDMzMzMzMwdAAAAAAAAACEBmZmZmZmYGQAAAAAAAAAhAMzMzMzMzB0DNzMzMzMwEQDMzMzMzMwNAMzMzMzMzA0CamZmZmZkFQJqZmZmZmQVAAAAAAAAACEAzMzMzMzMLQM3MzMzMzAhAZmZmZmZmAkAAAAAAAAAIQAAAAAAAAARAzczMzMzMBEAAAAAAAAAIQM3MzMzMzARAZmZmZmZmAkCamZmZmZkFQAAAAAAAAAhAMzMzMzMzB0AzMzMzMzMHQAAAAAAAAARAZmZmZmZmBkBmZmZmZmYKQJqZmZmZmQVAAAAAAAAACEAzMzMzMzMHQAAAAAAAAAhAAAAAAAAACEAAAAAAAAAEQDMzMzMzMwdAAAAAAAAABEDNzMzMzMwMQJqZmZmZmQlAmpmZmZmZBUAAAAAAAAAIQAAAAAAAAARAZmZmZmZmBkCamZmZmZkJQAAAAAAAAAhAZmZmZmZmDkDNzMzMzMwEQJqZmZmZmQFAmpmZmZmZCUBmZmZmZmYGQGZmZmZmZgZAmpmZmZmZBUBmZmZmZmYKQJqZmZmZmQlAZmZmZmZmBkAAAAAAAAAIQGZmZmZmZgZAAAAAAAAACEBmZmZmZmYGQGZmZmZmZg5AZmZmZmZmBkBmZmZmZmYGQM3MzMzMzARAAAAAAAAACEAzMzMzMzMLQM3MzMzMzAhAAAAAAAAACEDNzMzMzMwIQM3MzMzMzAhAzczMzMzMCECamZmZmZkFQJqZmZmZmQlAZmZmZmZmCkAAAAAAAAAIQAAAAAAAAARAAAAAAAAACEAzMzMzMzMLQAAAAAAAAAhA",
                    "dtype": "f8"
                  },
                  "xaxis": "x2",
                  "yaxis": "y2"
                }
              ],
              "layout": {
                "annotations": [
                  {
                    "font": {
                      "size": 16
                    },
                    "showarrow": false,
                    "text": "sepal_length vs. sepal_width",
                    "x": 0.225,
                    "xanchor": "center",
                    "xref": "paper",
                    "y": 1,
                    "yanchor": "bottom",
                    "yref": "paper"
                  },
                  {
                    "font": {
                      "size": 16
                    },
                    "showarrow": false,
                    "text": "distribution of sepal_width",
                    "x": 0.775,
                    "xanchor": "center",
                    "xref": "paper",
                    "y": 1,
                    "yanchor": "bottom",
                    "yref": "paper"
                  }
                ],
                "showlegend": false,
                "template": {
                  "data": {
                    "bar": [
                      {
                        "error_x": {
                          "color": "#2a3f5f"
                        },
                        "error_y": {
                          "color": "#2a3f5f"
                        },
                        "marker": {
                          "line": {
                            "color": "#E5ECF6",
                            "width": 0.5
                          },
                          "pattern": {
                            "fillmode": "overlay",
                            "size": 10,
                            "solidity": 0.2
                          }
                        },
                        "type": "bar"
                      }
                    ],
                    "barpolar": [
                      {
                        "marker": {
                          "line": {
                            "color": "#E5ECF6",
                            "width": 0.5
                          },
                          "pattern": {
                            "fillmode": "overlay",
                            "size": 10,
                            "solidity": 0.2
                          }
                        },
                        "type": "barpolar"
                      }
                    ],
                    "carpet": [
                      {
                        "aaxis": {
                          "endlinecolor": "#2a3f5f",
                          "gridcolor": "white",
                          "linecolor": "white",
                          "minorgridcolor": "white",
                          "startlinecolor": "#2a3f5f"
                        },
                        "baxis": {
                          "endlinecolor": "#2a3f5f",
                          "gridcolor": "white",
                          "linecolor": "white",
                          "minorgridcolor": "white",
                          "startlinecolor": "#2a3f5f"
                        },
                        "type": "carpet"
                      }
                    ],
                    "choropleth": [
                      {
                        "colorbar": {
                          "outlinewidth": 0,
                          "ticks": ""
                        },
                        "type": "choropleth"
                      }
                    ],
                    "contour": [
                      {
                        "colorbar": {
                          "outlinewidth": 0,
                          "ticks": ""
                        },
                        "colorscale": [
                          [
                            0,
                            "#0d0887"
                          ],
                          [
                            0.1111111111111111,
                            "#46039f"
                          ],
                          [
                            0.2222222222222222,
                            "#7201a8"
                          ],
                          [
                            0.3333333333333333,
                            "#9c179e"
                          ],
                          [
                            0.4444444444444444,
                            "#bd3786"
                          ],
                          [
                            0.5555555555555556,
                            "#d8576b"
                          ],
                          [
                            0.6666666666666666,
                            "#ed7953"
                          ],
                          [
                            0.7777777777777778,
                            "#fb9f3a"
                          ],
                          [
                            0.8888888888888888,
                            "#fdca26"
                          ],
                          [
                            1,
                            "#f0f921"
                          ]
                        ],
                        "type": "contour"
                      }
                    ],
                    "contourcarpet": [
                      {
                        "colorbar": {
                          "outlinewidth": 0,
                          "ticks": ""
                        },
                        "type": "contourcarpet"
                      }
                    ],
                    "heatmap": [
                      {
                        "colorbar": {
                          "outlinewidth": 0,
                          "ticks": ""
                        },
                        "colorscale": [
                          [
                            0,
                            "#0d0887"
                          ],
                          [
                            0.1111111111111111,
                            "#46039f"
                          ],
                          [
                            0.2222222222222222,
                            "#7201a8"
                          ],
                          [
                            0.3333333333333333,
                            "#9c179e"
                          ],
                          [
                            0.4444444444444444,
                            "#bd3786"
                          ],
                          [
                            0.5555555555555556,
                            "#d8576b"
                          ],
                          [
                            0.6666666666666666,
                            "#ed7953"
                          ],
                          [
                            0.7777777777777778,
                            "#fb9f3a"
                          ],
                          [
                            0.8888888888888888,
                            "#fdca26"
                          ],
                          [
                            1,
                            "#f0f921"
                          ]
                        ],
                        "type": "heatmap"
                      }
                    ],
                    "histogram": [
                      {
                        "marker": {
                          "pattern": {
                            "fillmode": "overlay",
                            "size": 10,
                            "solidity": 0.2
                          }
                        },
                        "type": "histogram"
                      }
                    ],
                    "histogram2d": [
                      {
                        "colorbar": {
                          "outlinewidth": 0,
                          "ticks": ""
                        },
                        "colorscale": [
                          [
                            0,
                            "#0d0887"
                          ],
                          [
                            0.1111111111111111,
                            "#46039f"
                          ],
                          [
                            0.2222222222222222,
                            "#7201a8"
                          ],
                          [
                            0.3333333333333333,
                            "#9c179e"
                          ],
                          [
                            0.4444444444444444,
                            "#bd3786"
                          ],
                          [
                            0.5555555555555556,
                            "#d8576b"
                          ],
                          [
                            0.6666666666666666,
                            "#ed7953"
                          ],
                          [
                            0.7777777777777778,
                            "#fb9f3a"
                          ],
                          [
                            0.8888888888888888,
                            "#fdca26"
                          ],
                          [
                            1,
                            "#f0f921"
                          ]
                        ],
                        "type": "histogram2d"
                      }
                    ],
                    "histogram2dcontour": [
                      {
                        "colorbar": {
                          "outlinewidth": 0,
                          "ticks": ""
                        },
                        "colorscale": [
                          [
                            0,
                            "#0d0887"
                          ],
                          [
                            0.1111111111111111,
                            "#46039f"
                          ],
                          [
                            0.2222222222222222,
                            "#7201a8"
                          ],
                          [
                            0.3333333333333333,
                            "#9c179e"
                          ],
                          [
                            0.4444444444444444,
                            "#bd3786"
                          ],
                          [
                            0.5555555555555556,
                            "#d8576b"
                          ],
                          [
                            0.6666666666666666,
                            "#ed7953"
                          ],
                          [
                            0.7777777777777778,
                            "#fb9f3a"
                          ],
                          [
                            0.8888888888888888,
                            "#fdca26"
                          ],
                          [
                            1,
                            "#f0f921"
                          ]
                        ],
                        "type": "histogram2dcontour"
                      }
                    ],
                    "mesh3d": [
                      {
                        "colorbar": {
                          "outlinewidth": 0,
                          "ticks": ""
                        },
                        "type": "mesh3d"
                      }
                    ],
                    "parcoords": [
                      {
                        "line": {
                          "colorbar": {
                            "outlinewidth": 0,
                            "ticks": ""
                          }
                        },
                        "type": "parcoords"
                      }
                    ],
                    "pie": [
                      {
                        "automargin": true,
                        "type": "pie"
                      }
                    ],
                    "scatter": [
                      {
                        "fillpattern": {
                          "fillmode": "overlay",
                          "size": 10,
                          "solidity": 0.2
                        },
                        "type": "scatter"
                      }
                    ],
                    "scatter3d": [
                      {
                        "line": {
                          "colorbar": {
                            "outlinewidth": 0,
                            "ticks": ""
                          }
                        },
                        "marker": {
                          "colorbar": {
                            "outlinewidth": 0,
                            "ticks": ""
                          }
                        },
                        "type": "scatter3d"
                      }
                    ],
                    "scattercarpet": [
                      {
                        "marker": {
                          "colorbar": {
                            "outlinewidth": 0,
                            "ticks": ""
                          }
                        },
                        "type": "scattercarpet"
                      }
                    ],
                    "scattergeo": [
                      {
                        "marker": {
                          "colorbar": {
                            "outlinewidth": 0,
                            "ticks": ""
                          }
                        },
                        "type": "scattergeo"
                      }
                    ],
                    "scattergl": [
                      {
                        "marker": {
                          "colorbar": {
                            "outlinewidth": 0,
                            "ticks": ""
                          }
                        },
                        "type": "scattergl"
                      }
                    ],
                    "scattermap": [
                      {
                        "marker": {
                          "colorbar": {
                            "outlinewidth": 0,
                            "ticks": ""
                          }
                        },
                        "type": "scattermap"
                      }
                    ],
                    "scattermapbox": [
                      {
                        "marker": {
                          "colorbar": {
                            "outlinewidth": 0,
                            "ticks": ""
                          }
                        },
                        "type": "scattermapbox"
                      }
                    ],
                    "scatterpolar": [
                      {
                        "marker": {
                          "colorbar": {
                            "outlinewidth": 0,
                            "ticks": ""
                          }
                        },
                        "type": "scatterpolar"
                      }
                    ],
                    "scatterpolargl": [
                      {
                        "marker": {
                          "colorbar": {
                            "outlinewidth": 0,
                            "ticks": ""
                          }
                        },
                        "type": "scatterpolargl"
                      }
                    ],
                    "scatterternary": [
                      {
                        "marker": {
                          "colorbar": {
                            "outlinewidth": 0,
                            "ticks": ""
                          }
                        },
                        "type": "scatterternary"
                      }
                    ],
                    "surface": [
                      {
                        "colorbar": {
                          "outlinewidth": 0,
                          "ticks": ""
                        },
                        "colorscale": [
                          [
                            0,
                            "#0d0887"
                          ],
                          [
                            0.1111111111111111,
                            "#46039f"
                          ],
                          [
                            0.2222222222222222,
                            "#7201a8"
                          ],
                          [
                            0.3333333333333333,
                            "#9c179e"
                          ],
                          [
                            0.4444444444444444,
                            "#bd3786"
                          ],
                          [
                            0.5555555555555556,
                            "#d8576b"
                          ],
                          [
                            0.6666666666666666,
                            "#ed7953"
                          ],
                          [
                            0.7777777777777778,
                            "#fb9f3a"
                          ],
                          [
                            0.8888888888888888,
                            "#fdca26"
                          ],
                          [
                            1,
                            "#f0f921"
                          ]
                        ],
                        "type": "surface"
                      }
                    ],
                    "table": [
                      {
                        "cells": {
                          "fill": {
                            "color": "#EBF0F8"
                          },
                          "line": {
                            "color": "white"
                          }
                        },
                        "header": {
                          "fill": {
                            "color": "#C8D4E3"
                          },
                          "line": {
                            "color": "white"
                          }
                        },
                        "type": "table"
                      }
                    ]
                  },
                  "layout": {
                    "annotationdefaults": {
                      "arrowcolor": "#2a3f5f",
                      "arrowhead": 0,
                      "arrowwidth": 1
                    },
                    "autotypenumbers": "strict",
                    "coloraxis": {
                      "colorbar": {
                        "outlinewidth": 0,
                        "ticks": ""
                      }
                    },
                    "colorscale": {
                      "diverging": [
                        [
                          0,
                          "#8e0152"
                        ],
                        [
                          0.1,
                          "#c51b7d"
                        ],
                        [
                          0.2,
                          "#de77ae"
                        ],
                        [
                          0.3,
                          "#f1b6da"
                        ],
                        [
                          0.4,
                          "#fde0ef"
                        ],
                        [
                          0.5,
                          "#f7f7f7"
                        ],
                        [
                          0.6,
                          "#e6f5d0"
                        ],
                        [
                          0.7,
                          "#b8e186"
                        ],
                        [
                          0.8,
                          "#7fbc41"
                        ],
                        [
                          0.9,
                          "#4d9221"
                        ],
                        [
                          1,
                          "#276419"
                        ]
                      ],
                      "sequential": [
                        [
                          0,
                          "#0d0887"
                        ],
                        [
                          0.1111111111111111,
                          "#46039f"
                        ],
                        [
                          0.2222222222222222,
                          "#7201a8"
                        ],
                        [
                          0.3333333333333333,
                          "#9c179e"
                        ],
                        [
                          0.4444444444444444,
                          "#bd3786"
                        ],
                        [
                          0.5555555555555556,
                          "#d8576b"
                        ],
                        [
                          0.6666666666666666,
                          "#ed7953"
                        ],
                        [
                          0.7777777777777778,
                          "#fb9f3a"
                        ],
                        [
                          0.8888888888888888,
                          "#fdca26"
                        ],
                        [
                          1,
                          "#f0f921"
                        ]
                      ],
                      "sequentialminus": [
                        [
                          0,
                          "#0d0887"
                        ],
                        [
                          0.1111111111111111,
                          "#46039f"
                        ],
                        [
                          0.2222222222222222,
                          "#7201a8"
                        ],
                        [
                          0.3333333333333333,
                          "#9c179e"
                        ],
                        [
                          0.4444444444444444,
                          "#bd3786"
                        ],
                        [
                          0.5555555555555556,
                          "#d8576b"
                        ],
                        [
                          0.6666666666666666,
                          "#ed7953"
                        ],
                        [
                          0.7777777777777778,
                          "#fb9f3a"
                        ],
                        [
                          0.8888888888888888,
                          "#fdca26"
                        ],
                        [
                          1,
                          "#f0f921"
                        ]
                      ]
                    },
                    "colorway": [
                      "#636efa",
                      "#EF553B",
                      "#00cc96",
                      "#ab63fa",
                      "#FFA15A",
                      "#19d3f3",
                      "#FF6692",
                      "#B6E880",
                      "#FF97FF",
                      "#FECB52"
                    ],
                    "font": {
                      "color": "#2a3f5f"
                    },
                    "geo": {
                      "bgcolor": "white",
                      "lakecolor": "white",
                      "landcolor": "#E5ECF6",
                      "showlakes": true,
                      "showland": true,
                      "subunitcolor": "white"
                    },
                    "hoverlabel": {
                      "align": "left"
                    },
                    "hovermode": "closest",
                    "mapbox": {
                      "style": "light"
                    },
                    "paper_bgcolor": "white",
                    "plot_bgcolor": "#E5ECF6",
                    "polar": {
                      "angularaxis": {
                        "gridcolor": "white",
                        "linecolor": "white",
                        "ticks": ""
                      },
                      "bgcolor": "#E5ECF6",
                      "radialaxis": {
                        "gridcolor": "white",
                        "linecolor": "white",
                        "ticks": ""
                      }
                    },
                    "scene": {
                      "xaxis": {
                        "backgroundcolor": "#E5ECF6",
                        "gridcolor": "white",
                        "gridwidth": 2,
                        "linecolor": "white",
                        "showbackground": true,
                        "ticks": "",
                        "zerolinecolor": "white"
                      },
                      "yaxis": {
                        "backgroundcolor": "#E5ECF6",
                        "gridcolor": "white",
                        "gridwidth": 2,
                        "linecolor": "white",
                        "showbackground": true,
                        "ticks": "",
                        "zerolinecolor": "white"
                      },
                      "zaxis": {
                        "backgroundcolor": "#E5ECF6",
                        "gridcolor": "white",
                        "gridwidth": 2,
                        "linecolor": "white",
                        "showbackground": true,
                        "ticks": "",
                        "zerolinecolor": "white"
                      }
                    },
                    "shapedefaults": {
                      "line": {
                        "color": "#2a3f5f"
                      }
                    },
                    "ternary": {
                      "aaxis": {
                        "gridcolor": "white",
                        "linecolor": "white",
                        "ticks": ""
                      },
                      "baxis": {
                        "gridcolor": "white",
                        "linecolor": "white",
                        "ticks": ""
                      },
                      "bgcolor": "#E5ECF6",
                      "caxis": {
                        "gridcolor": "white",
                        "linecolor": "white",
                        "ticks": ""
                      }
                    },
                    "title": {
                      "x": 0.05
                    },
                    "xaxis": {
                      "automargin": true,
                      "gridcolor": "white",
                      "linecolor": "white",
                      "ticks": "",
                      "title": {
                        "standoff": 15
                      },
                      "zerolinecolor": "white",
                      "zerolinewidth": 2
                    },
                    "yaxis": {
                      "automargin": true,
                      "gridcolor": "white",
                      "linecolor": "white",
                      "ticks": "",
                      "title": {
                        "standoff": 15
                      },
                      "zerolinecolor": "white",
                      "zerolinewidth": 2
                    }
                  }
                },
                "title": {
                  "text": "This figure has been made with plotly graph objects",
                  "x": 0.5
                },
                "xaxis": {
                  "anchor": "y",
                  "domain": [
                    0,
                    0.45
                  ]
                },
                "xaxis2": {
                  "anchor": "y2",
                  "domain": [
                    0.55,
                    1
                  ]
                },
                "yaxis": {
                  "anchor": "x",
                  "domain": [
                    0,
                    1
                  ]
                },
                "yaxis2": {
                  "anchor": "x2",
                  "domain": [
                    0,
                    1
                  ]
                }
              }
            }
          },
          "metadata": {},
          "output_type": "display_data"
        }
      ],
      "source": [
        "from plotly.subplots import make_subplots\n",
        "\n",
        "fig = make_subplots(rows = 1, cols = 2, subplot_titles = (\"sepal_length vs. sepal_width\", \"distribution of sepal_width\"))\n",
        "\n",
        "fig.add_trace(\n",
        "    go.Scatter(\n",
        "        x = df['sepal_width'],\n",
        "        y = df['sepal_length'],\n",
        "        mode = 'markers',\n",
        "        marker = go.scatter.Marker(color = df['species_id'])),\n",
        "        row = 1,\n",
        "        col = 1\n",
        ")\n",
        "\n",
        "fig.add_trace(\n",
        "    go.Histogram(\n",
        "        x = df['sepal_width']),\n",
        "        row = 1,\n",
        "        col = 2)\n",
        "\n",
        "fig.update_layout(\n",
        "        title = go.layout.Title(text = \"This figure has been made with plotly graph objects\", x = 0.5),\n",
        "        showlegend = False)"
      ]
    },
    {
      "cell_type": "markdown",
      "metadata": {
        "id": "2YDTv402V8x7"
      },
      "source": [
        "## Adding some interactivity\n",
        "\n",
        "### Range sliders"
      ]
    },
    {
      "cell_type": "code",
      "execution_count": 14,
      "metadata": {
        "colab": {
          "base_uri": "https://localhost:8080/",
          "height": 522
        },
        "id": "FJhArQa3V8x8",
        "outputId": "990cf712-cfb1-4ca6-d2c9-c7ae60557f59"
      },
      "outputs": [
        {
          "data": {
            "application/vnd.plotly.v1+json": {
              "config": {
                "plotlyServerURL": "https://plot.ly"
              },
              "data": [
                {
                  "nbinsx": 40,
                  "type": "histogram",
                  "x": {
                    "bdata": "AAAAAAAADEAAAAAAAAAIQJqZmZmZmQlAzczMzMzMCEDNzMzMzMwMQDMzMzMzMw9AMzMzMzMzC0AzMzMzMzMLQDMzMzMzMwdAzczMzMzMCECamZmZmZkNQDMzMzMzMwtAAAAAAAAACEAAAAAAAAAIQAAAAAAAABBAmpmZmZmZEUAzMzMzMzMPQAAAAAAAAAxAZmZmZmZmDkBmZmZmZmYOQDMzMzMzMwtAmpmZmZmZDUDNzMzMzMwMQGZmZmZmZgpAMzMzMzMzC0AAAAAAAAAIQDMzMzMzMwtAAAAAAAAADEAzMzMzMzMLQJqZmZmZmQlAzczMzMzMCEAzMzMzMzMLQGZmZmZmZhBAzczMzMzMEEDNzMzMzMwIQJqZmZmZmQlAAAAAAAAADEDNzMzMzMwIQAAAAAAAAAhAMzMzMzMzC0AAAAAAAAAMQGZmZmZmZgJAmpmZmZmZCUAAAAAAAAAMQGZmZmZmZg5AAAAAAAAACEBmZmZmZmYOQJqZmZmZmQlAmpmZmZmZDUBmZmZmZmYKQJqZmZmZmQlAmpmZmZmZCUDNzMzMzMwIQGZmZmZmZgJAZmZmZmZmBkBmZmZmZmYGQGZmZmZmZgpAMzMzMzMzA0AzMzMzMzMHQJqZmZmZmQVAAAAAAAAAAEAAAAAAAAAIQJqZmZmZmQFAMzMzMzMzB0AzMzMzMzMHQM3MzMzMzAhAAAAAAAAACECamZmZmZkFQJqZmZmZmQFAAAAAAAAABECamZmZmZkJQGZmZmZmZgZAAAAAAAAABEBmZmZmZmYGQDMzMzMzMwdAAAAAAAAACEBmZmZmZmYGQAAAAAAAAAhAMzMzMzMzB0DNzMzMzMwEQDMzMzMzMwNAMzMzMzMzA0CamZmZmZkFQJqZmZmZmQVAAAAAAAAACEAzMzMzMzMLQM3MzMzMzAhAZmZmZmZmAkAAAAAAAAAIQAAAAAAAAARAzczMzMzMBEAAAAAAAAAIQM3MzMzMzARAZmZmZmZmAkCamZmZmZkFQAAAAAAAAAhAMzMzMzMzB0AzMzMzMzMHQAAAAAAAAARAZmZmZmZmBkBmZmZmZmYKQJqZmZmZmQVAAAAAAAAACEAzMzMzMzMHQAAAAAAAAAhAAAAAAAAACEAAAAAAAAAEQDMzMzMzMwdAAAAAAAAABEDNzMzMzMwMQJqZmZmZmQlAmpmZmZmZBUAAAAAAAAAIQAAAAAAAAARAZmZmZmZmBkCamZmZmZkJQAAAAAAAAAhAZmZmZmZmDkDNzMzMzMwEQJqZmZmZmQFAmpmZmZmZCUBmZmZmZmYGQGZmZmZmZgZAmpmZmZmZBUBmZmZmZmYKQJqZmZmZmQlAZmZmZmZmBkAAAAAAAAAIQGZmZmZmZgZAAAAAAAAACEBmZmZmZmYGQGZmZmZmZg5AZmZmZmZmBkBmZmZmZmYGQM3MzMzMzARAAAAAAAAACEAzMzMzMzMLQM3MzMzMzAhAAAAAAAAACEDNzMzMzMwIQM3MzMzMzAhAzczMzMzMCECamZmZmZkFQJqZmZmZmQlAZmZmZmZmCkAAAAAAAAAIQAAAAAAAAARAAAAAAAAACEAzMzMzMzMLQAAAAAAAAAhA",
                    "dtype": "f8"
                  }
                }
              ],
              "layout": {
                "template": {
                  "data": {
                    "bar": [
                      {
                        "error_x": {
                          "color": "#2a3f5f"
                        },
                        "error_y": {
                          "color": "#2a3f5f"
                        },
                        "marker": {
                          "line": {
                            "color": "#E5ECF6",
                            "width": 0.5
                          },
                          "pattern": {
                            "fillmode": "overlay",
                            "size": 10,
                            "solidity": 0.2
                          }
                        },
                        "type": "bar"
                      }
                    ],
                    "barpolar": [
                      {
                        "marker": {
                          "line": {
                            "color": "#E5ECF6",
                            "width": 0.5
                          },
                          "pattern": {
                            "fillmode": "overlay",
                            "size": 10,
                            "solidity": 0.2
                          }
                        },
                        "type": "barpolar"
                      }
                    ],
                    "carpet": [
                      {
                        "aaxis": {
                          "endlinecolor": "#2a3f5f",
                          "gridcolor": "white",
                          "linecolor": "white",
                          "minorgridcolor": "white",
                          "startlinecolor": "#2a3f5f"
                        },
                        "baxis": {
                          "endlinecolor": "#2a3f5f",
                          "gridcolor": "white",
                          "linecolor": "white",
                          "minorgridcolor": "white",
                          "startlinecolor": "#2a3f5f"
                        },
                        "type": "carpet"
                      }
                    ],
                    "choropleth": [
                      {
                        "colorbar": {
                          "outlinewidth": 0,
                          "ticks": ""
                        },
                        "type": "choropleth"
                      }
                    ],
                    "contour": [
                      {
                        "colorbar": {
                          "outlinewidth": 0,
                          "ticks": ""
                        },
                        "colorscale": [
                          [
                            0,
                            "#0d0887"
                          ],
                          [
                            0.1111111111111111,
                            "#46039f"
                          ],
                          [
                            0.2222222222222222,
                            "#7201a8"
                          ],
                          [
                            0.3333333333333333,
                            "#9c179e"
                          ],
                          [
                            0.4444444444444444,
                            "#bd3786"
                          ],
                          [
                            0.5555555555555556,
                            "#d8576b"
                          ],
                          [
                            0.6666666666666666,
                            "#ed7953"
                          ],
                          [
                            0.7777777777777778,
                            "#fb9f3a"
                          ],
                          [
                            0.8888888888888888,
                            "#fdca26"
                          ],
                          [
                            1,
                            "#f0f921"
                          ]
                        ],
                        "type": "contour"
                      }
                    ],
                    "contourcarpet": [
                      {
                        "colorbar": {
                          "outlinewidth": 0,
                          "ticks": ""
                        },
                        "type": "contourcarpet"
                      }
                    ],
                    "heatmap": [
                      {
                        "colorbar": {
                          "outlinewidth": 0,
                          "ticks": ""
                        },
                        "colorscale": [
                          [
                            0,
                            "#0d0887"
                          ],
                          [
                            0.1111111111111111,
                            "#46039f"
                          ],
                          [
                            0.2222222222222222,
                            "#7201a8"
                          ],
                          [
                            0.3333333333333333,
                            "#9c179e"
                          ],
                          [
                            0.4444444444444444,
                            "#bd3786"
                          ],
                          [
                            0.5555555555555556,
                            "#d8576b"
                          ],
                          [
                            0.6666666666666666,
                            "#ed7953"
                          ],
                          [
                            0.7777777777777778,
                            "#fb9f3a"
                          ],
                          [
                            0.8888888888888888,
                            "#fdca26"
                          ],
                          [
                            1,
                            "#f0f921"
                          ]
                        ],
                        "type": "heatmap"
                      }
                    ],
                    "histogram": [
                      {
                        "marker": {
                          "pattern": {
                            "fillmode": "overlay",
                            "size": 10,
                            "solidity": 0.2
                          }
                        },
                        "type": "histogram"
                      }
                    ],
                    "histogram2d": [
                      {
                        "colorbar": {
                          "outlinewidth": 0,
                          "ticks": ""
                        },
                        "colorscale": [
                          [
                            0,
                            "#0d0887"
                          ],
                          [
                            0.1111111111111111,
                            "#46039f"
                          ],
                          [
                            0.2222222222222222,
                            "#7201a8"
                          ],
                          [
                            0.3333333333333333,
                            "#9c179e"
                          ],
                          [
                            0.4444444444444444,
                            "#bd3786"
                          ],
                          [
                            0.5555555555555556,
                            "#d8576b"
                          ],
                          [
                            0.6666666666666666,
                            "#ed7953"
                          ],
                          [
                            0.7777777777777778,
                            "#fb9f3a"
                          ],
                          [
                            0.8888888888888888,
                            "#fdca26"
                          ],
                          [
                            1,
                            "#f0f921"
                          ]
                        ],
                        "type": "histogram2d"
                      }
                    ],
                    "histogram2dcontour": [
                      {
                        "colorbar": {
                          "outlinewidth": 0,
                          "ticks": ""
                        },
                        "colorscale": [
                          [
                            0,
                            "#0d0887"
                          ],
                          [
                            0.1111111111111111,
                            "#46039f"
                          ],
                          [
                            0.2222222222222222,
                            "#7201a8"
                          ],
                          [
                            0.3333333333333333,
                            "#9c179e"
                          ],
                          [
                            0.4444444444444444,
                            "#bd3786"
                          ],
                          [
                            0.5555555555555556,
                            "#d8576b"
                          ],
                          [
                            0.6666666666666666,
                            "#ed7953"
                          ],
                          [
                            0.7777777777777778,
                            "#fb9f3a"
                          ],
                          [
                            0.8888888888888888,
                            "#fdca26"
                          ],
                          [
                            1,
                            "#f0f921"
                          ]
                        ],
                        "type": "histogram2dcontour"
                      }
                    ],
                    "mesh3d": [
                      {
                        "colorbar": {
                          "outlinewidth": 0,
                          "ticks": ""
                        },
                        "type": "mesh3d"
                      }
                    ],
                    "parcoords": [
                      {
                        "line": {
                          "colorbar": {
                            "outlinewidth": 0,
                            "ticks": ""
                          }
                        },
                        "type": "parcoords"
                      }
                    ],
                    "pie": [
                      {
                        "automargin": true,
                        "type": "pie"
                      }
                    ],
                    "scatter": [
                      {
                        "fillpattern": {
                          "fillmode": "overlay",
                          "size": 10,
                          "solidity": 0.2
                        },
                        "type": "scatter"
                      }
                    ],
                    "scatter3d": [
                      {
                        "line": {
                          "colorbar": {
                            "outlinewidth": 0,
                            "ticks": ""
                          }
                        },
                        "marker": {
                          "colorbar": {
                            "outlinewidth": 0,
                            "ticks": ""
                          }
                        },
                        "type": "scatter3d"
                      }
                    ],
                    "scattercarpet": [
                      {
                        "marker": {
                          "colorbar": {
                            "outlinewidth": 0,
                            "ticks": ""
                          }
                        },
                        "type": "scattercarpet"
                      }
                    ],
                    "scattergeo": [
                      {
                        "marker": {
                          "colorbar": {
                            "outlinewidth": 0,
                            "ticks": ""
                          }
                        },
                        "type": "scattergeo"
                      }
                    ],
                    "scattergl": [
                      {
                        "marker": {
                          "colorbar": {
                            "outlinewidth": 0,
                            "ticks": ""
                          }
                        },
                        "type": "scattergl"
                      }
                    ],
                    "scattermap": [
                      {
                        "marker": {
                          "colorbar": {
                            "outlinewidth": 0,
                            "ticks": ""
                          }
                        },
                        "type": "scattermap"
                      }
                    ],
                    "scattermapbox": [
                      {
                        "marker": {
                          "colorbar": {
                            "outlinewidth": 0,
                            "ticks": ""
                          }
                        },
                        "type": "scattermapbox"
                      }
                    ],
                    "scatterpolar": [
                      {
                        "marker": {
                          "colorbar": {
                            "outlinewidth": 0,
                            "ticks": ""
                          }
                        },
                        "type": "scatterpolar"
                      }
                    ],
                    "scatterpolargl": [
                      {
                        "marker": {
                          "colorbar": {
                            "outlinewidth": 0,
                            "ticks": ""
                          }
                        },
                        "type": "scatterpolargl"
                      }
                    ],
                    "scatterternary": [
                      {
                        "marker": {
                          "colorbar": {
                            "outlinewidth": 0,
                            "ticks": ""
                          }
                        },
                        "type": "scatterternary"
                      }
                    ],
                    "surface": [
                      {
                        "colorbar": {
                          "outlinewidth": 0,
                          "ticks": ""
                        },
                        "colorscale": [
                          [
                            0,
                            "#0d0887"
                          ],
                          [
                            0.1111111111111111,
                            "#46039f"
                          ],
                          [
                            0.2222222222222222,
                            "#7201a8"
                          ],
                          [
                            0.3333333333333333,
                            "#9c179e"
                          ],
                          [
                            0.4444444444444444,
                            "#bd3786"
                          ],
                          [
                            0.5555555555555556,
                            "#d8576b"
                          ],
                          [
                            0.6666666666666666,
                            "#ed7953"
                          ],
                          [
                            0.7777777777777778,
                            "#fb9f3a"
                          ],
                          [
                            0.8888888888888888,
                            "#fdca26"
                          ],
                          [
                            1,
                            "#f0f921"
                          ]
                        ],
                        "type": "surface"
                      }
                    ],
                    "table": [
                      {
                        "cells": {
                          "fill": {
                            "color": "#EBF0F8"
                          },
                          "line": {
                            "color": "white"
                          }
                        },
                        "header": {
                          "fill": {
                            "color": "#C8D4E3"
                          },
                          "line": {
                            "color": "white"
                          }
                        },
                        "type": "table"
                      }
                    ]
                  },
                  "layout": {
                    "annotationdefaults": {
                      "arrowcolor": "#2a3f5f",
                      "arrowhead": 0,
                      "arrowwidth": 1
                    },
                    "autotypenumbers": "strict",
                    "coloraxis": {
                      "colorbar": {
                        "outlinewidth": 0,
                        "ticks": ""
                      }
                    },
                    "colorscale": {
                      "diverging": [
                        [
                          0,
                          "#8e0152"
                        ],
                        [
                          0.1,
                          "#c51b7d"
                        ],
                        [
                          0.2,
                          "#de77ae"
                        ],
                        [
                          0.3,
                          "#f1b6da"
                        ],
                        [
                          0.4,
                          "#fde0ef"
                        ],
                        [
                          0.5,
                          "#f7f7f7"
                        ],
                        [
                          0.6,
                          "#e6f5d0"
                        ],
                        [
                          0.7,
                          "#b8e186"
                        ],
                        [
                          0.8,
                          "#7fbc41"
                        ],
                        [
                          0.9,
                          "#4d9221"
                        ],
                        [
                          1,
                          "#276419"
                        ]
                      ],
                      "sequential": [
                        [
                          0,
                          "#0d0887"
                        ],
                        [
                          0.1111111111111111,
                          "#46039f"
                        ],
                        [
                          0.2222222222222222,
                          "#7201a8"
                        ],
                        [
                          0.3333333333333333,
                          "#9c179e"
                        ],
                        [
                          0.4444444444444444,
                          "#bd3786"
                        ],
                        [
                          0.5555555555555556,
                          "#d8576b"
                        ],
                        [
                          0.6666666666666666,
                          "#ed7953"
                        ],
                        [
                          0.7777777777777778,
                          "#fb9f3a"
                        ],
                        [
                          0.8888888888888888,
                          "#fdca26"
                        ],
                        [
                          1,
                          "#f0f921"
                        ]
                      ],
                      "sequentialminus": [
                        [
                          0,
                          "#0d0887"
                        ],
                        [
                          0.1111111111111111,
                          "#46039f"
                        ],
                        [
                          0.2222222222222222,
                          "#7201a8"
                        ],
                        [
                          0.3333333333333333,
                          "#9c179e"
                        ],
                        [
                          0.4444444444444444,
                          "#bd3786"
                        ],
                        [
                          0.5555555555555556,
                          "#d8576b"
                        ],
                        [
                          0.6666666666666666,
                          "#ed7953"
                        ],
                        [
                          0.7777777777777778,
                          "#fb9f3a"
                        ],
                        [
                          0.8888888888888888,
                          "#fdca26"
                        ],
                        [
                          1,
                          "#f0f921"
                        ]
                      ]
                    },
                    "colorway": [
                      "#636efa",
                      "#EF553B",
                      "#00cc96",
                      "#ab63fa",
                      "#FFA15A",
                      "#19d3f3",
                      "#FF6692",
                      "#B6E880",
                      "#FF97FF",
                      "#FECB52"
                    ],
                    "font": {
                      "color": "#2a3f5f"
                    },
                    "geo": {
                      "bgcolor": "white",
                      "lakecolor": "white",
                      "landcolor": "#E5ECF6",
                      "showlakes": true,
                      "showland": true,
                      "subunitcolor": "white"
                    },
                    "hoverlabel": {
                      "align": "left"
                    },
                    "hovermode": "closest",
                    "mapbox": {
                      "style": "light"
                    },
                    "paper_bgcolor": "white",
                    "plot_bgcolor": "#E5ECF6",
                    "polar": {
                      "angularaxis": {
                        "gridcolor": "white",
                        "linecolor": "white",
                        "ticks": ""
                      },
                      "bgcolor": "#E5ECF6",
                      "radialaxis": {
                        "gridcolor": "white",
                        "linecolor": "white",
                        "ticks": ""
                      }
                    },
                    "scene": {
                      "xaxis": {
                        "backgroundcolor": "#E5ECF6",
                        "gridcolor": "white",
                        "gridwidth": 2,
                        "linecolor": "white",
                        "showbackground": true,
                        "ticks": "",
                        "zerolinecolor": "white"
                      },
                      "yaxis": {
                        "backgroundcolor": "#E5ECF6",
                        "gridcolor": "white",
                        "gridwidth": 2,
                        "linecolor": "white",
                        "showbackground": true,
                        "ticks": "",
                        "zerolinecolor": "white"
                      },
                      "zaxis": {
                        "backgroundcolor": "#E5ECF6",
                        "gridcolor": "white",
                        "gridwidth": 2,
                        "linecolor": "white",
                        "showbackground": true,
                        "ticks": "",
                        "zerolinecolor": "white"
                      }
                    },
                    "shapedefaults": {
                      "line": {
                        "color": "#2a3f5f"
                      }
                    },
                    "ternary": {
                      "aaxis": {
                        "gridcolor": "white",
                        "linecolor": "white",
                        "ticks": ""
                      },
                      "baxis": {
                        "gridcolor": "white",
                        "linecolor": "white",
                        "ticks": ""
                      },
                      "bgcolor": "#E5ECF6",
                      "caxis": {
                        "gridcolor": "white",
                        "linecolor": "white",
                        "ticks": ""
                      }
                    },
                    "title": {
                      "x": 0.05
                    },
                    "xaxis": {
                      "automargin": true,
                      "gridcolor": "white",
                      "linecolor": "white",
                      "ticks": "",
                      "title": {
                        "standoff": 15
                      },
                      "zerolinecolor": "white",
                      "zerolinewidth": 2
                    },
                    "yaxis": {
                      "automargin": true,
                      "gridcolor": "white",
                      "linecolor": "white",
                      "ticks": "",
                      "title": {
                        "standoff": 15
                      },
                      "zerolinecolor": "white",
                      "zerolinewidth": 2
                    }
                  }
                },
                "title": {
                  "text": "This figure has been made with plotly graph objects",
                  "x": 0.5
                },
                "xaxis": {
                  "rangeslider": {
                    "visible": true
                  },
                  "title": {
                    "text": "Sepal width"
                  }
                }
              }
            }
          },
          "metadata": {},
          "output_type": "display_data"
        }
      ],
      "source": [
        "fig = go.Figure(\n",
        "    data = go.Histogram(\n",
        "        x = df['sepal_width'],\n",
        "        nbinsx = 40),\n",
        "    layout = go.Layout(\n",
        "        title = go.layout.Title(text = \"This figure has been made with plotly graph objects\", x = 0.5),\n",
        "        xaxis = go.layout.XAxis(title = 'Sepal width', rangeslider = go.layout.xaxis.Rangeslider(visible = True))\n",
        "    )\n",
        ")\n",
        "\n",
        "fig.show()"
      ]
    },
    {
      "cell_type": "markdown",
      "metadata": {
        "id": "uiJccLajV8x8"
      },
      "source": [
        "### Dropdown menus"
      ]
    },
    {
      "cell_type": "code",
      "execution_count": 15,
      "metadata": {
        "colab": {
          "base_uri": "https://localhost:8080/",
          "height": 522
        },
        "id": "Abwc952xV8x8",
        "outputId": "cab4a59c-16f8-4d12-8c1c-909ab4545dad"
      },
      "outputs": [
        {
          "data": {
            "application/vnd.plotly.v1+json": {
              "config": {
                "plotlyServerURL": "https://plot.ly"
              },
              "data": [
                {
                  "type": "histogram",
                  "x": {
                    "bdata": "AAAAAAAADEAAAAAAAAAIQJqZmZmZmQlAzczMzMzMCEDNzMzMzMwMQDMzMzMzMw9AMzMzMzMzC0AzMzMzMzMLQDMzMzMzMwdAzczMzMzMCECamZmZmZkNQDMzMzMzMwtAAAAAAAAACEAAAAAAAAAIQAAAAAAAABBAmpmZmZmZEUAzMzMzMzMPQAAAAAAAAAxAZmZmZmZmDkBmZmZmZmYOQDMzMzMzMwtAmpmZmZmZDUDNzMzMzMwMQGZmZmZmZgpAMzMzMzMzC0AAAAAAAAAIQDMzMzMzMwtAAAAAAAAADEAzMzMzMzMLQJqZmZmZmQlAzczMzMzMCEAzMzMzMzMLQGZmZmZmZhBAzczMzMzMEEDNzMzMzMwIQJqZmZmZmQlAAAAAAAAADEDNzMzMzMwIQAAAAAAAAAhAMzMzMzMzC0AAAAAAAAAMQGZmZmZmZgJAmpmZmZmZCUAAAAAAAAAMQGZmZmZmZg5AAAAAAAAACEBmZmZmZmYOQJqZmZmZmQlAmpmZmZmZDUBmZmZmZmYKQJqZmZmZmQlAmpmZmZmZCUDNzMzMzMwIQGZmZmZmZgJAZmZmZmZmBkBmZmZmZmYGQGZmZmZmZgpAMzMzMzMzA0AzMzMzMzMHQJqZmZmZmQVAAAAAAAAAAEAAAAAAAAAIQJqZmZmZmQFAMzMzMzMzB0AzMzMzMzMHQM3MzMzMzAhAAAAAAAAACECamZmZmZkFQJqZmZmZmQFAAAAAAAAABECamZmZmZkJQGZmZmZmZgZAAAAAAAAABEBmZmZmZmYGQDMzMzMzMwdAAAAAAAAACEBmZmZmZmYGQAAAAAAAAAhAMzMzMzMzB0DNzMzMzMwEQDMzMzMzMwNAMzMzMzMzA0CamZmZmZkFQJqZmZmZmQVAAAAAAAAACEAzMzMzMzMLQM3MzMzMzAhAZmZmZmZmAkAAAAAAAAAIQAAAAAAAAARAzczMzMzMBEAAAAAAAAAIQM3MzMzMzARAZmZmZmZmAkCamZmZmZkFQAAAAAAAAAhAMzMzMzMzB0AzMzMzMzMHQAAAAAAAAARAZmZmZmZmBkBmZmZmZmYKQJqZmZmZmQVAAAAAAAAACEAzMzMzMzMHQAAAAAAAAAhAAAAAAAAACEAAAAAAAAAEQDMzMzMzMwdAAAAAAAAABEDNzMzMzMwMQJqZmZmZmQlAmpmZmZmZBUAAAAAAAAAIQAAAAAAAAARAZmZmZmZmBkCamZmZmZkJQAAAAAAAAAhAZmZmZmZmDkDNzMzMzMwEQJqZmZmZmQFAmpmZmZmZCUBmZmZmZmYGQGZmZmZmZgZAmpmZmZmZBUBmZmZmZmYKQJqZmZmZmQlAZmZmZmZmBkAAAAAAAAAIQGZmZmZmZgZAAAAAAAAACEBmZmZmZmYGQGZmZmZmZg5AZmZmZmZmBkBmZmZmZmYGQM3MzMzMzARAAAAAAAAACEAzMzMzMzMLQM3MzMzMzAhAAAAAAAAACEDNzMzMzMwIQM3MzMzMzAhAzczMzMzMCECamZmZmZkFQJqZmZmZmQlAZmZmZmZmCkAAAAAAAAAIQAAAAAAAAARAAAAAAAAACEAzMzMzMzMLQAAAAAAAAAhA",
                    "dtype": "f8"
                  }
                },
                {
                  "type": "histogram",
                  "visible": false,
                  "x": {
                    "bdata": "ZmZmZmZmFECamZmZmZkTQM3MzMzMzBJAZmZmZmZmEkAAAAAAAAAUQJqZmZmZmRVAZmZmZmZmEkAAAAAAAAAUQJqZmZmZmRFAmpmZmZmZE0CamZmZmZkVQDMzMzMzMxNAMzMzMzMzE0AzMzMzMzMRQDMzMzMzMxdAzczMzMzMFkCamZmZmZkVQGZmZmZmZhRAzczMzMzMFkBmZmZmZmYUQJqZmZmZmRVAZmZmZmZmFEBmZmZmZmYSQGZmZmZmZhRAMzMzMzMzE0AAAAAAAAAUQAAAAAAAABRAzczMzMzMFEDNzMzMzMwUQM3MzMzMzBJAMzMzMzMzE0CamZmZmZkVQM3MzMzMzBRAAAAAAAAAFkCamZmZmZkTQAAAAAAAABRAAAAAAAAAFkCamZmZmZkTQJqZmZmZmRFAZmZmZmZmFEAAAAAAAAAUQAAAAAAAABJAmpmZmZmZEUAAAAAAAAAUQGZmZmZmZhRAMzMzMzMzE0BmZmZmZmYUQGZmZmZmZhJAMzMzMzMzFUAAAAAAAAAUQAAAAAAAABxAmpmZmZmZGUCamZmZmZkbQAAAAAAAABZAAAAAAAAAGkDNzMzMzMwWQDMzMzMzMxlAmpmZmZmZE0BmZmZmZmYaQM3MzMzMzBRAAAAAAAAAFECamZmZmZkXQAAAAAAAABhAZmZmZmZmGEBmZmZmZmYWQM3MzMzMzBpAZmZmZmZmFkAzMzMzMzMXQM3MzMzMzBhAZmZmZmZmFkCamZmZmZkXQGZmZmZmZhhAMzMzMzMzGUBmZmZmZmYYQJqZmZmZmRlAZmZmZmZmGkAzMzMzMzMbQM3MzMzMzBpAAAAAAAAAGEDNzMzMzMwWQAAAAAAAABZAAAAAAAAAFkAzMzMzMzMXQAAAAAAAABhAmpmZmZmZFUAAAAAAAAAYQM3MzMzMzBpAMzMzMzMzGUBmZmZmZmYWQAAAAAAAABZAAAAAAAAAFkBmZmZmZmYYQDMzMzMzMxdAAAAAAAAAFEBmZmZmZmYWQM3MzMzMzBZAzczMzMzMFkDNzMzMzMwYQGZmZmZmZhRAzczMzMzMFkAzMzMzMzMZQDMzMzMzMxdAZmZmZmZmHEAzMzMzMzMZQAAAAAAAABpAZmZmZmZmHkCamZmZmZkTQDMzMzMzMx1AzczMzMzMGkDNzMzMzMwcQAAAAAAAABpAmpmZmZmZGUAzMzMzMzMbQM3MzMzMzBZAMzMzMzMzF0CamZmZmZkZQAAAAAAAABpAzczMzMzMHkDNzMzMzMweQAAAAAAAABhAmpmZmZmZG0BmZmZmZmYWQM3MzMzMzB5AMzMzMzMzGUDNzMzMzMwaQM3MzMzMzBxAzczMzMzMGEBmZmZmZmYYQJqZmZmZmRlAzczMzMzMHECamZmZmZkdQJqZmZmZmR9AmpmZmZmZGUAzMzMzMzMZQGZmZmZmZhhAzczMzMzMHkAzMzMzMzMZQJqZmZmZmRlAAAAAAAAAGECamZmZmZkbQM3MzMzMzBpAmpmZmZmZG0AzMzMzMzMXQDMzMzMzMxtAzczMzMzMGkDNzMzMzMwaQDMzMzMzMxlAAAAAAAAAGkDNzMzMzMwYQJqZmZmZmRdA",
                    "dtype": "f8"
                  }
                },
                {
                  "type": "histogram",
                  "visible": false,
                  "x": {
                    "bdata": "mpmZmZmZyT+amZmZmZnJP5qZmZmZmck/mpmZmZmZyT+amZmZmZnJP5qZmZmZmdk/MzMzMzMz0z+amZmZmZnJP5qZmZmZmck/mpmZmZmZuT+amZmZmZnJP5qZmZmZmck/mpmZmZmZuT+amZmZmZm5P5qZmZmZmck/mpmZmZmZ2T+amZmZmZnZPzMzMzMzM9M/MzMzMzMz0z8zMzMzMzPTP5qZmZmZmck/mpmZmZmZ2T+amZmZmZnJPwAAAAAAAOA/mpmZmZmZyT+amZmZmZnJP5qZmZmZmdk/mpmZmZmZyT+amZmZmZnJP5qZmZmZmck/mpmZmZmZyT+amZmZmZnZP5qZmZmZmbk/mpmZmZmZyT+amZmZmZm5P5qZmZmZmck/mpmZmZmZyT+amZmZmZm5P5qZmZmZmck/mpmZmZmZyT8zMzMzMzPTPzMzMzMzM9M/mpmZmZmZyT8zMzMzMzPjP5qZmZmZmdk/MzMzMzMz0z+amZmZmZnJP5qZmZmZmck/mpmZmZmZyT+amZmZmZnJP2ZmZmZmZvY/AAAAAAAA+D8AAAAAAAD4P83MzMzMzPQ/AAAAAAAA+D/NzMzMzMz0P5qZmZmZmfk/AAAAAAAA8D/NzMzMzMz0P2ZmZmZmZvY/AAAAAAAA8D8AAAAAAAD4PwAAAAAAAPA/ZmZmZmZm9j/NzMzMzMz0P2ZmZmZmZvY/AAAAAAAA+D8AAAAAAADwPwAAAAAAAPg/mpmZmZmZ8T/NzMzMzMz8P83MzMzMzPQ/AAAAAAAA+D8zMzMzMzPzP83MzMzMzPQ/ZmZmZmZm9j9mZmZmZmb2PzMzMzMzM/s/AAAAAAAA+D8AAAAAAADwP5qZmZmZmfE/AAAAAAAA8D8zMzMzMzPzP5qZmZmZmfk/AAAAAAAA+D+amZmZmZn5PwAAAAAAAPg/zczMzMzM9D/NzMzMzMz0P83MzMzMzPQ/MzMzMzMz8z9mZmZmZmb2PzMzMzMzM/M/AAAAAAAA8D/NzMzMzMz0PzMzMzMzM/M/zczMzMzM9D/NzMzMzMz0P5qZmZmZmfE/zczMzMzM9D8AAAAAAAAEQGZmZmZmZv4/zczMzMzMAEDNzMzMzMz8P5qZmZmZmQFAzczMzMzMAEAzMzMzMzP7P83MzMzMzPw/zczMzMzM/D8AAAAAAAAEQAAAAAAAAABAZmZmZmZm/j/NzMzMzMwAQAAAAAAAAABAMzMzMzMzA0BmZmZmZmYCQM3MzMzMzPw/mpmZmZmZAUBmZmZmZmYCQAAAAAAAAPg/ZmZmZmZmAkAAAAAAAAAAQAAAAAAAAABAzczMzMzM/D/NzMzMzMwAQM3MzMzMzPw/zczMzMzM/D/NzMzMzMz8P83MzMzMzABAmpmZmZmZ+T9mZmZmZmb+PwAAAAAAAABAmpmZmZmZAUAAAAAAAAD4P2ZmZmZmZvY/ZmZmZmZmAkAzMzMzMzMDQM3MzMzMzPw/zczMzMzM/D/NzMzMzMwAQDMzMzMzMwNAZmZmZmZmAkBmZmZmZmb+P2ZmZmZmZgJAAAAAAAAABEBmZmZmZmYCQGZmZmZmZv4/AAAAAAAAAEBmZmZmZmYCQM3MzMzMzPw/",
                    "dtype": "f8"
                  }
                },
                {
                  "type": "histogram",
                  "visible": false,
                  "x": {
                    "bdata": "ZmZmZmZm9j9mZmZmZmb2P83MzMzMzPQ/AAAAAAAA+D9mZmZmZmb2PzMzMzMzM/s/ZmZmZmZm9j8AAAAAAAD4P2ZmZmZmZvY/AAAAAAAA+D8AAAAAAAD4P5qZmZmZmfk/ZmZmZmZm9j+amZmZmZnxPzMzMzMzM/M/AAAAAAAA+D/NzMzMzMz0P2ZmZmZmZvY/MzMzMzMz+z8AAAAAAAD4PzMzMzMzM/s/AAAAAAAA+D8AAAAAAADwPzMzMzMzM/s/ZmZmZmZm/j+amZmZmZn5P5qZmZmZmfk/AAAAAAAA+D9mZmZmZmb2P5qZmZmZmfk/mpmZmZmZ+T8AAAAAAAD4PwAAAAAAAPg/ZmZmZmZm9j8AAAAAAAD4PzMzMzMzM/M/zczMzMzM9D8AAAAAAAD4P83MzMzMzPQ/AAAAAAAA+D/NzMzMzMz0P83MzMzMzPQ/zczMzMzM9D+amZmZmZn5P2ZmZmZmZv4/ZmZmZmZm9j+amZmZmZn5P2ZmZmZmZvY/AAAAAAAA+D9mZmZmZmb2P83MzMzMzBJAAAAAAAAAEkCamZmZmZkTQAAAAAAAABBAZmZmZmZmEkAAAAAAAAASQM3MzMzMzBJAZmZmZmZmCkBmZmZmZmYSQDMzMzMzMw9AAAAAAAAADEDNzMzMzMwQQAAAAAAAABBAzczMzMzMEkDNzMzMzMwMQJqZmZmZmRFAAAAAAAAAEkBmZmZmZmYQQAAAAAAAABJAMzMzMzMzD0AzMzMzMzMTQAAAAAAAABBAmpmZmZmZE0DNzMzMzMwSQDMzMzMzMxFAmpmZmZmZEUAzMzMzMzMTQAAAAAAAABRAAAAAAAAAEkAAAAAAAAAMQGZmZmZmZg5AmpmZmZmZDUAzMzMzMzMPQGZmZmZmZhRAAAAAAAAAEkAAAAAAAAASQM3MzMzMzBJAmpmZmZmZEUBmZmZmZmYQQAAAAAAAABBAmpmZmZmZEUBmZmZmZmYSQAAAAAAAABBAZmZmZmZmCkDNzMzMzMwQQM3MzMzMzBBAzczMzMzMEEAzMzMzMzMRQAAAAAAAAAhAZmZmZmZmEEAAAAAAAAAYQGZmZmZmZhRAmpmZmZmZF0BmZmZmZmYWQDMzMzMzMxdAZmZmZmZmGkAAAAAAAAASQDMzMzMzMxlAMzMzMzMzF0BmZmZmZmYYQGZmZmZmZhRAMzMzMzMzFUAAAAAAAAAWQAAAAAAAABRAZmZmZmZmFEAzMzMzMzMVQAAAAAAAABZAzczMzMzMGkCamZmZmZkbQAAAAAAAABRAzczMzMzMFkCamZmZmZkTQM3MzMzMzBpAmpmZmZmZE0DNzMzMzMwWQAAAAAAAABhAMzMzMzMzE0CamZmZmZkTQGZmZmZmZhZAMzMzMzMzF0BmZmZmZmYYQJqZmZmZmRlAZmZmZmZmFkBmZmZmZmYUQGZmZmZmZhZAZmZmZmZmGEBmZmZmZmYWQAAAAAAAABZAMzMzMzMzE0CamZmZmZkVQGZmZmZmZhZAZmZmZmZmFEBmZmZmZmYUQJqZmZmZmRdAzczMzMzMFkDNzMzMzMwUQAAAAAAAABRAzczMzMzMFECamZmZmZkVQGZmZmZmZhRA",
                    "dtype": "f8"
                  }
                }
              ],
              "layout": {
                "showlegend": false,
                "template": {
                  "data": {
                    "bar": [
                      {
                        "error_x": {
                          "color": "#2a3f5f"
                        },
                        "error_y": {
                          "color": "#2a3f5f"
                        },
                        "marker": {
                          "line": {
                            "color": "#E5ECF6",
                            "width": 0.5
                          },
                          "pattern": {
                            "fillmode": "overlay",
                            "size": 10,
                            "solidity": 0.2
                          }
                        },
                        "type": "bar"
                      }
                    ],
                    "barpolar": [
                      {
                        "marker": {
                          "line": {
                            "color": "#E5ECF6",
                            "width": 0.5
                          },
                          "pattern": {
                            "fillmode": "overlay",
                            "size": 10,
                            "solidity": 0.2
                          }
                        },
                        "type": "barpolar"
                      }
                    ],
                    "carpet": [
                      {
                        "aaxis": {
                          "endlinecolor": "#2a3f5f",
                          "gridcolor": "white",
                          "linecolor": "white",
                          "minorgridcolor": "white",
                          "startlinecolor": "#2a3f5f"
                        },
                        "baxis": {
                          "endlinecolor": "#2a3f5f",
                          "gridcolor": "white",
                          "linecolor": "white",
                          "minorgridcolor": "white",
                          "startlinecolor": "#2a3f5f"
                        },
                        "type": "carpet"
                      }
                    ],
                    "choropleth": [
                      {
                        "colorbar": {
                          "outlinewidth": 0,
                          "ticks": ""
                        },
                        "type": "choropleth"
                      }
                    ],
                    "contour": [
                      {
                        "colorbar": {
                          "outlinewidth": 0,
                          "ticks": ""
                        },
                        "colorscale": [
                          [
                            0,
                            "#0d0887"
                          ],
                          [
                            0.1111111111111111,
                            "#46039f"
                          ],
                          [
                            0.2222222222222222,
                            "#7201a8"
                          ],
                          [
                            0.3333333333333333,
                            "#9c179e"
                          ],
                          [
                            0.4444444444444444,
                            "#bd3786"
                          ],
                          [
                            0.5555555555555556,
                            "#d8576b"
                          ],
                          [
                            0.6666666666666666,
                            "#ed7953"
                          ],
                          [
                            0.7777777777777778,
                            "#fb9f3a"
                          ],
                          [
                            0.8888888888888888,
                            "#fdca26"
                          ],
                          [
                            1,
                            "#f0f921"
                          ]
                        ],
                        "type": "contour"
                      }
                    ],
                    "contourcarpet": [
                      {
                        "colorbar": {
                          "outlinewidth": 0,
                          "ticks": ""
                        },
                        "type": "contourcarpet"
                      }
                    ],
                    "heatmap": [
                      {
                        "colorbar": {
                          "outlinewidth": 0,
                          "ticks": ""
                        },
                        "colorscale": [
                          [
                            0,
                            "#0d0887"
                          ],
                          [
                            0.1111111111111111,
                            "#46039f"
                          ],
                          [
                            0.2222222222222222,
                            "#7201a8"
                          ],
                          [
                            0.3333333333333333,
                            "#9c179e"
                          ],
                          [
                            0.4444444444444444,
                            "#bd3786"
                          ],
                          [
                            0.5555555555555556,
                            "#d8576b"
                          ],
                          [
                            0.6666666666666666,
                            "#ed7953"
                          ],
                          [
                            0.7777777777777778,
                            "#fb9f3a"
                          ],
                          [
                            0.8888888888888888,
                            "#fdca26"
                          ],
                          [
                            1,
                            "#f0f921"
                          ]
                        ],
                        "type": "heatmap"
                      }
                    ],
                    "histogram": [
                      {
                        "marker": {
                          "pattern": {
                            "fillmode": "overlay",
                            "size": 10,
                            "solidity": 0.2
                          }
                        },
                        "type": "histogram"
                      }
                    ],
                    "histogram2d": [
                      {
                        "colorbar": {
                          "outlinewidth": 0,
                          "ticks": ""
                        },
                        "colorscale": [
                          [
                            0,
                            "#0d0887"
                          ],
                          [
                            0.1111111111111111,
                            "#46039f"
                          ],
                          [
                            0.2222222222222222,
                            "#7201a8"
                          ],
                          [
                            0.3333333333333333,
                            "#9c179e"
                          ],
                          [
                            0.4444444444444444,
                            "#bd3786"
                          ],
                          [
                            0.5555555555555556,
                            "#d8576b"
                          ],
                          [
                            0.6666666666666666,
                            "#ed7953"
                          ],
                          [
                            0.7777777777777778,
                            "#fb9f3a"
                          ],
                          [
                            0.8888888888888888,
                            "#fdca26"
                          ],
                          [
                            1,
                            "#f0f921"
                          ]
                        ],
                        "type": "histogram2d"
                      }
                    ],
                    "histogram2dcontour": [
                      {
                        "colorbar": {
                          "outlinewidth": 0,
                          "ticks": ""
                        },
                        "colorscale": [
                          [
                            0,
                            "#0d0887"
                          ],
                          [
                            0.1111111111111111,
                            "#46039f"
                          ],
                          [
                            0.2222222222222222,
                            "#7201a8"
                          ],
                          [
                            0.3333333333333333,
                            "#9c179e"
                          ],
                          [
                            0.4444444444444444,
                            "#bd3786"
                          ],
                          [
                            0.5555555555555556,
                            "#d8576b"
                          ],
                          [
                            0.6666666666666666,
                            "#ed7953"
                          ],
                          [
                            0.7777777777777778,
                            "#fb9f3a"
                          ],
                          [
                            0.8888888888888888,
                            "#fdca26"
                          ],
                          [
                            1,
                            "#f0f921"
                          ]
                        ],
                        "type": "histogram2dcontour"
                      }
                    ],
                    "mesh3d": [
                      {
                        "colorbar": {
                          "outlinewidth": 0,
                          "ticks": ""
                        },
                        "type": "mesh3d"
                      }
                    ],
                    "parcoords": [
                      {
                        "line": {
                          "colorbar": {
                            "outlinewidth": 0,
                            "ticks": ""
                          }
                        },
                        "type": "parcoords"
                      }
                    ],
                    "pie": [
                      {
                        "automargin": true,
                        "type": "pie"
                      }
                    ],
                    "scatter": [
                      {
                        "fillpattern": {
                          "fillmode": "overlay",
                          "size": 10,
                          "solidity": 0.2
                        },
                        "type": "scatter"
                      }
                    ],
                    "scatter3d": [
                      {
                        "line": {
                          "colorbar": {
                            "outlinewidth": 0,
                            "ticks": ""
                          }
                        },
                        "marker": {
                          "colorbar": {
                            "outlinewidth": 0,
                            "ticks": ""
                          }
                        },
                        "type": "scatter3d"
                      }
                    ],
                    "scattercarpet": [
                      {
                        "marker": {
                          "colorbar": {
                            "outlinewidth": 0,
                            "ticks": ""
                          }
                        },
                        "type": "scattercarpet"
                      }
                    ],
                    "scattergeo": [
                      {
                        "marker": {
                          "colorbar": {
                            "outlinewidth": 0,
                            "ticks": ""
                          }
                        },
                        "type": "scattergeo"
                      }
                    ],
                    "scattergl": [
                      {
                        "marker": {
                          "colorbar": {
                            "outlinewidth": 0,
                            "ticks": ""
                          }
                        },
                        "type": "scattergl"
                      }
                    ],
                    "scattermap": [
                      {
                        "marker": {
                          "colorbar": {
                            "outlinewidth": 0,
                            "ticks": ""
                          }
                        },
                        "type": "scattermap"
                      }
                    ],
                    "scattermapbox": [
                      {
                        "marker": {
                          "colorbar": {
                            "outlinewidth": 0,
                            "ticks": ""
                          }
                        },
                        "type": "scattermapbox"
                      }
                    ],
                    "scatterpolar": [
                      {
                        "marker": {
                          "colorbar": {
                            "outlinewidth": 0,
                            "ticks": ""
                          }
                        },
                        "type": "scatterpolar"
                      }
                    ],
                    "scatterpolargl": [
                      {
                        "marker": {
                          "colorbar": {
                            "outlinewidth": 0,
                            "ticks": ""
                          }
                        },
                        "type": "scatterpolargl"
                      }
                    ],
                    "scatterternary": [
                      {
                        "marker": {
                          "colorbar": {
                            "outlinewidth": 0,
                            "ticks": ""
                          }
                        },
                        "type": "scatterternary"
                      }
                    ],
                    "surface": [
                      {
                        "colorbar": {
                          "outlinewidth": 0,
                          "ticks": ""
                        },
                        "colorscale": [
                          [
                            0,
                            "#0d0887"
                          ],
                          [
                            0.1111111111111111,
                            "#46039f"
                          ],
                          [
                            0.2222222222222222,
                            "#7201a8"
                          ],
                          [
                            0.3333333333333333,
                            "#9c179e"
                          ],
                          [
                            0.4444444444444444,
                            "#bd3786"
                          ],
                          [
                            0.5555555555555556,
                            "#d8576b"
                          ],
                          [
                            0.6666666666666666,
                            "#ed7953"
                          ],
                          [
                            0.7777777777777778,
                            "#fb9f3a"
                          ],
                          [
                            0.8888888888888888,
                            "#fdca26"
                          ],
                          [
                            1,
                            "#f0f921"
                          ]
                        ],
                        "type": "surface"
                      }
                    ],
                    "table": [
                      {
                        "cells": {
                          "fill": {
                            "color": "#EBF0F8"
                          },
                          "line": {
                            "color": "white"
                          }
                        },
                        "header": {
                          "fill": {
                            "color": "#C8D4E3"
                          },
                          "line": {
                            "color": "white"
                          }
                        },
                        "type": "table"
                      }
                    ]
                  },
                  "layout": {
                    "annotationdefaults": {
                      "arrowcolor": "#2a3f5f",
                      "arrowhead": 0,
                      "arrowwidth": 1
                    },
                    "autotypenumbers": "strict",
                    "coloraxis": {
                      "colorbar": {
                        "outlinewidth": 0,
                        "ticks": ""
                      }
                    },
                    "colorscale": {
                      "diverging": [
                        [
                          0,
                          "#8e0152"
                        ],
                        [
                          0.1,
                          "#c51b7d"
                        ],
                        [
                          0.2,
                          "#de77ae"
                        ],
                        [
                          0.3,
                          "#f1b6da"
                        ],
                        [
                          0.4,
                          "#fde0ef"
                        ],
                        [
                          0.5,
                          "#f7f7f7"
                        ],
                        [
                          0.6,
                          "#e6f5d0"
                        ],
                        [
                          0.7,
                          "#b8e186"
                        ],
                        [
                          0.8,
                          "#7fbc41"
                        ],
                        [
                          0.9,
                          "#4d9221"
                        ],
                        [
                          1,
                          "#276419"
                        ]
                      ],
                      "sequential": [
                        [
                          0,
                          "#0d0887"
                        ],
                        [
                          0.1111111111111111,
                          "#46039f"
                        ],
                        [
                          0.2222222222222222,
                          "#7201a8"
                        ],
                        [
                          0.3333333333333333,
                          "#9c179e"
                        ],
                        [
                          0.4444444444444444,
                          "#bd3786"
                        ],
                        [
                          0.5555555555555556,
                          "#d8576b"
                        ],
                        [
                          0.6666666666666666,
                          "#ed7953"
                        ],
                        [
                          0.7777777777777778,
                          "#fb9f3a"
                        ],
                        [
                          0.8888888888888888,
                          "#fdca26"
                        ],
                        [
                          1,
                          "#f0f921"
                        ]
                      ],
                      "sequentialminus": [
                        [
                          0,
                          "#0d0887"
                        ],
                        [
                          0.1111111111111111,
                          "#46039f"
                        ],
                        [
                          0.2222222222222222,
                          "#7201a8"
                        ],
                        [
                          0.3333333333333333,
                          "#9c179e"
                        ],
                        [
                          0.4444444444444444,
                          "#bd3786"
                        ],
                        [
                          0.5555555555555556,
                          "#d8576b"
                        ],
                        [
                          0.6666666666666666,
                          "#ed7953"
                        ],
                        [
                          0.7777777777777778,
                          "#fb9f3a"
                        ],
                        [
                          0.8888888888888888,
                          "#fdca26"
                        ],
                        [
                          1,
                          "#f0f921"
                        ]
                      ]
                    },
                    "colorway": [
                      "#636efa",
                      "#EF553B",
                      "#00cc96",
                      "#ab63fa",
                      "#FFA15A",
                      "#19d3f3",
                      "#FF6692",
                      "#B6E880",
                      "#FF97FF",
                      "#FECB52"
                    ],
                    "font": {
                      "color": "#2a3f5f"
                    },
                    "geo": {
                      "bgcolor": "white",
                      "lakecolor": "white",
                      "landcolor": "#E5ECF6",
                      "showlakes": true,
                      "showland": true,
                      "subunitcolor": "white"
                    },
                    "hoverlabel": {
                      "align": "left"
                    },
                    "hovermode": "closest",
                    "mapbox": {
                      "style": "light"
                    },
                    "paper_bgcolor": "white",
                    "plot_bgcolor": "#E5ECF6",
                    "polar": {
                      "angularaxis": {
                        "gridcolor": "white",
                        "linecolor": "white",
                        "ticks": ""
                      },
                      "bgcolor": "#E5ECF6",
                      "radialaxis": {
                        "gridcolor": "white",
                        "linecolor": "white",
                        "ticks": ""
                      }
                    },
                    "scene": {
                      "xaxis": {
                        "backgroundcolor": "#E5ECF6",
                        "gridcolor": "white",
                        "gridwidth": 2,
                        "linecolor": "white",
                        "showbackground": true,
                        "ticks": "",
                        "zerolinecolor": "white"
                      },
                      "yaxis": {
                        "backgroundcolor": "#E5ECF6",
                        "gridcolor": "white",
                        "gridwidth": 2,
                        "linecolor": "white",
                        "showbackground": true,
                        "ticks": "",
                        "zerolinecolor": "white"
                      },
                      "zaxis": {
                        "backgroundcolor": "#E5ECF6",
                        "gridcolor": "white",
                        "gridwidth": 2,
                        "linecolor": "white",
                        "showbackground": true,
                        "ticks": "",
                        "zerolinecolor": "white"
                      }
                    },
                    "shapedefaults": {
                      "line": {
                        "color": "#2a3f5f"
                      }
                    },
                    "ternary": {
                      "aaxis": {
                        "gridcolor": "white",
                        "linecolor": "white",
                        "ticks": ""
                      },
                      "baxis": {
                        "gridcolor": "white",
                        "linecolor": "white",
                        "ticks": ""
                      },
                      "bgcolor": "#E5ECF6",
                      "caxis": {
                        "gridcolor": "white",
                        "linecolor": "white",
                        "ticks": ""
                      }
                    },
                    "title": {
                      "x": 0.05
                    },
                    "xaxis": {
                      "automargin": true,
                      "gridcolor": "white",
                      "linecolor": "white",
                      "ticks": "",
                      "title": {
                        "standoff": 15
                      },
                      "zerolinecolor": "white",
                      "zerolinewidth": 2
                    },
                    "yaxis": {
                      "automargin": true,
                      "gridcolor": "white",
                      "linecolor": "white",
                      "ticks": "",
                      "title": {
                        "standoff": 15
                      },
                      "zerolinecolor": "white",
                      "zerolinewidth": 2
                    }
                  }
                },
                "title": {
                  "text": "Exploring different variables",
                  "x": 0.5
                },
                "updatemenus": [
                  {
                    "active": 0,
                    "buttons": [
                      {
                        "args": [
                          {
                            "visible": [
                              true,
                              false,
                              false,
                              false
                            ]
                          }
                        ],
                        "label": "Sepal width",
                        "method": "update"
                      },
                      {
                        "args": [
                          {
                            "visible": [
                              false,
                              true,
                              false,
                              false
                            ]
                          }
                        ],
                        "label": "Sepal length",
                        "method": "update"
                      },
                      {
                        "args": [
                          {
                            "visible": [
                              false,
                              false,
                              true,
                              false
                            ]
                          }
                        ],
                        "label": "Petal width",
                        "method": "update"
                      },
                      {
                        "args": [
                          {
                            "visible": [
                              false,
                              false,
                              false,
                              true
                            ]
                          }
                        ],
                        "label": "Petal length",
                        "method": "update"
                      }
                    ]
                  }
                ]
              }
            }
          },
          "metadata": {},
          "output_type": "display_data"
        }
      ],
      "source": [
        "# Example of how to allow the selection of a type of a variable\n",
        "fig = go.Figure()\n",
        "\n",
        "fig.add_trace(\n",
        "    go.Histogram(\n",
        "        x = df['sepal_width']))\n",
        "\n",
        "fig.add_trace(\n",
        "    go.Histogram(\n",
        "        x = df['sepal_length'],\n",
        "        visible = False))\n",
        "\n",
        "fig.add_trace(\n",
        "    go.Histogram(\n",
        "        x = df['petal_width'],\n",
        "        visible = False))\n",
        "\n",
        "fig.add_trace(\n",
        "    go.Histogram(\n",
        "        x = df['petal_length'],\n",
        "        visible = False))\n",
        "\n",
        "\n",
        "fig.update_layout(\n",
        "        title = go.layout.Title(text = \"Exploring different variables\", x = 0.5),\n",
        "        showlegend = False)\n",
        "\n",
        "fig.update_layout(\n",
        "    updatemenus = [go.layout.Updatemenu(\n",
        "        active = 0,\n",
        "        buttons = [\n",
        "                    go.layout.updatemenu.Button(\n",
        "                        label = \"Sepal width\",\n",
        "                        method = \"update\",\n",
        "                        args = [{\"visible\" : [True, False, False, False]}]),\n",
        "                    go.layout.updatemenu.Button(\n",
        "                            label = \"Sepal length\",\n",
        "                            method = \"update\",\n",
        "                            args = [{\"visible\" : [False, True, False, False]}]),\n",
        "                    go.layout.updatemenu.Button(\n",
        "                            label = \"Petal width\",\n",
        "                            method = \"update\",\n",
        "                            args = [{\"visible\" : [False, False, True, False]}]),\n",
        "                    go.layout.updatemenu.Button(\n",
        "                            label = \"Petal length\",\n",
        "                            method = \"update\",\n",
        "                            args = [{\"visible\" : [False, False, False, True]}])\n",
        "                ]\n",
        "    )]\n",
        ")"
      ]
    },
    {
      "cell_type": "code",
      "execution_count": 16,
      "metadata": {
        "colab": {
          "base_uri": "https://localhost:8080/",
          "height": 522
        },
        "id": "1GaMBoZRV8x9",
        "outputId": "9236f887-984d-4c8a-9a62-f5d5d4b058a4"
      },
      "outputs": [
        {
          "data": {
            "application/vnd.plotly.v1+json": {
              "config": {
                "plotlyServerURL": "https://plot.ly"
              },
              "data": [
                {
                  "type": "histogram",
                  "x": {
                    "bdata": "AAAAAAAADEAAAAAAAAAIQJqZmZmZmQlAzczMzMzMCEDNzMzMzMwMQDMzMzMzMw9AMzMzMzMzC0AzMzMzMzMLQDMzMzMzMwdAzczMzMzMCECamZmZmZkNQDMzMzMzMwtAAAAAAAAACEAAAAAAAAAIQAAAAAAAABBAmpmZmZmZEUAzMzMzMzMPQAAAAAAAAAxAZmZmZmZmDkBmZmZmZmYOQDMzMzMzMwtAmpmZmZmZDUDNzMzMzMwMQGZmZmZmZgpAMzMzMzMzC0AAAAAAAAAIQDMzMzMzMwtAAAAAAAAADEAzMzMzMzMLQJqZmZmZmQlAzczMzMzMCEAzMzMzMzMLQGZmZmZmZhBAzczMzMzMEEDNzMzMzMwIQJqZmZmZmQlAAAAAAAAADEDNzMzMzMwIQAAAAAAAAAhAMzMzMzMzC0AAAAAAAAAMQGZmZmZmZgJAmpmZmZmZCUAAAAAAAAAMQGZmZmZmZg5AAAAAAAAACEBmZmZmZmYOQJqZmZmZmQlAmpmZmZmZDUBmZmZmZmYKQJqZmZmZmQlAmpmZmZmZCUDNzMzMzMwIQGZmZmZmZgJAZmZmZmZmBkBmZmZmZmYGQGZmZmZmZgpAMzMzMzMzA0AzMzMzMzMHQJqZmZmZmQVAAAAAAAAAAEAAAAAAAAAIQJqZmZmZmQFAMzMzMzMzB0AzMzMzMzMHQM3MzMzMzAhAAAAAAAAACECamZmZmZkFQJqZmZmZmQFAAAAAAAAABECamZmZmZkJQGZmZmZmZgZAAAAAAAAABEBmZmZmZmYGQDMzMzMzMwdAAAAAAAAACEBmZmZmZmYGQAAAAAAAAAhAMzMzMzMzB0DNzMzMzMwEQDMzMzMzMwNAMzMzMzMzA0CamZmZmZkFQJqZmZmZmQVAAAAAAAAACEAzMzMzMzMLQM3MzMzMzAhAZmZmZmZmAkAAAAAAAAAIQAAAAAAAAARAzczMzMzMBEAAAAAAAAAIQM3MzMzMzARAZmZmZmZmAkCamZmZmZkFQAAAAAAAAAhAMzMzMzMzB0AzMzMzMzMHQAAAAAAAAARAZmZmZmZmBkBmZmZmZmYKQJqZmZmZmQVAAAAAAAAACEAzMzMzMzMHQAAAAAAAAAhAAAAAAAAACEAAAAAAAAAEQDMzMzMzMwdAAAAAAAAABEDNzMzMzMwMQJqZmZmZmQlAmpmZmZmZBUAAAAAAAAAIQAAAAAAAAARAZmZmZmZmBkCamZmZmZkJQAAAAAAAAAhAZmZmZmZmDkDNzMzMzMwEQJqZmZmZmQFAmpmZmZmZCUBmZmZmZmYGQGZmZmZmZgZAmpmZmZmZBUBmZmZmZmYKQJqZmZmZmQlAZmZmZmZmBkAAAAAAAAAIQGZmZmZmZgZAAAAAAAAACEBmZmZmZmYGQGZmZmZmZg5AZmZmZmZmBkBmZmZmZmYGQM3MzMzMzARAAAAAAAAACEAzMzMzMzMLQM3MzMzMzAhAAAAAAAAACEDNzMzMzMwIQM3MzMzMzAhAzczMzMzMCECamZmZmZkFQJqZmZmZmQlAZmZmZmZmCkAAAAAAAAAIQAAAAAAAAARAAAAAAAAACEAzMzMzMzMLQAAAAAAAAAhA",
                    "dtype": "f8"
                  }
                },
                {
                  "type": "box",
                  "visible": false,
                  "x": {
                    "bdata": "AAAAAAAADEAAAAAAAAAIQJqZmZmZmQlAzczMzMzMCEDNzMzMzMwMQDMzMzMzMw9AMzMzMzMzC0AzMzMzMzMLQDMzMzMzMwdAzczMzMzMCECamZmZmZkNQDMzMzMzMwtAAAAAAAAACEAAAAAAAAAIQAAAAAAAABBAmpmZmZmZEUAzMzMzMzMPQAAAAAAAAAxAZmZmZmZmDkBmZmZmZmYOQDMzMzMzMwtAmpmZmZmZDUDNzMzMzMwMQGZmZmZmZgpAMzMzMzMzC0AAAAAAAAAIQDMzMzMzMwtAAAAAAAAADEAzMzMzMzMLQJqZmZmZmQlAzczMzMzMCEAzMzMzMzMLQGZmZmZmZhBAzczMzMzMEEDNzMzMzMwIQJqZmZmZmQlAAAAAAAAADEDNzMzMzMwIQAAAAAAAAAhAMzMzMzMzC0AAAAAAAAAMQGZmZmZmZgJAmpmZmZmZCUAAAAAAAAAMQGZmZmZmZg5AAAAAAAAACEBmZmZmZmYOQJqZmZmZmQlAmpmZmZmZDUBmZmZmZmYKQJqZmZmZmQlAmpmZmZmZCUDNzMzMzMwIQGZmZmZmZgJAZmZmZmZmBkBmZmZmZmYGQGZmZmZmZgpAMzMzMzMzA0AzMzMzMzMHQJqZmZmZmQVAAAAAAAAAAEAAAAAAAAAIQJqZmZmZmQFAMzMzMzMzB0AzMzMzMzMHQM3MzMzMzAhAAAAAAAAACECamZmZmZkFQJqZmZmZmQFAAAAAAAAABECamZmZmZkJQGZmZmZmZgZAAAAAAAAABEBmZmZmZmYGQDMzMzMzMwdAAAAAAAAACEBmZmZmZmYGQAAAAAAAAAhAMzMzMzMzB0DNzMzMzMwEQDMzMzMzMwNAMzMzMzMzA0CamZmZmZkFQJqZmZmZmQVAAAAAAAAACEAzMzMzMzMLQM3MzMzMzAhAZmZmZmZmAkAAAAAAAAAIQAAAAAAAAARAzczMzMzMBEAAAAAAAAAIQM3MzMzMzARAZmZmZmZmAkCamZmZmZkFQAAAAAAAAAhAMzMzMzMzB0AzMzMzMzMHQAAAAAAAAARAZmZmZmZmBkBmZmZmZmYKQJqZmZmZmQVAAAAAAAAACEAzMzMzMzMHQAAAAAAAAAhAAAAAAAAACEAAAAAAAAAEQDMzMzMzMwdAAAAAAAAABEDNzMzMzMwMQJqZmZmZmQlAmpmZmZmZBUAAAAAAAAAIQAAAAAAAAARAZmZmZmZmBkCamZmZmZkJQAAAAAAAAAhAZmZmZmZmDkDNzMzMzMwEQJqZmZmZmQFAmpmZmZmZCUBmZmZmZmYGQGZmZmZmZgZAmpmZmZmZBUBmZmZmZmYKQJqZmZmZmQlAZmZmZmZmBkAAAAAAAAAIQGZmZmZmZgZAAAAAAAAACEBmZmZmZmYGQGZmZmZmZg5AZmZmZmZmBkBmZmZmZmYGQM3MzMzMzARAAAAAAAAACEAzMzMzMzMLQM3MzMzMzAhAAAAAAAAACEDNzMzMzMwIQM3MzMzMzAhAzczMzMzMCECamZmZmZkFQJqZmZmZmQlAZmZmZmZmCkAAAAAAAAAIQAAAAAAAAARAAAAAAAAACEAzMzMzMzMLQAAAAAAAAAhA",
                    "dtype": "f8"
                  }
                },
                {
                  "type": "violin",
                  "visible": false,
                  "x": {
                    "bdata": "AAAAAAAADEAAAAAAAAAIQJqZmZmZmQlAzczMzMzMCEDNzMzMzMwMQDMzMzMzMw9AMzMzMzMzC0AzMzMzMzMLQDMzMzMzMwdAzczMzMzMCECamZmZmZkNQDMzMzMzMwtAAAAAAAAACEAAAAAAAAAIQAAAAAAAABBAmpmZmZmZEUAzMzMzMzMPQAAAAAAAAAxAZmZmZmZmDkBmZmZmZmYOQDMzMzMzMwtAmpmZmZmZDUDNzMzMzMwMQGZmZmZmZgpAMzMzMzMzC0AAAAAAAAAIQDMzMzMzMwtAAAAAAAAADEAzMzMzMzMLQJqZmZmZmQlAzczMzMzMCEAzMzMzMzMLQGZmZmZmZhBAzczMzMzMEEDNzMzMzMwIQJqZmZmZmQlAAAAAAAAADEDNzMzMzMwIQAAAAAAAAAhAMzMzMzMzC0AAAAAAAAAMQGZmZmZmZgJAmpmZmZmZCUAAAAAAAAAMQGZmZmZmZg5AAAAAAAAACEBmZmZmZmYOQJqZmZmZmQlAmpmZmZmZDUBmZmZmZmYKQJqZmZmZmQlAmpmZmZmZCUDNzMzMzMwIQGZmZmZmZgJAZmZmZmZmBkBmZmZmZmYGQGZmZmZmZgpAMzMzMzMzA0AzMzMzMzMHQJqZmZmZmQVAAAAAAAAAAEAAAAAAAAAIQJqZmZmZmQFAMzMzMzMzB0AzMzMzMzMHQM3MzMzMzAhAAAAAAAAACECamZmZmZkFQJqZmZmZmQFAAAAAAAAABECamZmZmZkJQGZmZmZmZgZAAAAAAAAABEBmZmZmZmYGQDMzMzMzMwdAAAAAAAAACEBmZmZmZmYGQAAAAAAAAAhAMzMzMzMzB0DNzMzMzMwEQDMzMzMzMwNAMzMzMzMzA0CamZmZmZkFQJqZmZmZmQVAAAAAAAAACEAzMzMzMzMLQM3MzMzMzAhAZmZmZmZmAkAAAAAAAAAIQAAAAAAAAARAzczMzMzMBEAAAAAAAAAIQM3MzMzMzARAZmZmZmZmAkCamZmZmZkFQAAAAAAAAAhAMzMzMzMzB0AzMzMzMzMHQAAAAAAAAARAZmZmZmZmBkBmZmZmZmYKQJqZmZmZmQVAAAAAAAAACEAzMzMzMzMHQAAAAAAAAAhAAAAAAAAACEAAAAAAAAAEQDMzMzMzMwdAAAAAAAAABEDNzMzMzMwMQJqZmZmZmQlAmpmZmZmZBUAAAAAAAAAIQAAAAAAAAARAZmZmZmZmBkCamZmZmZkJQAAAAAAAAAhAZmZmZmZmDkDNzMzMzMwEQJqZmZmZmQFAmpmZmZmZCUBmZmZmZmYGQGZmZmZmZgZAmpmZmZmZBUBmZmZmZmYKQJqZmZmZmQlAZmZmZmZmBkAAAAAAAAAIQGZmZmZmZgZAAAAAAAAACEBmZmZmZmYGQGZmZmZmZg5AZmZmZmZmBkBmZmZmZmYGQM3MzMzMzARAAAAAAAAACEAzMzMzMzMLQM3MzMzMzAhAAAAAAAAACEDNzMzMzMwIQM3MzMzMzAhAzczMzMzMCECamZmZmZkFQJqZmZmZmQlAZmZmZmZmCkAAAAAAAAAIQAAAAAAAAARAAAAAAAAACEAzMzMzMzMLQAAAAAAAAAhA",
                    "dtype": "f8"
                  }
                }
              ],
              "layout": {
                "showlegend": false,
                "template": {
                  "data": {
                    "bar": [
                      {
                        "error_x": {
                          "color": "#2a3f5f"
                        },
                        "error_y": {
                          "color": "#2a3f5f"
                        },
                        "marker": {
                          "line": {
                            "color": "#E5ECF6",
                            "width": 0.5
                          },
                          "pattern": {
                            "fillmode": "overlay",
                            "size": 10,
                            "solidity": 0.2
                          }
                        },
                        "type": "bar"
                      }
                    ],
                    "barpolar": [
                      {
                        "marker": {
                          "line": {
                            "color": "#E5ECF6",
                            "width": 0.5
                          },
                          "pattern": {
                            "fillmode": "overlay",
                            "size": 10,
                            "solidity": 0.2
                          }
                        },
                        "type": "barpolar"
                      }
                    ],
                    "carpet": [
                      {
                        "aaxis": {
                          "endlinecolor": "#2a3f5f",
                          "gridcolor": "white",
                          "linecolor": "white",
                          "minorgridcolor": "white",
                          "startlinecolor": "#2a3f5f"
                        },
                        "baxis": {
                          "endlinecolor": "#2a3f5f",
                          "gridcolor": "white",
                          "linecolor": "white",
                          "minorgridcolor": "white",
                          "startlinecolor": "#2a3f5f"
                        },
                        "type": "carpet"
                      }
                    ],
                    "choropleth": [
                      {
                        "colorbar": {
                          "outlinewidth": 0,
                          "ticks": ""
                        },
                        "type": "choropleth"
                      }
                    ],
                    "contour": [
                      {
                        "colorbar": {
                          "outlinewidth": 0,
                          "ticks": ""
                        },
                        "colorscale": [
                          [
                            0,
                            "#0d0887"
                          ],
                          [
                            0.1111111111111111,
                            "#46039f"
                          ],
                          [
                            0.2222222222222222,
                            "#7201a8"
                          ],
                          [
                            0.3333333333333333,
                            "#9c179e"
                          ],
                          [
                            0.4444444444444444,
                            "#bd3786"
                          ],
                          [
                            0.5555555555555556,
                            "#d8576b"
                          ],
                          [
                            0.6666666666666666,
                            "#ed7953"
                          ],
                          [
                            0.7777777777777778,
                            "#fb9f3a"
                          ],
                          [
                            0.8888888888888888,
                            "#fdca26"
                          ],
                          [
                            1,
                            "#f0f921"
                          ]
                        ],
                        "type": "contour"
                      }
                    ],
                    "contourcarpet": [
                      {
                        "colorbar": {
                          "outlinewidth": 0,
                          "ticks": ""
                        },
                        "type": "contourcarpet"
                      }
                    ],
                    "heatmap": [
                      {
                        "colorbar": {
                          "outlinewidth": 0,
                          "ticks": ""
                        },
                        "colorscale": [
                          [
                            0,
                            "#0d0887"
                          ],
                          [
                            0.1111111111111111,
                            "#46039f"
                          ],
                          [
                            0.2222222222222222,
                            "#7201a8"
                          ],
                          [
                            0.3333333333333333,
                            "#9c179e"
                          ],
                          [
                            0.4444444444444444,
                            "#bd3786"
                          ],
                          [
                            0.5555555555555556,
                            "#d8576b"
                          ],
                          [
                            0.6666666666666666,
                            "#ed7953"
                          ],
                          [
                            0.7777777777777778,
                            "#fb9f3a"
                          ],
                          [
                            0.8888888888888888,
                            "#fdca26"
                          ],
                          [
                            1,
                            "#f0f921"
                          ]
                        ],
                        "type": "heatmap"
                      }
                    ],
                    "histogram": [
                      {
                        "marker": {
                          "pattern": {
                            "fillmode": "overlay",
                            "size": 10,
                            "solidity": 0.2
                          }
                        },
                        "type": "histogram"
                      }
                    ],
                    "histogram2d": [
                      {
                        "colorbar": {
                          "outlinewidth": 0,
                          "ticks": ""
                        },
                        "colorscale": [
                          [
                            0,
                            "#0d0887"
                          ],
                          [
                            0.1111111111111111,
                            "#46039f"
                          ],
                          [
                            0.2222222222222222,
                            "#7201a8"
                          ],
                          [
                            0.3333333333333333,
                            "#9c179e"
                          ],
                          [
                            0.4444444444444444,
                            "#bd3786"
                          ],
                          [
                            0.5555555555555556,
                            "#d8576b"
                          ],
                          [
                            0.6666666666666666,
                            "#ed7953"
                          ],
                          [
                            0.7777777777777778,
                            "#fb9f3a"
                          ],
                          [
                            0.8888888888888888,
                            "#fdca26"
                          ],
                          [
                            1,
                            "#f0f921"
                          ]
                        ],
                        "type": "histogram2d"
                      }
                    ],
                    "histogram2dcontour": [
                      {
                        "colorbar": {
                          "outlinewidth": 0,
                          "ticks": ""
                        },
                        "colorscale": [
                          [
                            0,
                            "#0d0887"
                          ],
                          [
                            0.1111111111111111,
                            "#46039f"
                          ],
                          [
                            0.2222222222222222,
                            "#7201a8"
                          ],
                          [
                            0.3333333333333333,
                            "#9c179e"
                          ],
                          [
                            0.4444444444444444,
                            "#bd3786"
                          ],
                          [
                            0.5555555555555556,
                            "#d8576b"
                          ],
                          [
                            0.6666666666666666,
                            "#ed7953"
                          ],
                          [
                            0.7777777777777778,
                            "#fb9f3a"
                          ],
                          [
                            0.8888888888888888,
                            "#fdca26"
                          ],
                          [
                            1,
                            "#f0f921"
                          ]
                        ],
                        "type": "histogram2dcontour"
                      }
                    ],
                    "mesh3d": [
                      {
                        "colorbar": {
                          "outlinewidth": 0,
                          "ticks": ""
                        },
                        "type": "mesh3d"
                      }
                    ],
                    "parcoords": [
                      {
                        "line": {
                          "colorbar": {
                            "outlinewidth": 0,
                            "ticks": ""
                          }
                        },
                        "type": "parcoords"
                      }
                    ],
                    "pie": [
                      {
                        "automargin": true,
                        "type": "pie"
                      }
                    ],
                    "scatter": [
                      {
                        "fillpattern": {
                          "fillmode": "overlay",
                          "size": 10,
                          "solidity": 0.2
                        },
                        "type": "scatter"
                      }
                    ],
                    "scatter3d": [
                      {
                        "line": {
                          "colorbar": {
                            "outlinewidth": 0,
                            "ticks": ""
                          }
                        },
                        "marker": {
                          "colorbar": {
                            "outlinewidth": 0,
                            "ticks": ""
                          }
                        },
                        "type": "scatter3d"
                      }
                    ],
                    "scattercarpet": [
                      {
                        "marker": {
                          "colorbar": {
                            "outlinewidth": 0,
                            "ticks": ""
                          }
                        },
                        "type": "scattercarpet"
                      }
                    ],
                    "scattergeo": [
                      {
                        "marker": {
                          "colorbar": {
                            "outlinewidth": 0,
                            "ticks": ""
                          }
                        },
                        "type": "scattergeo"
                      }
                    ],
                    "scattergl": [
                      {
                        "marker": {
                          "colorbar": {
                            "outlinewidth": 0,
                            "ticks": ""
                          }
                        },
                        "type": "scattergl"
                      }
                    ],
                    "scattermap": [
                      {
                        "marker": {
                          "colorbar": {
                            "outlinewidth": 0,
                            "ticks": ""
                          }
                        },
                        "type": "scattermap"
                      }
                    ],
                    "scattermapbox": [
                      {
                        "marker": {
                          "colorbar": {
                            "outlinewidth": 0,
                            "ticks": ""
                          }
                        },
                        "type": "scattermapbox"
                      }
                    ],
                    "scatterpolar": [
                      {
                        "marker": {
                          "colorbar": {
                            "outlinewidth": 0,
                            "ticks": ""
                          }
                        },
                        "type": "scatterpolar"
                      }
                    ],
                    "scatterpolargl": [
                      {
                        "marker": {
                          "colorbar": {
                            "outlinewidth": 0,
                            "ticks": ""
                          }
                        },
                        "type": "scatterpolargl"
                      }
                    ],
                    "scatterternary": [
                      {
                        "marker": {
                          "colorbar": {
                            "outlinewidth": 0,
                            "ticks": ""
                          }
                        },
                        "type": "scatterternary"
                      }
                    ],
                    "surface": [
                      {
                        "colorbar": {
                          "outlinewidth": 0,
                          "ticks": ""
                        },
                        "colorscale": [
                          [
                            0,
                            "#0d0887"
                          ],
                          [
                            0.1111111111111111,
                            "#46039f"
                          ],
                          [
                            0.2222222222222222,
                            "#7201a8"
                          ],
                          [
                            0.3333333333333333,
                            "#9c179e"
                          ],
                          [
                            0.4444444444444444,
                            "#bd3786"
                          ],
                          [
                            0.5555555555555556,
                            "#d8576b"
                          ],
                          [
                            0.6666666666666666,
                            "#ed7953"
                          ],
                          [
                            0.7777777777777778,
                            "#fb9f3a"
                          ],
                          [
                            0.8888888888888888,
                            "#fdca26"
                          ],
                          [
                            1,
                            "#f0f921"
                          ]
                        ],
                        "type": "surface"
                      }
                    ],
                    "table": [
                      {
                        "cells": {
                          "fill": {
                            "color": "#EBF0F8"
                          },
                          "line": {
                            "color": "white"
                          }
                        },
                        "header": {
                          "fill": {
                            "color": "#C8D4E3"
                          },
                          "line": {
                            "color": "white"
                          }
                        },
                        "type": "table"
                      }
                    ]
                  },
                  "layout": {
                    "annotationdefaults": {
                      "arrowcolor": "#2a3f5f",
                      "arrowhead": 0,
                      "arrowwidth": 1
                    },
                    "autotypenumbers": "strict",
                    "coloraxis": {
                      "colorbar": {
                        "outlinewidth": 0,
                        "ticks": ""
                      }
                    },
                    "colorscale": {
                      "diverging": [
                        [
                          0,
                          "#8e0152"
                        ],
                        [
                          0.1,
                          "#c51b7d"
                        ],
                        [
                          0.2,
                          "#de77ae"
                        ],
                        [
                          0.3,
                          "#f1b6da"
                        ],
                        [
                          0.4,
                          "#fde0ef"
                        ],
                        [
                          0.5,
                          "#f7f7f7"
                        ],
                        [
                          0.6,
                          "#e6f5d0"
                        ],
                        [
                          0.7,
                          "#b8e186"
                        ],
                        [
                          0.8,
                          "#7fbc41"
                        ],
                        [
                          0.9,
                          "#4d9221"
                        ],
                        [
                          1,
                          "#276419"
                        ]
                      ],
                      "sequential": [
                        [
                          0,
                          "#0d0887"
                        ],
                        [
                          0.1111111111111111,
                          "#46039f"
                        ],
                        [
                          0.2222222222222222,
                          "#7201a8"
                        ],
                        [
                          0.3333333333333333,
                          "#9c179e"
                        ],
                        [
                          0.4444444444444444,
                          "#bd3786"
                        ],
                        [
                          0.5555555555555556,
                          "#d8576b"
                        ],
                        [
                          0.6666666666666666,
                          "#ed7953"
                        ],
                        [
                          0.7777777777777778,
                          "#fb9f3a"
                        ],
                        [
                          0.8888888888888888,
                          "#fdca26"
                        ],
                        [
                          1,
                          "#f0f921"
                        ]
                      ],
                      "sequentialminus": [
                        [
                          0,
                          "#0d0887"
                        ],
                        [
                          0.1111111111111111,
                          "#46039f"
                        ],
                        [
                          0.2222222222222222,
                          "#7201a8"
                        ],
                        [
                          0.3333333333333333,
                          "#9c179e"
                        ],
                        [
                          0.4444444444444444,
                          "#bd3786"
                        ],
                        [
                          0.5555555555555556,
                          "#d8576b"
                        ],
                        [
                          0.6666666666666666,
                          "#ed7953"
                        ],
                        [
                          0.7777777777777778,
                          "#fb9f3a"
                        ],
                        [
                          0.8888888888888888,
                          "#fdca26"
                        ],
                        [
                          1,
                          "#f0f921"
                        ]
                      ]
                    },
                    "colorway": [
                      "#636efa",
                      "#EF553B",
                      "#00cc96",
                      "#ab63fa",
                      "#FFA15A",
                      "#19d3f3",
                      "#FF6692",
                      "#B6E880",
                      "#FF97FF",
                      "#FECB52"
                    ],
                    "font": {
                      "color": "#2a3f5f"
                    },
                    "geo": {
                      "bgcolor": "white",
                      "lakecolor": "white",
                      "landcolor": "#E5ECF6",
                      "showlakes": true,
                      "showland": true,
                      "subunitcolor": "white"
                    },
                    "hoverlabel": {
                      "align": "left"
                    },
                    "hovermode": "closest",
                    "mapbox": {
                      "style": "light"
                    },
                    "paper_bgcolor": "white",
                    "plot_bgcolor": "#E5ECF6",
                    "polar": {
                      "angularaxis": {
                        "gridcolor": "white",
                        "linecolor": "white",
                        "ticks": ""
                      },
                      "bgcolor": "#E5ECF6",
                      "radialaxis": {
                        "gridcolor": "white",
                        "linecolor": "white",
                        "ticks": ""
                      }
                    },
                    "scene": {
                      "xaxis": {
                        "backgroundcolor": "#E5ECF6",
                        "gridcolor": "white",
                        "gridwidth": 2,
                        "linecolor": "white",
                        "showbackground": true,
                        "ticks": "",
                        "zerolinecolor": "white"
                      },
                      "yaxis": {
                        "backgroundcolor": "#E5ECF6",
                        "gridcolor": "white",
                        "gridwidth": 2,
                        "linecolor": "white",
                        "showbackground": true,
                        "ticks": "",
                        "zerolinecolor": "white"
                      },
                      "zaxis": {
                        "backgroundcolor": "#E5ECF6",
                        "gridcolor": "white",
                        "gridwidth": 2,
                        "linecolor": "white",
                        "showbackground": true,
                        "ticks": "",
                        "zerolinecolor": "white"
                      }
                    },
                    "shapedefaults": {
                      "line": {
                        "color": "#2a3f5f"
                      }
                    },
                    "ternary": {
                      "aaxis": {
                        "gridcolor": "white",
                        "linecolor": "white",
                        "ticks": ""
                      },
                      "baxis": {
                        "gridcolor": "white",
                        "linecolor": "white",
                        "ticks": ""
                      },
                      "bgcolor": "#E5ECF6",
                      "caxis": {
                        "gridcolor": "white",
                        "linecolor": "white",
                        "ticks": ""
                      }
                    },
                    "title": {
                      "x": 0.05
                    },
                    "xaxis": {
                      "automargin": true,
                      "gridcolor": "white",
                      "linecolor": "white",
                      "ticks": "",
                      "title": {
                        "standoff": 15
                      },
                      "zerolinecolor": "white",
                      "zerolinewidth": 2
                    },
                    "yaxis": {
                      "automargin": true,
                      "gridcolor": "white",
                      "linecolor": "white",
                      "ticks": "",
                      "title": {
                        "standoff": 15
                      },
                      "zerolinecolor": "white",
                      "zerolinewidth": 2
                    }
                  }
                },
                "title": {
                  "text": "Exploring sepal_width",
                  "x": 0.5
                },
                "updatemenus": [
                  {
                    "active": 0,
                    "buttons": [
                      {
                        "args": [
                          {
                            "visible": [
                              true,
                              false,
                              false
                            ]
                          }
                        ],
                        "label": "Histogram",
                        "method": "update"
                      },
                      {
                        "args": [
                          {
                            "visible": [
                              false,
                              true,
                              false
                            ]
                          }
                        ],
                        "label": "Box plot",
                        "method": "update"
                      },
                      {
                        "args": [
                          {
                            "visible": [
                              false,
                              false,
                              true
                            ]
                          }
                        ],
                        "label": "Violin plot",
                        "method": "update"
                      }
                    ]
                  }
                ]
              }
            }
          },
          "metadata": {},
          "output_type": "display_data"
        }
      ],
      "source": [
        "# Example of how to allow the selection of a type of visualisation\n",
        "fig = go.Figure()\n",
        "\n",
        "fig.add_trace(\n",
        "    go.Histogram(\n",
        "        x = df['sepal_width']))\n",
        "\n",
        "fig.add_trace(\n",
        "    go.Box(\n",
        "        x = df['sepal_width'],\n",
        "        visible = False))\n",
        "\n",
        "fig.add_trace(\n",
        "    go.Violin(\n",
        "        x = df['sepal_width'],\n",
        "        visible = False))\n",
        "\n",
        "fig.update_layout(\n",
        "        title = go.layout.Title(text = \"Exploring sepal_width\", x = 0.5),\n",
        "        showlegend = False)\n",
        "\n",
        "fig.update_layout(\n",
        "    updatemenus = [go.layout.Updatemenu(\n",
        "        active = 0,\n",
        "        buttons = [\n",
        "                    go.layout.updatemenu.Button(\n",
        "                        label = \"Histogram\",\n",
        "                        method = \"update\",\n",
        "                        args = [{\"visible\" : [True, False, False]}]),\n",
        "                    go.layout.updatemenu.Button(\n",
        "                            label = \"Box plot\",\n",
        "                            method = \"update\",\n",
        "                            args = [{\"visible\" : [False, True, False]}]),\n",
        "                    go.layout.updatemenu.Button(\n",
        "                            label = \"Violin plot\",\n",
        "                            method = \"update\",\n",
        "                            args = [{\"visible\" : [False, False, True]}])\n",
        "                ]\n",
        "    )]\n",
        ")"
      ]
    },
    {
      "cell_type": "markdown",
      "metadata": {
        "id": "xpP1N-QfV8x-"
      },
      "source": [
        "### Mastering animations with plotly.graph_objects\n",
        "It's possible to create the animated graphs with graph objects, but it's far more complex ! If you want to go further on this topic, you can check [this tutorial](https://plotly.com/python/animations/) (but it's not mandatory in the scope of this introductory lecture about Plotly ;-) )"
      ]
    },
    {
      "cell_type": "markdown",
      "metadata": {
        "id": "mU0SmAxJV8x_"
      },
      "source": [
        "## Resources 📚📚\n",
        "\n",
        "* [Creating and Updating Figures in Python](https://plotly.com/python/creating-and-updating-figures/#make-subplots)\n",
        "* [Make Subplots](https://plotly.com/python/creating-and-updating-figures/#make-subplots)\n",
        "* [Intro to Animations in Python](https://plotly.com/python/animations/)\n",
        "* [How to make Plotly graph animated working](https://stackoverflow.com/questions/61176493/how-to-make-plotly-graph-animated-working)\n"
      ]
    }
  ],
  "metadata": {
    "colab": {
      "provenance": []
    },
    "kernelspec": {
      "display_name": "jedha",
      "language": "python",
      "name": "python3"
    },
    "language_info": {
      "codemirror_mode": {
        "name": "ipython",
        "version": 3
      },
      "file_extension": ".py",
      "mimetype": "text/x-python",
      "name": "python",
      "nbconvert_exporter": "python",
      "pygments_lexer": "ipython3",
      "version": "3.13.5"
    }
  },
  "nbformat": 4,
  "nbformat_minor": 0
}
