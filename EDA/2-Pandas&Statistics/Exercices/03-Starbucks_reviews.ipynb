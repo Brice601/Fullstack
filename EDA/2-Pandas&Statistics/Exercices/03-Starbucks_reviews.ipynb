{
  "cells": [
    {
      "cell_type": "markdown",
      "metadata": {
        "id": "z6bY9qBzFUsJ"
      },
      "source": [
        "# Starbucks reviews ☕️☕️\n"
      ]
    },
    {
      "cell_type": "markdown",
      "metadata": {
        "id": "qw9x1LeKMW4R"
      },
      "source": [
        "1. Import pandas"
      ]
    },
    {
      "cell_type": "code",
      "execution_count": 1,
      "metadata": {
        "id": "SwGrZGVJFKqp"
      },
      "outputs": [],
      "source": [
        "import pandas as pd"
      ]
    },
    {
      "cell_type": "markdown",
      "metadata": {
        "id": "alTwhJohMY6f"
      },
      "source": [
        "2. Read the data from starbucks_reviews.csv"
      ]
    },
    {
      "cell_type": "code",
      "execution_count": 3,
      "metadata": {
        "colab": {
          "base_uri": "https://localhost:8080/",
          "height": 206
        },
        "executionInfo": {
          "elapsed": 96,
          "status": "ok",
          "timestamp": 1699032934877,
          "user": {
            "displayName": "Aurélie Mutschler",
            "userId": "09486760454547044843"
          },
          "user_tz": -60
        },
        "id": "cLioE2bRGMjp",
        "outputId": "17b18e3d-74af-4d4e-9153-df06b007eea5"
      },
      "outputs": [
        {
          "data": {
            "text/html": [
              "<div>\n",
              "<style scoped>\n",
              "    .dataframe tbody tr th:only-of-type {\n",
              "        vertical-align: middle;\n",
              "    }\n",
              "\n",
              "    .dataframe tbody tr th {\n",
              "        vertical-align: top;\n",
              "    }\n",
              "\n",
              "    .dataframe thead th {\n",
              "        text-align: right;\n",
              "    }\n",
              "</style>\n",
              "<table border=\"1\" class=\"dataframe\">\n",
              "  <thead>\n",
              "    <tr style=\"text-align: right;\">\n",
              "      <th></th>\n",
              "      <th>name</th>\n",
              "      <th>location</th>\n",
              "      <th>Rating</th>\n",
              "      <th>Review</th>\n",
              "      <th>date</th>\n",
              "    </tr>\n",
              "  </thead>\n",
              "  <tbody>\n",
              "    <tr>\n",
              "      <th>0</th>\n",
              "      <td>Helen</td>\n",
              "      <td>Wichita Falls, TX</td>\n",
              "      <td>5.0</td>\n",
              "      <td>Amber and LaDonna at the Starbucks on Southwes...</td>\n",
              "      <td>September 13, 2023</td>\n",
              "    </tr>\n",
              "    <tr>\n",
              "      <th>1</th>\n",
              "      <td>Courtney</td>\n",
              "      <td>Apopka, FL</td>\n",
              "      <td>5.0</td>\n",
              "      <td>** at the Starbucks by the fire station on 436...</td>\n",
              "      <td>July 16, 2023</td>\n",
              "    </tr>\n",
              "    <tr>\n",
              "      <th>2</th>\n",
              "      <td>Daynelle</td>\n",
              "      <td>Cranberry Twp, PA</td>\n",
              "      <td>5.0</td>\n",
              "      <td>I just wanted to go out of my way to recognize...</td>\n",
              "      <td>July 5, 2023</td>\n",
              "    </tr>\n",
              "    <tr>\n",
              "      <th>3</th>\n",
              "      <td>Taylor</td>\n",
              "      <td>Seattle, WA</td>\n",
              "      <td>5.0</td>\n",
              "      <td>Me and my friend were at Starbucks and my card...</td>\n",
              "      <td>May 26, 2023</td>\n",
              "    </tr>\n",
              "    <tr>\n",
              "      <th>4</th>\n",
              "      <td>Tenessa</td>\n",
              "      <td>Gresham, OR</td>\n",
              "      <td>5.0</td>\n",
              "      <td>I’m on this kick of drinking 5 cups of warm wa...</td>\n",
              "      <td>January 22, 2023</td>\n",
              "    </tr>\n",
              "  </tbody>\n",
              "</table>\n",
              "</div>"
            ],
            "text/plain": [
              "       name           location  Rating  \\\n",
              "0     Helen  Wichita Falls, TX     5.0   \n",
              "1  Courtney         Apopka, FL     5.0   \n",
              "2  Daynelle  Cranberry Twp, PA     5.0   \n",
              "3    Taylor        Seattle, WA     5.0   \n",
              "4   Tenessa        Gresham, OR     5.0   \n",
              "\n",
              "                                              Review                date  \n",
              "0  Amber and LaDonna at the Starbucks on Southwes...  September 13, 2023  \n",
              "1  ** at the Starbucks by the fire station on 436...       July 16, 2023  \n",
              "2  I just wanted to go out of my way to recognize...        July 5, 2023  \n",
              "3  Me and my friend were at Starbucks and my card...        May 26, 2023  \n",
              "4  I’m on this kick of drinking 5 cups of warm wa...    January 22, 2023  "
            ]
          },
          "execution_count": 3,
          "metadata": {},
          "output_type": "execute_result"
        }
      ],
      "source": [
        "df = pd.read_csv(\"starbucks_reviews.csv\")\n",
        "\n",
        "df.head()"
      ]
    },
    {
      "cell_type": "markdown",
      "metadata": {
        "id": "naaebZf3MgRZ"
      },
      "source": [
        "3. How many columns/lines are in the dataset?"
      ]
    },
    {
      "cell_type": "code",
      "execution_count": 4,
      "metadata": {
        "colab": {
          "base_uri": "https://localhost:8080/"
        },
        "executionInfo": {
          "elapsed": 95,
          "status": "ok",
          "timestamp": 1699032934878,
          "user": {
            "displayName": "Aurélie Mutschler",
            "userId": "09486760454547044843"
          },
          "user_tz": -60
        },
        "id": "PyfZZtIpHOTa",
        "outputId": "8ef992ec-f994-49bc-ad30-416c0cf5ac3f"
      },
      "outputs": [
        {
          "data": {
            "text/plain": [
              "(850, 5)"
            ]
          },
          "execution_count": 4,
          "metadata": {},
          "output_type": "execute_result"
        }
      ],
      "source": [
        "df.shape"
      ]
    },
    {
      "cell_type": "markdown",
      "metadata": {
        "id": "RdKlAbw4MkKQ"
      },
      "source": [
        "4. Convert the column \"date\" into datetime type.\n",
        "\n",
        "💡 You'll have to specify the format with python's [strptime syntax](https://docs.python.org/3/library/datetime.html#strftime-strptime-behavior)"
      ]
    },
    {
      "cell_type": "code",
      "execution_count": null,
      "metadata": {
        "id": "3mZcW4P2GyoA"
      },
      "outputs": [
        {
          "data": {
            "text/plain": [
              "name                object\n",
              "location            object\n",
              "Rating             float64\n",
              "Review              object\n",
              "date        datetime64[ns]\n",
              "dtype: object"
            ]
          },
          "execution_count": 11,
          "metadata": {},
          "output_type": "execute_result"
        }
      ],
      "source": [
        "df[\"date\"] = pd.to_datetime(df[\"date\"])\n",
        "\n",
        "# df[\"date\"] = pd.to_datetime(df[\"date\"], format = \"%B %d, %Y\")\n",
        "\n",
        "df.dtypes"
      ]
    },
    {
      "cell_type": "code",
      "execution_count": 13,
      "metadata": {},
      "outputs": [
        {
          "data": {
            "text/plain": [
              "0     2023-09-13\n",
              "1     2023-07-16\n",
              "2     2023-07-05\n",
              "3     2023-05-26\n",
              "4     2023-01-22\n",
              "         ...    \n",
              "845   2006-07-13\n",
              "846   2005-01-03\n",
              "847   2004-11-05\n",
              "848   2004-10-20\n",
              "849   2000-07-19\n",
              "Name: date, Length: 850, dtype: datetime64[ns]"
            ]
          },
          "execution_count": 13,
          "metadata": {},
          "output_type": "execute_result"
        }
      ],
      "source": [
        "df[\"date\"].dt.strftime(\"%m %d, %Y\")\n",
        "\n",
        "df[\"date\"]"
      ]
    },
    {
      "cell_type": "markdown",
      "metadata": {
        "id": "piaoWs9SM1tz"
      },
      "source": [
        "5. Extract some features from the \"date\" column:\n",
        "* year\n",
        "* month\n",
        "* day of week"
      ]
    },
    {
      "cell_type": "code",
      "execution_count": null,
      "metadata": {
        "colab": {
          "base_uri": "https://localhost:8080/",
          "height": 206
        },
        "executionInfo": {
          "elapsed": 94,
          "status": "ok",
          "timestamp": 1699032934880,
          "user": {
            "displayName": "Aurélie Mutschler",
            "userId": "09486760454547044843"
          },
          "user_tz": -60
        },
        "id": "ivht0wedI2W4",
        "outputId": "4214dfbf-e13d-4009-8c9e-8175feee1d23"
      },
      "outputs": [
        {
          "data": {
            "text/html": [
              "<div>\n",
              "<style scoped>\n",
              "    .dataframe tbody tr th:only-of-type {\n",
              "        vertical-align: middle;\n",
              "    }\n",
              "\n",
              "    .dataframe tbody tr th {\n",
              "        vertical-align: top;\n",
              "    }\n",
              "\n",
              "    .dataframe thead th {\n",
              "        text-align: right;\n",
              "    }\n",
              "</style>\n",
              "<table border=\"1\" class=\"dataframe\">\n",
              "  <thead>\n",
              "    <tr style=\"text-align: right;\">\n",
              "      <th></th>\n",
              "      <th>name</th>\n",
              "      <th>location</th>\n",
              "      <th>Rating</th>\n",
              "      <th>Review</th>\n",
              "      <th>date</th>\n",
              "      <th>year</th>\n",
              "      <th>month</th>\n",
              "      <th>weekday</th>\n",
              "    </tr>\n",
              "  </thead>\n",
              "  <tbody>\n",
              "    <tr>\n",
              "      <th>0</th>\n",
              "      <td>Helen</td>\n",
              "      <td>Wichita Falls, TX</td>\n",
              "      <td>5.0</td>\n",
              "      <td>Amber and LaDonna at the Starbucks on Southwes...</td>\n",
              "      <td>2023-09-13</td>\n",
              "      <td>2023</td>\n",
              "      <td>9</td>\n",
              "      <td>2</td>\n",
              "    </tr>\n",
              "    <tr>\n",
              "      <th>1</th>\n",
              "      <td>Courtney</td>\n",
              "      <td>Apopka, FL</td>\n",
              "      <td>5.0</td>\n",
              "      <td>** at the Starbucks by the fire station on 436...</td>\n",
              "      <td>2023-07-16</td>\n",
              "      <td>2023</td>\n",
              "      <td>7</td>\n",
              "      <td>6</td>\n",
              "    </tr>\n",
              "    <tr>\n",
              "      <th>2</th>\n",
              "      <td>Daynelle</td>\n",
              "      <td>Cranberry Twp, PA</td>\n",
              "      <td>5.0</td>\n",
              "      <td>I just wanted to go out of my way to recognize...</td>\n",
              "      <td>2023-07-05</td>\n",
              "      <td>2023</td>\n",
              "      <td>7</td>\n",
              "      <td>2</td>\n",
              "    </tr>\n",
              "    <tr>\n",
              "      <th>3</th>\n",
              "      <td>Taylor</td>\n",
              "      <td>Seattle, WA</td>\n",
              "      <td>5.0</td>\n",
              "      <td>Me and my friend were at Starbucks and my card...</td>\n",
              "      <td>2023-05-26</td>\n",
              "      <td>2023</td>\n",
              "      <td>5</td>\n",
              "      <td>4</td>\n",
              "    </tr>\n",
              "    <tr>\n",
              "      <th>4</th>\n",
              "      <td>Tenessa</td>\n",
              "      <td>Gresham, OR</td>\n",
              "      <td>5.0</td>\n",
              "      <td>I’m on this kick of drinking 5 cups of warm wa...</td>\n",
              "      <td>2023-01-22</td>\n",
              "      <td>2023</td>\n",
              "      <td>1</td>\n",
              "      <td>6</td>\n",
              "    </tr>\n",
              "  </tbody>\n",
              "</table>\n",
              "</div>"
            ],
            "text/plain": [
              "       name           location  Rating  \\\n",
              "0     Helen  Wichita Falls, TX     5.0   \n",
              "1  Courtney         Apopka, FL     5.0   \n",
              "2  Daynelle  Cranberry Twp, PA     5.0   \n",
              "3    Taylor        Seattle, WA     5.0   \n",
              "4   Tenessa        Gresham, OR     5.0   \n",
              "\n",
              "                                              Review       date  year  month  \\\n",
              "0  Amber and LaDonna at the Starbucks on Southwes... 2023-09-13  2023      9   \n",
              "1  ** at the Starbucks by the fire station on 436... 2023-07-16  2023      7   \n",
              "2  I just wanted to go out of my way to recognize... 2023-07-05  2023      7   \n",
              "3  Me and my friend were at Starbucks and my card... 2023-05-26  2023      5   \n",
              "4  I’m on this kick of drinking 5 cups of warm wa... 2023-01-22  2023      1   \n",
              "\n",
              "   weekday  \n",
              "0        2  \n",
              "1        6  \n",
              "2        2  \n",
              "3        4  \n",
              "4        6  "
            ]
          },
          "execution_count": 14,
          "metadata": {},
          "output_type": "execute_result"
        }
      ],
      "source": [
        "# df['year'] = df['date'].dt.year\n",
        "# df['month'] = df['date'].dt.month\n",
        "# df['weekday'] = df['date'].dt.dayofweek\n",
        "# df.head()\n",
        "\n",
        "df[\"year\"], df[\"month\"], df[\"weekday\"] = df[\"date\"].dt.year, df[\"date\"].dt.month, df[\"date\"].dt.weekday\n",
        "\n",
        "df.head()"
      ]
    },
    {
      "cell_type": "markdown",
      "metadata": {
        "id": "19TkFBtONAuX"
      },
      "source": [
        "6. Convert the \"Review\" column into lowercase"
      ]
    },
    {
      "cell_type": "code",
      "execution_count": 15,
      "metadata": {
        "colab": {
          "base_uri": "https://localhost:8080/",
          "height": 206
        },
        "executionInfo": {
          "elapsed": 93,
          "status": "ok",
          "timestamp": 1699032934880,
          "user": {
            "displayName": "Aurélie Mutschler",
            "userId": "09486760454547044843"
          },
          "user_tz": -60
        },
        "id": "i62p6XZQJpJJ",
        "outputId": "4e63dbbc-08f3-4177-aee1-635b62daa975"
      },
      "outputs": [
        {
          "data": {
            "text/html": [
              "<div>\n",
              "<style scoped>\n",
              "    .dataframe tbody tr th:only-of-type {\n",
              "        vertical-align: middle;\n",
              "    }\n",
              "\n",
              "    .dataframe tbody tr th {\n",
              "        vertical-align: top;\n",
              "    }\n",
              "\n",
              "    .dataframe thead th {\n",
              "        text-align: right;\n",
              "    }\n",
              "</style>\n",
              "<table border=\"1\" class=\"dataframe\">\n",
              "  <thead>\n",
              "    <tr style=\"text-align: right;\">\n",
              "      <th></th>\n",
              "      <th>name</th>\n",
              "      <th>location</th>\n",
              "      <th>Rating</th>\n",
              "      <th>Review</th>\n",
              "      <th>date</th>\n",
              "      <th>year</th>\n",
              "      <th>month</th>\n",
              "      <th>weekday</th>\n",
              "    </tr>\n",
              "  </thead>\n",
              "  <tbody>\n",
              "    <tr>\n",
              "      <th>0</th>\n",
              "      <td>Helen</td>\n",
              "      <td>Wichita Falls, TX</td>\n",
              "      <td>5.0</td>\n",
              "      <td>amber and ladonna at the starbucks on southwes...</td>\n",
              "      <td>2023-09-13</td>\n",
              "      <td>2023</td>\n",
              "      <td>9</td>\n",
              "      <td>2</td>\n",
              "    </tr>\n",
              "    <tr>\n",
              "      <th>1</th>\n",
              "      <td>Courtney</td>\n",
              "      <td>Apopka, FL</td>\n",
              "      <td>5.0</td>\n",
              "      <td>** at the starbucks by the fire station on 436...</td>\n",
              "      <td>2023-07-16</td>\n",
              "      <td>2023</td>\n",
              "      <td>7</td>\n",
              "      <td>6</td>\n",
              "    </tr>\n",
              "    <tr>\n",
              "      <th>2</th>\n",
              "      <td>Daynelle</td>\n",
              "      <td>Cranberry Twp, PA</td>\n",
              "      <td>5.0</td>\n",
              "      <td>i just wanted to go out of my way to recognize...</td>\n",
              "      <td>2023-07-05</td>\n",
              "      <td>2023</td>\n",
              "      <td>7</td>\n",
              "      <td>2</td>\n",
              "    </tr>\n",
              "    <tr>\n",
              "      <th>3</th>\n",
              "      <td>Taylor</td>\n",
              "      <td>Seattle, WA</td>\n",
              "      <td>5.0</td>\n",
              "      <td>me and my friend were at starbucks and my card...</td>\n",
              "      <td>2023-05-26</td>\n",
              "      <td>2023</td>\n",
              "      <td>5</td>\n",
              "      <td>4</td>\n",
              "    </tr>\n",
              "    <tr>\n",
              "      <th>4</th>\n",
              "      <td>Tenessa</td>\n",
              "      <td>Gresham, OR</td>\n",
              "      <td>5.0</td>\n",
              "      <td>i’m on this kick of drinking 5 cups of warm wa...</td>\n",
              "      <td>2023-01-22</td>\n",
              "      <td>2023</td>\n",
              "      <td>1</td>\n",
              "      <td>6</td>\n",
              "    </tr>\n",
              "  </tbody>\n",
              "</table>\n",
              "</div>"
            ],
            "text/plain": [
              "       name           location  Rating  \\\n",
              "0     Helen  Wichita Falls, TX     5.0   \n",
              "1  Courtney         Apopka, FL     5.0   \n",
              "2  Daynelle  Cranberry Twp, PA     5.0   \n",
              "3    Taylor        Seattle, WA     5.0   \n",
              "4   Tenessa        Gresham, OR     5.0   \n",
              "\n",
              "                                              Review       date  year  month  \\\n",
              "0  amber and ladonna at the starbucks on southwes... 2023-09-13  2023      9   \n",
              "1  ** at the starbucks by the fire station on 436... 2023-07-16  2023      7   \n",
              "2  i just wanted to go out of my way to recognize... 2023-07-05  2023      7   \n",
              "3  me and my friend were at starbucks and my card... 2023-05-26  2023      5   \n",
              "4  i’m on this kick of drinking 5 cups of warm wa... 2023-01-22  2023      1   \n",
              "\n",
              "   weekday  \n",
              "0        2  \n",
              "1        6  \n",
              "2        2  \n",
              "3        4  \n",
              "4        6  "
            ]
          },
          "execution_count": 15,
          "metadata": {},
          "output_type": "execute_result"
        }
      ],
      "source": [
        "df[\"Review\"] = df[\"Review\"].str.lower()\n",
        "\n",
        "df.head()"
      ]
    },
    {
      "cell_type": "markdown",
      "metadata": {
        "id": "j5FsZqEDNInB"
      },
      "source": [
        "7. Extract features from the \"Review\" column:\n",
        "* Count the occurrences of the word \"starbucks\"\n",
        "* Count the total number of words in each review"
      ]
    },
    {
      "cell_type": "code",
      "execution_count": 18,
      "metadata": {
        "colab": {
          "base_uri": "https://localhost:8080/",
          "height": 293
        },
        "executionInfo": {
          "elapsed": 91,
          "status": "ok",
          "timestamp": 1699032934880,
          "user": {
            "displayName": "Aurélie Mutschler",
            "userId": "09486760454547044843"
          },
          "user_tz": -60
        },
        "id": "GQdVqEHnJ9rL",
        "outputId": "b27bcc26-2aad-4662-9cd8-05023404e404"
      },
      "outputs": [
        {
          "data": {
            "text/html": [
              "<div>\n",
              "<style scoped>\n",
              "    .dataframe tbody tr th:only-of-type {\n",
              "        vertical-align: middle;\n",
              "    }\n",
              "\n",
              "    .dataframe tbody tr th {\n",
              "        vertical-align: top;\n",
              "    }\n",
              "\n",
              "    .dataframe thead th {\n",
              "        text-align: right;\n",
              "    }\n",
              "</style>\n",
              "<table border=\"1\" class=\"dataframe\">\n",
              "  <thead>\n",
              "    <tr style=\"text-align: right;\">\n",
              "      <th></th>\n",
              "      <th>name</th>\n",
              "      <th>location</th>\n",
              "      <th>Rating</th>\n",
              "      <th>Review</th>\n",
              "      <th>date</th>\n",
              "      <th>year</th>\n",
              "      <th>month</th>\n",
              "      <th>weekday</th>\n",
              "      <th>count_starbucks</th>\n",
              "      <th>wordcount</th>\n",
              "    </tr>\n",
              "  </thead>\n",
              "  <tbody>\n",
              "    <tr>\n",
              "      <th>0</th>\n",
              "      <td>Helen</td>\n",
              "      <td>Wichita Falls, TX</td>\n",
              "      <td>5.0</td>\n",
              "      <td>amber and ladonna at the starbucks on southwes...</td>\n",
              "      <td>2023-09-13</td>\n",
              "      <td>2023</td>\n",
              "      <td>9</td>\n",
              "      <td>2</td>\n",
              "      <td>1</td>\n",
              "      <td>60</td>\n",
              "    </tr>\n",
              "    <tr>\n",
              "      <th>1</th>\n",
              "      <td>Courtney</td>\n",
              "      <td>Apopka, FL</td>\n",
              "      <td>5.0</td>\n",
              "      <td>** at the starbucks by the fire station on 436...</td>\n",
              "      <td>2023-07-16</td>\n",
              "      <td>2023</td>\n",
              "      <td>7</td>\n",
              "      <td>6</td>\n",
              "      <td>2</td>\n",
              "      <td>105</td>\n",
              "    </tr>\n",
              "    <tr>\n",
              "      <th>2</th>\n",
              "      <td>Daynelle</td>\n",
              "      <td>Cranberry Twp, PA</td>\n",
              "      <td>5.0</td>\n",
              "      <td>i just wanted to go out of my way to recognize...</td>\n",
              "      <td>2023-07-05</td>\n",
              "      <td>2023</td>\n",
              "      <td>7</td>\n",
              "      <td>2</td>\n",
              "      <td>1</td>\n",
              "      <td>72</td>\n",
              "    </tr>\n",
              "    <tr>\n",
              "      <th>3</th>\n",
              "      <td>Taylor</td>\n",
              "      <td>Seattle, WA</td>\n",
              "      <td>5.0</td>\n",
              "      <td>me and my friend were at starbucks and my card...</td>\n",
              "      <td>2023-05-26</td>\n",
              "      <td>2023</td>\n",
              "      <td>5</td>\n",
              "      <td>4</td>\n",
              "      <td>1</td>\n",
              "      <td>86</td>\n",
              "    </tr>\n",
              "    <tr>\n",
              "      <th>4</th>\n",
              "      <td>Tenessa</td>\n",
              "      <td>Gresham, OR</td>\n",
              "      <td>5.0</td>\n",
              "      <td>i’m on this kick of drinking 5 cups of warm wa...</td>\n",
              "      <td>2023-01-22</td>\n",
              "      <td>2023</td>\n",
              "      <td>1</td>\n",
              "      <td>6</td>\n",
              "      <td>3</td>\n",
              "      <td>74</td>\n",
              "    </tr>\n",
              "  </tbody>\n",
              "</table>\n",
              "</div>"
            ],
            "text/plain": [
              "       name           location  Rating  \\\n",
              "0     Helen  Wichita Falls, TX     5.0   \n",
              "1  Courtney         Apopka, FL     5.0   \n",
              "2  Daynelle  Cranberry Twp, PA     5.0   \n",
              "3    Taylor        Seattle, WA     5.0   \n",
              "4   Tenessa        Gresham, OR     5.0   \n",
              "\n",
              "                                              Review       date  year  month  \\\n",
              "0  amber and ladonna at the starbucks on southwes... 2023-09-13  2023      9   \n",
              "1  ** at the starbucks by the fire station on 436... 2023-07-16  2023      7   \n",
              "2  i just wanted to go out of my way to recognize... 2023-07-05  2023      7   \n",
              "3  me and my friend were at starbucks and my card... 2023-05-26  2023      5   \n",
              "4  i’m on this kick of drinking 5 cups of warm wa... 2023-01-22  2023      1   \n",
              "\n",
              "   weekday  count_starbucks  wordcount  \n",
              "0        2                1         60  \n",
              "1        6                2        105  \n",
              "2        2                1         72  \n",
              "3        4                1         86  \n",
              "4        6                3         74  "
            ]
          },
          "execution_count": 18,
          "metadata": {},
          "output_type": "execute_result"
        }
      ],
      "source": [
        "df[\"count_starbucks\"], df[\"wordcount\"] = df[\"Review\"].str.count(\"starbucks\"), df[\"Review\"].str.split(\" \").apply(lambda x : len(x))\n",
        "\n",
        "df.head()"
      ]
    },
    {
      "cell_type": "markdown",
      "metadata": {
        "id": "005yrBJhNczd"
      },
      "source": [
        "8. Use pandas' `.describe()` method to get some basic statistics about the dataset and answer the questions below:\n",
        "* Are the reviews rather good or bad?\n",
        "* Are the reviews recent or old?\n",
        "* Are the reviews rather long or short?\n",
        "* Do people mention a lot the word \"starbuck\" ?"
      ]
    },
    {
      "cell_type": "code",
      "execution_count": 22,
      "metadata": {
        "colab": {
          "base_uri": "https://localhost:8080/",
          "height": 563
        },
        "executionInfo": {
          "elapsed": 89,
          "status": "ok",
          "timestamp": 1699032934880,
          "user": {
            "displayName": "Aurélie Mutschler",
            "userId": "09486760454547044843"
          },
          "user_tz": -60
        },
        "id": "phmGSQURLAGZ",
        "outputId": "00f88e6d-15e5-49d1-b947-4a083dd95cbc"
      },
      "outputs": [
        {
          "data": {
            "text/html": [
              "<div>\n",
              "<style scoped>\n",
              "    .dataframe tbody tr th:only-of-type {\n",
              "        vertical-align: middle;\n",
              "    }\n",
              "\n",
              "    .dataframe tbody tr th {\n",
              "        vertical-align: top;\n",
              "    }\n",
              "\n",
              "    .dataframe thead th {\n",
              "        text-align: right;\n",
              "    }\n",
              "</style>\n",
              "<table border=\"1\" class=\"dataframe\">\n",
              "  <thead>\n",
              "    <tr style=\"text-align: right;\">\n",
              "      <th></th>\n",
              "      <th>name</th>\n",
              "      <th>location</th>\n",
              "      <th>Rating</th>\n",
              "      <th>Review</th>\n",
              "      <th>date</th>\n",
              "      <th>year</th>\n",
              "      <th>month</th>\n",
              "      <th>weekday</th>\n",
              "      <th>count_starbucks</th>\n",
              "      <th>wordcount</th>\n",
              "    </tr>\n",
              "  </thead>\n",
              "  <tbody>\n",
              "    <tr>\n",
              "      <th>count</th>\n",
              "      <td>850</td>\n",
              "      <td>850</td>\n",
              "      <td>705.000000</td>\n",
              "      <td>850</td>\n",
              "      <td>850</td>\n",
              "      <td>850.000000</td>\n",
              "      <td>850.000000</td>\n",
              "      <td>850.000000</td>\n",
              "      <td>850.000000</td>\n",
              "      <td>850.000000</td>\n",
              "    </tr>\n",
              "    <tr>\n",
              "      <th>unique</th>\n",
              "      <td>604</td>\n",
              "      <td>633</td>\n",
              "      <td>NaN</td>\n",
              "      <td>814</td>\n",
              "      <td>NaN</td>\n",
              "      <td>NaN</td>\n",
              "      <td>NaN</td>\n",
              "      <td>NaN</td>\n",
              "      <td>NaN</td>\n",
              "      <td>NaN</td>\n",
              "    </tr>\n",
              "    <tr>\n",
              "      <th>top</th>\n",
              "      <td>Linda</td>\n",
              "      <td>New York, NY</td>\n",
              "      <td>NaN</td>\n",
              "      <td>no review text</td>\n",
              "      <td>NaN</td>\n",
              "      <td>NaN</td>\n",
              "      <td>NaN</td>\n",
              "      <td>NaN</td>\n",
              "      <td>NaN</td>\n",
              "      <td>NaN</td>\n",
              "    </tr>\n",
              "    <tr>\n",
              "      <th>freq</th>\n",
              "      <td>13</td>\n",
              "      <td>14</td>\n",
              "      <td>NaN</td>\n",
              "      <td>37</td>\n",
              "      <td>NaN</td>\n",
              "      <td>NaN</td>\n",
              "      <td>NaN</td>\n",
              "      <td>NaN</td>\n",
              "      <td>NaN</td>\n",
              "      <td>NaN</td>\n",
              "    </tr>\n",
              "    <tr>\n",
              "      <th>mean</th>\n",
              "      <td>NaN</td>\n",
              "      <td>NaN</td>\n",
              "      <td>1.870922</td>\n",
              "      <td>NaN</td>\n",
              "      <td>2016-02-17 12:38:57.882352896</td>\n",
              "      <td>2015.600000</td>\n",
              "      <td>6.897647</td>\n",
              "      <td>2.955294</td>\n",
              "      <td>1.241176</td>\n",
              "      <td>88.525882</td>\n",
              "    </tr>\n",
              "    <tr>\n",
              "      <th>min</th>\n",
              "      <td>NaN</td>\n",
              "      <td>NaN</td>\n",
              "      <td>1.000000</td>\n",
              "      <td>NaN</td>\n",
              "      <td>2000-07-19 00:00:00</td>\n",
              "      <td>2000.000000</td>\n",
              "      <td>1.000000</td>\n",
              "      <td>0.000000</td>\n",
              "      <td>0.000000</td>\n",
              "      <td>3.000000</td>\n",
              "    </tr>\n",
              "    <tr>\n",
              "      <th>25%</th>\n",
              "      <td>NaN</td>\n",
              "      <td>NaN</td>\n",
              "      <td>1.000000</td>\n",
              "      <td>NaN</td>\n",
              "      <td>2012-09-26 18:00:00</td>\n",
              "      <td>2012.000000</td>\n",
              "      <td>4.000000</td>\n",
              "      <td>1.000000</td>\n",
              "      <td>0.000000</td>\n",
              "      <td>50.000000</td>\n",
              "    </tr>\n",
              "    <tr>\n",
              "      <th>50%</th>\n",
              "      <td>NaN</td>\n",
              "      <td>NaN</td>\n",
              "      <td>1.000000</td>\n",
              "      <td>NaN</td>\n",
              "      <td>2016-05-31 00:00:00</td>\n",
              "      <td>2016.000000</td>\n",
              "      <td>7.000000</td>\n",
              "      <td>3.000000</td>\n",
              "      <td>1.000000</td>\n",
              "      <td>86.000000</td>\n",
              "    </tr>\n",
              "    <tr>\n",
              "      <th>75%</th>\n",
              "      <td>NaN</td>\n",
              "      <td>NaN</td>\n",
              "      <td>2.000000</td>\n",
              "      <td>NaN</td>\n",
              "      <td>2019-01-06 06:00:00</td>\n",
              "      <td>2019.000000</td>\n",
              "      <td>10.000000</td>\n",
              "      <td>5.000000</td>\n",
              "      <td>2.000000</td>\n",
              "      <td>123.000000</td>\n",
              "    </tr>\n",
              "    <tr>\n",
              "      <th>max</th>\n",
              "      <td>NaN</td>\n",
              "      <td>NaN</td>\n",
              "      <td>5.000000</td>\n",
              "      <td>NaN</td>\n",
              "      <td>2023-09-14 00:00:00</td>\n",
              "      <td>2023.000000</td>\n",
              "      <td>12.000000</td>\n",
              "      <td>6.000000</td>\n",
              "      <td>9.000000</td>\n",
              "      <td>226.000000</td>\n",
              "    </tr>\n",
              "    <tr>\n",
              "      <th>std</th>\n",
              "      <td>NaN</td>\n",
              "      <td>NaN</td>\n",
              "      <td>1.397672</td>\n",
              "      <td>NaN</td>\n",
              "      <td>NaN</td>\n",
              "      <td>4.258436</td>\n",
              "      <td>3.400633</td>\n",
              "      <td>1.961437</td>\n",
              "      <td>1.248584</td>\n",
              "      <td>46.477447</td>\n",
              "    </tr>\n",
              "  </tbody>\n",
              "</table>\n",
              "</div>"
            ],
            "text/plain": [
              "         name      location      Rating          Review  \\\n",
              "count     850           850  705.000000             850   \n",
              "unique    604           633         NaN             814   \n",
              "top     Linda  New York, NY         NaN  no review text   \n",
              "freq       13            14         NaN              37   \n",
              "mean      NaN           NaN    1.870922             NaN   \n",
              "min       NaN           NaN    1.000000             NaN   \n",
              "25%       NaN           NaN    1.000000             NaN   \n",
              "50%       NaN           NaN    1.000000             NaN   \n",
              "75%       NaN           NaN    2.000000             NaN   \n",
              "max       NaN           NaN    5.000000             NaN   \n",
              "std       NaN           NaN    1.397672             NaN   \n",
              "\n",
              "                                 date         year       month     weekday  \\\n",
              "count                             850   850.000000  850.000000  850.000000   \n",
              "unique                            NaN          NaN         NaN         NaN   \n",
              "top                               NaN          NaN         NaN         NaN   \n",
              "freq                              NaN          NaN         NaN         NaN   \n",
              "mean    2016-02-17 12:38:57.882352896  2015.600000    6.897647    2.955294   \n",
              "min               2000-07-19 00:00:00  2000.000000    1.000000    0.000000   \n",
              "25%               2012-09-26 18:00:00  2012.000000    4.000000    1.000000   \n",
              "50%               2016-05-31 00:00:00  2016.000000    7.000000    3.000000   \n",
              "75%               2019-01-06 06:00:00  2019.000000   10.000000    5.000000   \n",
              "max               2023-09-14 00:00:00  2023.000000   12.000000    6.000000   \n",
              "std                               NaN     4.258436    3.400633    1.961437   \n",
              "\n",
              "        count_starbucks   wordcount  \n",
              "count        850.000000  850.000000  \n",
              "unique              NaN         NaN  \n",
              "top                 NaN         NaN  \n",
              "freq                NaN         NaN  \n",
              "mean           1.241176   88.525882  \n",
              "min            0.000000    3.000000  \n",
              "25%            0.000000   50.000000  \n",
              "50%            1.000000   86.000000  \n",
              "75%            2.000000  123.000000  \n",
              "max            9.000000  226.000000  \n",
              "std            1.248584   46.477447  "
            ]
          },
          "execution_count": 22,
          "metadata": {},
          "output_type": "execute_result"
        }
      ],
      "source": [
        "df.describe(include=\"all\")"
      ]
    },
    {
      "cell_type": "markdown",
      "metadata": {},
      "source": [
        "1. The reviews are bad, 1.87 mean, std 1.4\n",
        "2. Vieilles, la moyenne est de 2015, ecart type 4.25\n",
        "3. Longues, 88 de moyenne, ecart type de 46\n",
        "4. Starbucks est mentionné 1.24 par avis, ce qui est bien.\n",
        "\n",
        "\n",
        "The reviews are quite bad in general, as 75% of the people give a rating below 2 out of 5 !\n",
        "The reviews were written between 2000 and 2023. Most of the reviews are less than 10 years old, as the median value of year is 2016.\n",
        "The reviews are quite short in general, as the maximal word count is 226.\n",
        "The first quartile of \"count_starbucks\" is 0, which means at least 25% of the people don't use the word \"starbucks\" at all. Then, people citing \"starbucks\" use it 1 or 2 times in general.\n"
      ]
    },
    {
      "cell_type": "markdown",
      "metadata": {},
      "source": []
    }
  ],
  "metadata": {
    "colab": {
      "authorship_tag": "ABX9TyMZ4KFb7dR08qSOarWEwmRD",
      "provenance": []
    },
    "kernelspec": {
      "display_name": "base",
      "language": "python",
      "name": "python3"
    },
    "language_info": {
      "codemirror_mode": {
        "name": "ipython",
        "version": 3
      },
      "file_extension": ".py",
      "mimetype": "text/x-python",
      "name": "python",
      "nbconvert_exporter": "python",
      "pygments_lexer": "ipython3",
      "version": "3.12.7"
    }
  },
  "nbformat": 4,
  "nbformat_minor": 0
}
