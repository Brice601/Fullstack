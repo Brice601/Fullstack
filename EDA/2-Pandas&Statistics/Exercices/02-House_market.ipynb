{
 "cells": [
  {
   "cell_type": "markdown",
   "metadata": {
    "id": "UYxrKKxlJTuQ"
   },
   "source": [
    "# House Market"
   ]
  },
  {
   "cell_type": "markdown",
   "metadata": {
    "id": "fKVD83V8JZG_"
   },
   "source": [
    "Let's go a little further into python."
   ]
  },
  {
   "cell_type": "markdown",
   "metadata": {
    "id": "XXXPg4_hJcbL"
   },
   "source": [
    "1. Download the four files “superficie.csv” / “nombre_de_sdb.csv” / “nombre_de_chambres.csv” / \"house_price.csv\"\n",
    "\n",
    "2. Read the files and create the 4 corresponding Dataframes\n"
   ]
  },
  {
   "cell_type": "code",
   "execution_count": 1,
   "metadata": {
    "id": "GSJxK0pAbEAT"
   },
   "outputs": [],
   "source": [
    "import pandas as pd"
   ]
  },
  {
   "cell_type": "code",
   "execution_count": null,
   "metadata": {
    "id": "KiNPEcoKI65z"
   },
   "outputs": [
    {
     "name": "stdout",
     "output_type": "stream",
     "text": [
      "Surface :\n",
      "   0      1\n",
      "0  0  28844\n",
      "1  1  27667\n",
      "2  2  14742\n",
      "3  3  28089\n"
     ]
    }
   ],
   "source": [
    "# surface = pd.read_csv('house_market/superficie.csv', header = None)\n",
    "# bathrooms = pd.read_csv('house_market/nombre_de_sdb.csv', header = None)\n",
    "# rooms = pd.read_csv('house_market/nombre_de_chambres.csv', header = None)\n",
    "# house_price = pd.read_csv('house_market/house_price.csv', index_col=0)\n",
    "\n",
    "surface = pd.read_csv(\"house_market/house_market/superficie.csv\",names=[0, 1])\n",
    "\n",
    "print(\"Surface :\")\n",
    "print(surface.head(4))"
   ]
  },
  {
   "cell_type": "code",
   "execution_count": 25,
   "metadata": {
    "colab": {
     "base_uri": "https://localhost:8080/",
     "height": 894
    },
    "executionInfo": {
     "elapsed": 574,
     "status": "ok",
     "timestamp": 1699028712715,
     "user": {
      "displayName": "Aurélie Mutschler",
      "userId": "09486760454547044843"
     },
     "user_tz": -60
    },
    "id": "HfnlUU5Y_sch",
    "outputId": "ddf8cdaa-00d0-4eeb-9529-07fbaf02154b"
   },
   "outputs": [
    {
     "name": "stdout",
     "output_type": "stream",
     "text": [
      "Bathrooms :\n",
      "   0  1\n",
      "0  0  2\n",
      "1  1  1\n",
      "2  2  1\n",
      "3  3  3\n"
     ]
    }
   ],
   "source": [
    "bathrooms = pd.read_csv(\"house_market/house_market/nombre_de_sdb.csv\", names=[0, 1])\n",
    "\n",
    "print(\"Bathrooms :\")\n",
    "print(bathrooms.head(4))"
   ]
  },
  {
   "cell_type": "code",
   "execution_count": 26,
   "metadata": {},
   "outputs": [
    {
     "name": "stdout",
     "output_type": "stream",
     "text": [
      "Rooms :\n",
      "   0  1\n",
      "0  0  1\n",
      "1  1  4\n",
      "2  2  1\n",
      "3  3  4\n"
     ]
    }
   ],
   "source": [
    "rooms = pd.read_csv(\"house_market/house_market/nombre_de_chambres.csv\", names=[0, 1])\n",
    "\n",
    "print(\"Rooms :\")\n",
    "print(rooms.head(4))"
   ]
  },
  {
   "cell_type": "code",
   "execution_count": 29,
   "metadata": {},
   "outputs": [
    {
     "name": "stdout",
     "output_type": "stream",
     "text": [
      "House prices :\n",
      "   id  house_price\n",
      "0  14    1918154.0\n",
      "1  30     739142.0\n",
      "2  70    1621938.0\n",
      "3  77    1319862.0\n"
     ]
    }
   ],
   "source": [
    "house_price = pd.read_csv(\"house_market/house_market/house_price.csv\", index_col=0)\n",
    "\n",
    "print(\"House prices :\")\n",
    "print(house_price.head(4))"
   ]
  },
  {
   "cell_type": "markdown",
   "metadata": {
    "id": "9gg1hs__JiFk"
   },
   "source": [
    "3. Give a column name to the three datasets that don't have a header in the source file"
   ]
  },
  {
   "cell_type": "code",
   "execution_count": null,
   "metadata": {
    "id": "tWjmz2QMbEAW",
    "scrolled": true
   },
   "outputs": [
    {
     "data": {
      "text/html": [
       "<div>\n",
       "<style scoped>\n",
       "    .dataframe tbody tr th:only-of-type {\n",
       "        vertical-align: middle;\n",
       "    }\n",
       "\n",
       "    .dataframe tbody tr th {\n",
       "        vertical-align: top;\n",
       "    }\n",
       "\n",
       "    .dataframe thead th {\n",
       "        text-align: right;\n",
       "    }\n",
       "</style>\n",
       "<table border=\"1\" class=\"dataframe\">\n",
       "  <thead>\n",
       "    <tr style=\"text-align: right;\">\n",
       "      <th></th>\n",
       "      <th>id</th>\n",
       "      <th>rooms</th>\n",
       "    </tr>\n",
       "  </thead>\n",
       "  <tbody>\n",
       "    <tr>\n",
       "      <th>0</th>\n",
       "      <td>0</td>\n",
       "      <td>1</td>\n",
       "    </tr>\n",
       "    <tr>\n",
       "      <th>1</th>\n",
       "      <td>1</td>\n",
       "      <td>4</td>\n",
       "    </tr>\n",
       "    <tr>\n",
       "      <th>2</th>\n",
       "      <td>2</td>\n",
       "      <td>1</td>\n",
       "    </tr>\n",
       "    <tr>\n",
       "      <th>3</th>\n",
       "      <td>3</td>\n",
       "      <td>4</td>\n",
       "    </tr>\n",
       "    <tr>\n",
       "      <th>4</th>\n",
       "      <td>4</td>\n",
       "      <td>2</td>\n",
       "    </tr>\n",
       "  </tbody>\n",
       "</table>\n",
       "</div>"
      ],
      "text/plain": [
       "   id  rooms\n",
       "0   0      1\n",
       "1   1      4\n",
       "2   2      1\n",
       "3   3      4\n",
       "4   4      2"
      ]
     },
     "execution_count": 35,
     "metadata": {},
     "output_type": "execute_result"
    }
   ],
   "source": [
    "# surface.columns = ['id', 'surface']\n",
    "# bathrooms.columns = ['id','bathrooms']\n",
    "# rooms.columns = ['id', 'rooms']\n",
    "\n",
    "rooms = rooms.rename(columns={0: \"id\", 1: \"rooms\"})\n",
    "rooms.head(5)"
   ]
  },
  {
   "cell_type": "code",
   "execution_count": 36,
   "metadata": {
    "colab": {
     "base_uri": "https://localhost:8080/",
     "height": 894
    },
    "executionInfo": {
     "elapsed": 136,
     "status": "ok",
     "timestamp": 1699028712716,
     "user": {
      "displayName": "Aurélie Mutschler",
      "userId": "09486760454547044843"
     },
     "user_tz": -60
    },
    "id": "by9wP1g_I653",
    "outputId": "d42d7238-6739-459f-aba2-a8728853c66c"
   },
   "outputs": [
    {
     "data": {
      "text/html": [
       "<div>\n",
       "<style scoped>\n",
       "    .dataframe tbody tr th:only-of-type {\n",
       "        vertical-align: middle;\n",
       "    }\n",
       "\n",
       "    .dataframe tbody tr th {\n",
       "        vertical-align: top;\n",
       "    }\n",
       "\n",
       "    .dataframe thead th {\n",
       "        text-align: right;\n",
       "    }\n",
       "</style>\n",
       "<table border=\"1\" class=\"dataframe\">\n",
       "  <thead>\n",
       "    <tr style=\"text-align: right;\">\n",
       "      <th></th>\n",
       "      <th>id</th>\n",
       "      <th>surface</th>\n",
       "    </tr>\n",
       "  </thead>\n",
       "  <tbody>\n",
       "    <tr>\n",
       "      <th>0</th>\n",
       "      <td>0</td>\n",
       "      <td>28844</td>\n",
       "    </tr>\n",
       "    <tr>\n",
       "      <th>1</th>\n",
       "      <td>1</td>\n",
       "      <td>27667</td>\n",
       "    </tr>\n",
       "    <tr>\n",
       "      <th>2</th>\n",
       "      <td>2</td>\n",
       "      <td>14742</td>\n",
       "    </tr>\n",
       "    <tr>\n",
       "      <th>3</th>\n",
       "      <td>3</td>\n",
       "      <td>28089</td>\n",
       "    </tr>\n",
       "    <tr>\n",
       "      <th>4</th>\n",
       "      <td>4</td>\n",
       "      <td>11713</td>\n",
       "    </tr>\n",
       "  </tbody>\n",
       "</table>\n",
       "</div>"
      ],
      "text/plain": [
       "   id  surface\n",
       "0   0    28844\n",
       "1   1    27667\n",
       "2   2    14742\n",
       "3   3    28089\n",
       "4   4    11713"
      ]
     },
     "execution_count": 36,
     "metadata": {},
     "output_type": "execute_result"
    }
   ],
   "source": [
    "surface = surface.rename(columns={0: \"id\", 1: \"surface\"})\n",
    "\n",
    "surface.head(5)"
   ]
  },
  {
   "cell_type": "code",
   "execution_count": 37,
   "metadata": {
    "colab": {
     "base_uri": "https://localhost:8080/",
     "height": 206
    },
    "executionInfo": {
     "elapsed": 132,
     "status": "ok",
     "timestamp": 1699028712717,
     "user": {
      "displayName": "Aurélie Mutschler",
      "userId": "09486760454547044843"
     },
     "user_tz": -60
    },
    "id": "mx3CLlDjbEAb",
    "outputId": "ad55ec26-5d9c-42c5-a1b3-7e68937836ab"
   },
   "outputs": [
    {
     "data": {
      "text/html": [
       "<div>\n",
       "<style scoped>\n",
       "    .dataframe tbody tr th:only-of-type {\n",
       "        vertical-align: middle;\n",
       "    }\n",
       "\n",
       "    .dataframe tbody tr th {\n",
       "        vertical-align: top;\n",
       "    }\n",
       "\n",
       "    .dataframe thead th {\n",
       "        text-align: right;\n",
       "    }\n",
       "</style>\n",
       "<table border=\"1\" class=\"dataframe\">\n",
       "  <thead>\n",
       "    <tr style=\"text-align: right;\">\n",
       "      <th></th>\n",
       "      <th>id</th>\n",
       "      <th>bathrooms</th>\n",
       "    </tr>\n",
       "  </thead>\n",
       "  <tbody>\n",
       "    <tr>\n",
       "      <th>0</th>\n",
       "      <td>0</td>\n",
       "      <td>2</td>\n",
       "    </tr>\n",
       "    <tr>\n",
       "      <th>1</th>\n",
       "      <td>1</td>\n",
       "      <td>1</td>\n",
       "    </tr>\n",
       "    <tr>\n",
       "      <th>2</th>\n",
       "      <td>2</td>\n",
       "      <td>1</td>\n",
       "    </tr>\n",
       "    <tr>\n",
       "      <th>3</th>\n",
       "      <td>3</td>\n",
       "      <td>3</td>\n",
       "    </tr>\n",
       "    <tr>\n",
       "      <th>4</th>\n",
       "      <td>4</td>\n",
       "      <td>1</td>\n",
       "    </tr>\n",
       "  </tbody>\n",
       "</table>\n",
       "</div>"
      ],
      "text/plain": [
       "   id  bathrooms\n",
       "0   0          2\n",
       "1   1          1\n",
       "2   2          1\n",
       "3   3          3\n",
       "4   4          1"
      ]
     },
     "execution_count": 37,
     "metadata": {},
     "output_type": "execute_result"
    }
   ],
   "source": [
    "bathrooms = bathrooms.rename(columns={0: \"id\", 1: \"bathrooms\"})\n",
    "\n",
    "bathrooms.head(5)"
   ]
  },
  {
   "cell_type": "markdown",
   "metadata": {
    "id": "XCuGpWCNJs75"
   },
   "source": [
    "4. Make an inner join of these four datasets into a single dataframe."
   ]
  },
  {
   "cell_type": "code",
   "execution_count": null,
   "metadata": {
    "id": "J8OqtHXBbEAc"
   },
   "outputs": [
    {
     "data": {
      "text/html": [
       "<div>\n",
       "<style scoped>\n",
       "    .dataframe tbody tr th:only-of-type {\n",
       "        vertical-align: middle;\n",
       "    }\n",
       "\n",
       "    .dataframe tbody tr th {\n",
       "        vertical-align: top;\n",
       "    }\n",
       "\n",
       "    .dataframe thead th {\n",
       "        text-align: right;\n",
       "    }\n",
       "</style>\n",
       "<table border=\"1\" class=\"dataframe\">\n",
       "  <thead>\n",
       "    <tr style=\"text-align: right;\">\n",
       "      <th></th>\n",
       "      <th>id</th>\n",
       "      <th>surface</th>\n",
       "      <th>bathrooms</th>\n",
       "      <th>rooms</th>\n",
       "      <th>house_price</th>\n",
       "    </tr>\n",
       "  </thead>\n",
       "  <tbody>\n",
       "    <tr>\n",
       "      <th>0</th>\n",
       "      <td>0</td>\n",
       "      <td>28844</td>\n",
       "      <td>2</td>\n",
       "      <td>1</td>\n",
       "      <td>1421908.0</td>\n",
       "    </tr>\n",
       "    <tr>\n",
       "      <th>1</th>\n",
       "      <td>1</td>\n",
       "      <td>27667</td>\n",
       "      <td>1</td>\n",
       "      <td>4</td>\n",
       "      <td>1305091.0</td>\n",
       "    </tr>\n",
       "    <tr>\n",
       "      <th>2</th>\n",
       "      <td>2</td>\n",
       "      <td>14742</td>\n",
       "      <td>1</td>\n",
       "      <td>1</td>\n",
       "      <td>164373.0</td>\n",
       "    </tr>\n",
       "    <tr>\n",
       "      <th>3</th>\n",
       "      <td>3</td>\n",
       "      <td>28089</td>\n",
       "      <td>3</td>\n",
       "      <td>4</td>\n",
       "      <td>1441714.0</td>\n",
       "    </tr>\n",
       "    <tr>\n",
       "      <th>4</th>\n",
       "      <td>4</td>\n",
       "      <td>11713</td>\n",
       "      <td>1</td>\n",
       "      <td>2</td>\n",
       "      <td>108290.0</td>\n",
       "    </tr>\n",
       "    <tr>\n",
       "      <th>...</th>\n",
       "      <td>...</td>\n",
       "      <td>...</td>\n",
       "      <td>...</td>\n",
       "      <td>...</td>\n",
       "      <td>...</td>\n",
       "    </tr>\n",
       "    <tr>\n",
       "      <th>95</th>\n",
       "      <td>95</td>\n",
       "      <td>11417</td>\n",
       "      <td>3</td>\n",
       "      <td>3</td>\n",
       "      <td>132599.0</td>\n",
       "    </tr>\n",
       "    <tr>\n",
       "      <th>96</th>\n",
       "      <td>96</td>\n",
       "      <td>12126</td>\n",
       "      <td>1</td>\n",
       "      <td>2</td>\n",
       "      <td>155828.0</td>\n",
       "    </tr>\n",
       "    <tr>\n",
       "      <th>97</th>\n",
       "      <td>97</td>\n",
       "      <td>16390</td>\n",
       "      <td>1</td>\n",
       "      <td>2</td>\n",
       "      <td>237061.0</td>\n",
       "    </tr>\n",
       "    <tr>\n",
       "      <th>98</th>\n",
       "      <td>98</td>\n",
       "      <td>23738</td>\n",
       "      <td>1</td>\n",
       "      <td>2</td>\n",
       "      <td>976422.0</td>\n",
       "    </tr>\n",
       "    <tr>\n",
       "      <th>99</th>\n",
       "      <td>99</td>\n",
       "      <td>14613</td>\n",
       "      <td>2</td>\n",
       "      <td>2</td>\n",
       "      <td>183621.0</td>\n",
       "    </tr>\n",
       "  </tbody>\n",
       "</table>\n",
       "<p>100 rows × 5 columns</p>\n",
       "</div>"
      ],
      "text/plain": [
       "    id  surface  bathrooms  rooms  house_price\n",
       "0    0    28844          2      1    1421908.0\n",
       "1    1    27667          1      4    1305091.0\n",
       "2    2    14742          1      1     164373.0\n",
       "3    3    28089          3      4    1441714.0\n",
       "4    4    11713          1      2     108290.0\n",
       "..  ..      ...        ...    ...          ...\n",
       "95  95    11417          3      3     132599.0\n",
       "96  96    12126          1      2     155828.0\n",
       "97  97    16390          1      2     237061.0\n",
       "98  98    23738          1      2     976422.0\n",
       "99  99    14613          2      2     183621.0\n",
       "\n",
       "[100 rows x 5 columns]"
      ]
     },
     "execution_count": 40,
     "metadata": {},
     "output_type": "execute_result"
    }
   ],
   "source": [
    "# dataset = surface.merge(bathrooms, on='id').merge(rooms, on='id').merge(house_price, on='id') # see documentation : merge performs an inner join by default\n",
    "\n",
    "df_house_market = surface.merge(bathrooms, on='id')\n",
    "df_house_market = df_house_market.merge(rooms, on='id')\n",
    "df_house_market = df_house_market.merge(house_price, on='id')\n",
    "\n",
    "df_house_market"
   ]
  },
  {
   "cell_type": "markdown",
   "metadata": {
    "id": "iEfE8rgrJ2vK"
   },
   "source": [
    "5. What is the average surface area of the houses in our dataset?"
   ]
  },
  {
   "cell_type": "code",
   "execution_count": 41,
   "metadata": {
    "colab": {
     "base_uri": "https://localhost:8080/"
    },
    "executionInfo": {
     "elapsed": 130,
     "status": "ok",
     "timestamp": 1699028712718,
     "user": {
      "displayName": "Aurélie Mutschler",
      "userId": "09486760454547044843"
     },
     "user_tz": -60
    },
    "id": "N-Q8fJupI66E",
    "outputId": "9e0c7c17-8beb-40ce-c1a6-aeb1191239ad"
   },
   "outputs": [
    {
     "data": {
      "text/plain": [
       "20439.77"
      ]
     },
     "execution_count": 41,
     "metadata": {},
     "output_type": "execute_result"
    }
   ],
   "source": [
    "avg = df_house_market[\"surface\"].mean()\n",
    "\n",
    "avg"
   ]
  },
  {
   "cell_type": "markdown",
   "metadata": {
    "id": "pE7O59U3J5v-"
   },
   "source": [
    "6. What is the median and average number of rooms?"
   ]
  },
  {
   "cell_type": "code",
   "execution_count": 44,
   "metadata": {
    "colab": {
     "base_uri": "https://localhost:8080/"
    },
    "executionInfo": {
     "elapsed": 128,
     "status": "ok",
     "timestamp": 1699028712718,
     "user": {
      "displayName": "Aurélie Mutschler",
      "userId": "09486760454547044843"
     },
     "user_tz": -60
    },
    "id": "z4tPdBDLI66H",
    "outputId": "1fc3e736-4cc6-4901-e0d2-cff92b05f268",
    "tags": []
   },
   "outputs": [
    {
     "name": "stdout",
     "output_type": "stream",
     "text": [
      "The average number of room is 2.42, and the median number is 2.0\n"
     ]
    }
   ],
   "source": [
    "avg_rooms, med_rooms = df_house_market[\"rooms\"].mean(), df_house_market[\"rooms\"].median()\n",
    "\n",
    "print(f\"The average number of room is {avg_rooms}, and the median number is {med_rooms}\")"
   ]
  },
  {
   "cell_type": "markdown",
   "metadata": {
    "id": "-OsvPDf_Kt5A"
   },
   "source": [
    "7. What is the average cost of a house?"
   ]
  },
  {
   "cell_type": "code",
   "execution_count": 45,
   "metadata": {
    "colab": {
     "base_uri": "https://localhost:8080/"
    },
    "executionInfo": {
     "elapsed": 130,
     "status": "ok",
     "timestamp": 1699028712723,
     "user": {
      "displayName": "Aurélie Mutschler",
      "userId": "09486760454547044843"
     },
     "user_tz": -60
    },
    "id": "W9ugWn6fI66N",
    "outputId": "69b40bd9-9df9-4c21-b35a-94abfa65154e"
   },
   "outputs": [
    {
     "data": {
      "text/plain": [
       "767747.87"
      ]
     },
     "execution_count": 45,
     "metadata": {},
     "output_type": "execute_result"
    }
   ],
   "source": [
    "avg_cost_house = df_house_market[\"house_price\"].mean()\n",
    "\n",
    "avg_cost_house"
   ]
  },
  {
   "cell_type": "markdown",
   "metadata": {
    "id": "98siYxVVKy1f"
   },
   "source": [
    "8. What is the average cost of a house, depending on the number of rooms it has?"
   ]
  },
  {
   "cell_type": "code",
   "execution_count": 50,
   "metadata": {
    "colab": {
     "base_uri": "https://localhost:8080/"
    },
    "executionInfo": {
     "elapsed": 127,
     "status": "ok",
     "timestamp": 1699028712723,
     "user": {
      "displayName": "Aurélie Mutschler",
      "userId": "09486760454547044843"
     },
     "user_tz": -60
    },
    "id": "X675Y2zLI66X",
    "outputId": "f7a5169f-2181-42f9-aa30-609aad3d97b6"
   },
   "outputs": [
    {
     "data": {
      "text/plain": [
       "rooms\n",
       "1    980774.869565\n",
       "2    642086.258065\n",
       "3    645904.592593\n",
       "4    888045.631579\n",
       "Name: house_price, dtype: float64"
      ]
     },
     "execution_count": 50,
     "metadata": {},
     "output_type": "execute_result"
    }
   ],
   "source": [
    "df_house_market.groupby(\"rooms\")[\"house_price\"].mean()"
   ]
  },
  {
   "cell_type": "markdown",
   "metadata": {
    "id": "9Ir3pvu3K6jN"
   },
   "source": [
    "10. The average cost per room doesn't tell us much. Let's try to categorize by size.\n",
    "\n",
    "  - Create a new column in your dataset that we'll call home_size\n",
    "Create five categories that respectively correspond to:\n",
    "      - \"very large\" $=$ \"a house larger than 25,000 sqrt_feet\"\n",
    "      - \"large\" $=$ \"a house between 20,000 and 25,000 sqrt_feet\"\n",
    "      - \"medium\" $=$ \"a house between 15,000 and 20,000 sqrt_feet\"\n",
    "      - \"small\" $=$ \"a house between 10,000 and 15,000 sqrt_feet\"\n",
    "      - \"very small\" $=$ a house less than 10,000 sqrt_feet\"\n",
    "\n",
    "Fill in the corresponding rows in the house_size column."
   ]
  },
  {
   "cell_type": "code",
   "execution_count": 59,
   "metadata": {
    "colab": {
     "base_uri": "https://localhost:8080/",
     "height": 423
    },
    "executionInfo": {
     "elapsed": 125,
     "status": "ok",
     "timestamp": 1699028712723,
     "user": {
      "displayName": "Aurélie Mutschler",
      "userId": "09486760454547044843"
     },
     "user_tz": -60
    },
    "id": "OPGVFBU-I66k",
    "outputId": "ca735619-0978-4c76-fc4a-08a8bf06749a"
   },
   "outputs": [
    {
     "data": {
      "text/html": [
       "<div>\n",
       "<style scoped>\n",
       "    .dataframe tbody tr th:only-of-type {\n",
       "        vertical-align: middle;\n",
       "    }\n",
       "\n",
       "    .dataframe tbody tr th {\n",
       "        vertical-align: top;\n",
       "    }\n",
       "\n",
       "    .dataframe thead th {\n",
       "        text-align: right;\n",
       "    }\n",
       "</style>\n",
       "<table border=\"1\" class=\"dataframe\">\n",
       "  <thead>\n",
       "    <tr style=\"text-align: right;\">\n",
       "      <th></th>\n",
       "      <th>id</th>\n",
       "      <th>surface</th>\n",
       "      <th>bathrooms</th>\n",
       "      <th>rooms</th>\n",
       "      <th>house_price</th>\n",
       "      <th>home_size</th>\n",
       "    </tr>\n",
       "  </thead>\n",
       "  <tbody>\n",
       "    <tr>\n",
       "      <th>0</th>\n",
       "      <td>0</td>\n",
       "      <td>28844</td>\n",
       "      <td>2</td>\n",
       "      <td>1</td>\n",
       "      <td>1421908.0</td>\n",
       "      <td>very large</td>\n",
       "    </tr>\n",
       "    <tr>\n",
       "      <th>1</th>\n",
       "      <td>1</td>\n",
       "      <td>27667</td>\n",
       "      <td>1</td>\n",
       "      <td>4</td>\n",
       "      <td>1305091.0</td>\n",
       "      <td>very large</td>\n",
       "    </tr>\n",
       "    <tr>\n",
       "      <th>2</th>\n",
       "      <td>2</td>\n",
       "      <td>14742</td>\n",
       "      <td>1</td>\n",
       "      <td>1</td>\n",
       "      <td>164373.0</td>\n",
       "      <td>small</td>\n",
       "    </tr>\n",
       "    <tr>\n",
       "      <th>3</th>\n",
       "      <td>3</td>\n",
       "      <td>28089</td>\n",
       "      <td>3</td>\n",
       "      <td>4</td>\n",
       "      <td>1441714.0</td>\n",
       "      <td>very large</td>\n",
       "    </tr>\n",
       "    <tr>\n",
       "      <th>4</th>\n",
       "      <td>4</td>\n",
       "      <td>11713</td>\n",
       "      <td>1</td>\n",
       "      <td>2</td>\n",
       "      <td>108290.0</td>\n",
       "      <td>small</td>\n",
       "    </tr>\n",
       "    <tr>\n",
       "      <th>...</th>\n",
       "      <td>...</td>\n",
       "      <td>...</td>\n",
       "      <td>...</td>\n",
       "      <td>...</td>\n",
       "      <td>...</td>\n",
       "      <td>...</td>\n",
       "    </tr>\n",
       "    <tr>\n",
       "      <th>95</th>\n",
       "      <td>95</td>\n",
       "      <td>11417</td>\n",
       "      <td>3</td>\n",
       "      <td>3</td>\n",
       "      <td>132599.0</td>\n",
       "      <td>small</td>\n",
       "    </tr>\n",
       "    <tr>\n",
       "      <th>96</th>\n",
       "      <td>96</td>\n",
       "      <td>12126</td>\n",
       "      <td>1</td>\n",
       "      <td>2</td>\n",
       "      <td>155828.0</td>\n",
       "      <td>small</td>\n",
       "    </tr>\n",
       "    <tr>\n",
       "      <th>97</th>\n",
       "      <td>97</td>\n",
       "      <td>16390</td>\n",
       "      <td>1</td>\n",
       "      <td>2</td>\n",
       "      <td>237061.0</td>\n",
       "      <td>medium</td>\n",
       "    </tr>\n",
       "    <tr>\n",
       "      <th>98</th>\n",
       "      <td>98</td>\n",
       "      <td>23738</td>\n",
       "      <td>1</td>\n",
       "      <td>2</td>\n",
       "      <td>976422.0</td>\n",
       "      <td>large</td>\n",
       "    </tr>\n",
       "    <tr>\n",
       "      <th>99</th>\n",
       "      <td>99</td>\n",
       "      <td>14613</td>\n",
       "      <td>2</td>\n",
       "      <td>2</td>\n",
       "      <td>183621.0</td>\n",
       "      <td>small</td>\n",
       "    </tr>\n",
       "  </tbody>\n",
       "</table>\n",
       "<p>100 rows × 6 columns</p>\n",
       "</div>"
      ],
      "text/plain": [
       "    id  surface  bathrooms  rooms  house_price   home_size\n",
       "0    0    28844          2      1    1421908.0  very large\n",
       "1    1    27667          1      4    1305091.0  very large\n",
       "2    2    14742          1      1     164373.0       small\n",
       "3    3    28089          3      4    1441714.0  very large\n",
       "4    4    11713          1      2     108290.0       small\n",
       "..  ..      ...        ...    ...          ...         ...\n",
       "95  95    11417          3      3     132599.0       small\n",
       "96  96    12126          1      2     155828.0       small\n",
       "97  97    16390          1      2     237061.0      medium\n",
       "98  98    23738          1      2     976422.0       large\n",
       "99  99    14613          2      2     183621.0       small\n",
       "\n",
       "[100 rows x 6 columns]"
      ]
     },
     "execution_count": 59,
     "metadata": {},
     "output_type": "execute_result"
    }
   ],
   "source": [
    "df_house_market[\"home_size\"] = df_house_market[\"surface\"].apply(lambda x : \"very large\" if x > 25000 \n",
    "                                                                else (\"large\" if 20000 < x <= 25000 \n",
    "                                                                else (\"medium\" if 15000 < x <= 20000\n",
    "                                                                else (\"small\" if 10000 < x <= 15000\n",
    "                                                                else \"very small\" \n",
    "                                                                ))))\n",
    "df_house_market"
   ]
  },
  {
   "cell_type": "markdown",
   "metadata": {
    "id": "7h5LIdYlL37i"
   },
   "source": [
    "11. What is the average cost of a house depending on its size category?\n"
   ]
  },
  {
   "cell_type": "code",
   "execution_count": 54,
   "metadata": {
    "colab": {
     "base_uri": "https://localhost:8080/"
    },
    "executionInfo": {
     "elapsed": 124,
     "status": "ok",
     "timestamp": 1699028712724,
     "user": {
      "displayName": "Aurélie Mutschler",
      "userId": "09486760454547044843"
     },
     "user_tz": -60
    },
    "id": "liaycbr_bEAf",
    "outputId": "57c51ba5-02b5-4b50-a76e-64509d52782f"
   },
   "outputs": [
    {
     "data": {
      "text/plain": [
       "home_size\n",
       "large         7.325385e+05\n",
       "medium        3.256948e+05\n",
       "small         1.561387e+05\n",
       "very large    1.552456e+06\n",
       "Name: house_price, dtype: float64"
      ]
     },
     "execution_count": 54,
     "metadata": {},
     "output_type": "execute_result"
    }
   ],
   "source": [
    "df_house_market.groupby(\"home_size\")[\"house_price\"].mean()"
   ]
  },
  {
   "cell_type": "markdown",
   "metadata": {
    "id": "bK8WqH1-L9n5"
   },
   "source": [
    " 12. Apply the code below to view your result. What can you conclude?"
   ]
  },
  {
   "cell_type": "code",
   "execution_count": 58,
   "metadata": {
    "colab": {
     "base_uri": "https://localhost:8080/",
     "height": 542
    },
    "executionInfo": {
     "elapsed": 3279,
     "status": "ok",
     "timestamp": 1699028715882,
     "user": {
      "displayName": "Aurélie Mutschler",
      "userId": "09486760454547044843"
     },
     "user_tz": -60
    },
    "id": "fwNOWWywbYd7",
    "outputId": "b340afbd-2db7-4654-ae48-a2dd2952f851"
   },
   "outputs": [
    {
     "data": {
      "application/vnd.plotly.v1+json": {
       "config": {
        "plotlyServerURL": "https://plot.ly"
       },
       "data": [
        {
         "hovertemplate": "surface=%{x}<br>house_price=%{y}<extra></extra>",
         "legendgroup": "",
         "marker": {
          "color": "#636efa",
          "symbol": "circle"
         },
         "mode": "markers",
         "name": "",
         "orientation": "v",
         "showlegend": false,
         "type": "scatter",
         "x": [
          28844,
          27667,
          14742,
          28089,
          11713,
          28591,
          17385,
          26197,
          17611,
          12841,
          25063,
          20434,
          29434,
          12263,
          26824,
          12754,
          21692,
          27919,
          17938,
          20928,
          23496,
          18413,
          10912,
          12828,
          29931,
          13654,
          15034,
          12570,
          26102,
          24685,
          23872,
          12347,
          23845,
          23378,
          21413,
          29792,
          27443,
          15816,
          27155,
          26622,
          20730,
          26643,
          13185,
          10723,
          16346,
          26343,
          28108,
          10799,
          23595,
          10916,
          10502,
          25648,
          15105,
          21383,
          27172,
          14521,
          29454,
          11614,
          15908,
          19671,
          28253,
          26684,
          19815,
          26048,
          23185,
          25847,
          16604,
          20984,
          24527,
          29431,
          26539,
          19772,
          10198,
          25890,
          21734,
          18818,
          16117,
          29449,
          19946,
          19788,
          28233,
          25647,
          10560,
          20143,
          22915,
          20389,
          10915,
          29924,
          11671,
          23736,
          21132,
          11408,
          14471,
          17744,
          20573,
          11417,
          12126,
          16390,
          23738,
          14613
         ],
         "xaxis": "x",
         "y": [
          1421908,
          1305091,
          164373,
          1441714,
          108290,
          1703033,
          340284,
          1236645,
          257405,
          157433,
          1697584,
          705365,
          1702265,
          182191,
          1918154,
          157223,
          657944,
          1823797,
          226206,
          974546,
          679036,
          269040,
          175919,
          101448,
          1926923,
          177995,
          254477,
          172881,
          1984103,
          671670,
          739142,
          138077,
          802158,
          999640,
          815381,
          1424754,
          1207939,
          409136,
          1124135,
          1307343,
          818882,
          1395812,
          143573,
          166583,
          419235,
          1921487,
          1953216,
          184938,
          562991,
          137992,
          146250,
          1915963,
          449970,
          702677,
          1186832,
          149843,
          1330422,
          172084,
          488708,
          367565,
          1100419,
          1968275,
          230820,
          1158550,
          614442,
          1249756,
          437373,
          679388,
          931942,
          1146959,
          1621938,
          201553,
          171019,
          1992653,
          854226,
          201511,
          364103,
          1319862,
          333071,
          256222,
          1736070,
          1616313,
          190521,
          561311,
          572127,
          857706,
          139665,
          1838679,
          182134,
          550947,
          516537,
          163454,
          103672,
          444461,
          603906,
          132599,
          155828,
          237061,
          976422,
          183621
         ],
         "yaxis": "y"
        },
        {
         "hovertemplate": "<b>OLS trendline</b><br>house_price = 85.8702 * surface + -987419<br>R<sup>2</sup>=0.768783<br><br>surface=%{x}<br>house_price=%{y} <b>(trend)</b><extra></extra>",
         "legendgroup": "",
         "marker": {
          "color": "#636efa",
          "symbol": "circle"
         },
         "mode": "lines",
         "name": "",
         "showlegend": false,
         "type": "scatter",
         "x": [
          10198,
          10502,
          10560,
          10723,
          10799,
          10912,
          10915,
          10916,
          11408,
          11417,
          11614,
          11671,
          11713,
          12126,
          12263,
          12347,
          12570,
          12754,
          12828,
          12841,
          13185,
          13654,
          14471,
          14521,
          14613,
          14742,
          15034,
          15105,
          15816,
          15908,
          16117,
          16346,
          16390,
          16604,
          17385,
          17611,
          17744,
          17938,
          18413,
          18818,
          19671,
          19772,
          19788,
          19815,
          19946,
          20143,
          20389,
          20434,
          20573,
          20730,
          20928,
          20984,
          21132,
          21383,
          21413,
          21692,
          21734,
          22915,
          23185,
          23378,
          23496,
          23595,
          23736,
          23738,
          23845,
          23872,
          24527,
          24685,
          25063,
          25647,
          25648,
          25847,
          25890,
          26048,
          26102,
          26197,
          26343,
          26539,
          26622,
          26643,
          26684,
          26824,
          27155,
          27172,
          27443,
          27667,
          27919,
          28089,
          28108,
          28233,
          28253,
          28591,
          28844,
          29431,
          29434,
          29449,
          29454,
          29792,
          29924,
          29931
         ],
         "xaxis": "x",
         "y": [
          -111714.66800435458,
          -85610.13611647545,
          -80629.66621681431,
          -66632.8283953527,
          -60106.69542338292,
          -50403.366136112134,
          -50145.755624060635,
          -50059.88545337692,
          -7811.761476940941,
          -7038.929940786562,
          9877.49368392455,
          14772.093412901857,
          18378.64058162202,
          53843.02107403672,
          65607.23445771914,
          72820.32879515947,
          91969.37685764977,
          107769.48826347128,
          114123.88089407352,
          115240.19311296288,
          144779.53182819462,
          185052.6418789029,
          255208.57132757804,
          259502.07986176875,
          267402.1355646795,
          278479.3875828914,
          303553.47742256476,
          309650.2595411155,
          370703.95089730644,
          378604.0066002172,
          396550.87227313407,
          416215.14135972713,
          419993.42886981484,
          438369.6453961509,
          505434.24870020873,
          524840.9072747505,
          536261.6399756977,
          552920.4530883573,
          593708.7841631684,
          628486.2032901128,
          701733.4588834052,
          710406.3461224702,
          711780.2688534113,
          714098.7634618741,
          725347.7558214536,
          742264.1794461648,
          763388.2414343827,
          767252.3991151543,
          779188.3528402043,
          792669.969637563,
          809672.2634329579,
          814480.9929912514,
          827189.7782524556,
          848743.1910940928,
          851319.2962146071,
          875277.0738353909,
          878883.6210041111,
          980296.2925816942,
          1003481.2386663237,
          1020054.1816082995,
          1030186.8617489894,
          1038688.008646687,
          1050795.7027131044,
          1050967.443054472,
          1060155.55131764,
          1062474.0459261031,
          1118719.0077240004,
          1132286.4946920432,
          1164745.419210524,
          1214893.5988898708,
          1214979.4690605549,
          1232067.6330266336,
          1235760.0503660373,
          1249327.53733408,
          1253964.5265510057,
          1262122.1927659682,
          1274659.237685805,
          1291489.791139832,
          1298617.0153065885,
          1300420.2888909488,
          1303940.9658889847,
          1315962.7897847185,
          1344385.816281061,
          1345845.6091826858,
          1369116.4254379987,
          1388351.343671173,
          1409990.6266834938,
          1424588.5556997422,
          1426220.0889427348,
          1436953.8602782113,
          1438671.2636918875,
          1467695.381383016,
          1489420.5345660208,
          1539826.3247574188,
          1540083.9352694706,
          1541371.9878297278,
          1541801.3386831468,
          1570825.4563742753,
          1582160.3189045389,
          1582761.4100993255
         ],
         "yaxis": "y"
        }
       ],
       "layout": {
        "legend": {
         "tracegroupgap": 0
        },
        "margin": {
         "t": 60
        },
        "template": {
         "data": {
          "bar": [
           {
            "error_x": {
             "color": "#2a3f5f"
            },
            "error_y": {
             "color": "#2a3f5f"
            },
            "marker": {
             "line": {
              "color": "#E5ECF6",
              "width": 0.5
             },
             "pattern": {
              "fillmode": "overlay",
              "size": 10,
              "solidity": 0.2
             }
            },
            "type": "bar"
           }
          ],
          "barpolar": [
           {
            "marker": {
             "line": {
              "color": "#E5ECF6",
              "width": 0.5
             },
             "pattern": {
              "fillmode": "overlay",
              "size": 10,
              "solidity": 0.2
             }
            },
            "type": "barpolar"
           }
          ],
          "carpet": [
           {
            "aaxis": {
             "endlinecolor": "#2a3f5f",
             "gridcolor": "white",
             "linecolor": "white",
             "minorgridcolor": "white",
             "startlinecolor": "#2a3f5f"
            },
            "baxis": {
             "endlinecolor": "#2a3f5f",
             "gridcolor": "white",
             "linecolor": "white",
             "minorgridcolor": "white",
             "startlinecolor": "#2a3f5f"
            },
            "type": "carpet"
           }
          ],
          "choropleth": [
           {
            "colorbar": {
             "outlinewidth": 0,
             "ticks": ""
            },
            "type": "choropleth"
           }
          ],
          "contour": [
           {
            "colorbar": {
             "outlinewidth": 0,
             "ticks": ""
            },
            "colorscale": [
             [
              0,
              "#0d0887"
             ],
             [
              0.1111111111111111,
              "#46039f"
             ],
             [
              0.2222222222222222,
              "#7201a8"
             ],
             [
              0.3333333333333333,
              "#9c179e"
             ],
             [
              0.4444444444444444,
              "#bd3786"
             ],
             [
              0.5555555555555556,
              "#d8576b"
             ],
             [
              0.6666666666666666,
              "#ed7953"
             ],
             [
              0.7777777777777778,
              "#fb9f3a"
             ],
             [
              0.8888888888888888,
              "#fdca26"
             ],
             [
              1,
              "#f0f921"
             ]
            ],
            "type": "contour"
           }
          ],
          "contourcarpet": [
           {
            "colorbar": {
             "outlinewidth": 0,
             "ticks": ""
            },
            "type": "contourcarpet"
           }
          ],
          "heatmap": [
           {
            "colorbar": {
             "outlinewidth": 0,
             "ticks": ""
            },
            "colorscale": [
             [
              0,
              "#0d0887"
             ],
             [
              0.1111111111111111,
              "#46039f"
             ],
             [
              0.2222222222222222,
              "#7201a8"
             ],
             [
              0.3333333333333333,
              "#9c179e"
             ],
             [
              0.4444444444444444,
              "#bd3786"
             ],
             [
              0.5555555555555556,
              "#d8576b"
             ],
             [
              0.6666666666666666,
              "#ed7953"
             ],
             [
              0.7777777777777778,
              "#fb9f3a"
             ],
             [
              0.8888888888888888,
              "#fdca26"
             ],
             [
              1,
              "#f0f921"
             ]
            ],
            "type": "heatmap"
           }
          ],
          "heatmapgl": [
           {
            "colorbar": {
             "outlinewidth": 0,
             "ticks": ""
            },
            "colorscale": [
             [
              0,
              "#0d0887"
             ],
             [
              0.1111111111111111,
              "#46039f"
             ],
             [
              0.2222222222222222,
              "#7201a8"
             ],
             [
              0.3333333333333333,
              "#9c179e"
             ],
             [
              0.4444444444444444,
              "#bd3786"
             ],
             [
              0.5555555555555556,
              "#d8576b"
             ],
             [
              0.6666666666666666,
              "#ed7953"
             ],
             [
              0.7777777777777778,
              "#fb9f3a"
             ],
             [
              0.8888888888888888,
              "#fdca26"
             ],
             [
              1,
              "#f0f921"
             ]
            ],
            "type": "heatmapgl"
           }
          ],
          "histogram": [
           {
            "marker": {
             "pattern": {
              "fillmode": "overlay",
              "size": 10,
              "solidity": 0.2
             }
            },
            "type": "histogram"
           }
          ],
          "histogram2d": [
           {
            "colorbar": {
             "outlinewidth": 0,
             "ticks": ""
            },
            "colorscale": [
             [
              0,
              "#0d0887"
             ],
             [
              0.1111111111111111,
              "#46039f"
             ],
             [
              0.2222222222222222,
              "#7201a8"
             ],
             [
              0.3333333333333333,
              "#9c179e"
             ],
             [
              0.4444444444444444,
              "#bd3786"
             ],
             [
              0.5555555555555556,
              "#d8576b"
             ],
             [
              0.6666666666666666,
              "#ed7953"
             ],
             [
              0.7777777777777778,
              "#fb9f3a"
             ],
             [
              0.8888888888888888,
              "#fdca26"
             ],
             [
              1,
              "#f0f921"
             ]
            ],
            "type": "histogram2d"
           }
          ],
          "histogram2dcontour": [
           {
            "colorbar": {
             "outlinewidth": 0,
             "ticks": ""
            },
            "colorscale": [
             [
              0,
              "#0d0887"
             ],
             [
              0.1111111111111111,
              "#46039f"
             ],
             [
              0.2222222222222222,
              "#7201a8"
             ],
             [
              0.3333333333333333,
              "#9c179e"
             ],
             [
              0.4444444444444444,
              "#bd3786"
             ],
             [
              0.5555555555555556,
              "#d8576b"
             ],
             [
              0.6666666666666666,
              "#ed7953"
             ],
             [
              0.7777777777777778,
              "#fb9f3a"
             ],
             [
              0.8888888888888888,
              "#fdca26"
             ],
             [
              1,
              "#f0f921"
             ]
            ],
            "type": "histogram2dcontour"
           }
          ],
          "mesh3d": [
           {
            "colorbar": {
             "outlinewidth": 0,
             "ticks": ""
            },
            "type": "mesh3d"
           }
          ],
          "parcoords": [
           {
            "line": {
             "colorbar": {
              "outlinewidth": 0,
              "ticks": ""
             }
            },
            "type": "parcoords"
           }
          ],
          "pie": [
           {
            "automargin": true,
            "type": "pie"
           }
          ],
          "scatter": [
           {
            "fillpattern": {
             "fillmode": "overlay",
             "size": 10,
             "solidity": 0.2
            },
            "type": "scatter"
           }
          ],
          "scatter3d": [
           {
            "line": {
             "colorbar": {
              "outlinewidth": 0,
              "ticks": ""
             }
            },
            "marker": {
             "colorbar": {
              "outlinewidth": 0,
              "ticks": ""
             }
            },
            "type": "scatter3d"
           }
          ],
          "scattercarpet": [
           {
            "marker": {
             "colorbar": {
              "outlinewidth": 0,
              "ticks": ""
             }
            },
            "type": "scattercarpet"
           }
          ],
          "scattergeo": [
           {
            "marker": {
             "colorbar": {
              "outlinewidth": 0,
              "ticks": ""
             }
            },
            "type": "scattergeo"
           }
          ],
          "scattergl": [
           {
            "marker": {
             "colorbar": {
              "outlinewidth": 0,
              "ticks": ""
             }
            },
            "type": "scattergl"
           }
          ],
          "scattermapbox": [
           {
            "marker": {
             "colorbar": {
              "outlinewidth": 0,
              "ticks": ""
             }
            },
            "type": "scattermapbox"
           }
          ],
          "scatterpolar": [
           {
            "marker": {
             "colorbar": {
              "outlinewidth": 0,
              "ticks": ""
             }
            },
            "type": "scatterpolar"
           }
          ],
          "scatterpolargl": [
           {
            "marker": {
             "colorbar": {
              "outlinewidth": 0,
              "ticks": ""
             }
            },
            "type": "scatterpolargl"
           }
          ],
          "scatterternary": [
           {
            "marker": {
             "colorbar": {
              "outlinewidth": 0,
              "ticks": ""
             }
            },
            "type": "scatterternary"
           }
          ],
          "surface": [
           {
            "colorbar": {
             "outlinewidth": 0,
             "ticks": ""
            },
            "colorscale": [
             [
              0,
              "#0d0887"
             ],
             [
              0.1111111111111111,
              "#46039f"
             ],
             [
              0.2222222222222222,
              "#7201a8"
             ],
             [
              0.3333333333333333,
              "#9c179e"
             ],
             [
              0.4444444444444444,
              "#bd3786"
             ],
             [
              0.5555555555555556,
              "#d8576b"
             ],
             [
              0.6666666666666666,
              "#ed7953"
             ],
             [
              0.7777777777777778,
              "#fb9f3a"
             ],
             [
              0.8888888888888888,
              "#fdca26"
             ],
             [
              1,
              "#f0f921"
             ]
            ],
            "type": "surface"
           }
          ],
          "table": [
           {
            "cells": {
             "fill": {
              "color": "#EBF0F8"
             },
             "line": {
              "color": "white"
             }
            },
            "header": {
             "fill": {
              "color": "#C8D4E3"
             },
             "line": {
              "color": "white"
             }
            },
            "type": "table"
           }
          ]
         },
         "layout": {
          "annotationdefaults": {
           "arrowcolor": "#2a3f5f",
           "arrowhead": 0,
           "arrowwidth": 1
          },
          "autotypenumbers": "strict",
          "coloraxis": {
           "colorbar": {
            "outlinewidth": 0,
            "ticks": ""
           }
          },
          "colorscale": {
           "diverging": [
            [
             0,
             "#8e0152"
            ],
            [
             0.1,
             "#c51b7d"
            ],
            [
             0.2,
             "#de77ae"
            ],
            [
             0.3,
             "#f1b6da"
            ],
            [
             0.4,
             "#fde0ef"
            ],
            [
             0.5,
             "#f7f7f7"
            ],
            [
             0.6,
             "#e6f5d0"
            ],
            [
             0.7,
             "#b8e186"
            ],
            [
             0.8,
             "#7fbc41"
            ],
            [
             0.9,
             "#4d9221"
            ],
            [
             1,
             "#276419"
            ]
           ],
           "sequential": [
            [
             0,
             "#0d0887"
            ],
            [
             0.1111111111111111,
             "#46039f"
            ],
            [
             0.2222222222222222,
             "#7201a8"
            ],
            [
             0.3333333333333333,
             "#9c179e"
            ],
            [
             0.4444444444444444,
             "#bd3786"
            ],
            [
             0.5555555555555556,
             "#d8576b"
            ],
            [
             0.6666666666666666,
             "#ed7953"
            ],
            [
             0.7777777777777778,
             "#fb9f3a"
            ],
            [
             0.8888888888888888,
             "#fdca26"
            ],
            [
             1,
             "#f0f921"
            ]
           ],
           "sequentialminus": [
            [
             0,
             "#0d0887"
            ],
            [
             0.1111111111111111,
             "#46039f"
            ],
            [
             0.2222222222222222,
             "#7201a8"
            ],
            [
             0.3333333333333333,
             "#9c179e"
            ],
            [
             0.4444444444444444,
             "#bd3786"
            ],
            [
             0.5555555555555556,
             "#d8576b"
            ],
            [
             0.6666666666666666,
             "#ed7953"
            ],
            [
             0.7777777777777778,
             "#fb9f3a"
            ],
            [
             0.8888888888888888,
             "#fdca26"
            ],
            [
             1,
             "#f0f921"
            ]
           ]
          },
          "colorway": [
           "#636efa",
           "#EF553B",
           "#00cc96",
           "#ab63fa",
           "#FFA15A",
           "#19d3f3",
           "#FF6692",
           "#B6E880",
           "#FF97FF",
           "#FECB52"
          ],
          "font": {
           "color": "#2a3f5f"
          },
          "geo": {
           "bgcolor": "white",
           "lakecolor": "white",
           "landcolor": "#E5ECF6",
           "showlakes": true,
           "showland": true,
           "subunitcolor": "white"
          },
          "hoverlabel": {
           "align": "left"
          },
          "hovermode": "closest",
          "mapbox": {
           "style": "light"
          },
          "paper_bgcolor": "white",
          "plot_bgcolor": "#E5ECF6",
          "polar": {
           "angularaxis": {
            "gridcolor": "white",
            "linecolor": "white",
            "ticks": ""
           },
           "bgcolor": "#E5ECF6",
           "radialaxis": {
            "gridcolor": "white",
            "linecolor": "white",
            "ticks": ""
           }
          },
          "scene": {
           "xaxis": {
            "backgroundcolor": "#E5ECF6",
            "gridcolor": "white",
            "gridwidth": 2,
            "linecolor": "white",
            "showbackground": true,
            "ticks": "",
            "zerolinecolor": "white"
           },
           "yaxis": {
            "backgroundcolor": "#E5ECF6",
            "gridcolor": "white",
            "gridwidth": 2,
            "linecolor": "white",
            "showbackground": true,
            "ticks": "",
            "zerolinecolor": "white"
           },
           "zaxis": {
            "backgroundcolor": "#E5ECF6",
            "gridcolor": "white",
            "gridwidth": 2,
            "linecolor": "white",
            "showbackground": true,
            "ticks": "",
            "zerolinecolor": "white"
           }
          },
          "shapedefaults": {
           "line": {
            "color": "#2a3f5f"
           }
          },
          "ternary": {
           "aaxis": {
            "gridcolor": "white",
            "linecolor": "white",
            "ticks": ""
           },
           "baxis": {
            "gridcolor": "white",
            "linecolor": "white",
            "ticks": ""
           },
           "bgcolor": "#E5ECF6",
           "caxis": {
            "gridcolor": "white",
            "linecolor": "white",
            "ticks": ""
           }
          },
          "title": {
           "x": 0.05
          },
          "xaxis": {
           "automargin": true,
           "gridcolor": "white",
           "linecolor": "white",
           "ticks": "",
           "title": {
            "standoff": 15
           },
           "zerolinecolor": "white",
           "zerolinewidth": 2
          },
          "yaxis": {
           "automargin": true,
           "gridcolor": "white",
           "linecolor": "white",
           "ticks": "",
           "title": {
            "standoff": 15
           },
           "zerolinecolor": "white",
           "zerolinewidth": 2
          }
         }
        },
        "xaxis": {
         "anchor": "y",
         "domain": [
          0,
          1
         ],
         "title": {
          "text": "surface"
         }
        },
        "yaxis": {
         "anchor": "x",
         "domain": [
          0,
          1
         ],
         "title": {
          "text": "house_price"
         }
        }
       }
      }
     },
     "metadata": {},
     "output_type": "display_data"
    }
   ],
   "source": [
    "import plotly.express as px\n",
    "fig = px.scatter(df_house_market, x = \"surface\", y = \"house_price\", trendline = \"ols\")\n",
    "fig.show()"
   ]
  },
  {
   "cell_type": "markdown",
   "metadata": {},
   "source": [
    "On peut conclure que le prix des maisons suit les surfaces des maisons\n",
    "\n",
    "We can see on the graph that the more the surface area of a house rises, the more its price rises. So there is a fairly strong linear correlation between these two variables."
   ]
  },
  {
   "cell_type": "markdown",
   "metadata": {},
   "source": []
  }
 ],
 "metadata": {
  "colab": {
   "provenance": []
  },
  "kernelspec": {
   "display_name": "base",
   "language": "python",
   "name": "python3"
  },
  "language_info": {
   "codemirror_mode": {
    "name": "ipython",
    "version": 3
   },
   "file_extension": ".py",
   "mimetype": "text/x-python",
   "name": "python",
   "nbconvert_exporter": "python",
   "pygments_lexer": "ipython3",
   "version": "3.12.7"
  }
 },
 "nbformat": 4,
 "nbformat_minor": 0
}
